{
  "cells": [
    {
      "cell_type": "markdown",
      "source": [
        "# Notebook Setup and Load Models"
      ],
      "metadata": {
        "id": "pq5pEyrqKoyq"
      },
      "id": "pq5pEyrqKoyq"
    },
    {
      "cell_type": "code",
      "source": [
        "from google.colab import drive\n",
        "drive.mount('/content/drive')"
      ],
      "metadata": {
        "id": "lpYKtzLjeQIi",
        "colab": {
          "base_uri": "https://localhost:8080/"
        },
        "outputId": "4642575a-3ba8-42ef-93e1-d44057683abb"
      },
      "id": "lpYKtzLjeQIi",
      "execution_count": 1,
      "outputs": [
        {
          "output_type": "stream",
          "name": "stdout",
          "text": [
            "Mounted at /content/drive\n"
          ]
        }
      ]
    },
    {
      "cell_type": "markdown",
      "id": "0f02e155",
      "metadata": {
        "id": "0f02e155"
      },
      "source": [
        "## Imports"
      ]
    },
    {
      "cell_type": "code",
      "source": [
        "!pip install -q tensorflow-addons"
      ],
      "metadata": {
        "id": "Jh9OvNpve_rk",
        "colab": {
          "base_uri": "https://localhost:8080/"
        },
        "outputId": "80195924-7bfb-407c-c067-f58238d1e157"
      },
      "id": "Jh9OvNpve_rk",
      "execution_count": 2,
      "outputs": [
        {
          "output_type": "stream",
          "name": "stdout",
          "text": [
            "\u001b[?25l     \u001b[90m━━━━━━━━━━━━━━━━━━━━━━━━━━━━━━━━━━━━━━━━\u001b[0m \u001b[32m0.0/591.0 kB\u001b[0m \u001b[31m?\u001b[0m eta \u001b[36m-:--:--\u001b[0m\r\u001b[2K     \u001b[90m━━━━━━━━━━━━━━━━━━━━━━━━━━━━━━━━━━━━━━\u001b[0m \u001b[32m591.0/591.0 kB\u001b[0m \u001b[31m41.6 MB/s\u001b[0m eta \u001b[36m0:00:00\u001b[0m\n",
            "\u001b[?25h"
          ]
        }
      ]
    },
    {
      "cell_type": "code",
      "source": [
        "!pip install -q transformers"
      ],
      "metadata": {
        "id": "eIuITAWkfB03",
        "colab": {
          "base_uri": "https://localhost:8080/"
        },
        "outputId": "307d6b43-e172-49f5-f26c-d70d7f9317ef"
      },
      "id": "eIuITAWkfB03",
      "execution_count": 3,
      "outputs": [
        {
          "output_type": "stream",
          "name": "stdout",
          "text": [
            "\u001b[2K     \u001b[90m━━━━━━━━━━━━━━━━━━━━━━━━━━━━━━━━━━━━━━━━\u001b[0m \u001b[32m7.0/7.0 MB\u001b[0m \u001b[31m94.6 MB/s\u001b[0m eta \u001b[36m0:00:00\u001b[0m\n",
            "\u001b[2K     \u001b[90m━━━━━━━━━━━━━━━━━━━━━━━━━━━━━━━━━━━━━━━━\u001b[0m \u001b[32m7.8/7.8 MB\u001b[0m \u001b[31m103.0 MB/s\u001b[0m eta \u001b[36m0:00:00\u001b[0m\n",
            "\u001b[2K     \u001b[90m━━━━━━━━━━━━━━━━━━━━━━━━━━━━━━━━━━━━━━\u001b[0m \u001b[32m200.1/200.1 kB\u001b[0m \u001b[31m28.0 MB/s\u001b[0m eta \u001b[36m0:00:00\u001b[0m\n",
            "\u001b[?25h"
          ]
        }
      ]
    },
    {
      "cell_type": "code",
      "source": [
        "!pip3 install -q emoji==0.6.0"
      ],
      "metadata": {
        "id": "55Pjzpk8jRxG",
        "colab": {
          "base_uri": "https://localhost:8080/"
        },
        "outputId": "51b15e32-6977-42c8-c6cc-40af92171858"
      },
      "id": "55Pjzpk8jRxG",
      "execution_count": 4,
      "outputs": [
        {
          "output_type": "stream",
          "name": "stdout",
          "text": [
            "\u001b[2K     \u001b[90m━━━━━━━━━━━━━━━━━━━━━━━━━━━━━━━━━━━━━━━\u001b[0m \u001b[32m51.0/51.0 kB\u001b[0m \u001b[31m201.9 kB/s\u001b[0m eta \u001b[36m0:00:00\u001b[0m\n",
            "\u001b[?25h  Preparing metadata (setup.py) ... \u001b[?25l\u001b[?25hdone\n",
            "  Building wheel for emoji (setup.py) ... \u001b[?25l\u001b[?25hdone\n"
          ]
        }
      ]
    },
    {
      "cell_type": "code",
      "source": [
        "!pip install -q tensorflow_text"
      ],
      "metadata": {
        "colab": {
          "base_uri": "https://localhost:8080/"
        },
        "id": "ERoi5SpApCRY",
        "outputId": "a36f942a-fd06-4a07-e72b-b965fddd0a80"
      },
      "id": "ERoi5SpApCRY",
      "execution_count": 5,
      "outputs": [
        {
          "output_type": "stream",
          "name": "stdout",
          "text": [
            "\u001b[?25l     \u001b[90m━━━━━━━━━━━━━━━━━━━━━━━━━━━━━━━━━━━━━━━━\u001b[0m \u001b[32m0.0/6.0 MB\u001b[0m \u001b[31m?\u001b[0m eta \u001b[36m-:--:--\u001b[0m\r\u001b[2K     \u001b[91m━━━━━━━━━━━━━━━━━━━━\u001b[0m\u001b[91m╸\u001b[0m\u001b[90m━━━━━━━━━━━━━━━━━━━\u001b[0m \u001b[32m3.1/6.0 MB\u001b[0m \u001b[31m98.2 MB/s\u001b[0m eta \u001b[36m0:00:01\u001b[0m\r\u001b[2K     \u001b[91m━━━━━━━━━━━━━━━━━━━━━━━━━━━━━━━━━━\u001b[0m\u001b[91m╸\u001b[0m\u001b[90m━━━━━\u001b[0m \u001b[32m5.2/6.0 MB\u001b[0m \u001b[31m100.0 MB/s\u001b[0m eta \u001b[36m0:00:01\u001b[0m\r\u001b[2K     \u001b[91m━━━━━━━━━━━━━━━━━━━━━━━━━━━━━━━━━━━━━━━\u001b[0m\u001b[91m╸\u001b[0m \u001b[32m6.0/6.0 MB\u001b[0m \u001b[31m81.3 MB/s\u001b[0m eta \u001b[36m0:00:01\u001b[0m\r\u001b[2K     \u001b[90m━━━━━━━━━━━━━━━━━━━━━━━━━━━━━━━━━━━━━━━━\u001b[0m \u001b[32m6.0/6.0 MB\u001b[0m \u001b[31m53.7 MB/s\u001b[0m eta \u001b[36m0:00:00\u001b[0m\n",
            "\u001b[?25h"
          ]
        }
      ]
    },
    {
      "cell_type": "code",
      "source": [
        "!pip install -q gensim==3.8.3"
      ],
      "metadata": {
        "colab": {
          "base_uri": "https://localhost:8080/"
        },
        "id": "9RtDH3NopEWO",
        "outputId": "d95fecce-e62e-4130-e1c5-a5c4a659b70a"
      },
      "id": "9RtDH3NopEWO",
      "execution_count": 6,
      "outputs": [
        {
          "output_type": "stream",
          "name": "stdout",
          "text": [
            "\u001b[2K     \u001b[90m━━━━━━━━━━━━━━━━━━━━━━━━━━━━━━━━━━━━━━━━\u001b[0m \u001b[32m23.4/23.4 MB\u001b[0m \u001b[31m69.3 MB/s\u001b[0m eta \u001b[36m0:00:00\u001b[0m\n",
            "\u001b[?25h  Preparing metadata (setup.py) ... \u001b[?25l\u001b[?25hdone\n",
            "  Building wheel for gensim (setup.py) ... \u001b[?25l\u001b[?25hdone\n"
          ]
        }
      ]
    },
    {
      "cell_type": "code",
      "source": [
        "!pip install -q pyyaml h5py  # Required to save models in HDF5 format"
      ],
      "metadata": {
        "id": "VXRx3TsYqGMa"
      },
      "id": "VXRx3TsYqGMa",
      "execution_count": 7,
      "outputs": []
    },
    {
      "cell_type": "code",
      "execution_count": 8,
      "id": "166edf60",
      "metadata": {
        "id": "166edf60",
        "colab": {
          "base_uri": "https://localhost:8080/"
        },
        "outputId": "f7ac2a01-ca52-4b86-a191-ad760e6384b8"
      },
      "outputs": [
        {
          "output_type": "stream",
          "name": "stderr",
          "text": [
            "/usr/local/lib/python3.9/dist-packages/tensorflow_addons/utils/tfa_eol_msg.py:23: UserWarning: \n",
            "\n",
            "TensorFlow Addons (TFA) has ended development and introduction of new features.\n",
            "TFA has entered a minimal maintenance and release mode until a planned end of life in May 2024.\n",
            "Please modify downstream libraries to take dependencies from other repositories in our TensorFlow community (e.g. Keras, Keras-CV, and Keras-NLP). \n",
            "\n",
            "For more information see: https://github.com/tensorflow/addons/issues/2807 \n",
            "\n",
            "  warnings.warn(\n"
          ]
        }
      ],
      "source": [
        "import pandas as pd\n",
        "import numpy as np\n",
        "import matplotlib.pyplot as plt\n",
        "\n",
        "import tensorflow as tf\n",
        "import tensorflow_addons as tfa\n",
        "import tensorflow_text as tf_text\n",
        "from tensorflow import keras\n",
        "import transformers\n",
        "from transformers import AutoTokenizer,TFBertModel, TFRobertaModel\n",
        "\n",
        "import nltk\n",
        "from nltk.corpus import reuters\n",
        "from nltk.data import find\n",
        "\n",
        "import gensim"
      ]
    },
    {
      "cell_type": "markdown",
      "id": "ac6533ca",
      "metadata": {
        "id": "ac6533ca"
      },
      "source": [
        "## Functions and Constants"
      ]
    },
    {
      "cell_type": "code",
      "execution_count": 9,
      "id": "653cd9b5",
      "metadata": {
        "id": "653cd9b5"
      },
      "outputs": [],
      "source": [
        "def to_arrays(df):\n",
        "  X = df['comment_text'].to_numpy()\n",
        "  y = df['toxicity_binary'].to_numpy()\n",
        "  return X, y"
      ]
    },
    {
      "cell_type": "code",
      "execution_count": 10,
      "id": "9b7be9ac",
      "metadata": {
        "id": "9b7be9ac"
      },
      "outputs": [],
      "source": [
        "MAX_SEQUENCE_LENGTH = 128"
      ]
    },
    {
      "cell_type": "code",
      "execution_count": 11,
      "id": "023b0626",
      "metadata": {
        "id": "023b0626"
      },
      "outputs": [],
      "source": [
        "def tokenizing_pipeline(X, tokenizer):\n",
        "  bert_tokenized = tokenizer(list(X),\n",
        "                max_length=MAX_SEQUENCE_LENGTH,\n",
        "                truncation=True,\n",
        "                padding='max_length',\n",
        "                return_tensors='tf')\n",
        "  bert_inputs = [bert_tokenized.input_ids,\n",
        "                 bert_tokenized.token_type_ids,\n",
        "                 bert_tokenized.attention_mask]\n",
        "  return bert_inputs"
      ]
    },
    {
      "cell_type": "code",
      "source": [
        "# BELOW IS FOR CNN INPUT SETUP\n",
        "nltk.download('word2vec_sample')\n",
        "\n",
        "word2vec_sample = str(find('models/word2vec_sample/pruned.word2vec.txt'))\n",
        "model = gensim.models.KeyedVectors.load_word2vec_format(word2vec_sample, binary=False)\n",
        "\n",
        "# EMBEDDING MATRIX AND VOCAB DICTIONARY\n",
        "EMBEDDING_DIM = len(model['university'])      # we know... it's 300\n",
        "\n",
        "# initialize embedding matrix and word-to-id map:\n",
        "embedding_matrix = np.zeros((len(model.vocab.keys()) + 1, EMBEDDING_DIM))       \n",
        "vocab_dict = {}\n",
        "\n",
        "# build the embedding matrix and the word-to-id map:\n",
        "for i, word in enumerate(model.vocab.keys()):\n",
        "    embedding_vector = model[word]\n",
        "\n",
        "    if embedding_vector is not None:\n",
        "        # words not found in embedding index will be all-zeros.\n",
        "        embedding_matrix[i] = embedding_vector\n",
        "        vocab_dict[word] = i\n",
        "\n",
        "# we can use the last index at the end of the vocab for unknown tokens\n",
        "vocab_dict['[UNK]'] = len(vocab_dict)\n",
        "\n",
        "def docs_to_vocab_ids(tokenized_texts_list):\n",
        "    \"\"\"\n",
        "    converting a list of strings to a list of lists of word ids\n",
        "    \"\"\"\n",
        "    texts_vocab_ids = []\n",
        "    for i, token_list in enumerate(tokenized_texts_list):\n",
        "\n",
        "        # Get the vocab id for each token in this doc ([UNK] if not in vocab)\n",
        "        vocab_ids = []\n",
        "        for token in list(token_list.numpy()):\n",
        "            decoded = token.decode('utf-8', errors='ignore')\n",
        "            if decoded in vocab_dict:\n",
        "                vocab_ids.append(vocab_dict[decoded])\n",
        "            else:\n",
        "                vocab_ids.append(vocab_dict['[UNK]'])\n",
        "            \n",
        "        # Truncate text to max length, add padding up to max length\n",
        "        vocab_ids = vocab_ids[:MAX_SEQUENCE_LENGTH]\n",
        "        n_padding = (MAX_SEQUENCE_LENGTH - len(vocab_ids))\n",
        "        # For simplicity in this model, we'll just pad with uknown tokens\n",
        "        vocab_ids += [vocab_dict['[UNK]']] * n_padding\n",
        "\n",
        "        # Add this example to the list of converted docs\n",
        "        texts_vocab_ids.append(vocab_ids)\n",
        "            \n",
        "        if i % 5000 == 0:\n",
        "            print('Examples processed: ', i)\n",
        "        \n",
        "    print('Total examples: ', i)\n",
        "\n",
        "    return np.array(texts_vocab_ids)"
      ],
      "metadata": {
        "colab": {
          "base_uri": "https://localhost:8080/"
        },
        "id": "8XHpDM2bmLsw",
        "outputId": "8e035a45-65e2-48a4-c4b4-2cceb09734cc"
      },
      "id": "8XHpDM2bmLsw",
      "execution_count": 12,
      "outputs": [
        {
          "output_type": "stream",
          "name": "stderr",
          "text": [
            "[nltk_data] Downloading package word2vec_sample to /root/nltk_data...\n",
            "[nltk_data]   Unzipping models/word2vec_sample.zip.\n"
          ]
        }
      ]
    },
    {
      "cell_type": "markdown",
      "source": [
        "## Load Evaluation Data"
      ],
      "metadata": {
        "id": "j5UCCNlNVA7b"
      },
      "id": "j5UCCNlNVA7b"
    },
    {
      "cell_type": "code",
      "source": [
        "# read csv files\n",
        "augmented_disability_df_test = pd.read_csv('drive/MyDrive/data/disability-dataset-test-augmented.csv')\n",
        "augmented_race_df_test = pd.read_csv('drive/MyDrive/data/race-dataset-test-augmented.csv')\n",
        "augmented_gender_df_test = pd.read_csv('drive/MyDrive/data/gender-dataset-test-augmented.csv')\n",
        "augmented_nationality_df_test = pd.read_csv('drive/MyDrive/data/nationality-dataset-test-augmented.csv')\n",
        "augmented_sexual_orientation_df_test = pd.read_csv('drive/MyDrive/data/sexual-orientation-dataset-test-augmented.csv')\n",
        "augmented_religion_df_test = pd.read_csv('drive/MyDrive/data/religion-dataset-test-augmented.csv')\n",
        "\n",
        "hatecheck_disability_df_test = pd.read_csv('drive/MyDrive/data/disability-dataset-hatecheck.csv')\n",
        "hatecheck_race_df_test = pd.read_csv('drive/MyDrive/data/race-dataset-hatecheck.csv')\n",
        "hatecheck_gender_df_test = pd.read_csv('drive/MyDrive/data/gender-dataset-hatecheck.csv')\n",
        "hatecheck_nationality_df_test = pd.read_csv('drive/MyDrive/data/nationality-dataset-hatecheck.csv')\n",
        "hatecheck_sexual_orientation_df_test = pd.read_csv('drive/MyDrive/data/sexual_orientation-dataset-hatecheck.csv')\n",
        "hatecheck_religion_df_test = pd.read_csv('drive/MyDrive/data/religion-dataset-hatecheck.csv')\n",
        "\n",
        "jigsaw_disability_df_test = pd.read_csv('drive/MyDrive/data/disability-dataset-jigsaw.csv')\n",
        "jigsaw_race_df_test = pd.read_csv('drive/MyDrive/data/race-dataset-jigsaw.csv')\n",
        "jigsaw_gender_df_test = pd.read_csv('drive/MyDrive/data/gender-dataset-jigsaw.csv')\n",
        "# jigsaw_nationality_df_test = pd.read_csv('drive/MyDrive/data/nationality-dataset-jigsaw.csv') # jigsaw doesn't have nationality\n",
        "jigsaw_sexual_orientation_df_test = pd.read_csv('drive/MyDrive/data/sexual_orientation-dataset-jigsaw.csv')\n",
        "jigsaw_religion_df_test = pd.read_csv('drive/MyDrive/data/religion-dataset-jigsaw.csv')"
      ],
      "metadata": {
        "id": "HqO4q1QpU_0T"
      },
      "id": "HqO4q1QpU_0T",
      "execution_count": 13,
      "outputs": []
    },
    {
      "cell_type": "code",
      "source": [
        "def to_arrays(df):\n",
        "  X = df['comment_text'].to_numpy()\n",
        "  y = df['toxicity_binary'].to_numpy()\n",
        "  return X, y\n",
        "\n",
        "# convert to numpy arrays\n",
        "X_test_augmented_disability, y_test_augmented_disability = to_arrays(augmented_disability_df_test)\n",
        "X_test_augmented_race, y_test_augmented_race = to_arrays(augmented_race_df_test)\n",
        "X_test_augmented_gender, y_test_augmented_gender = to_arrays(augmented_gender_df_test)\n",
        "X_test_augmented_nationality, y_test_augmented_nationality = to_arrays(augmented_nationality_df_test)\n",
        "X_test_augmented_sexual_orientation, y_test_augmented_sexual_orientation = to_arrays(augmented_sexual_orientation_df_test)\n",
        "X_test_augmented_religion, y_test_augmented_religion = to_arrays(augmented_religion_df_test)\n",
        "\n",
        "X_test_hatecheck_disability, y_test_hatecheck_disability = to_arrays(hatecheck_disability_df_test)\n",
        "X_test_hatecheck_race, y_test_hatecheck_race = to_arrays(hatecheck_race_df_test)\n",
        "X_test_hatecheck_gender, y_test_hatecheck_gender = to_arrays(hatecheck_gender_df_test)\n",
        "X_test_hatecheck_nationality, y_test_hatecheck_nationality = to_arrays(hatecheck_nationality_df_test)\n",
        "X_test_hatecheck_sexual_orientation, y_test_hatecheck_sexual_orientation = to_arrays(hatecheck_sexual_orientation_df_test)\n",
        "X_test_hatecheck_religion, y_test_hatecheck_religion = to_arrays(hatecheck_religion_df_test)\n",
        "\n",
        "X_test_jigsaw_disability, y_test_jigsaw_disability = to_arrays(jigsaw_disability_df_test)\n",
        "X_test_jigsaw_race, y_test_jigsaw_race = to_arrays(jigsaw_race_df_test)\n",
        "X_test_jigsaw_gender, y_test_jigsaw_gender = to_arrays(jigsaw_gender_df_test)\n",
        "# X_test_jigsaw_nationality, y_test_jigsaw_nationality = to_arrays(jigsaw_nationality_df_test) # jigsaw doesn't have nationality\n",
        "X_test_jigsaw_sexual_orientation, y_test_jigsaw_sexual_orientation = to_arrays(jigsaw_sexual_orientation_df_test)\n",
        "X_test_jigsaw_religion, y_test_jigsaw_religion = to_arrays(jigsaw_religion_df_test)\n",
        "\n",
        "# Convert to tensors for CNN\n",
        "cnn_augmented_test_disability_labels = tf.convert_to_tensor(augmented_disability_df_test['toxicity_binary'])\n",
        "cnn_hatecheck_test_disability_labels = tf.convert_to_tensor(hatecheck_disability_df_test['toxicity_binary'])\n",
        "cnn_jigsaw_test_disability_labels = tf.convert_to_tensor(jigsaw_disability_df_test['toxicity_binary'])\n",
        "\n",
        "cnn_augmented_test_disability_examples = tf.convert_to_tensor(augmented_disability_df_test['comment_text'])\n",
        "cnn_hatecheck_test_disability_examples = tf.convert_to_tensor(hatecheck_disability_df_test['comment_text'])\n",
        "cnn_jigsaw_test_disability_examples = tf.convert_to_tensor(jigsaw_disability_df_test['comment_text'])"
      ],
      "metadata": {
        "id": "RMJZG1-gWFqA"
      },
      "id": "RMJZG1-gWFqA",
      "execution_count": 14,
      "outputs": []
    },
    {
      "cell_type": "markdown",
      "source": [
        "Sanity check: Inspect some of the loaded data"
      ],
      "metadata": {
        "id": "MKJm5XJ7Xc__"
      },
      "id": "MKJm5XJ7Xc__"
    },
    {
      "cell_type": "code",
      "execution_count": 15,
      "id": "1513e398",
      "metadata": {
        "id": "1513e398",
        "colab": {
          "base_uri": "https://localhost:8080/",
          "height": 35
        },
        "outputId": "ec5d7b67-4d57-41eb-b9e6-43d8c44c1750"
      },
      "outputs": [
        {
          "output_type": "execute_result",
          "data": {
            "text/plain": [
              "\" ADD/ADHD is a mental disorder, they don't exist! its just stupid behavior!\\n- ADD is an excuse for bad parenting\\n-\""
            ],
            "application/vnd.google.colaboratory.intrinsic+json": {
              "type": "string"
            }
          },
          "metadata": {},
          "execution_count": 15
        }
      ],
      "source": [
        "X_test_augmented_disability[2]"
      ]
    },
    {
      "cell_type": "code",
      "execution_count": 16,
      "id": "a6627800",
      "metadata": {
        "id": "a6627800",
        "colab": {
          "base_uri": "https://localhost:8080/",
          "height": 35
        },
        "outputId": "d44bd759-1d3b-4ae7-d792-dc560ea0fb95"
      },
      "outputs": [
        {
          "output_type": "execute_result",
          "data": {
            "text/plain": [
              "'These black people disgust me so much. '"
            ],
            "application/vnd.google.colaboratory.intrinsic+json": {
              "type": "string"
            }
          },
          "metadata": {},
          "execution_count": 16
        }
      ],
      "source": [
        "X_test_hatecheck_race[10]"
      ]
    },
    {
      "cell_type": "code",
      "source": [
        "X_test_jigsaw_religion[20]"
      ],
      "metadata": {
        "id": "D4sq1JqwPWuy",
        "colab": {
          "base_uri": "https://localhost:8080/",
          "height": 53
        },
        "outputId": "275f472e-e3ae-4f07-8412-de05f53e5ad8"
      },
      "id": "D4sq1JqwPWuy",
      "execution_count": 17,
      "outputs": [
        {
          "output_type": "execute_result",
          "data": {
            "text/plain": [
              "'Layla: I think that you are looking at this backwards.  The question is not \"how many Muslims are not affected by this?\".  The question is \"how many non-Muslims are affected by this?\".  Since the answer to the second question is almost certainly none, we can conclude that this law targets Muslims wearing face-covering attire.'"
            ],
            "application/vnd.google.colaboratory.intrinsic+json": {
              "type": "string"
            }
          },
          "metadata": {},
          "execution_count": 17
        }
      ]
    },
    {
      "cell_type": "markdown",
      "source": [
        "## Load Base BERT Models and  Tokenizers"
      ],
      "metadata": {
        "id": "Ym96S5aJ3JpH"
      },
      "id": "Ym96S5aJ3JpH"
    },
    {
      "cell_type": "code",
      "source": [
        "bertcased_tokenizer = AutoTokenizer.from_pretrained(\"bert-base-cased\")\n",
        "bertcased_model = TFBertModel.from_pretrained(\"bert-base-cased\")\n",
        "\n",
        "bertweet_tokenizer = AutoTokenizer.from_pretrained(\"vinai/bertweet-base\",\n",
        "                                                    use_fast=False,\n",
        "                                                    normalization=True,\n",
        "                                                    add_special_tokens=True,\n",
        "                                                    return_attention_mask=True)\n",
        "bertweet_model = TFRobertaModel.from_pretrained(\"vinai/bertweet-base\")"
      ],
      "metadata": {
        "colab": {
          "base_uri": "https://localhost:8080/",
          "height": 522,
          "referenced_widgets": [
            "8fe5512328bb4c969c292b6d49db49b0",
            "851c9fec4d924ac08cc90c42d79b521b",
            "9484b8ce634a4ee0961aa444dff35ab7",
            "0552ef08203a4e90b9cb77e1b0d61d43",
            "9ef37dcdebaf4c4c9b78bb5f2bc74b2f",
            "ba135230b6d2406fa0f0df7d2a52990b",
            "87c1ce42bbc34d02afe3d2c653e4fe4b",
            "10ae7e76dbe84929a03c88a6fd643011",
            "605915ba945944cf9a03daf849505fdc",
            "322c68a928a84c2ca82d6421aa3d7266",
            "e7e988c04b9a47458c8d633bb5b436f8",
            "9a45ab4e91c944a7bb1bb571c1c18a1f",
            "634a6dc8969940548292f99b8eaf7e97",
            "f344236bc90b43d688d7d314585b3d64",
            "034976303d234e39a64539a669e9871b",
            "d634b3e5d794469b9133138e6f0080ac",
            "02f2544a677d456ab084aab69ea34fb1",
            "f13204c0862f45118e1885ee007854aa",
            "82c431babb1b4dfea42b6eb8e39055b5",
            "b3b957be7ae54a4b9a7ccfc8ad2f8b8c",
            "a1742fb597384bb898f95bebe6ee5ed0",
            "2e79ec38a8a641038f97be8321e86e36",
            "99e02e7082cc4c7ba378e0ca5f1ca5bd",
            "97ac6cc0ca914eeaa0dc52d471948af9",
            "4103d864276e410583596c7e39fcb9a5",
            "632245190b33432ab84f9bbf6123a0b5",
            "3918717847a64decb716a75b1f3f8de9",
            "3f7f2d7b952a4249b831b93dd0f6e0db",
            "b21535edf8424d61ace6f5cfcf5f3396",
            "b0a2defa9c1d40cb93a93d65a564d990",
            "c5df5b205bdb408d8710b500d8146094",
            "c8f34ef3e9ec40a583458e38122f83e9",
            "5dadaa197541467ba770d865c681f83b",
            "4c6202c226cd4025aff8702cfbbfb718",
            "b1d0a58da02e4e2a9bcd7eae84a7f447",
            "d29a9a7cd2aa4a4c8b2e07c15365a8a6",
            "50e5d4a9417343299d00ba4274e019fc",
            "9f616afb1baf4ed89b3e00d193357cf2",
            "f0da3e4c8c60479299b5ec7e8790f9ec",
            "a7375eaa3c00471aaea5732222e3786a",
            "29dbaa2177cf46f29d6ee8e6213a439d",
            "8f4adbfe058a40a789500cc418d23323",
            "2317244564964ba1afa8e3eed7302638",
            "51cd55f6f81348da91ba84b9d9f0f2de",
            "3ae865ad3cad438ea1bee90966314383",
            "e9e197c1f5444d53b845c3925339e004",
            "96f5d7066b824af691d1f4a1b94f2bc2",
            "b01a9419376a485180aea864aa310906",
            "021ba34f18494c9d978fc37e3aa226b5",
            "d5edf9b274334b28a10c935c53d40a60",
            "bc70f5acb1bc4fc186dd5b55738591e6",
            "4d4b78b320b24b70bad5937c51c36003",
            "28e305987f8e463eaad8f312f569be1a",
            "cc9a5433a0804750aa4d5d7581ed2155",
            "d0203c46a19c4557a8b707785513f100",
            "e5514feeb7af4528bcd827cb9fdbe262",
            "a8f53ec457ac49a282d2a8aa4495788f",
            "a9cd11f62e874e27bca638e5ea1346ad",
            "5cb1f75c967c42279c296492f0aff954",
            "71c926d9f7db4b75ac7d1e763ca9e6fa",
            "e1df1ae4f0d747df8c8579ae89fb6e46",
            "6ee54341fd644c7bbe5d09547014e917",
            "a281f297931b4ce8bd6580960830529b",
            "0ab5de4836434cbab4f1d72966f8b19c",
            "047fed50814844f6a4daba820bf22f2b",
            "a05c1eebf7644c85b68e2bc1c73dd216",
            "89c8f986394e4348bea9840c62606db0",
            "759fd91b40e24ecf8346b93717e234da",
            "d6b31df4167a44f6a2a132cb7bfd00c6",
            "f6377219f23242188ffa1326a6fbd2ad",
            "2fdd82101be64d3eb8daf7c5a8fc91f4",
            "7ec107fc48c04b5f96cdea7cb3d4d9a8",
            "94587440c0f74321bf982216c87cffa9",
            "eb920a94cbc947278a0f566427a4d023",
            "520404bf0f8646f48e93d78054f1ad1e",
            "d49f324f4d834f7c994376077685b26a",
            "e125f0f8dd294a7f8076656b1aa0ae12",
            "61a8c23837344861a15d6df72d854561",
            "56509c16e9324cf0800c0921527a34a0",
            "5e8497431b57423ba7869b715bc689b5",
            "b107004dec7d44de9bc86b7c8a6612bc",
            "8c76780926af453d8121fe3d3fc3ddad",
            "007a5fdfe50945db83ea60ad8fdf47d4",
            "e6a645fa0d2c4263816fd0e3d6c6708a",
            "9b3a0689880347d3ac7aa8507f238dad",
            "a7361bc0ee3947cb9b372cdeba1ae767",
            "4de6565eae4c42178b5c213b1af5cd50",
            "943bcb07abe6490eaf22acc278b1b7a7",
            "b983312f89a14ac696734b1f3fc6acd8",
            "e1345ee85f8342a4be0fa6a939f62e45",
            "d05a6fef56424ca7998e361ca6e6d599",
            "90c7f00d0a24438585c29657776bea05",
            "ec94d4cc4ad846eebeff13456c3e1743",
            "c6b3d4c2d97644b89886ff5667855a53",
            "aecf721ce0a44a5ebecbed9096287709",
            "633ddf7004874b96b1c24e8ca734a490",
            "45bc2b5175e74a3bb2fd2f8968d54f21",
            "5497d5d1887548c481def38f82de61b9",
            "f3bf0f4cb2314196bcc331978db5386b"
          ]
        },
        "id": "7qbWhaSk3Nkv",
        "outputId": "ee497c4b-ea55-4da8-bde8-89614ca55e8b"
      },
      "id": "7qbWhaSk3Nkv",
      "execution_count": 18,
      "outputs": [
        {
          "output_type": "display_data",
          "data": {
            "text/plain": [
              "Downloading (…)okenizer_config.json:   0%|          | 0.00/29.0 [00:00<?, ?B/s]"
            ],
            "application/vnd.jupyter.widget-view+json": {
              "version_major": 2,
              "version_minor": 0,
              "model_id": "8fe5512328bb4c969c292b6d49db49b0"
            }
          },
          "metadata": {}
        },
        {
          "output_type": "display_data",
          "data": {
            "text/plain": [
              "Downloading (…)lve/main/config.json:   0%|          | 0.00/570 [00:00<?, ?B/s]"
            ],
            "application/vnd.jupyter.widget-view+json": {
              "version_major": 2,
              "version_minor": 0,
              "model_id": "9a45ab4e91c944a7bb1bb571c1c18a1f"
            }
          },
          "metadata": {}
        },
        {
          "output_type": "display_data",
          "data": {
            "text/plain": [
              "Downloading (…)solve/main/vocab.txt:   0%|          | 0.00/213k [00:00<?, ?B/s]"
            ],
            "application/vnd.jupyter.widget-view+json": {
              "version_major": 2,
              "version_minor": 0,
              "model_id": "99e02e7082cc4c7ba378e0ca5f1ca5bd"
            }
          },
          "metadata": {}
        },
        {
          "output_type": "display_data",
          "data": {
            "text/plain": [
              "Downloading (…)/main/tokenizer.json:   0%|          | 0.00/436k [00:00<?, ?B/s]"
            ],
            "application/vnd.jupyter.widget-view+json": {
              "version_major": 2,
              "version_minor": 0,
              "model_id": "4c6202c226cd4025aff8702cfbbfb718"
            }
          },
          "metadata": {}
        },
        {
          "output_type": "display_data",
          "data": {
            "text/plain": [
              "Downloading tf_model.h5:   0%|          | 0.00/527M [00:00<?, ?B/s]"
            ],
            "application/vnd.jupyter.widget-view+json": {
              "version_major": 2,
              "version_minor": 0,
              "model_id": "3ae865ad3cad438ea1bee90966314383"
            }
          },
          "metadata": {}
        },
        {
          "output_type": "stream",
          "name": "stderr",
          "text": [
            "Some layers from the model checkpoint at bert-base-cased were not used when initializing TFBertModel: ['nsp___cls', 'mlm___cls']\n",
            "- This IS expected if you are initializing TFBertModel from the checkpoint of a model trained on another task or with another architecture (e.g. initializing a BertForSequenceClassification model from a BertForPreTraining model).\n",
            "- This IS NOT expected if you are initializing TFBertModel from the checkpoint of a model that you expect to be exactly identical (initializing a BertForSequenceClassification model from a BertForSequenceClassification model).\n",
            "All the layers of TFBertModel were initialized from the model checkpoint at bert-base-cased.\n",
            "If your task is similar to the task the model of the checkpoint was trained on, you can already use TFBertModel for predictions without further training.\n"
          ]
        },
        {
          "output_type": "display_data",
          "data": {
            "text/plain": [
              "Downloading (…)lve/main/config.json:   0%|          | 0.00/558 [00:00<?, ?B/s]"
            ],
            "application/vnd.jupyter.widget-view+json": {
              "version_major": 2,
              "version_minor": 0,
              "model_id": "e5514feeb7af4528bcd827cb9fdbe262"
            }
          },
          "metadata": {}
        },
        {
          "output_type": "display_data",
          "data": {
            "text/plain": [
              "Downloading (…)solve/main/vocab.txt:   0%|          | 0.00/843k [00:00<?, ?B/s]"
            ],
            "application/vnd.jupyter.widget-view+json": {
              "version_major": 2,
              "version_minor": 0,
              "model_id": "89c8f986394e4348bea9840c62606db0"
            }
          },
          "metadata": {}
        },
        {
          "output_type": "display_data",
          "data": {
            "text/plain": [
              "Downloading (…)solve/main/bpe.codes:   0%|          | 0.00/1.08M [00:00<?, ?B/s]"
            ],
            "application/vnd.jupyter.widget-view+json": {
              "version_major": 2,
              "version_minor": 0,
              "model_id": "61a8c23837344861a15d6df72d854561"
            }
          },
          "metadata": {}
        },
        {
          "output_type": "stream",
          "name": "stderr",
          "text": [
            "Special tokens have been added in the vocabulary, make sure the associated word embeddings are fine-tuned or trained.\n"
          ]
        },
        {
          "output_type": "display_data",
          "data": {
            "text/plain": [
              "Downloading tf_model.h5:   0%|          | 0.00/740M [00:00<?, ?B/s]"
            ],
            "application/vnd.jupyter.widget-view+json": {
              "version_major": 2,
              "version_minor": 0,
              "model_id": "b983312f89a14ac696734b1f3fc6acd8"
            }
          },
          "metadata": {}
        },
        {
          "output_type": "stream",
          "name": "stderr",
          "text": [
            "Some layers from the model checkpoint at vinai/bertweet-base were not used when initializing TFRobertaModel: ['lm_head']\n",
            "- This IS expected if you are initializing TFRobertaModel from the checkpoint of a model trained on another task or with another architecture (e.g. initializing a BertForSequenceClassification model from a BertForPreTraining model).\n",
            "- This IS NOT expected if you are initializing TFRobertaModel from the checkpoint of a model that you expect to be exactly identical (initializing a BertForSequenceClassification model from a BertForSequenceClassification model).\n",
            "All the layers of TFRobertaModel were initialized from the model checkpoint at vinai/bertweet-base.\n",
            "If your task is similar to the task the model of the checkpoint was trained on, you can already use TFRobertaModel for predictions without further training.\n"
          ]
        }
      ]
    },
    {
      "cell_type": "markdown",
      "id": "6bbf0d8f",
      "metadata": {
        "id": "6bbf0d8f"
      },
      "source": [
        "## Tokenize Data for BERT Cased and BERTweet"
      ]
    },
    {
      "cell_type": "code",
      "source": [
        "# CNN\n",
        "# tokenize\n",
        "cnn_tokenizer = tf_text.WhitespaceTokenizer()\n",
        "cnn_augmented_disability_test_tokens = cnn_tokenizer.tokenize(cnn_augmented_test_disability_examples)\n",
        "cnn_hatecheck_disability_test_tokens = cnn_tokenizer.tokenize(cnn_hatecheck_test_disability_examples)\n",
        "cnn_jigsaw_disability_test_tokens = cnn_tokenizer.tokenize(cnn_jigsaw_test_disability_examples)\n",
        "\n",
        "# cnn inputs\n",
        "cnn_augmented_disability_test_input = docs_to_vocab_ids(cnn_augmented_disability_test_tokens)\n",
        "cnn_hatecheck_disability_test_input = docs_to_vocab_ids(cnn_hatecheck_disability_test_tokens)\n",
        "cnn_jigsaw_disability_test_input = docs_to_vocab_ids(cnn_jigsaw_disability_test_tokens)\n",
        "\n",
        "# labels\n",
        "cnn_augmented_disability_test_labels = np.array(cnn_augmented_test_disability_labels)\n",
        "cnn_hatecheck_disability_test_labels = np.array(cnn_hatecheck_test_disability_labels)\n",
        "cnn_jigsaw_disability_test_labels = np.array(cnn_jigsaw_test_disability_labels)"
      ],
      "metadata": {
        "colab": {
          "base_uri": "https://localhost:8080/"
        },
        "id": "KOVFHG7ijo-r",
        "outputId": "47bafc20-d620-457d-ec71-ce31c9962a2f"
      },
      "id": "KOVFHG7ijo-r",
      "execution_count": 19,
      "outputs": [
        {
          "output_type": "stream",
          "name": "stdout",
          "text": [
            "Examples processed:  0\n",
            "Examples processed:  5000\n",
            "Total examples:  7264\n",
            "Examples processed:  0\n",
            "Total examples:  483\n",
            "Examples processed:  0\n",
            "Total examples:  1537\n"
          ]
        }
      ]
    },
    {
      "cell_type": "code",
      "execution_count": 20,
      "id": "b25b6965",
      "metadata": {
        "id": "b25b6965"
      },
      "outputs": [],
      "source": [
        "# BERT Cased\n",
        "bertcased_augmented_test_inputs_disability = tokenizing_pipeline(X_test_augmented_disability, bertcased_tokenizer)\n",
        "bertcased_augmented_test_inputs_race = tokenizing_pipeline(X_test_augmented_race, bertcased_tokenizer)\n",
        "bertcased_augmented_test_inputs_gender = tokenizing_pipeline(X_test_augmented_gender, bertcased_tokenizer)\n",
        "bertcased_augmented_test_inputs_nationality = tokenizing_pipeline(X_test_augmented_nationality, bertcased_tokenizer)\n",
        "bertcased_augmented_test_inputs_sexual_orientation = tokenizing_pipeline(X_test_augmented_sexual_orientation, bertcased_tokenizer)\n",
        "bertcased_augmented_test_inputs_religion = tokenizing_pipeline(X_test_augmented_religion, bertcased_tokenizer)\n",
        "\n",
        "bertcased_hatecheck_test_inputs_disability = tokenizing_pipeline(X_test_hatecheck_disability, bertcased_tokenizer)\n",
        "bertcased_hatecheck_test_inputs_race = tokenizing_pipeline(X_test_hatecheck_race, bertcased_tokenizer)\n",
        "bertcased_hatecheck_test_inputs_gender = tokenizing_pipeline(X_test_hatecheck_gender, bertcased_tokenizer)\n",
        "bertcased_hatecheck_test_inputs_nationality = tokenizing_pipeline(X_test_hatecheck_nationality, bertcased_tokenizer)\n",
        "bertcased_hatecheck_test_inputs_sexual_orientation = tokenizing_pipeline(X_test_hatecheck_sexual_orientation, bertcased_tokenizer)\n",
        "bertcased_hatecheck_test_inputs_religion = tokenizing_pipeline(X_test_hatecheck_religion, bertcased_tokenizer)\n",
        "\n",
        "bertcased_jigsaw_test_inputs_disability = tokenizing_pipeline(X_test_jigsaw_disability, bertcased_tokenizer)\n",
        "bertcased_jigsaw_test_inputs_race = tokenizing_pipeline(X_test_jigsaw_race, bertcased_tokenizer)\n",
        "bertcased_jigsaw_test_inputs_gender = tokenizing_pipeline(X_test_jigsaw_gender, bertcased_tokenizer)\n",
        "# bertcased_jigsaw_test_inputs_nationality = tokenizing_pipeline(X_test_jigsaw_nationality, bertcased_tokenizer) # jigsaw doesn't have nationality\n",
        "bertcased_jigsaw_test_inputs_sexual_orientation = tokenizing_pipeline(X_test_jigsaw_sexual_orientation, bertcased_tokenizer)\n",
        "bertcased_jigsaw_test_inputs_religion = tokenizing_pipeline(X_test_jigsaw_religion, bertcased_tokenizer)"
      ]
    },
    {
      "cell_type": "code",
      "source": [
        "# BERTweet\n",
        "bertweet_augmented_test_inputs_disability = tokenizing_pipeline(X_test_augmented_disability, bertweet_tokenizer)\n",
        "bertweet_augmented_test_inputs_race = tokenizing_pipeline(X_test_augmented_race, bertweet_tokenizer)\n",
        "bertweet_augmented_test_inputs_gender = tokenizing_pipeline(X_test_augmented_gender, bertweet_tokenizer)\n",
        "bertweet_augmented_test_inputs_nationality = tokenizing_pipeline(X_test_augmented_nationality, bertweet_tokenizer)\n",
        "bertweet_augmented_test_inputs_sexual_orientation = tokenizing_pipeline(X_test_augmented_sexual_orientation, bertweet_tokenizer)\n",
        "bertweet_augmented_test_inputs_religion = tokenizing_pipeline(X_test_augmented_religion, bertweet_tokenizer)\n",
        "\n",
        "bertweet_hatecheck_test_inputs_disability = tokenizing_pipeline(X_test_hatecheck_disability, bertweet_tokenizer)\n",
        "bertweet_hatecheck_test_inputs_race = tokenizing_pipeline(X_test_hatecheck_race, bertweet_tokenizer)\n",
        "bertweet_hatecheck_test_inputs_gender = tokenizing_pipeline(X_test_hatecheck_gender, bertweet_tokenizer)\n",
        "bertweet_hatecheck_test_inputs_nationality = tokenizing_pipeline(X_test_hatecheck_nationality, bertweet_tokenizer)\n",
        "bertweet_hatecheck_test_inputs_sexual_orientation = tokenizing_pipeline(X_test_hatecheck_sexual_orientation, bertweet_tokenizer)\n",
        "bertweet_hatecheck_test_inputs_religion = tokenizing_pipeline(X_test_hatecheck_religion, bertweet_tokenizer)\n",
        "\n",
        "bertweet_jigsaw_test_inputs_disability = tokenizing_pipeline(X_test_jigsaw_disability, bertweet_tokenizer)\n",
        "bertweet_jigsaw_test_inputs_race = tokenizing_pipeline(X_test_jigsaw_race, bertweet_tokenizer)\n",
        "bertweet_jigsaw_test_inputs_gender = tokenizing_pipeline(X_test_jigsaw_gender, bertweet_tokenizer)\n",
        "# bertweet_jigsaw_test_inputs_nationality = tokenizing_pipeline(X_test_jigsaw_nationality, bertweet_tokenizer) # jigsaw doesn't have nationality\n",
        "bertweet_jigsaw_test_inputs_sexual_orientation = tokenizing_pipeline(X_test_jigsaw_sexual_orientation, bertweet_tokenizer)\n",
        "bertweet_jigsaw_test_inputs_religion = tokenizing_pipeline(X_test_jigsaw_religion, bertweet_tokenizer)"
      ],
      "metadata": {
        "id": "chV0z5bwZC9W"
      },
      "id": "chV0z5bwZC9W",
      "execution_count": 21,
      "outputs": []
    },
    {
      "cell_type": "markdown",
      "source": [
        "## Define Build Functions for BERT"
      ],
      "metadata": {
        "id": "amylISBk3xO9"
      },
      "id": "amylISBk3xO9"
    },
    {
      "cell_type": "code",
      "source": [
        "def build_bertcased_cls_model(max_sequence_length=MAX_SEQUENCE_LENGTH,\n",
        "                          hidden_size=100, \n",
        "                          dropout=0.3,\n",
        "                          learning_rate=0.0001,\n",
        "                          num_train_layers=0):\n",
        "\n",
        "    # freeze all pre-trained BERT cased layers\n",
        "    if num_train_layers == 0:\n",
        "      bertcased_model.trainable = False\n",
        "\n",
        "    # partially freeze the first n pre-trained BERT cased layers\n",
        "    else:\n",
        "        for layer_num in range(num_train_layers):\n",
        "            bertcased_model.bert.encoder.layer[layer_num].trainable = False\n",
        "    \n",
        "    input_ids = tf.keras.layers.Input(shape=(max_sequence_length,), dtype=tf.int64, name='input_ids_layer')\n",
        "    token_type_ids = tf.keras.layers.Input(shape=(max_sequence_length,), dtype=tf.int64, name='token_type_ids_layer')\n",
        "    attention_mask = tf.keras.layers.Input(shape=(max_sequence_length,), dtype=tf.int64, name='attention_mask_layer')\n",
        "\n",
        "    bert_inputs = {'input_ids': input_ids,\n",
        "                   'token_type_ids': token_type_ids,\n",
        "                   'attention_mask': attention_mask}      \n",
        "\n",
        "    bert_out = bertcased_model(bert_inputs)\n",
        "\n",
        "    cls_token = bert_out[0][:, 0, :]\n",
        "\n",
        "    \n",
        "    hidden = tf.keras.layers.Dense(hidden_size, activation='relu', name='hidden_layer')(cls_token)\n",
        "\n",
        "    hidden = tf.keras.layers.Dropout(dropout)(hidden)  \n",
        "\n",
        "    f1_score = tfa.metrics.F1Score(1, threshold = 0.5)\n",
        "\n",
        "    classification = tf.keras.layers.Dense(1, activation='sigmoid', name='classification_layer')(hidden)\n",
        "    \n",
        "    classification_model = tf.keras.Model(inputs=[input_ids, token_type_ids, attention_mask], outputs=[classification])\n",
        "    \n",
        "    classification_model.compile(optimizer=tf.keras.optimizers.legacy.Adam(learning_rate=learning_rate),\n",
        "                                 loss=tf.keras.losses.BinaryCrossentropy(from_logits=False), \n",
        "                                 metrics=[tf.keras.metrics.BinaryAccuracy(),\n",
        "                                        tf.keras.metrics.Precision(),\n",
        "                                        tf.keras.metrics.Recall(),\n",
        "                                        f1_score])\n",
        "\n",
        "    return classification_model"
      ],
      "metadata": {
        "id": "6BIamRIPzF4r"
      },
      "id": "6BIamRIPzF4r",
      "execution_count": 22,
      "outputs": []
    },
    {
      "cell_type": "code",
      "execution_count": 23,
      "id": "f486369a",
      "metadata": {
        "id": "f486369a"
      },
      "outputs": [],
      "source": [
        "def build_bertweet_cls_model(max_sequence_length=MAX_SEQUENCE_LENGTH,\n",
        "                          hidden_size=100, \n",
        "                          dropout=0.3,\n",
        "                          learning_rate=0.0001,\n",
        "                          num_train_layers=0):\n",
        "\n",
        "    # freeze all pre-trained BERTweet layers\n",
        "    if num_train_layers == 0:\n",
        "      bertweet_model.trainable = False\n",
        "\n",
        "    # partially freeze the first n pre-trained BERTweet layers\n",
        "    else:\n",
        "        for layer_num in range(num_train_layers):\n",
        "            bertweet_model.roberta.encoder.layer[layer_num].trainable = False\n",
        "    \n",
        "    input_ids = tf.keras.layers.Input(shape=(max_sequence_length,), dtype=tf.int64, name='input_ids_layer')\n",
        "    token_type_ids = tf.keras.layers.Input(shape=(max_sequence_length,), dtype=tf.int64, name='token_type_ids_layer')\n",
        "    attention_mask = tf.keras.layers.Input(shape=(max_sequence_length,), dtype=tf.int64, name='attention_mask_layer')\n",
        "\n",
        "    bert_inputs = {'input_ids': input_ids,\n",
        "                   'token_type_ids': token_type_ids,\n",
        "                   'attention_mask': attention_mask}      \n",
        "\n",
        "    # Use the same bertweet model instance\n",
        "    bert_out = bertweet_model(bert_inputs)\n",
        "\n",
        "    cls_token = bert_out[0][:, 0, :]\n",
        "\n",
        "    \n",
        "    hidden = tf.keras.layers.Dense(hidden_size, activation='relu', name='hidden_layer')(cls_token)\n",
        "\n",
        "    hidden = tf.keras.layers.Dropout(dropout)(hidden)  \n",
        "\n",
        "    f1_score = tfa.metrics.F1Score(1, threshold = 0.5)\n",
        "\n",
        "    classification = tf.keras.layers.Dense(1, activation='sigmoid', name='classification_layer')(hidden)\n",
        "    \n",
        "    classification_model = tf.keras.Model(inputs=[input_ids, token_type_ids, attention_mask], outputs=[classification])\n",
        "    \n",
        "    classification_model.compile(optimizer=tf.keras.optimizers.legacy.Adam(learning_rate=learning_rate),\n",
        "                                 loss=tf.keras.losses.BinaryCrossentropy(from_logits=False), \n",
        "                                 metrics=[tf.keras.metrics.BinaryAccuracy(),\n",
        "                                        tf.keras.metrics.Precision(),\n",
        "                                        tf.keras.metrics.Recall(),\n",
        "                                        f1_score])\n",
        "\n",
        "    return classification_model"
      ]
    },
    {
      "cell_type": "markdown",
      "id": "3129f17c",
      "metadata": {
        "id": "3129f17c"
      },
      "source": [
        "## Load Models"
      ]
    },
    {
      "cell_type": "code",
      "source": [
        "# CNN\n",
        "cnn_disability_model = tf.keras.models.load_model('drive/MyDrive/model_checkpoints/cnn_disability_model.keras')"
      ],
      "metadata": {
        "id": "8h9uR8MfNku-"
      },
      "id": "8h9uR8MfNku-",
      "execution_count": 24,
      "outputs": []
    },
    {
      "cell_type": "code",
      "source": [
        "num_train_layers=8\n",
        "learning_rate=1e-6\n",
        "\n",
        "# BERT Cased - Start with fresh bert cased instances\n",
        "bertcased_disability_only_model = build_bertcased_cls_model(num_train_layers=num_train_layers, learning_rate=learning_rate)\n",
        "bertcased_disability_gender_model = build_bertcased_cls_model(num_train_layers=num_train_layers, learning_rate=learning_rate)\n",
        "bertcased_disability_race_model = build_bertcased_cls_model(num_train_layers=num_train_layers, learning_rate=learning_rate)\n",
        "bertcased_disability_nationality_model = build_bertcased_cls_model(num_train_layers=num_train_layers, learning_rate=learning_rate)\n",
        "bertcased_disability_religion_model = build_bertcased_cls_model(num_train_layers=num_train_layers, learning_rate=learning_rate)\n",
        "bertcased_disability_sexual_orientation_model = build_bertcased_cls_model(num_train_layers=num_train_layers, learning_rate=learning_rate)\n",
        "bertcased_gender_model = build_bertcased_cls_model(num_train_layers=num_train_layers, learning_rate=learning_rate)\n",
        "bertcased_race_model = build_bertcased_cls_model(num_train_layers=num_train_layers, learning_rate=learning_rate)\n",
        "bertcased_nationality_model = build_bertcased_cls_model(num_train_layers=num_train_layers, learning_rate=learning_rate)\n",
        "bertcased_religion_model = build_bertcased_cls_model(num_train_layers=num_train_layers, learning_rate=learning_rate)\n",
        "bertcased_sexual_orientation_model = build_bertcased_cls_model(num_train_layers=num_train_layers, learning_rate=learning_rate)\n",
        "\n",
        "# BERT Cased - Load weights\n",
        "bertcased_disability_only_model.load_weights('drive/MyDrive/model_checkpoints/Official_BERT_Cased_Disability_Only_Toxigen_Hatemoji.hdh5') # works okay\n",
        "bertcased_disability_gender_model.load_weights('/content/drive/MyDrive/model_checkpoints/Official_BERT_Cased_Disability_Gender_Interwoven_disability.hdf5')\n",
        "bertcased_disability_race_model.load_weights('drive/MyDrive/model_checkpoints/Official_BERTCased_Disability_Race_Interwoven_disability.hdf5')\n",
        "bertcased_disability_nationality_model.load_weights('drive/MyDrive/model_checkpoints/Official_BERT_Cased_Disability_Nationality_Interwoven_disability.hdf5')\n",
        "bertcased_disability_religion_model.load_weights('drive/MyDrive/model_checkpoints/Official_BERT_Cased_Disability_Religion_Interwoven_disability.hdf5')\n",
        "bertcased_disability_sexual_orientation_model.load_weights('drive/MyDrive/model_checkpoints/Official_BERT_Cased_Disability_Sexual_Orientation_Interwoven_disability.hdf5')\n",
        "\n",
        "bertcased_gender_model.load_weights('drive/MyDrive/model_checkpoints/Official_BERT_Cased_Disability_Gender_Interwoven_gender.hdf5')\n",
        "bertcased_race_model.load_weights('drive/MyDrive/model_checkpoints/Official_BERTCased_Disability_Race_Interwoven_race.hdf5')\n",
        "bertcased_nationality_model.load_weights('drive/MyDrive/model_checkpoints/Official_BERT_Cased_Disability_Nationality_Interwoven_nationality.hdf5')\n",
        "bertcased_religion_model.load_weights('drive/MyDrive/model_checkpoints/Official_BERT_Cased_Disability_Religion_Interwoven_religion.hdf5')\n",
        "bertcased_sexual_orientation_model.load_weights('drive/MyDrive/model_checkpoints/Official_BERT_Cased_Disability_Sexual_Orientation_Interwoven_sexual_orientation.hdf5')"
      ],
      "metadata": {
        "colab": {
          "base_uri": "https://localhost:8080/"
        },
        "id": "89lj8jED5JGN",
        "outputId": "f81f900c-0127-4dff-dbae-ccb465655f01"
      },
      "id": "89lj8jED5JGN",
      "execution_count": 36,
      "outputs": [
        {
          "output_type": "execute_result",
          "data": {
            "text/plain": [
              "<tensorflow.python.checkpoint.checkpoint.CheckpointLoadStatus at 0x7f0023f18880>"
            ]
          },
          "metadata": {},
          "execution_count": 36
        }
      ]
    },
    {
      "cell_type": "code",
      "source": [
        "# BERTweet - Start with fresh bertweet instances\n",
        "bertweet_disability_only_model = build_bertweet_cls_model(num_train_layers=num_train_layers, learning_rate=learning_rate)\n",
        "bertweet_disability_gender_model = build_bertweet_cls_model(num_train_layers=num_train_layers, learning_rate=learning_rate)\n",
        "bertweet_disability_race_model = build_bertweet_cls_model(num_train_layers=num_train_layers, learning_rate=learning_rate)\n",
        "bertweet_disability_nationality_model = build_bertweet_cls_model(num_train_layers=num_train_layers, learning_rate=learning_rate)\n",
        "bertweet_disability_religion_model = build_bertweet_cls_model(num_train_layers=num_train_layers, learning_rate=learning_rate)\n",
        "bertweet_disability_sexual_orientation_model = build_bertweet_cls_model(num_train_layers=num_train_layers, learning_rate=learning_rate)\n",
        "bertweet_gender_model = build_bertweet_cls_model(num_train_layers=num_train_layers, learning_rate=learning_rate)\n",
        "bertweet_race_model = build_bertweet_cls_model(num_train_layers=num_train_layers, learning_rate=learning_rate)\n",
        "bertweet_nationality_model = build_bertweet_cls_model(num_train_layers=num_train_layers, learning_rate=learning_rate)\n",
        "bertweet_religion_model = build_bertweet_cls_model(num_train_layers=num_train_layers, learning_rate=learning_rate)\n",
        "bertweet_sexual_orientation_model = build_bertweet_cls_model(num_train_layers=num_train_layers, learning_rate=learning_rate)\n",
        "\n",
        "# BERTweet - Load weights\n",
        "bertweet_disability_only_model.load_weights('drive/MyDrive/model_checkpoints/Official_BERTweet_Disability_Only_Toxigen_Hatemoji.hdh5')\n",
        "bertweet_disability_gender_model.load_weights('drive/MyDrive/model_checkpoints/Official_BERTweet_Disability_Gender_Interwoven_disability.hdf5')\n",
        "bertweet_disability_race_model.load_weights('drive/MyDrive/model_checkpoints/Official_BERTweet_Disability_Race_Interwoven_disability.hdf5')\n",
        "bertweet_disability_nationality_model.load_weights('drive/MyDrive/model_checkpoints/Official_BERTweet_Disability_Nationality_Interwoven_disability.hdf5')\n",
        "bertweet_disability_religion_model.load_weights('drive/MyDrive/model_checkpoints/Official_BERTweet_Disability_Religion_Interwoven_disability.hdf5')\n",
        "bertweet_disability_sexual_orientation_model.load_weights('drive/MyDrive/model_checkpoints/Official_BERTweet_Disability_Sexual_Orientation_Interwoven_disability.hdf5')\n",
        "\n",
        "bertweet_gender_model.load_weights('drive/MyDrive/model_checkpoints/Official_BERTweet_Disability_Gender_Interwoven_gender.hdf5')\n",
        "bertweet_race_model.load_weights('drive/MyDrive/model_checkpoints/Official_BERTweet_Disability_Race_Interwoven_race.hdf5')\n",
        "bertweet_nationality_model.load_weights('drive/MyDrive/model_checkpoints/Official_BERTweet_Disability_Nationality_Interwoven_nationality.hdf5')\n",
        "bertweet_religion_model.load_weights('drive/MyDrive/model_checkpoints/Official_BERTweet_Disability_Religion_Interwoven_religion.hdf5')\n",
        "bertweet_sexual_orientation_model.load_weights('drive/MyDrive/model_checkpoints/Official_BERTweet_Disability_Sexual_Orientation_Interwoven_sexual_orientation.hdf5')"
      ],
      "metadata": {
        "id": "QZe5jbx-NcFO"
      },
      "id": "QZe5jbx-NcFO",
      "execution_count": 26,
      "outputs": []
    },
    {
      "cell_type": "markdown",
      "source": [
        "# Evaluate Models"
      ],
      "metadata": {
        "id": "TUrhHgAvN3qt"
      },
      "id": "TUrhHgAvN3qt"
    },
    {
      "cell_type": "markdown",
      "source": [
        "### Evaluate on ToxiGen + Hatemoji Test Set"
      ],
      "metadata": {
        "id": "ogval0PrUsXl"
      },
      "id": "ogval0PrUsXl"
    },
    {
      "cell_type": "code",
      "source": [
        "# CNN --> TOXIGEN + HATEMOJI\n",
        "# ==========================================\n",
        "# Evaluate CNN on disability\n",
        "cnn_augmented_disability_model_history = cnn_disability_model.evaluate(cnn_augmented_disability_test_input, cnn_augmented_disability_test_labels)"
      ],
      "metadata": {
        "colab": {
          "base_uri": "https://localhost:8080/"
        },
        "id": "TyzKrxibniAB",
        "outputId": "c0c3735a-cf6b-40e6-e997-0bbb917c5ac1"
      },
      "id": "TyzKrxibniAB",
      "execution_count": 27,
      "outputs": [
        {
          "output_type": "stream",
          "name": "stdout",
          "text": [
            "228/228 [==============================] - 6s 4ms/step - loss: 0.4838 - accuracy: 0.7715 - f1_score: 0.7741\n"
          ]
        }
      ]
    },
    {
      "cell_type": "code",
      "source": [
        "# BERT Cased --> TOXIGEN + HATEMOJI\n",
        "# ==========================================\n",
        "# Evaluate BERT Cased on disability\n",
        "bertcased_disability_only_model.history = bertcased_disability_only_model.evaluate(bertcased_augmented_test_inputs_disability, y_test_augmented_disability)\n",
        "bertcased_disability_gender_model.history = bertcased_disability_gender_model.evaluate(bertcased_augmented_test_inputs_disability, y_test_augmented_disability)\n",
        "bertcased_disability_race_model.history = bertcased_disability_race_model.evaluate(bertcased_augmented_test_inputs_disability, y_test_augmented_disability)\n",
        "bertcased_disability_nationality_model.history = bertcased_disability_nationality_model.evaluate(bertcased_augmented_test_inputs_disability, y_test_augmented_disability)\n",
        "bertcased_disability_religion_model.history = bertcased_disability_religion_model.evaluate(bertcased_augmented_test_inputs_disability, y_test_augmented_disability)\n",
        "bertcased_disability_sexual_orientation_model.history = bertcased_disability_sexual_orientation_model.evaluate(bertcased_augmented_test_inputs_disability, y_test_augmented_disability)\n",
        "\n",
        "# Evaluate BERT Cased on identity groups for secondary analysis\n",
        "bertcased_gender_model.history = bertcased_gender_model.evaluate(bertcased_augmented_test_inputs_gender, y_test_augmented_gender)\n",
        "bertcased_race_model.history = bertcased_race_model.evaluate(bertcased_augmented_test_inputs_race, y_test_augmented_race)\n",
        "bertcased_nationality_model.history = bertcased_nationality_model.evaluate(bertcased_augmented_test_inputs_nationality, y_test_augmented_nationality)\n",
        "bertcased_religion_model.history = bertcased_religion_model.evaluate(bertcased_augmented_test_inputs_religion, y_test_augmented_religion)\n",
        "bertcased_sexual_orientation_model.history = bertcased_sexual_orientation_model.evaluate(bertcased_augmented_test_inputs_sexual_orientation, y_test_augmented_sexual_orientation)"
      ],
      "metadata": {
        "colab": {
          "base_uri": "https://localhost:8080/"
        },
        "id": "sPBxJjOznkD2",
        "outputId": "a9ce1ad3-60b6-470f-b1cd-c02d81bb4231"
      },
      "id": "sPBxJjOznkD2",
      "execution_count": 28,
      "outputs": [
        {
          "output_type": "stream",
          "name": "stdout",
          "text": [
            "228/228 [==============================] - 13s 41ms/step - loss: 0.7734 - binary_accuracy: 0.3978 - precision: 0.4327 - recall: 0.5175 - f1_score: 0.4713\n",
            "228/228 [==============================] - 12s 41ms/step - loss: 0.7884 - binary_accuracy: 0.3725 - precision_1: 0.4132 - recall_1: 0.5000 - f1_score: 0.4525\n",
            "228/228 [==============================] - 12s 41ms/step - loss: 0.6922 - binary_accuracy: 0.5565 - precision_2: 0.7473 - recall_2: 0.2189 - f1_score: 0.3387\n",
            "228/228 [==============================] - 12s 41ms/step - loss: 0.7586 - binary_accuracy: 0.5210 - precision_3: 0.5199 - recall_3: 0.9984 - f1_score: 0.6838\n",
            "228/228 [==============================] - 13s 41ms/step - loss: 0.8354 - binary_accuracy: 0.4277 - precision_4: 0.4687 - recall_4: 0.7744 - f1_score: 0.5840\n",
            "228/228 [==============================] - 12s 41ms/step - loss: 0.4252 - binary_accuracy: 0.8050 - precision_5: 0.7907 - recall_5: 0.8485 - f1_score: 0.8186\n",
            "137/137 [==============================] - 9s 42ms/step - loss: 0.7950 - binary_accuracy: 0.5013 - precision_6: 0.5004 - recall_6: 0.9739 - f1_score: 0.6611\n",
            "639/639 [==============================] - 29s 41ms/step - loss: 0.7076 - binary_accuracy: 0.5084 - precision_7: 0.5465 - recall_7: 0.1673 - f1_score: 0.2562\n",
            "260/260 [==============================] - 14s 40ms/step - loss: 0.6706 - binary_accuracy: 0.5883 - precision_8: 0.7949 - recall_8: 0.2590 - f1_score: 0.3907\n",
            "136/136 [==============================] - 9s 40ms/step - loss: 0.8795 - binary_accuracy: 0.5059 - precision_9: 0.5054 - recall_9: 0.9991 - f1_score: 0.6713\n",
            "140/140 [==============================] - 9s 41ms/step - loss: 0.3414 - binary_accuracy: 0.8528 - precision_10: 0.8259 - recall_10: 0.8812 - f1_score: 0.8527\n"
          ]
        }
      ]
    },
    {
      "cell_type": "code",
      "source": [
        "# BERTweet --> TOXIGEN + HATEMOJI\n",
        "# ==========================================\n",
        "# Evaluate BERTweet on disability\n",
        "bertweet_disability_only_model.history = bertweet_disability_only_model.evaluate(bertweet_augmented_test_inputs_disability, y_test_augmented_disability)\n",
        "bertweet_disability_gender_model.history = bertweet_disability_gender_model.evaluate(bertweet_augmented_test_inputs_disability, y_test_augmented_disability)\n",
        "bertweet_disability_race_model.history = bertweet_disability_race_model.evaluate(bertweet_augmented_test_inputs_disability, y_test_augmented_disability)\n",
        "bertweet_disability_nationality_model.history = bertweet_disability_nationality_model.evaluate(bertweet_augmented_test_inputs_disability, y_test_augmented_disability)\n",
        "bertweet_disability_religion_model.history = bertweet_disability_religion_model.evaluate(bertweet_augmented_test_inputs_disability, y_test_augmented_disability)\n",
        "bertweet_disability_sexual_orientation_model.history = bertweet_disability_sexual_orientation_model.evaluate(bertweet_augmented_test_inputs_disability, y_test_augmented_disability)\n",
        "\n",
        "# Evaluate BERTweet on identity groups for secondary analysis\n",
        "bertweet_gender_model.history = bertweet_gender_model.evaluate(bertweet_augmented_test_inputs_gender, y_test_augmented_gender)\n",
        "bertweet_race_model.history = bertweet_race_model.evaluate(bertweet_augmented_test_inputs_race, y_test_augmented_race)\n",
        "bertweet_nationality_model.history = bertweet_nationality_model.evaluate(bertweet_augmented_test_inputs_nationality, y_test_augmented_nationality)\n",
        "bertweet_religion_model.history = bertweet_religion_model.evaluate(bertweet_augmented_test_inputs_religion, y_test_augmented_religion)\n",
        "bertweet_sexual_orientation_model.history = bertweet_sexual_orientation_model.evaluate(bertweet_augmented_test_inputs_sexual_orientation, y_test_augmented_sexual_orientation)"
      ],
      "metadata": {
        "colab": {
          "base_uri": "https://localhost:8080/"
        },
        "id": "cILlc44PORyU",
        "outputId": "7b1c3336-7b5b-453f-d573-9c1e4defded3"
      },
      "id": "cILlc44PORyU",
      "execution_count": 29,
      "outputs": [
        {
          "output_type": "stream",
          "name": "stdout",
          "text": [
            "228/228 [==============================] - 13s 40ms/step - loss: 0.6767 - binary_accuracy: 0.6050 - precision_11: 0.6518 - recall_11: 0.5117 - f1_score: 0.5733\n",
            "228/228 [==============================] - 12s 40ms/step - loss: 0.6973 - binary_accuracy: 0.5039 - precision_12: 0.5453 - recall_12: 0.2622 - f1_score: 0.3541\n",
            "228/228 [==============================] - 13s 41ms/step - loss: 0.7454 - binary_accuracy: 0.3568 - precision_13: 0.2921 - recall_13: 0.1688 - f1_score: 0.2140\n",
            "228/228 [==============================] - 13s 41ms/step - loss: 0.6714 - binary_accuracy: 0.5639 - precision_14: 0.7381 - recall_14: 0.2468 - f1_score: 0.3699\n",
            "228/228 [==============================] - 13s 41ms/step - loss: 0.6153 - binary_accuracy: 0.6279 - precision_15: 0.5881 - recall_15: 0.9429 - f1_score: 0.7244\n",
            "228/228 [==============================] - 13s 41ms/step - loss: 0.3818 - binary_accuracy: 0.8295 - precision_16: 0.8332 - recall_16: 0.8392 - f1_score: 0.8362\n",
            "137/137 [==============================] - 9s 41ms/step - loss: 0.6483 - binary_accuracy: 0.6215 - precision_17: 0.7823 - recall_17: 0.3355 - f1_score: 0.4696\n",
            "639/639 [==============================] - 29s 41ms/step - loss: 0.6990 - binary_accuracy: 0.5222 - precision_18: 0.5148 - recall_18: 0.9670 - f1_score: 0.6719\n",
            "260/260 [==============================] - 14s 41ms/step - loss: 0.6669 - binary_accuracy: 0.6211 - precision_19: 0.6315 - recall_19: 0.6161 - f1_score: 0.6237\n",
            "136/136 [==============================] - 9s 41ms/step - loss: 0.6692 - binary_accuracy: 0.5427 - precision_20: 0.8029 - recall_20: 0.1251 - f1_score: 0.2165\n",
            "140/140 [==============================] - 10s 41ms/step - loss: 0.2975 - binary_accuracy: 0.8767 - precision_21: 0.8664 - recall_21: 0.8808 - f1_score: 0.8735\n"
          ]
        }
      ]
    },
    {
      "cell_type": "markdown",
      "source": [
        "### Evaluate on HateCheck Set"
      ],
      "metadata": {
        "id": "EdYiWSFzUypy"
      },
      "id": "EdYiWSFzUypy"
    },
    {
      "cell_type": "code",
      "source": [
        "# CNN --> HATECHECK\n",
        "# ==========================================\n",
        "# Evaluate CNN on disability\n",
        "cnn_hatecheck_disability_model_history = cnn_disability_model.evaluate(cnn_hatecheck_disability_test_input, cnn_hatecheck_disability_test_labels)"
      ],
      "metadata": {
        "colab": {
          "base_uri": "https://localhost:8080/"
        },
        "id": "9eYO3QFHnq5t",
        "outputId": "3419b5cd-98b1-4318-ebf7-6d3099479614"
      },
      "id": "9eYO3QFHnq5t",
      "execution_count": 30,
      "outputs": [
        {
          "output_type": "stream",
          "name": "stdout",
          "text": [
            "16/16 [==============================] - 0s 10ms/step - loss: 0.5905 - accuracy: 0.7273 - f1_score: 0.8386\n"
          ]
        }
      ]
    },
    {
      "cell_type": "code",
      "source": [
        "# BERT Cased --> HATE CHECK\n",
        "# ==========================================\n",
        "# Evaluate BERT Cased on disability\n",
        "bertcased_disability_only_model = bertcased_disability_only_model.evaluate(bertcased_hatecheck_test_inputs_disability, y_test_hatecheck_disability)\n",
        "bertcased_disability_gender_model = bertcased_disability_gender_model.evaluate(bertcased_hatecheck_test_inputs_disability, y_test_hatecheck_disability)\n",
        "bertcased_disability_race_model = bertcased_disability_race_model.evaluate(bertcased_hatecheck_test_inputs_disability, y_test_hatecheck_disability)\n",
        "bertcased_disability_nationality_model = bertcased_disability_nationality_model.evaluate(bertcased_hatecheck_test_inputs_disability, y_test_hatecheck_disability)\n",
        "bertcased_disability_religion_model = bertcased_disability_religion_model.evaluate(bertcased_hatecheck_test_inputs_disability, y_test_hatecheck_disability)\n",
        "bertcased_disability_sexual_orientation_model = bertcased_disability_sexual_orientation_model.evaluate(bertcased_hatecheck_test_inputs_disability, y_test_hatecheck_disability)\n",
        "\n",
        "# Evaluate BERT Cased on identity groups for secondary analysis\n",
        "bertcased_gender_model = bertcased_gender_model.evaluate(bertcased_hatecheck_test_inputs_gender, y_test_hatecheck_gender)\n",
        "bertcased_race_model = bertcased_race_model.evaluate(bertcased_hatecheck_test_inputs_race, y_test_hatecheck_race)\n",
        "bertcased_nationality_model = bertcased_nationality_model.evaluate(bertcased_hatecheck_test_inputs_nationality, y_test_hatecheck_nationality)\n",
        "bertcased_religion_model = bertcased_religion_model.evaluate(bertcased_hatecheck_test_inputs_religion, y_test_hatecheck_religion)\n",
        "bertcased_sexual_orientation_model = bertcased_sexual_orientation_model.evaluate(bertcased_hatecheck_test_inputs_sexual_orientation, y_test_hatecheck_sexual_orientation)"
      ],
      "metadata": {
        "colab": {
          "base_uri": "https://localhost:8080/"
        },
        "id": "ZN8YCOMLny_C",
        "outputId": "250559b8-4460-4d3c-d6ee-bf51a36de2a1"
      },
      "id": "ZN8YCOMLny_C",
      "execution_count": 31,
      "outputs": [
        {
          "output_type": "stream",
          "name": "stdout",
          "text": [
            "16/16 [==============================] - 1s 42ms/step - loss: 0.8804 - binary_accuracy: 0.3223 - precision: 0.7103 - recall: 0.2038 - f1_score: 0.3167\n",
            "16/16 [==============================] - 1s 42ms/step - loss: 0.7304 - binary_accuracy: 0.4050 - precision_1: 0.7515 - recall_1: 0.3405 - f1_score: 0.4686\n",
            "16/16 [==============================] - 1s 41ms/step - loss: 0.8110 - binary_accuracy: 0.3512 - precision_2: 0.7757 - recall_2: 0.2225 - f1_score: 0.3458\n",
            "16/16 [==============================] - 1s 41ms/step - loss: 0.5505 - binary_accuracy: 0.7707 - precision_3: 0.7707 - recall_3: 1.0000 - f1_score: 0.8705\n",
            "16/16 [==============================] - 1s 40ms/step - loss: 0.6312 - binary_accuracy: 0.7107 - precision_4: 0.7606 - recall_4: 0.9115 - f1_score: 0.8293\n",
            "16/16 [==============================] - 1s 41ms/step - loss: 0.4990 - binary_accuracy: 0.8017 - precision_5: 0.8004 - recall_5: 0.9893 - f1_score: 0.8849\n",
            "31/31 [==============================] - 1s 41ms/step - loss: 0.6279 - binary_accuracy: 0.7160 - precision_6: 0.7484 - recall_6: 0.9370 - f1_score: 0.8321\n",
            "16/16 [==============================] - 1s 40ms/step - loss: 0.7995 - binary_accuracy: 0.3133 - precision_7: 0.6512 - recall_7: 0.1569 - f1_score: 0.2528\n",
            "15/15 [==============================] - 1s 40ms/step - loss: 0.9453 - binary_accuracy: 0.2700 - precision_8: 0.7879 - recall_8: 0.0728 - f1_score: 0.1333\n",
            "16/16 [==============================] - 1s 40ms/step - loss: 0.5245 - binary_accuracy: 0.7707 - precision_9: 0.7707 - recall_9: 1.0000 - f1_score: 0.8705\n",
            "18/18 [==============================] - 1s 40ms/step - loss: 0.6097 - binary_accuracy: 0.7495 - precision_10: 0.7443 - recall_10: 0.9598 - f1_score: 0.8384\n"
          ]
        }
      ]
    },
    {
      "cell_type": "code",
      "source": [
        "# BERTweet --> HATE CHECK\n",
        "# ==========================================\n",
        "# Evaluate BERTweet on disability\n",
        "bertweet_disability_only_model = bertweet_disability_only_model.evaluate(bertweet_hatecheck_test_inputs_disability, y_test_hatecheck_disability)\n",
        "bertweet_disability_gender_model = bertweet_disability_gender_model.evaluate(bertweet_hatecheck_test_inputs_disability, y_test_hatecheck_disability)\n",
        "bertweet_disability_race_model = bertweet_disability_race_model.evaluate(bertweet_hatecheck_test_inputs_disability, y_test_hatecheck_disability)\n",
        "bertweet_disability_nationality_model = bertweet_disability_nationality_model.evaluate(bertweet_hatecheck_test_inputs_disability, y_test_hatecheck_disability)\n",
        "bertweet_disability_religion_model = bertweet_disability_religion_model.evaluate(bertweet_hatecheck_test_inputs_disability, y_test_hatecheck_disability)\n",
        "bertweet_disability_sexual_orientation_model = bertweet_disability_sexual_orientation_model.evaluate(bertweet_hatecheck_test_inputs_disability, y_test_hatecheck_disability)\n",
        "\n",
        "# Evaluate BERTweet on identity groups for secondary analysis\n",
        "bertweet_gender_model = bertweet_gender_model.evaluate(bertweet_hatecheck_test_inputs_gender, y_test_hatecheck_gender)\n",
        "bertweet_race_model = bertweet_race_model.evaluate(bertweet_hatecheck_test_inputs_race, y_test_hatecheck_race)\n",
        "bertweet_nationality_model = bertweet_nationality_model.evaluate(bertweet_hatecheck_test_inputs_nationality, y_test_hatecheck_nationality)\n",
        "bertweet_religion_model = bertweet_religion_model.evaluate(bertweet_hatecheck_test_inputs_religion, y_test_hatecheck_religion)\n",
        "bertweet_sexual_orientation_model = bertweet_sexual_orientation_model.evaluate(bertweet_hatecheck_test_inputs_sexual_orientation, y_test_hatecheck_sexual_orientation)"
      ],
      "metadata": {
        "colab": {
          "base_uri": "https://localhost:8080/"
        },
        "id": "0Q26EpCJUyp2",
        "outputId": "7c771167-b38b-47d8-f4fb-7bf4d20f761f"
      },
      "execution_count": 32,
      "outputs": [
        {
          "output_type": "stream",
          "name": "stdout",
          "text": [
            "16/16 [==============================] - 1s 40ms/step - loss: 0.7134 - binary_accuracy: 0.4649 - precision_11: 0.7794 - recall_11: 0.4263 - f1_score: 0.5511\n",
            "16/16 [==============================] - 1s 39ms/step - loss: 0.7587 - binary_accuracy: 0.2955 - precision_12: 0.8333 - recall_12: 0.1072 - f1_score: 0.1900\n",
            "16/16 [==============================] - 1s 40ms/step - loss: 0.7852 - binary_accuracy: 0.2686 - precision_13: 0.7209 - recall_13: 0.0831 - f1_score: 0.1490\n",
            "16/16 [==============================] - 1s 39ms/step - loss: 0.7349 - binary_accuracy: 0.3616 - precision_14: 0.8077 - recall_14: 0.2252 - f1_score: 0.3522\n",
            "16/16 [==============================] - 1s 40ms/step - loss: 0.5307 - binary_accuracy: 0.7831 - precision_15: 0.7815 - recall_15: 0.9973 - f1_score: 0.8763\n",
            "16/16 [==============================] - 1s 40ms/step - loss: 0.4676 - binary_accuracy: 0.8347 - precision_16: 0.8352 - recall_16: 0.9786 - f1_score: 0.9012\n",
            "31/31 [==============================] - 1s 41ms/step - loss: 0.6892 - binary_accuracy: 0.5535 - precision_17: 0.8318 - recall_17: 0.5082 - f1_score: 0.6310\n",
            "16/16 [==============================] - 1s 41ms/step - loss: 0.6338 - binary_accuracy: 0.7033 - precision_18: 0.7477 - recall_18: 0.9048 - f1_score: 0.8188\n",
            "15/15 [==============================] - 1s 41ms/step - loss: 0.7167 - binary_accuracy: 0.4384 - precision_19: 0.7836 - recall_19: 0.3754 - f1_score: 0.5076\n",
            "16/16 [==============================] - 1s 40ms/step - loss: 0.7632 - binary_accuracy: 0.3058 - precision_20: 0.8776 - recall_20: 0.1153 - f1_score: 0.2038\n",
            "18/18 [==============================] - 1s 40ms/step - loss: 0.6307 - binary_accuracy: 0.7514 - precision_21: 0.7744 - recall_21: 0.8928 - f1_score: 0.8294\n"
          ]
        }
      ],
      "id": "0Q26EpCJUyp2"
    },
    {
      "cell_type": "markdown",
      "source": [
        "### Evaluate on Jigsaw"
      ],
      "metadata": {
        "id": "-tZiMimJVnf9"
      },
      "id": "-tZiMimJVnf9"
    },
    {
      "cell_type": "code",
      "source": [
        "# CNN --> HATECHECK\n",
        "# ==========================================\n",
        "# Evaluate CNN on disability\n",
        "cnn_jigsaw_disability_model_history = cnn_disability_model.evaluate(cnn_jigsaw_disability_test_input, cnn_jigsaw_disability_test_labels)"
      ],
      "metadata": {
        "colab": {
          "base_uri": "https://localhost:8080/"
        },
        "id": "ZP08uDQHnwmR",
        "outputId": "b290bc17-32cf-4e93-f160-63277a73482d"
      },
      "id": "ZP08uDQHnwmR",
      "execution_count": 33,
      "outputs": [
        {
          "output_type": "stream",
          "name": "stdout",
          "text": [
            "49/49 [==============================] - 0s 5ms/step - loss: 0.6213 - accuracy: 0.6730 - f1_score: 0.3752\n"
          ]
        }
      ]
    },
    {
      "cell_type": "markdown",
      "source": [
        "Load BERT model weights again b/c of RAM?"
      ],
      "metadata": {
        "id": "qeEqUcVB6NPy"
      },
      "id": "qeEqUcVB6NPy"
    },
    {
      "cell_type": "code",
      "source": [
        "num_train_layers=8\n",
        "learning_rate=1e-6\n",
        "\n",
        "# BERT Cased - Start with fresh bert cased instances\n",
        "bertcased_disability_only_model = build_bertcased_cls_model(num_train_layers=num_train_layers, learning_rate=learning_rate)\n",
        "bertcased_disability_gender_model = build_bertcased_cls_model(num_train_layers=num_train_layers, learning_rate=learning_rate)\n",
        "bertcased_disability_race_model = build_bertcased_cls_model(num_train_layers=num_train_layers, learning_rate=learning_rate)\n",
        "bertcased_disability_nationality_model = build_bertcased_cls_model(num_train_layers=num_train_layers, learning_rate=learning_rate)\n",
        "bertcased_disability_religion_model = build_bertcased_cls_model(num_train_layers=num_train_layers, learning_rate=learning_rate)\n",
        "bertcased_disability_sexual_orientation_model = build_bertcased_cls_model(num_train_layers=num_train_layers, learning_rate=learning_rate)\n",
        "bertcased_gender_model = build_bertcased_cls_model(num_train_layers=num_train_layers, learning_rate=learning_rate)\n",
        "bertcased_race_model = build_bertcased_cls_model(num_train_layers=num_train_layers, learning_rate=learning_rate)\n",
        "bertcased_nationality_model = build_bertcased_cls_model(num_train_layers=num_train_layers, learning_rate=learning_rate)\n",
        "bertcased_religion_model = build_bertcased_cls_model(num_train_layers=num_train_layers, learning_rate=learning_rate)\n",
        "bertcased_sexual_orientation_model = build_bertcased_cls_model(num_train_layers=num_train_layers, learning_rate=learning_rate)\n",
        "\n",
        "# BERT Cased - Load weights\n",
        "bertcased_disability_only_model.load_weights('drive/MyDrive/model_checkpoints/Official_BERT_Cased_Disability_Only_Toxigen_Hatemoji.hdh5') # works okay\n",
        "bertcased_disability_gender_model.load_weights('/content/drive/MyDrive/model_checkpoints/Official_BERT_Cased_Disability_Gender_Interwoven_disability.hdf5')\n",
        "bertcased_disability_race_model.load_weights('drive/MyDrive/model_checkpoints/Official_BERTCased_Disability_Race_Interwoven_disability.hdf5')\n",
        "bertcased_disability_nationality_model.load_weights('drive/MyDrive/model_checkpoints/Official_BERT_Cased_Disability_Nationality_Interwoven_disability.hdf5')\n",
        "bertcased_disability_religion_model.load_weights('drive/MyDrive/model_checkpoints/Official_BERT_Cased_Disability_Religion_Interwoven_disability.hdf5')\n",
        "bertcased_disability_sexual_orientation_model.load_weights('drive/MyDrive/model_checkpoints/Official_BERT_Cased_Disability_Sexual_Orientation_Interwoven_disability.hdf5')\n",
        "\n",
        "bertcased_gender_model.load_weights('drive/MyDrive/model_checkpoints/Official_BERT_Cased_Disability_Gender_Interwoven_gender.hdf5')\n",
        "bertcased_race_model.load_weights('drive/MyDrive/model_checkpoints/Official_BERTCased_Disability_Race_Interwoven_race.hdf5')\n",
        "bertcased_nationality_model.load_weights('drive/MyDrive/model_checkpoints/Official_BERT_Cased_Disability_Nationality_Interwoven_nationality.hdf5')\n",
        "bertcased_religion_model.load_weights('drive/MyDrive/model_checkpoints/Official_BERT_Cased_Disability_Religion_Interwoven_religion.hdf5')\n",
        "bertcased_sexual_orientation_model.load_weights('drive/MyDrive/model_checkpoints/Official_BERT_Cased_Disability_Sexual_Orientation_Interwoven_sexual_orientation.hdf5')"
      ],
      "metadata": {
        "colab": {
          "base_uri": "https://localhost:8080/"
        },
        "outputId": "a3087781-f00b-4464-b2ae-356ba261bebb",
        "id": "wAKvisr_6MJ-"
      },
      "execution_count": 38,
      "outputs": [
        {
          "output_type": "stream",
          "name": "stderr",
          "text": [
            "WARNING:tensorflow:Detecting that an object or model or tf.train.Checkpoint is being deleted with unrestored values. See the following logs for the specific values in question. To silence these warnings, use `status.expect_partial()`. See https://www.tensorflow.org/api_docs/python/tf/train/Checkpoint#restorefor details about the status object returned by the restore function.\n",
            "WARNING:tensorflow:Value in checkpoint could not be found in the restored object: (root).optimizer.iter\n",
            "WARNING:tensorflow:Value in checkpoint could not be found in the restored object: (root).optimizer.beta_1\n",
            "WARNING:tensorflow:Value in checkpoint could not be found in the restored object: (root).optimizer.beta_2\n",
            "WARNING:tensorflow:Value in checkpoint could not be found in the restored object: (root).optimizer.decay\n",
            "WARNING:tensorflow:Value in checkpoint could not be found in the restored object: (root).optimizer.learning_rate\n",
            "WARNING:tensorflow:Detecting that an object or model or tf.train.Checkpoint is being deleted with unrestored values. See the following logs for the specific values in question. To silence these warnings, use `status.expect_partial()`. See https://www.tensorflow.org/api_docs/python/tf/train/Checkpoint#restorefor details about the status object returned by the restore function.\n",
            "WARNING:tensorflow:Value in checkpoint could not be found in the restored object: (root).optimizer.iter\n",
            "WARNING:tensorflow:Value in checkpoint could not be found in the restored object: (root).optimizer.beta_1\n",
            "WARNING:tensorflow:Value in checkpoint could not be found in the restored object: (root).optimizer.beta_2\n",
            "WARNING:tensorflow:Value in checkpoint could not be found in the restored object: (root).optimizer.decay\n",
            "WARNING:tensorflow:Value in checkpoint could not be found in the restored object: (root).optimizer.learning_rate\n"
          ]
        }
      ],
      "id": "wAKvisr_6MJ-"
    },
    {
      "cell_type": "code",
      "source": [
        "# BERTweet - Start with fresh bertweet instances\n",
        "bertweet_disability_only_model = build_bertweet_cls_model(num_train_layers=num_train_layers, learning_rate=learning_rate)\n",
        "bertweet_disability_gender_model = build_bertweet_cls_model(num_train_layers=num_train_layers, learning_rate=learning_rate)\n",
        "bertweet_disability_race_model = build_bertweet_cls_model(num_train_layers=num_train_layers, learning_rate=learning_rate)\n",
        "bertweet_disability_nationality_model = build_bertweet_cls_model(num_train_layers=num_train_layers, learning_rate=learning_rate)\n",
        "bertweet_disability_religion_model = build_bertweet_cls_model(num_train_layers=num_train_layers, learning_rate=learning_rate)\n",
        "bertweet_disability_sexual_orientation_model = build_bertweet_cls_model(num_train_layers=num_train_layers, learning_rate=learning_rate)\n",
        "bertweet_gender_model = build_bertweet_cls_model(num_train_layers=num_train_layers, learning_rate=learning_rate)\n",
        "bertweet_race_model = build_bertweet_cls_model(num_train_layers=num_train_layers, learning_rate=learning_rate)\n",
        "bertweet_nationality_model = build_bertweet_cls_model(num_train_layers=num_train_layers, learning_rate=learning_rate)\n",
        "bertweet_religion_model = build_bertweet_cls_model(num_train_layers=num_train_layers, learning_rate=learning_rate)\n",
        "bertweet_sexual_orientation_model = build_bertweet_cls_model(num_train_layers=num_train_layers, learning_rate=learning_rate)\n",
        "\n",
        "# BERTweet - Load weights\n",
        "bertweet_disability_only_model.load_weights('drive/MyDrive/model_checkpoints/Official_BERTweet_Disability_Only_Toxigen_Hatemoji.hdh5')\n",
        "bertweet_disability_gender_model.load_weights('drive/MyDrive/model_checkpoints/Official_BERTweet_Disability_Gender_Interwoven_disability.hdf5')\n",
        "bertweet_disability_race_model.load_weights('drive/MyDrive/model_checkpoints/Official_BERTweet_Disability_Race_Interwoven_disability.hdf5')\n",
        "bertweet_disability_nationality_model.load_weights('drive/MyDrive/model_checkpoints/Official_BERTweet_Disability_Nationality_Interwoven_disability.hdf5')\n",
        "bertweet_disability_religion_model.load_weights('drive/MyDrive/model_checkpoints/Official_BERTweet_Disability_Religion_Interwoven_disability.hdf5')\n",
        "bertweet_disability_sexual_orientation_model.load_weights('drive/MyDrive/model_checkpoints/Official_BERTweet_Disability_Sexual_Orientation_Interwoven_disability.hdf5')\n",
        "\n",
        "bertweet_gender_model.load_weights('drive/MyDrive/model_checkpoints/Official_BERTweet_Disability_Gender_Interwoven_gender.hdf5')\n",
        "bertweet_race_model.load_weights('drive/MyDrive/model_checkpoints/Official_BERTweet_Disability_Race_Interwoven_race.hdf5')\n",
        "bertweet_nationality_model.load_weights('drive/MyDrive/model_checkpoints/Official_BERTweet_Disability_Nationality_Interwoven_nationality.hdf5')\n",
        "bertweet_religion_model.load_weights('drive/MyDrive/model_checkpoints/Official_BERTweet_Disability_Religion_Interwoven_religion.hdf5')\n",
        "bertweet_sexual_orientation_model.load_weights('drive/MyDrive/model_checkpoints/Official_BERTweet_Disability_Sexual_Orientation_Interwoven_sexual_orientation.hdf5')"
      ],
      "metadata": {
        "id": "owg7taXb6MKA"
      },
      "execution_count": 39,
      "outputs": [],
      "id": "owg7taXb6MKA"
    },
    {
      "cell_type": "code",
      "source": [
        "# BERT Cased --> JIGSAW\n",
        "# ==========================================\n",
        "# Evaluate BERT Cased on disability\n",
        "bertcased_disability_only_model = bertcased_disability_only_model.evaluate(bertcased_jigsaw_test_inputs_disability, y_test_jigsaw_disability)\n",
        "bertcased_disability_gender_model = bertcased_disability_gender_model.evaluate(bertcased_jigsaw_test_inputs_disability, y_test_jigsaw_disability)\n",
        "bertcased_disability_race_model = bertcased_disability_race_model.evaluate(bertcased_jigsaw_test_inputs_disability, y_test_jigsaw_disability)\n",
        "# bertcased_disability_nationality_model = bertcased_disability_nationality_model.evaluate(bertcased_jigsaw_test_inputs_disability, y_test_jigsaw_disability) # jigsaw doesn't have nationality\n",
        "bertcased_disability_religion_model = bertcased_disability_religion_model.evaluate(bertcased_jigsaw_test_inputs_disability, y_test_jigsaw_disability)\n",
        "bertcased_disability_sexual_orientation_model = bertcased_disability_sexual_orientation_model.evaluate(bertcased_jigsaw_test_inputs_disability, y_test_jigsaw_disability)\n",
        "\n",
        "# Evaluate BERT Cased on identity groups for secondary analysis\n",
        "bertcased_gender_model = bertcased_gender_model.evaluate(bertcased_jigsaw_test_inputs_gender, y_test_jigsaw_gender)\n",
        "bertcased_race_model = bertcased_race_model.evaluate(bertcased_jigsaw_test_inputs_race, y_test_jigsaw_race)\n",
        "# bertcased_nationality_model = bertcased_nationality_model.evaluate(bertcased_jigsaw_test_inputs_nationality, y_test_jigsaw_nationality) # jigsaw doesn't have nationality\n",
        "bertcased_religion_model = bertcased_religion_model.evaluate(bertcased_jigsaw_test_inputs_religion, y_test_jigsaw_religion)\n",
        "bertcased_sexual_orientation_model = bertcased_sexual_orientation_model.evaluate(bertcased_jigsaw_test_inputs_sexual_orientation, y_test_jigsaw_sexual_orientation)"
      ],
      "metadata": {
        "colab": {
          "base_uri": "https://localhost:8080/"
        },
        "id": "3Js391nkn1co",
        "outputId": "088bafdc-e83e-443e-c85b-42ef4df3a5f9"
      },
      "id": "3Js391nkn1co",
      "execution_count": 40,
      "outputs": [
        {
          "output_type": "stream",
          "name": "stdout",
          "text": [
            "49/49 [==============================] - 5s 40ms/step - loss: 0.6949 - binary_accuracy: 0.5338 - precision_23: 0.1567 - recall_23: 0.3584 - f1_score: 0.2181\n",
            "49/49 [==============================] - 5s 40ms/step - loss: 0.7506 - binary_accuracy: 0.4148 - precision_24: 0.1835 - recall_24: 0.6452 - f1_score: 0.2857\n",
            "49/49 [==============================] - 5s 40ms/step - loss: 0.5961 - binary_accuracy: 0.7380 - precision_25: 0.2500 - recall_25: 0.2222 - f1_score: 0.2353\n"
          ]
        },
        {
          "output_type": "stream",
          "name": "stderr",
          "text": [
            "WARNING:tensorflow:Detecting that an object or model or tf.train.Checkpoint is being deleted with unrestored values. See the following logs for the specific values in question. To silence these warnings, use `status.expect_partial()`. See https://www.tensorflow.org/api_docs/python/tf/train/Checkpoint#restorefor details about the status object returned by the restore function.\n",
            "WARNING:tensorflow:Value in checkpoint could not be found in the restored object: (root).optimizer.iter\n",
            "WARNING:tensorflow:Value in checkpoint could not be found in the restored object: (root).optimizer.beta_1\n",
            "WARNING:tensorflow:Value in checkpoint could not be found in the restored object: (root).optimizer.beta_2\n",
            "WARNING:tensorflow:Value in checkpoint could not be found in the restored object: (root).optimizer.decay\n",
            "WARNING:tensorflow:Value in checkpoint could not be found in the restored object: (root).optimizer.learning_rate\n"
          ]
        },
        {
          "output_type": "stream",
          "name": "stdout",
          "text": [
            "49/49 [==============================] - 6s 41ms/step - loss: 0.9088 - binary_accuracy: 0.2139 - precision_27: 0.1735 - recall_27: 0.8853 - f1_score: 0.2901\n",
            "49/49 [==============================] - 5s 41ms/step - loss: 0.8346 - binary_accuracy: 0.5299 - precision_28: 0.2613 - recall_28: 0.8710 - f1_score: 0.4020\n",
            "49/49 [==============================] - 5s 40ms/step - loss: 1.0931 - binary_accuracy: 0.1691 - precision_29: 0.1558 - recall_29: 0.9792 - f1_score: 0.2689\n",
            "49/49 [==============================] - 5s 40ms/step - loss: 0.6286 - binary_accuracy: 0.6456 - precision_30: 0.3236 - recall_30: 0.1987 - f1_score: 0.2462\n",
            "49/49 [==============================] - 5s 40ms/step - loss: 1.3123 - binary_accuracy: 0.2055 - precision_32: 0.2055 - recall_32: 1.0000 - f1_score: 0.3409\n",
            "49/49 [==============================] - 5s 41ms/step - loss: 0.7838 - binary_accuracy: 0.5592 - precision_33: 0.3687 - recall_33: 0.7111 - f1_score: 0.4856\n"
          ]
        }
      ]
    },
    {
      "cell_type": "code",
      "source": [
        "# BERTweet --> JIGSAW\n",
        "# ==========================================\n",
        "# Evaluate BERTweet on disability\n",
        "bertweet_disability_only_model = bertweet_disability_only_model.evaluate(bertweet_jigsaw_test_inputs_disability, y_test_jigsaw_disability)\n",
        "bertweet_disability_gender_model = bertweet_disability_gender_model.evaluate(bertweet_jigsaw_test_inputs_disability, y_test_jigsaw_disability)\n",
        "bertweet_disability_race_model = bertweet_disability_race_model.evaluate(bertweet_jigsaw_test_inputs_disability, y_test_jigsaw_disability)\n",
        "# bertweet_disability_nationality_model = bertweet_disability_nationality_model.evaluate(bertweet_jigsaw_test_inputs_disability, y_test_jigsaw_disability) # jigsaw doesn't have nationality\n",
        "bertweet_disability_religion_model = bertweet_disability_religion_model.evaluate(bertweet_jigsaw_test_inputs_disability, y_test_jigsaw_disability)\n",
        "bertweet_disability_sexual_orientation_model = bertweet_disability_sexual_orientation_model.evaluate(bertweet_jigsaw_test_inputs_disability, y_test_jigsaw_disability)\n",
        "\n",
        "# Evaluate BERTweet on identity groups for secondary analysis\n",
        "bertweet_gender_model = bertweet_gender_model.evaluate(bertweet_jigsaw_test_inputs_gender, y_test_jigsaw_gender)\n",
        "bertweet_race_model = bertweet_race_model.evaluate(bertweet_jigsaw_test_inputs_race, y_test_jigsaw_race)\n",
        "# bertweet_nationality_model = bertweet_nationality_model.evaluate(bertweet_jigsaw_test_inputs_nationality, y_test_jigsaw_nationality) # jigsaw doesn't have nationality\n",
        "bertweet_religion_model = bertweet_religion_model.evaluate(bertweet_jigsaw_test_inputs_religion, y_test_jigsaw_religion)\n",
        "bertweet_sexual_orientation_model = bertweet_sexual_orientation_model.evaluate(bertweet_jigsaw_test_inputs_sexual_orientation, y_test_jigsaw_sexual_orientation)"
      ],
      "metadata": {
        "colab": {
          "base_uri": "https://localhost:8080/"
        },
        "id": "QvCdi-lgVngA",
        "outputId": "706a6fab-04e0-4f45-9d5b-2ae31feb2d93"
      },
      "execution_count": 41,
      "outputs": [
        {
          "output_type": "stream",
          "name": "stdout",
          "text": [
            "49/49 [==============================] - 5s 40ms/step - loss: 0.6099 - binary_accuracy: 0.7776 - precision_34: 0.3575 - recall_34: 0.2832 - f1_score: 0.3160\n"
          ]
        },
        {
          "output_type": "stream",
          "name": "stderr",
          "text": [
            "WARNING:tensorflow:Detecting that an object or model or tf.train.Checkpoint is being deleted with unrestored values. See the following logs for the specific values in question. To silence these warnings, use `status.expect_partial()`. See https://www.tensorflow.org/api_docs/python/tf/train/Checkpoint#restorefor details about the status object returned by the restore function.\n",
            "WARNING:tensorflow:Value in checkpoint could not be found in the restored object: (root).optimizer.iter\n",
            "WARNING:tensorflow:Value in checkpoint could not be found in the restored object: (root).optimizer.beta_1\n",
            "WARNING:tensorflow:Value in checkpoint could not be found in the restored object: (root).optimizer.beta_2\n",
            "WARNING:tensorflow:Value in checkpoint could not be found in the restored object: (root).optimizer.decay\n",
            "WARNING:tensorflow:Value in checkpoint could not be found in the restored object: (root).optimizer.learning_rate\n"
          ]
        },
        {
          "output_type": "stream",
          "name": "stdout",
          "text": [
            "49/49 [==============================] - 6s 40ms/step - loss: 0.7038 - binary_accuracy: 0.4727 - precision_35: 0.1658 - recall_35: 0.4731 - f1_score: 0.2456\n",
            "49/49 [==============================] - 5s 40ms/step - loss: 0.6386 - binary_accuracy: 0.7269 - precision_36: 0.0452 - recall_36: 0.0251 - f1_score: 0.0323\n",
            "49/49 [==============================] - 5s 40ms/step - loss: 0.8294 - binary_accuracy: 0.2191 - precision_38: 0.1877 - recall_38: 0.9928 - f1_score: 0.3157\n",
            "49/49 [==============================] - 5s 41ms/step - loss: 1.2927 - binary_accuracy: 0.3869 - precision_39: 0.2229 - recall_39: 0.9570 - f1_score: 0.3615\n",
            "49/49 [==============================] - 5s 40ms/step - loss: 0.6097 - binary_accuracy: 0.7757 - precision_40: 0.2687 - recall_40: 0.2542 - f1_score: 0.2612\n",
            "49/49 [==============================] - 5s 40ms/step - loss: 0.7743 - binary_accuracy: 0.3225 - precision_41: 0.2957 - recall_41: 0.9598 - f1_score: 0.4522\n",
            "49/49 [==============================] - 5s 40ms/step - loss: 0.6140 - binary_accuracy: 0.7386 - precision_43: 0.2972 - recall_43: 0.1994 - f1_score: 0.2386\n",
            "49/49 [==============================] - 6s 40ms/step - loss: 0.9778 - binary_accuracy: 0.5260 - precision_44: 0.3609 - recall_44: 0.8044 - f1_score: 0.4983\n"
          ]
        }
      ],
      "id": "QvCdi-lgVngA"
    },
    {
      "cell_type": "code",
      "source": [],
      "metadata": {
        "id": "OsofLAer1jOa"
      },
      "id": "OsofLAer1jOa",
      "execution_count": null,
      "outputs": []
    },
    {
      "cell_type": "markdown",
      "source": [
        "# Analysis\n",
        "Resources:\n",
        "- AllenNLP\n",
        "  - Official github: https://github.com/allenai/allennlp\n",
        "  - Example results: https://santiagof.medium.com/model-interpretability-making-your-model-confesses-saliency-maps-5b14c1e04f9e\n",
        "  - Official demo: https://demo.allennlp.org/sentiment-analysis/roberta-sentiment-analysis\n"
      ],
      "metadata": {
        "id": "0pFGm2nL3tCk"
      },
      "id": "0pFGm2nL3tCk"
    }
  ],
  "metadata": {
    "kernelspec": {
      "display_name": "Python 3.10 (tensorflow)",
      "language": "python",
      "name": "w266tensorflow"
    },
    "language_info": {
      "codemirror_mode": {
        "name": "ipython",
        "version": 3
      },
      "file_extension": ".py",
      "mimetype": "text/x-python",
      "name": "python",
      "nbconvert_exporter": "python",
      "pygments_lexer": "ipython3",
      "version": "3.10.10"
    },
    "colab": {
      "provenance": [],
      "machine_shape": "hm"
    },
    "accelerator": "GPU",
    "gpuClass": "premium",
    "widgets": {
      "application/vnd.jupyter.widget-state+json": {
        "8fe5512328bb4c969c292b6d49db49b0": {
          "model_module": "@jupyter-widgets/controls",
          "model_name": "HBoxModel",
          "model_module_version": "1.5.0",
          "state": {
            "_dom_classes": [],
            "_model_module": "@jupyter-widgets/controls",
            "_model_module_version": "1.5.0",
            "_model_name": "HBoxModel",
            "_view_count": null,
            "_view_module": "@jupyter-widgets/controls",
            "_view_module_version": "1.5.0",
            "_view_name": "HBoxView",
            "box_style": "",
            "children": [
              "IPY_MODEL_851c9fec4d924ac08cc90c42d79b521b",
              "IPY_MODEL_9484b8ce634a4ee0961aa444dff35ab7",
              "IPY_MODEL_0552ef08203a4e90b9cb77e1b0d61d43"
            ],
            "layout": "IPY_MODEL_9ef37dcdebaf4c4c9b78bb5f2bc74b2f"
          }
        },
        "851c9fec4d924ac08cc90c42d79b521b": {
          "model_module": "@jupyter-widgets/controls",
          "model_name": "HTMLModel",
          "model_module_version": "1.5.0",
          "state": {
            "_dom_classes": [],
            "_model_module": "@jupyter-widgets/controls",
            "_model_module_version": "1.5.0",
            "_model_name": "HTMLModel",
            "_view_count": null,
            "_view_module": "@jupyter-widgets/controls",
            "_view_module_version": "1.5.0",
            "_view_name": "HTMLView",
            "description": "",
            "description_tooltip": null,
            "layout": "IPY_MODEL_ba135230b6d2406fa0f0df7d2a52990b",
            "placeholder": "​",
            "style": "IPY_MODEL_87c1ce42bbc34d02afe3d2c653e4fe4b",
            "value": "Downloading (…)okenizer_config.json: 100%"
          }
        },
        "9484b8ce634a4ee0961aa444dff35ab7": {
          "model_module": "@jupyter-widgets/controls",
          "model_name": "FloatProgressModel",
          "model_module_version": "1.5.0",
          "state": {
            "_dom_classes": [],
            "_model_module": "@jupyter-widgets/controls",
            "_model_module_version": "1.5.0",
            "_model_name": "FloatProgressModel",
            "_view_count": null,
            "_view_module": "@jupyter-widgets/controls",
            "_view_module_version": "1.5.0",
            "_view_name": "ProgressView",
            "bar_style": "success",
            "description": "",
            "description_tooltip": null,
            "layout": "IPY_MODEL_10ae7e76dbe84929a03c88a6fd643011",
            "max": 29,
            "min": 0,
            "orientation": "horizontal",
            "style": "IPY_MODEL_605915ba945944cf9a03daf849505fdc",
            "value": 29
          }
        },
        "0552ef08203a4e90b9cb77e1b0d61d43": {
          "model_module": "@jupyter-widgets/controls",
          "model_name": "HTMLModel",
          "model_module_version": "1.5.0",
          "state": {
            "_dom_classes": [],
            "_model_module": "@jupyter-widgets/controls",
            "_model_module_version": "1.5.0",
            "_model_name": "HTMLModel",
            "_view_count": null,
            "_view_module": "@jupyter-widgets/controls",
            "_view_module_version": "1.5.0",
            "_view_name": "HTMLView",
            "description": "",
            "description_tooltip": null,
            "layout": "IPY_MODEL_322c68a928a84c2ca82d6421aa3d7266",
            "placeholder": "​",
            "style": "IPY_MODEL_e7e988c04b9a47458c8d633bb5b436f8",
            "value": " 29.0/29.0 [00:00&lt;00:00, 1.57kB/s]"
          }
        },
        "9ef37dcdebaf4c4c9b78bb5f2bc74b2f": {
          "model_module": "@jupyter-widgets/base",
          "model_name": "LayoutModel",
          "model_module_version": "1.2.0",
          "state": {
            "_model_module": "@jupyter-widgets/base",
            "_model_module_version": "1.2.0",
            "_model_name": "LayoutModel",
            "_view_count": null,
            "_view_module": "@jupyter-widgets/base",
            "_view_module_version": "1.2.0",
            "_view_name": "LayoutView",
            "align_content": null,
            "align_items": null,
            "align_self": null,
            "border": null,
            "bottom": null,
            "display": null,
            "flex": null,
            "flex_flow": null,
            "grid_area": null,
            "grid_auto_columns": null,
            "grid_auto_flow": null,
            "grid_auto_rows": null,
            "grid_column": null,
            "grid_gap": null,
            "grid_row": null,
            "grid_template_areas": null,
            "grid_template_columns": null,
            "grid_template_rows": null,
            "height": null,
            "justify_content": null,
            "justify_items": null,
            "left": null,
            "margin": null,
            "max_height": null,
            "max_width": null,
            "min_height": null,
            "min_width": null,
            "object_fit": null,
            "object_position": null,
            "order": null,
            "overflow": null,
            "overflow_x": null,
            "overflow_y": null,
            "padding": null,
            "right": null,
            "top": null,
            "visibility": null,
            "width": null
          }
        },
        "ba135230b6d2406fa0f0df7d2a52990b": {
          "model_module": "@jupyter-widgets/base",
          "model_name": "LayoutModel",
          "model_module_version": "1.2.0",
          "state": {
            "_model_module": "@jupyter-widgets/base",
            "_model_module_version": "1.2.0",
            "_model_name": "LayoutModel",
            "_view_count": null,
            "_view_module": "@jupyter-widgets/base",
            "_view_module_version": "1.2.0",
            "_view_name": "LayoutView",
            "align_content": null,
            "align_items": null,
            "align_self": null,
            "border": null,
            "bottom": null,
            "display": null,
            "flex": null,
            "flex_flow": null,
            "grid_area": null,
            "grid_auto_columns": null,
            "grid_auto_flow": null,
            "grid_auto_rows": null,
            "grid_column": null,
            "grid_gap": null,
            "grid_row": null,
            "grid_template_areas": null,
            "grid_template_columns": null,
            "grid_template_rows": null,
            "height": null,
            "justify_content": null,
            "justify_items": null,
            "left": null,
            "margin": null,
            "max_height": null,
            "max_width": null,
            "min_height": null,
            "min_width": null,
            "object_fit": null,
            "object_position": null,
            "order": null,
            "overflow": null,
            "overflow_x": null,
            "overflow_y": null,
            "padding": null,
            "right": null,
            "top": null,
            "visibility": null,
            "width": null
          }
        },
        "87c1ce42bbc34d02afe3d2c653e4fe4b": {
          "model_module": "@jupyter-widgets/controls",
          "model_name": "DescriptionStyleModel",
          "model_module_version": "1.5.0",
          "state": {
            "_model_module": "@jupyter-widgets/controls",
            "_model_module_version": "1.5.0",
            "_model_name": "DescriptionStyleModel",
            "_view_count": null,
            "_view_module": "@jupyter-widgets/base",
            "_view_module_version": "1.2.0",
            "_view_name": "StyleView",
            "description_width": ""
          }
        },
        "10ae7e76dbe84929a03c88a6fd643011": {
          "model_module": "@jupyter-widgets/base",
          "model_name": "LayoutModel",
          "model_module_version": "1.2.0",
          "state": {
            "_model_module": "@jupyter-widgets/base",
            "_model_module_version": "1.2.0",
            "_model_name": "LayoutModel",
            "_view_count": null,
            "_view_module": "@jupyter-widgets/base",
            "_view_module_version": "1.2.0",
            "_view_name": "LayoutView",
            "align_content": null,
            "align_items": null,
            "align_self": null,
            "border": null,
            "bottom": null,
            "display": null,
            "flex": null,
            "flex_flow": null,
            "grid_area": null,
            "grid_auto_columns": null,
            "grid_auto_flow": null,
            "grid_auto_rows": null,
            "grid_column": null,
            "grid_gap": null,
            "grid_row": null,
            "grid_template_areas": null,
            "grid_template_columns": null,
            "grid_template_rows": null,
            "height": null,
            "justify_content": null,
            "justify_items": null,
            "left": null,
            "margin": null,
            "max_height": null,
            "max_width": null,
            "min_height": null,
            "min_width": null,
            "object_fit": null,
            "object_position": null,
            "order": null,
            "overflow": null,
            "overflow_x": null,
            "overflow_y": null,
            "padding": null,
            "right": null,
            "top": null,
            "visibility": null,
            "width": null
          }
        },
        "605915ba945944cf9a03daf849505fdc": {
          "model_module": "@jupyter-widgets/controls",
          "model_name": "ProgressStyleModel",
          "model_module_version": "1.5.0",
          "state": {
            "_model_module": "@jupyter-widgets/controls",
            "_model_module_version": "1.5.0",
            "_model_name": "ProgressStyleModel",
            "_view_count": null,
            "_view_module": "@jupyter-widgets/base",
            "_view_module_version": "1.2.0",
            "_view_name": "StyleView",
            "bar_color": null,
            "description_width": ""
          }
        },
        "322c68a928a84c2ca82d6421aa3d7266": {
          "model_module": "@jupyter-widgets/base",
          "model_name": "LayoutModel",
          "model_module_version": "1.2.0",
          "state": {
            "_model_module": "@jupyter-widgets/base",
            "_model_module_version": "1.2.0",
            "_model_name": "LayoutModel",
            "_view_count": null,
            "_view_module": "@jupyter-widgets/base",
            "_view_module_version": "1.2.0",
            "_view_name": "LayoutView",
            "align_content": null,
            "align_items": null,
            "align_self": null,
            "border": null,
            "bottom": null,
            "display": null,
            "flex": null,
            "flex_flow": null,
            "grid_area": null,
            "grid_auto_columns": null,
            "grid_auto_flow": null,
            "grid_auto_rows": null,
            "grid_column": null,
            "grid_gap": null,
            "grid_row": null,
            "grid_template_areas": null,
            "grid_template_columns": null,
            "grid_template_rows": null,
            "height": null,
            "justify_content": null,
            "justify_items": null,
            "left": null,
            "margin": null,
            "max_height": null,
            "max_width": null,
            "min_height": null,
            "min_width": null,
            "object_fit": null,
            "object_position": null,
            "order": null,
            "overflow": null,
            "overflow_x": null,
            "overflow_y": null,
            "padding": null,
            "right": null,
            "top": null,
            "visibility": null,
            "width": null
          }
        },
        "e7e988c04b9a47458c8d633bb5b436f8": {
          "model_module": "@jupyter-widgets/controls",
          "model_name": "DescriptionStyleModel",
          "model_module_version": "1.5.0",
          "state": {
            "_model_module": "@jupyter-widgets/controls",
            "_model_module_version": "1.5.0",
            "_model_name": "DescriptionStyleModel",
            "_view_count": null,
            "_view_module": "@jupyter-widgets/base",
            "_view_module_version": "1.2.0",
            "_view_name": "StyleView",
            "description_width": ""
          }
        },
        "9a45ab4e91c944a7bb1bb571c1c18a1f": {
          "model_module": "@jupyter-widgets/controls",
          "model_name": "HBoxModel",
          "model_module_version": "1.5.0",
          "state": {
            "_dom_classes": [],
            "_model_module": "@jupyter-widgets/controls",
            "_model_module_version": "1.5.0",
            "_model_name": "HBoxModel",
            "_view_count": null,
            "_view_module": "@jupyter-widgets/controls",
            "_view_module_version": "1.5.0",
            "_view_name": "HBoxView",
            "box_style": "",
            "children": [
              "IPY_MODEL_634a6dc8969940548292f99b8eaf7e97",
              "IPY_MODEL_f344236bc90b43d688d7d314585b3d64",
              "IPY_MODEL_034976303d234e39a64539a669e9871b"
            ],
            "layout": "IPY_MODEL_d634b3e5d794469b9133138e6f0080ac"
          }
        },
        "634a6dc8969940548292f99b8eaf7e97": {
          "model_module": "@jupyter-widgets/controls",
          "model_name": "HTMLModel",
          "model_module_version": "1.5.0",
          "state": {
            "_dom_classes": [],
            "_model_module": "@jupyter-widgets/controls",
            "_model_module_version": "1.5.0",
            "_model_name": "HTMLModel",
            "_view_count": null,
            "_view_module": "@jupyter-widgets/controls",
            "_view_module_version": "1.5.0",
            "_view_name": "HTMLView",
            "description": "",
            "description_tooltip": null,
            "layout": "IPY_MODEL_02f2544a677d456ab084aab69ea34fb1",
            "placeholder": "​",
            "style": "IPY_MODEL_f13204c0862f45118e1885ee007854aa",
            "value": "Downloading (…)lve/main/config.json: 100%"
          }
        },
        "f344236bc90b43d688d7d314585b3d64": {
          "model_module": "@jupyter-widgets/controls",
          "model_name": "FloatProgressModel",
          "model_module_version": "1.5.0",
          "state": {
            "_dom_classes": [],
            "_model_module": "@jupyter-widgets/controls",
            "_model_module_version": "1.5.0",
            "_model_name": "FloatProgressModel",
            "_view_count": null,
            "_view_module": "@jupyter-widgets/controls",
            "_view_module_version": "1.5.0",
            "_view_name": "ProgressView",
            "bar_style": "success",
            "description": "",
            "description_tooltip": null,
            "layout": "IPY_MODEL_82c431babb1b4dfea42b6eb8e39055b5",
            "max": 570,
            "min": 0,
            "orientation": "horizontal",
            "style": "IPY_MODEL_b3b957be7ae54a4b9a7ccfc8ad2f8b8c",
            "value": 570
          }
        },
        "034976303d234e39a64539a669e9871b": {
          "model_module": "@jupyter-widgets/controls",
          "model_name": "HTMLModel",
          "model_module_version": "1.5.0",
          "state": {
            "_dom_classes": [],
            "_model_module": "@jupyter-widgets/controls",
            "_model_module_version": "1.5.0",
            "_model_name": "HTMLModel",
            "_view_count": null,
            "_view_module": "@jupyter-widgets/controls",
            "_view_module_version": "1.5.0",
            "_view_name": "HTMLView",
            "description": "",
            "description_tooltip": null,
            "layout": "IPY_MODEL_a1742fb597384bb898f95bebe6ee5ed0",
            "placeholder": "​",
            "style": "IPY_MODEL_2e79ec38a8a641038f97be8321e86e36",
            "value": " 570/570 [00:00&lt;00:00, 41.5kB/s]"
          }
        },
        "d634b3e5d794469b9133138e6f0080ac": {
          "model_module": "@jupyter-widgets/base",
          "model_name": "LayoutModel",
          "model_module_version": "1.2.0",
          "state": {
            "_model_module": "@jupyter-widgets/base",
            "_model_module_version": "1.2.0",
            "_model_name": "LayoutModel",
            "_view_count": null,
            "_view_module": "@jupyter-widgets/base",
            "_view_module_version": "1.2.0",
            "_view_name": "LayoutView",
            "align_content": null,
            "align_items": null,
            "align_self": null,
            "border": null,
            "bottom": null,
            "display": null,
            "flex": null,
            "flex_flow": null,
            "grid_area": null,
            "grid_auto_columns": null,
            "grid_auto_flow": null,
            "grid_auto_rows": null,
            "grid_column": null,
            "grid_gap": null,
            "grid_row": null,
            "grid_template_areas": null,
            "grid_template_columns": null,
            "grid_template_rows": null,
            "height": null,
            "justify_content": null,
            "justify_items": null,
            "left": null,
            "margin": null,
            "max_height": null,
            "max_width": null,
            "min_height": null,
            "min_width": null,
            "object_fit": null,
            "object_position": null,
            "order": null,
            "overflow": null,
            "overflow_x": null,
            "overflow_y": null,
            "padding": null,
            "right": null,
            "top": null,
            "visibility": null,
            "width": null
          }
        },
        "02f2544a677d456ab084aab69ea34fb1": {
          "model_module": "@jupyter-widgets/base",
          "model_name": "LayoutModel",
          "model_module_version": "1.2.0",
          "state": {
            "_model_module": "@jupyter-widgets/base",
            "_model_module_version": "1.2.0",
            "_model_name": "LayoutModel",
            "_view_count": null,
            "_view_module": "@jupyter-widgets/base",
            "_view_module_version": "1.2.0",
            "_view_name": "LayoutView",
            "align_content": null,
            "align_items": null,
            "align_self": null,
            "border": null,
            "bottom": null,
            "display": null,
            "flex": null,
            "flex_flow": null,
            "grid_area": null,
            "grid_auto_columns": null,
            "grid_auto_flow": null,
            "grid_auto_rows": null,
            "grid_column": null,
            "grid_gap": null,
            "grid_row": null,
            "grid_template_areas": null,
            "grid_template_columns": null,
            "grid_template_rows": null,
            "height": null,
            "justify_content": null,
            "justify_items": null,
            "left": null,
            "margin": null,
            "max_height": null,
            "max_width": null,
            "min_height": null,
            "min_width": null,
            "object_fit": null,
            "object_position": null,
            "order": null,
            "overflow": null,
            "overflow_x": null,
            "overflow_y": null,
            "padding": null,
            "right": null,
            "top": null,
            "visibility": null,
            "width": null
          }
        },
        "f13204c0862f45118e1885ee007854aa": {
          "model_module": "@jupyter-widgets/controls",
          "model_name": "DescriptionStyleModel",
          "model_module_version": "1.5.0",
          "state": {
            "_model_module": "@jupyter-widgets/controls",
            "_model_module_version": "1.5.0",
            "_model_name": "DescriptionStyleModel",
            "_view_count": null,
            "_view_module": "@jupyter-widgets/base",
            "_view_module_version": "1.2.0",
            "_view_name": "StyleView",
            "description_width": ""
          }
        },
        "82c431babb1b4dfea42b6eb8e39055b5": {
          "model_module": "@jupyter-widgets/base",
          "model_name": "LayoutModel",
          "model_module_version": "1.2.0",
          "state": {
            "_model_module": "@jupyter-widgets/base",
            "_model_module_version": "1.2.0",
            "_model_name": "LayoutModel",
            "_view_count": null,
            "_view_module": "@jupyter-widgets/base",
            "_view_module_version": "1.2.0",
            "_view_name": "LayoutView",
            "align_content": null,
            "align_items": null,
            "align_self": null,
            "border": null,
            "bottom": null,
            "display": null,
            "flex": null,
            "flex_flow": null,
            "grid_area": null,
            "grid_auto_columns": null,
            "grid_auto_flow": null,
            "grid_auto_rows": null,
            "grid_column": null,
            "grid_gap": null,
            "grid_row": null,
            "grid_template_areas": null,
            "grid_template_columns": null,
            "grid_template_rows": null,
            "height": null,
            "justify_content": null,
            "justify_items": null,
            "left": null,
            "margin": null,
            "max_height": null,
            "max_width": null,
            "min_height": null,
            "min_width": null,
            "object_fit": null,
            "object_position": null,
            "order": null,
            "overflow": null,
            "overflow_x": null,
            "overflow_y": null,
            "padding": null,
            "right": null,
            "top": null,
            "visibility": null,
            "width": null
          }
        },
        "b3b957be7ae54a4b9a7ccfc8ad2f8b8c": {
          "model_module": "@jupyter-widgets/controls",
          "model_name": "ProgressStyleModel",
          "model_module_version": "1.5.0",
          "state": {
            "_model_module": "@jupyter-widgets/controls",
            "_model_module_version": "1.5.0",
            "_model_name": "ProgressStyleModel",
            "_view_count": null,
            "_view_module": "@jupyter-widgets/base",
            "_view_module_version": "1.2.0",
            "_view_name": "StyleView",
            "bar_color": null,
            "description_width": ""
          }
        },
        "a1742fb597384bb898f95bebe6ee5ed0": {
          "model_module": "@jupyter-widgets/base",
          "model_name": "LayoutModel",
          "model_module_version": "1.2.0",
          "state": {
            "_model_module": "@jupyter-widgets/base",
            "_model_module_version": "1.2.0",
            "_model_name": "LayoutModel",
            "_view_count": null,
            "_view_module": "@jupyter-widgets/base",
            "_view_module_version": "1.2.0",
            "_view_name": "LayoutView",
            "align_content": null,
            "align_items": null,
            "align_self": null,
            "border": null,
            "bottom": null,
            "display": null,
            "flex": null,
            "flex_flow": null,
            "grid_area": null,
            "grid_auto_columns": null,
            "grid_auto_flow": null,
            "grid_auto_rows": null,
            "grid_column": null,
            "grid_gap": null,
            "grid_row": null,
            "grid_template_areas": null,
            "grid_template_columns": null,
            "grid_template_rows": null,
            "height": null,
            "justify_content": null,
            "justify_items": null,
            "left": null,
            "margin": null,
            "max_height": null,
            "max_width": null,
            "min_height": null,
            "min_width": null,
            "object_fit": null,
            "object_position": null,
            "order": null,
            "overflow": null,
            "overflow_x": null,
            "overflow_y": null,
            "padding": null,
            "right": null,
            "top": null,
            "visibility": null,
            "width": null
          }
        },
        "2e79ec38a8a641038f97be8321e86e36": {
          "model_module": "@jupyter-widgets/controls",
          "model_name": "DescriptionStyleModel",
          "model_module_version": "1.5.0",
          "state": {
            "_model_module": "@jupyter-widgets/controls",
            "_model_module_version": "1.5.0",
            "_model_name": "DescriptionStyleModel",
            "_view_count": null,
            "_view_module": "@jupyter-widgets/base",
            "_view_module_version": "1.2.0",
            "_view_name": "StyleView",
            "description_width": ""
          }
        },
        "99e02e7082cc4c7ba378e0ca5f1ca5bd": {
          "model_module": "@jupyter-widgets/controls",
          "model_name": "HBoxModel",
          "model_module_version": "1.5.0",
          "state": {
            "_dom_classes": [],
            "_model_module": "@jupyter-widgets/controls",
            "_model_module_version": "1.5.0",
            "_model_name": "HBoxModel",
            "_view_count": null,
            "_view_module": "@jupyter-widgets/controls",
            "_view_module_version": "1.5.0",
            "_view_name": "HBoxView",
            "box_style": "",
            "children": [
              "IPY_MODEL_97ac6cc0ca914eeaa0dc52d471948af9",
              "IPY_MODEL_4103d864276e410583596c7e39fcb9a5",
              "IPY_MODEL_632245190b33432ab84f9bbf6123a0b5"
            ],
            "layout": "IPY_MODEL_3918717847a64decb716a75b1f3f8de9"
          }
        },
        "97ac6cc0ca914eeaa0dc52d471948af9": {
          "model_module": "@jupyter-widgets/controls",
          "model_name": "HTMLModel",
          "model_module_version": "1.5.0",
          "state": {
            "_dom_classes": [],
            "_model_module": "@jupyter-widgets/controls",
            "_model_module_version": "1.5.0",
            "_model_name": "HTMLModel",
            "_view_count": null,
            "_view_module": "@jupyter-widgets/controls",
            "_view_module_version": "1.5.0",
            "_view_name": "HTMLView",
            "description": "",
            "description_tooltip": null,
            "layout": "IPY_MODEL_3f7f2d7b952a4249b831b93dd0f6e0db",
            "placeholder": "​",
            "style": "IPY_MODEL_b21535edf8424d61ace6f5cfcf5f3396",
            "value": "Downloading (…)solve/main/vocab.txt: 100%"
          }
        },
        "4103d864276e410583596c7e39fcb9a5": {
          "model_module": "@jupyter-widgets/controls",
          "model_name": "FloatProgressModel",
          "model_module_version": "1.5.0",
          "state": {
            "_dom_classes": [],
            "_model_module": "@jupyter-widgets/controls",
            "_model_module_version": "1.5.0",
            "_model_name": "FloatProgressModel",
            "_view_count": null,
            "_view_module": "@jupyter-widgets/controls",
            "_view_module_version": "1.5.0",
            "_view_name": "ProgressView",
            "bar_style": "success",
            "description": "",
            "description_tooltip": null,
            "layout": "IPY_MODEL_b0a2defa9c1d40cb93a93d65a564d990",
            "max": 213450,
            "min": 0,
            "orientation": "horizontal",
            "style": "IPY_MODEL_c5df5b205bdb408d8710b500d8146094",
            "value": 213450
          }
        },
        "632245190b33432ab84f9bbf6123a0b5": {
          "model_module": "@jupyter-widgets/controls",
          "model_name": "HTMLModel",
          "model_module_version": "1.5.0",
          "state": {
            "_dom_classes": [],
            "_model_module": "@jupyter-widgets/controls",
            "_model_module_version": "1.5.0",
            "_model_name": "HTMLModel",
            "_view_count": null,
            "_view_module": "@jupyter-widgets/controls",
            "_view_module_version": "1.5.0",
            "_view_name": "HTMLView",
            "description": "",
            "description_tooltip": null,
            "layout": "IPY_MODEL_c8f34ef3e9ec40a583458e38122f83e9",
            "placeholder": "​",
            "style": "IPY_MODEL_5dadaa197541467ba770d865c681f83b",
            "value": " 213k/213k [00:00&lt;00:00, 515kB/s]"
          }
        },
        "3918717847a64decb716a75b1f3f8de9": {
          "model_module": "@jupyter-widgets/base",
          "model_name": "LayoutModel",
          "model_module_version": "1.2.0",
          "state": {
            "_model_module": "@jupyter-widgets/base",
            "_model_module_version": "1.2.0",
            "_model_name": "LayoutModel",
            "_view_count": null,
            "_view_module": "@jupyter-widgets/base",
            "_view_module_version": "1.2.0",
            "_view_name": "LayoutView",
            "align_content": null,
            "align_items": null,
            "align_self": null,
            "border": null,
            "bottom": null,
            "display": null,
            "flex": null,
            "flex_flow": null,
            "grid_area": null,
            "grid_auto_columns": null,
            "grid_auto_flow": null,
            "grid_auto_rows": null,
            "grid_column": null,
            "grid_gap": null,
            "grid_row": null,
            "grid_template_areas": null,
            "grid_template_columns": null,
            "grid_template_rows": null,
            "height": null,
            "justify_content": null,
            "justify_items": null,
            "left": null,
            "margin": null,
            "max_height": null,
            "max_width": null,
            "min_height": null,
            "min_width": null,
            "object_fit": null,
            "object_position": null,
            "order": null,
            "overflow": null,
            "overflow_x": null,
            "overflow_y": null,
            "padding": null,
            "right": null,
            "top": null,
            "visibility": null,
            "width": null
          }
        },
        "3f7f2d7b952a4249b831b93dd0f6e0db": {
          "model_module": "@jupyter-widgets/base",
          "model_name": "LayoutModel",
          "model_module_version": "1.2.0",
          "state": {
            "_model_module": "@jupyter-widgets/base",
            "_model_module_version": "1.2.0",
            "_model_name": "LayoutModel",
            "_view_count": null,
            "_view_module": "@jupyter-widgets/base",
            "_view_module_version": "1.2.0",
            "_view_name": "LayoutView",
            "align_content": null,
            "align_items": null,
            "align_self": null,
            "border": null,
            "bottom": null,
            "display": null,
            "flex": null,
            "flex_flow": null,
            "grid_area": null,
            "grid_auto_columns": null,
            "grid_auto_flow": null,
            "grid_auto_rows": null,
            "grid_column": null,
            "grid_gap": null,
            "grid_row": null,
            "grid_template_areas": null,
            "grid_template_columns": null,
            "grid_template_rows": null,
            "height": null,
            "justify_content": null,
            "justify_items": null,
            "left": null,
            "margin": null,
            "max_height": null,
            "max_width": null,
            "min_height": null,
            "min_width": null,
            "object_fit": null,
            "object_position": null,
            "order": null,
            "overflow": null,
            "overflow_x": null,
            "overflow_y": null,
            "padding": null,
            "right": null,
            "top": null,
            "visibility": null,
            "width": null
          }
        },
        "b21535edf8424d61ace6f5cfcf5f3396": {
          "model_module": "@jupyter-widgets/controls",
          "model_name": "DescriptionStyleModel",
          "model_module_version": "1.5.0",
          "state": {
            "_model_module": "@jupyter-widgets/controls",
            "_model_module_version": "1.5.0",
            "_model_name": "DescriptionStyleModel",
            "_view_count": null,
            "_view_module": "@jupyter-widgets/base",
            "_view_module_version": "1.2.0",
            "_view_name": "StyleView",
            "description_width": ""
          }
        },
        "b0a2defa9c1d40cb93a93d65a564d990": {
          "model_module": "@jupyter-widgets/base",
          "model_name": "LayoutModel",
          "model_module_version": "1.2.0",
          "state": {
            "_model_module": "@jupyter-widgets/base",
            "_model_module_version": "1.2.0",
            "_model_name": "LayoutModel",
            "_view_count": null,
            "_view_module": "@jupyter-widgets/base",
            "_view_module_version": "1.2.0",
            "_view_name": "LayoutView",
            "align_content": null,
            "align_items": null,
            "align_self": null,
            "border": null,
            "bottom": null,
            "display": null,
            "flex": null,
            "flex_flow": null,
            "grid_area": null,
            "grid_auto_columns": null,
            "grid_auto_flow": null,
            "grid_auto_rows": null,
            "grid_column": null,
            "grid_gap": null,
            "grid_row": null,
            "grid_template_areas": null,
            "grid_template_columns": null,
            "grid_template_rows": null,
            "height": null,
            "justify_content": null,
            "justify_items": null,
            "left": null,
            "margin": null,
            "max_height": null,
            "max_width": null,
            "min_height": null,
            "min_width": null,
            "object_fit": null,
            "object_position": null,
            "order": null,
            "overflow": null,
            "overflow_x": null,
            "overflow_y": null,
            "padding": null,
            "right": null,
            "top": null,
            "visibility": null,
            "width": null
          }
        },
        "c5df5b205bdb408d8710b500d8146094": {
          "model_module": "@jupyter-widgets/controls",
          "model_name": "ProgressStyleModel",
          "model_module_version": "1.5.0",
          "state": {
            "_model_module": "@jupyter-widgets/controls",
            "_model_module_version": "1.5.0",
            "_model_name": "ProgressStyleModel",
            "_view_count": null,
            "_view_module": "@jupyter-widgets/base",
            "_view_module_version": "1.2.0",
            "_view_name": "StyleView",
            "bar_color": null,
            "description_width": ""
          }
        },
        "c8f34ef3e9ec40a583458e38122f83e9": {
          "model_module": "@jupyter-widgets/base",
          "model_name": "LayoutModel",
          "model_module_version": "1.2.0",
          "state": {
            "_model_module": "@jupyter-widgets/base",
            "_model_module_version": "1.2.0",
            "_model_name": "LayoutModel",
            "_view_count": null,
            "_view_module": "@jupyter-widgets/base",
            "_view_module_version": "1.2.0",
            "_view_name": "LayoutView",
            "align_content": null,
            "align_items": null,
            "align_self": null,
            "border": null,
            "bottom": null,
            "display": null,
            "flex": null,
            "flex_flow": null,
            "grid_area": null,
            "grid_auto_columns": null,
            "grid_auto_flow": null,
            "grid_auto_rows": null,
            "grid_column": null,
            "grid_gap": null,
            "grid_row": null,
            "grid_template_areas": null,
            "grid_template_columns": null,
            "grid_template_rows": null,
            "height": null,
            "justify_content": null,
            "justify_items": null,
            "left": null,
            "margin": null,
            "max_height": null,
            "max_width": null,
            "min_height": null,
            "min_width": null,
            "object_fit": null,
            "object_position": null,
            "order": null,
            "overflow": null,
            "overflow_x": null,
            "overflow_y": null,
            "padding": null,
            "right": null,
            "top": null,
            "visibility": null,
            "width": null
          }
        },
        "5dadaa197541467ba770d865c681f83b": {
          "model_module": "@jupyter-widgets/controls",
          "model_name": "DescriptionStyleModel",
          "model_module_version": "1.5.0",
          "state": {
            "_model_module": "@jupyter-widgets/controls",
            "_model_module_version": "1.5.0",
            "_model_name": "DescriptionStyleModel",
            "_view_count": null,
            "_view_module": "@jupyter-widgets/base",
            "_view_module_version": "1.2.0",
            "_view_name": "StyleView",
            "description_width": ""
          }
        },
        "4c6202c226cd4025aff8702cfbbfb718": {
          "model_module": "@jupyter-widgets/controls",
          "model_name": "HBoxModel",
          "model_module_version": "1.5.0",
          "state": {
            "_dom_classes": [],
            "_model_module": "@jupyter-widgets/controls",
            "_model_module_version": "1.5.0",
            "_model_name": "HBoxModel",
            "_view_count": null,
            "_view_module": "@jupyter-widgets/controls",
            "_view_module_version": "1.5.0",
            "_view_name": "HBoxView",
            "box_style": "",
            "children": [
              "IPY_MODEL_b1d0a58da02e4e2a9bcd7eae84a7f447",
              "IPY_MODEL_d29a9a7cd2aa4a4c8b2e07c15365a8a6",
              "IPY_MODEL_50e5d4a9417343299d00ba4274e019fc"
            ],
            "layout": "IPY_MODEL_9f616afb1baf4ed89b3e00d193357cf2"
          }
        },
        "b1d0a58da02e4e2a9bcd7eae84a7f447": {
          "model_module": "@jupyter-widgets/controls",
          "model_name": "HTMLModel",
          "model_module_version": "1.5.0",
          "state": {
            "_dom_classes": [],
            "_model_module": "@jupyter-widgets/controls",
            "_model_module_version": "1.5.0",
            "_model_name": "HTMLModel",
            "_view_count": null,
            "_view_module": "@jupyter-widgets/controls",
            "_view_module_version": "1.5.0",
            "_view_name": "HTMLView",
            "description": "",
            "description_tooltip": null,
            "layout": "IPY_MODEL_f0da3e4c8c60479299b5ec7e8790f9ec",
            "placeholder": "​",
            "style": "IPY_MODEL_a7375eaa3c00471aaea5732222e3786a",
            "value": "Downloading (…)/main/tokenizer.json: 100%"
          }
        },
        "d29a9a7cd2aa4a4c8b2e07c15365a8a6": {
          "model_module": "@jupyter-widgets/controls",
          "model_name": "FloatProgressModel",
          "model_module_version": "1.5.0",
          "state": {
            "_dom_classes": [],
            "_model_module": "@jupyter-widgets/controls",
            "_model_module_version": "1.5.0",
            "_model_name": "FloatProgressModel",
            "_view_count": null,
            "_view_module": "@jupyter-widgets/controls",
            "_view_module_version": "1.5.0",
            "_view_name": "ProgressView",
            "bar_style": "success",
            "description": "",
            "description_tooltip": null,
            "layout": "IPY_MODEL_29dbaa2177cf46f29d6ee8e6213a439d",
            "max": 435797,
            "min": 0,
            "orientation": "horizontal",
            "style": "IPY_MODEL_8f4adbfe058a40a789500cc418d23323",
            "value": 435797
          }
        },
        "50e5d4a9417343299d00ba4274e019fc": {
          "model_module": "@jupyter-widgets/controls",
          "model_name": "HTMLModel",
          "model_module_version": "1.5.0",
          "state": {
            "_dom_classes": [],
            "_model_module": "@jupyter-widgets/controls",
            "_model_module_version": "1.5.0",
            "_model_name": "HTMLModel",
            "_view_count": null,
            "_view_module": "@jupyter-widgets/controls",
            "_view_module_version": "1.5.0",
            "_view_name": "HTMLView",
            "description": "",
            "description_tooltip": null,
            "layout": "IPY_MODEL_2317244564964ba1afa8e3eed7302638",
            "placeholder": "​",
            "style": "IPY_MODEL_51cd55f6f81348da91ba84b9d9f0f2de",
            "value": " 436k/436k [00:00&lt;00:00, 686kB/s]"
          }
        },
        "9f616afb1baf4ed89b3e00d193357cf2": {
          "model_module": "@jupyter-widgets/base",
          "model_name": "LayoutModel",
          "model_module_version": "1.2.0",
          "state": {
            "_model_module": "@jupyter-widgets/base",
            "_model_module_version": "1.2.0",
            "_model_name": "LayoutModel",
            "_view_count": null,
            "_view_module": "@jupyter-widgets/base",
            "_view_module_version": "1.2.0",
            "_view_name": "LayoutView",
            "align_content": null,
            "align_items": null,
            "align_self": null,
            "border": null,
            "bottom": null,
            "display": null,
            "flex": null,
            "flex_flow": null,
            "grid_area": null,
            "grid_auto_columns": null,
            "grid_auto_flow": null,
            "grid_auto_rows": null,
            "grid_column": null,
            "grid_gap": null,
            "grid_row": null,
            "grid_template_areas": null,
            "grid_template_columns": null,
            "grid_template_rows": null,
            "height": null,
            "justify_content": null,
            "justify_items": null,
            "left": null,
            "margin": null,
            "max_height": null,
            "max_width": null,
            "min_height": null,
            "min_width": null,
            "object_fit": null,
            "object_position": null,
            "order": null,
            "overflow": null,
            "overflow_x": null,
            "overflow_y": null,
            "padding": null,
            "right": null,
            "top": null,
            "visibility": null,
            "width": null
          }
        },
        "f0da3e4c8c60479299b5ec7e8790f9ec": {
          "model_module": "@jupyter-widgets/base",
          "model_name": "LayoutModel",
          "model_module_version": "1.2.0",
          "state": {
            "_model_module": "@jupyter-widgets/base",
            "_model_module_version": "1.2.0",
            "_model_name": "LayoutModel",
            "_view_count": null,
            "_view_module": "@jupyter-widgets/base",
            "_view_module_version": "1.2.0",
            "_view_name": "LayoutView",
            "align_content": null,
            "align_items": null,
            "align_self": null,
            "border": null,
            "bottom": null,
            "display": null,
            "flex": null,
            "flex_flow": null,
            "grid_area": null,
            "grid_auto_columns": null,
            "grid_auto_flow": null,
            "grid_auto_rows": null,
            "grid_column": null,
            "grid_gap": null,
            "grid_row": null,
            "grid_template_areas": null,
            "grid_template_columns": null,
            "grid_template_rows": null,
            "height": null,
            "justify_content": null,
            "justify_items": null,
            "left": null,
            "margin": null,
            "max_height": null,
            "max_width": null,
            "min_height": null,
            "min_width": null,
            "object_fit": null,
            "object_position": null,
            "order": null,
            "overflow": null,
            "overflow_x": null,
            "overflow_y": null,
            "padding": null,
            "right": null,
            "top": null,
            "visibility": null,
            "width": null
          }
        },
        "a7375eaa3c00471aaea5732222e3786a": {
          "model_module": "@jupyter-widgets/controls",
          "model_name": "DescriptionStyleModel",
          "model_module_version": "1.5.0",
          "state": {
            "_model_module": "@jupyter-widgets/controls",
            "_model_module_version": "1.5.0",
            "_model_name": "DescriptionStyleModel",
            "_view_count": null,
            "_view_module": "@jupyter-widgets/base",
            "_view_module_version": "1.2.0",
            "_view_name": "StyleView",
            "description_width": ""
          }
        },
        "29dbaa2177cf46f29d6ee8e6213a439d": {
          "model_module": "@jupyter-widgets/base",
          "model_name": "LayoutModel",
          "model_module_version": "1.2.0",
          "state": {
            "_model_module": "@jupyter-widgets/base",
            "_model_module_version": "1.2.0",
            "_model_name": "LayoutModel",
            "_view_count": null,
            "_view_module": "@jupyter-widgets/base",
            "_view_module_version": "1.2.0",
            "_view_name": "LayoutView",
            "align_content": null,
            "align_items": null,
            "align_self": null,
            "border": null,
            "bottom": null,
            "display": null,
            "flex": null,
            "flex_flow": null,
            "grid_area": null,
            "grid_auto_columns": null,
            "grid_auto_flow": null,
            "grid_auto_rows": null,
            "grid_column": null,
            "grid_gap": null,
            "grid_row": null,
            "grid_template_areas": null,
            "grid_template_columns": null,
            "grid_template_rows": null,
            "height": null,
            "justify_content": null,
            "justify_items": null,
            "left": null,
            "margin": null,
            "max_height": null,
            "max_width": null,
            "min_height": null,
            "min_width": null,
            "object_fit": null,
            "object_position": null,
            "order": null,
            "overflow": null,
            "overflow_x": null,
            "overflow_y": null,
            "padding": null,
            "right": null,
            "top": null,
            "visibility": null,
            "width": null
          }
        },
        "8f4adbfe058a40a789500cc418d23323": {
          "model_module": "@jupyter-widgets/controls",
          "model_name": "ProgressStyleModel",
          "model_module_version": "1.5.0",
          "state": {
            "_model_module": "@jupyter-widgets/controls",
            "_model_module_version": "1.5.0",
            "_model_name": "ProgressStyleModel",
            "_view_count": null,
            "_view_module": "@jupyter-widgets/base",
            "_view_module_version": "1.2.0",
            "_view_name": "StyleView",
            "bar_color": null,
            "description_width": ""
          }
        },
        "2317244564964ba1afa8e3eed7302638": {
          "model_module": "@jupyter-widgets/base",
          "model_name": "LayoutModel",
          "model_module_version": "1.2.0",
          "state": {
            "_model_module": "@jupyter-widgets/base",
            "_model_module_version": "1.2.0",
            "_model_name": "LayoutModel",
            "_view_count": null,
            "_view_module": "@jupyter-widgets/base",
            "_view_module_version": "1.2.0",
            "_view_name": "LayoutView",
            "align_content": null,
            "align_items": null,
            "align_self": null,
            "border": null,
            "bottom": null,
            "display": null,
            "flex": null,
            "flex_flow": null,
            "grid_area": null,
            "grid_auto_columns": null,
            "grid_auto_flow": null,
            "grid_auto_rows": null,
            "grid_column": null,
            "grid_gap": null,
            "grid_row": null,
            "grid_template_areas": null,
            "grid_template_columns": null,
            "grid_template_rows": null,
            "height": null,
            "justify_content": null,
            "justify_items": null,
            "left": null,
            "margin": null,
            "max_height": null,
            "max_width": null,
            "min_height": null,
            "min_width": null,
            "object_fit": null,
            "object_position": null,
            "order": null,
            "overflow": null,
            "overflow_x": null,
            "overflow_y": null,
            "padding": null,
            "right": null,
            "top": null,
            "visibility": null,
            "width": null
          }
        },
        "51cd55f6f81348da91ba84b9d9f0f2de": {
          "model_module": "@jupyter-widgets/controls",
          "model_name": "DescriptionStyleModel",
          "model_module_version": "1.5.0",
          "state": {
            "_model_module": "@jupyter-widgets/controls",
            "_model_module_version": "1.5.0",
            "_model_name": "DescriptionStyleModel",
            "_view_count": null,
            "_view_module": "@jupyter-widgets/base",
            "_view_module_version": "1.2.0",
            "_view_name": "StyleView",
            "description_width": ""
          }
        },
        "3ae865ad3cad438ea1bee90966314383": {
          "model_module": "@jupyter-widgets/controls",
          "model_name": "HBoxModel",
          "model_module_version": "1.5.0",
          "state": {
            "_dom_classes": [],
            "_model_module": "@jupyter-widgets/controls",
            "_model_module_version": "1.5.0",
            "_model_name": "HBoxModel",
            "_view_count": null,
            "_view_module": "@jupyter-widgets/controls",
            "_view_module_version": "1.5.0",
            "_view_name": "HBoxView",
            "box_style": "",
            "children": [
              "IPY_MODEL_e9e197c1f5444d53b845c3925339e004",
              "IPY_MODEL_96f5d7066b824af691d1f4a1b94f2bc2",
              "IPY_MODEL_b01a9419376a485180aea864aa310906"
            ],
            "layout": "IPY_MODEL_021ba34f18494c9d978fc37e3aa226b5"
          }
        },
        "e9e197c1f5444d53b845c3925339e004": {
          "model_module": "@jupyter-widgets/controls",
          "model_name": "HTMLModel",
          "model_module_version": "1.5.0",
          "state": {
            "_dom_classes": [],
            "_model_module": "@jupyter-widgets/controls",
            "_model_module_version": "1.5.0",
            "_model_name": "HTMLModel",
            "_view_count": null,
            "_view_module": "@jupyter-widgets/controls",
            "_view_module_version": "1.5.0",
            "_view_name": "HTMLView",
            "description": "",
            "description_tooltip": null,
            "layout": "IPY_MODEL_d5edf9b274334b28a10c935c53d40a60",
            "placeholder": "​",
            "style": "IPY_MODEL_bc70f5acb1bc4fc186dd5b55738591e6",
            "value": "Downloading tf_model.h5: 100%"
          }
        },
        "96f5d7066b824af691d1f4a1b94f2bc2": {
          "model_module": "@jupyter-widgets/controls",
          "model_name": "FloatProgressModel",
          "model_module_version": "1.5.0",
          "state": {
            "_dom_classes": [],
            "_model_module": "@jupyter-widgets/controls",
            "_model_module_version": "1.5.0",
            "_model_name": "FloatProgressModel",
            "_view_count": null,
            "_view_module": "@jupyter-widgets/controls",
            "_view_module_version": "1.5.0",
            "_view_name": "ProgressView",
            "bar_style": "success",
            "description": "",
            "description_tooltip": null,
            "layout": "IPY_MODEL_4d4b78b320b24b70bad5937c51c36003",
            "max": 526681800,
            "min": 0,
            "orientation": "horizontal",
            "style": "IPY_MODEL_28e305987f8e463eaad8f312f569be1a",
            "value": 526681800
          }
        },
        "b01a9419376a485180aea864aa310906": {
          "model_module": "@jupyter-widgets/controls",
          "model_name": "HTMLModel",
          "model_module_version": "1.5.0",
          "state": {
            "_dom_classes": [],
            "_model_module": "@jupyter-widgets/controls",
            "_model_module_version": "1.5.0",
            "_model_name": "HTMLModel",
            "_view_count": null,
            "_view_module": "@jupyter-widgets/controls",
            "_view_module_version": "1.5.0",
            "_view_name": "HTMLView",
            "description": "",
            "description_tooltip": null,
            "layout": "IPY_MODEL_cc9a5433a0804750aa4d5d7581ed2155",
            "placeholder": "​",
            "style": "IPY_MODEL_d0203c46a19c4557a8b707785513f100",
            "value": " 527M/527M [00:01&lt;00:00, 448MB/s]"
          }
        },
        "021ba34f18494c9d978fc37e3aa226b5": {
          "model_module": "@jupyter-widgets/base",
          "model_name": "LayoutModel",
          "model_module_version": "1.2.0",
          "state": {
            "_model_module": "@jupyter-widgets/base",
            "_model_module_version": "1.2.0",
            "_model_name": "LayoutModel",
            "_view_count": null,
            "_view_module": "@jupyter-widgets/base",
            "_view_module_version": "1.2.0",
            "_view_name": "LayoutView",
            "align_content": null,
            "align_items": null,
            "align_self": null,
            "border": null,
            "bottom": null,
            "display": null,
            "flex": null,
            "flex_flow": null,
            "grid_area": null,
            "grid_auto_columns": null,
            "grid_auto_flow": null,
            "grid_auto_rows": null,
            "grid_column": null,
            "grid_gap": null,
            "grid_row": null,
            "grid_template_areas": null,
            "grid_template_columns": null,
            "grid_template_rows": null,
            "height": null,
            "justify_content": null,
            "justify_items": null,
            "left": null,
            "margin": null,
            "max_height": null,
            "max_width": null,
            "min_height": null,
            "min_width": null,
            "object_fit": null,
            "object_position": null,
            "order": null,
            "overflow": null,
            "overflow_x": null,
            "overflow_y": null,
            "padding": null,
            "right": null,
            "top": null,
            "visibility": null,
            "width": null
          }
        },
        "d5edf9b274334b28a10c935c53d40a60": {
          "model_module": "@jupyter-widgets/base",
          "model_name": "LayoutModel",
          "model_module_version": "1.2.0",
          "state": {
            "_model_module": "@jupyter-widgets/base",
            "_model_module_version": "1.2.0",
            "_model_name": "LayoutModel",
            "_view_count": null,
            "_view_module": "@jupyter-widgets/base",
            "_view_module_version": "1.2.0",
            "_view_name": "LayoutView",
            "align_content": null,
            "align_items": null,
            "align_self": null,
            "border": null,
            "bottom": null,
            "display": null,
            "flex": null,
            "flex_flow": null,
            "grid_area": null,
            "grid_auto_columns": null,
            "grid_auto_flow": null,
            "grid_auto_rows": null,
            "grid_column": null,
            "grid_gap": null,
            "grid_row": null,
            "grid_template_areas": null,
            "grid_template_columns": null,
            "grid_template_rows": null,
            "height": null,
            "justify_content": null,
            "justify_items": null,
            "left": null,
            "margin": null,
            "max_height": null,
            "max_width": null,
            "min_height": null,
            "min_width": null,
            "object_fit": null,
            "object_position": null,
            "order": null,
            "overflow": null,
            "overflow_x": null,
            "overflow_y": null,
            "padding": null,
            "right": null,
            "top": null,
            "visibility": null,
            "width": null
          }
        },
        "bc70f5acb1bc4fc186dd5b55738591e6": {
          "model_module": "@jupyter-widgets/controls",
          "model_name": "DescriptionStyleModel",
          "model_module_version": "1.5.0",
          "state": {
            "_model_module": "@jupyter-widgets/controls",
            "_model_module_version": "1.5.0",
            "_model_name": "DescriptionStyleModel",
            "_view_count": null,
            "_view_module": "@jupyter-widgets/base",
            "_view_module_version": "1.2.0",
            "_view_name": "StyleView",
            "description_width": ""
          }
        },
        "4d4b78b320b24b70bad5937c51c36003": {
          "model_module": "@jupyter-widgets/base",
          "model_name": "LayoutModel",
          "model_module_version": "1.2.0",
          "state": {
            "_model_module": "@jupyter-widgets/base",
            "_model_module_version": "1.2.0",
            "_model_name": "LayoutModel",
            "_view_count": null,
            "_view_module": "@jupyter-widgets/base",
            "_view_module_version": "1.2.0",
            "_view_name": "LayoutView",
            "align_content": null,
            "align_items": null,
            "align_self": null,
            "border": null,
            "bottom": null,
            "display": null,
            "flex": null,
            "flex_flow": null,
            "grid_area": null,
            "grid_auto_columns": null,
            "grid_auto_flow": null,
            "grid_auto_rows": null,
            "grid_column": null,
            "grid_gap": null,
            "grid_row": null,
            "grid_template_areas": null,
            "grid_template_columns": null,
            "grid_template_rows": null,
            "height": null,
            "justify_content": null,
            "justify_items": null,
            "left": null,
            "margin": null,
            "max_height": null,
            "max_width": null,
            "min_height": null,
            "min_width": null,
            "object_fit": null,
            "object_position": null,
            "order": null,
            "overflow": null,
            "overflow_x": null,
            "overflow_y": null,
            "padding": null,
            "right": null,
            "top": null,
            "visibility": null,
            "width": null
          }
        },
        "28e305987f8e463eaad8f312f569be1a": {
          "model_module": "@jupyter-widgets/controls",
          "model_name": "ProgressStyleModel",
          "model_module_version": "1.5.0",
          "state": {
            "_model_module": "@jupyter-widgets/controls",
            "_model_module_version": "1.5.0",
            "_model_name": "ProgressStyleModel",
            "_view_count": null,
            "_view_module": "@jupyter-widgets/base",
            "_view_module_version": "1.2.0",
            "_view_name": "StyleView",
            "bar_color": null,
            "description_width": ""
          }
        },
        "cc9a5433a0804750aa4d5d7581ed2155": {
          "model_module": "@jupyter-widgets/base",
          "model_name": "LayoutModel",
          "model_module_version": "1.2.0",
          "state": {
            "_model_module": "@jupyter-widgets/base",
            "_model_module_version": "1.2.0",
            "_model_name": "LayoutModel",
            "_view_count": null,
            "_view_module": "@jupyter-widgets/base",
            "_view_module_version": "1.2.0",
            "_view_name": "LayoutView",
            "align_content": null,
            "align_items": null,
            "align_self": null,
            "border": null,
            "bottom": null,
            "display": null,
            "flex": null,
            "flex_flow": null,
            "grid_area": null,
            "grid_auto_columns": null,
            "grid_auto_flow": null,
            "grid_auto_rows": null,
            "grid_column": null,
            "grid_gap": null,
            "grid_row": null,
            "grid_template_areas": null,
            "grid_template_columns": null,
            "grid_template_rows": null,
            "height": null,
            "justify_content": null,
            "justify_items": null,
            "left": null,
            "margin": null,
            "max_height": null,
            "max_width": null,
            "min_height": null,
            "min_width": null,
            "object_fit": null,
            "object_position": null,
            "order": null,
            "overflow": null,
            "overflow_x": null,
            "overflow_y": null,
            "padding": null,
            "right": null,
            "top": null,
            "visibility": null,
            "width": null
          }
        },
        "d0203c46a19c4557a8b707785513f100": {
          "model_module": "@jupyter-widgets/controls",
          "model_name": "DescriptionStyleModel",
          "model_module_version": "1.5.0",
          "state": {
            "_model_module": "@jupyter-widgets/controls",
            "_model_module_version": "1.5.0",
            "_model_name": "DescriptionStyleModel",
            "_view_count": null,
            "_view_module": "@jupyter-widgets/base",
            "_view_module_version": "1.2.0",
            "_view_name": "StyleView",
            "description_width": ""
          }
        },
        "e5514feeb7af4528bcd827cb9fdbe262": {
          "model_module": "@jupyter-widgets/controls",
          "model_name": "HBoxModel",
          "model_module_version": "1.5.0",
          "state": {
            "_dom_classes": [],
            "_model_module": "@jupyter-widgets/controls",
            "_model_module_version": "1.5.0",
            "_model_name": "HBoxModel",
            "_view_count": null,
            "_view_module": "@jupyter-widgets/controls",
            "_view_module_version": "1.5.0",
            "_view_name": "HBoxView",
            "box_style": "",
            "children": [
              "IPY_MODEL_a8f53ec457ac49a282d2a8aa4495788f",
              "IPY_MODEL_a9cd11f62e874e27bca638e5ea1346ad",
              "IPY_MODEL_5cb1f75c967c42279c296492f0aff954"
            ],
            "layout": "IPY_MODEL_71c926d9f7db4b75ac7d1e763ca9e6fa"
          }
        },
        "a8f53ec457ac49a282d2a8aa4495788f": {
          "model_module": "@jupyter-widgets/controls",
          "model_name": "HTMLModel",
          "model_module_version": "1.5.0",
          "state": {
            "_dom_classes": [],
            "_model_module": "@jupyter-widgets/controls",
            "_model_module_version": "1.5.0",
            "_model_name": "HTMLModel",
            "_view_count": null,
            "_view_module": "@jupyter-widgets/controls",
            "_view_module_version": "1.5.0",
            "_view_name": "HTMLView",
            "description": "",
            "description_tooltip": null,
            "layout": "IPY_MODEL_e1df1ae4f0d747df8c8579ae89fb6e46",
            "placeholder": "​",
            "style": "IPY_MODEL_6ee54341fd644c7bbe5d09547014e917",
            "value": "Downloading (…)lve/main/config.json: 100%"
          }
        },
        "a9cd11f62e874e27bca638e5ea1346ad": {
          "model_module": "@jupyter-widgets/controls",
          "model_name": "FloatProgressModel",
          "model_module_version": "1.5.0",
          "state": {
            "_dom_classes": [],
            "_model_module": "@jupyter-widgets/controls",
            "_model_module_version": "1.5.0",
            "_model_name": "FloatProgressModel",
            "_view_count": null,
            "_view_module": "@jupyter-widgets/controls",
            "_view_module_version": "1.5.0",
            "_view_name": "ProgressView",
            "bar_style": "success",
            "description": "",
            "description_tooltip": null,
            "layout": "IPY_MODEL_a281f297931b4ce8bd6580960830529b",
            "max": 558,
            "min": 0,
            "orientation": "horizontal",
            "style": "IPY_MODEL_0ab5de4836434cbab4f1d72966f8b19c",
            "value": 558
          }
        },
        "5cb1f75c967c42279c296492f0aff954": {
          "model_module": "@jupyter-widgets/controls",
          "model_name": "HTMLModel",
          "model_module_version": "1.5.0",
          "state": {
            "_dom_classes": [],
            "_model_module": "@jupyter-widgets/controls",
            "_model_module_version": "1.5.0",
            "_model_name": "HTMLModel",
            "_view_count": null,
            "_view_module": "@jupyter-widgets/controls",
            "_view_module_version": "1.5.0",
            "_view_name": "HTMLView",
            "description": "",
            "description_tooltip": null,
            "layout": "IPY_MODEL_047fed50814844f6a4daba820bf22f2b",
            "placeholder": "​",
            "style": "IPY_MODEL_a05c1eebf7644c85b68e2bc1c73dd216",
            "value": " 558/558 [00:00&lt;00:00, 39.4kB/s]"
          }
        },
        "71c926d9f7db4b75ac7d1e763ca9e6fa": {
          "model_module": "@jupyter-widgets/base",
          "model_name": "LayoutModel",
          "model_module_version": "1.2.0",
          "state": {
            "_model_module": "@jupyter-widgets/base",
            "_model_module_version": "1.2.0",
            "_model_name": "LayoutModel",
            "_view_count": null,
            "_view_module": "@jupyter-widgets/base",
            "_view_module_version": "1.2.0",
            "_view_name": "LayoutView",
            "align_content": null,
            "align_items": null,
            "align_self": null,
            "border": null,
            "bottom": null,
            "display": null,
            "flex": null,
            "flex_flow": null,
            "grid_area": null,
            "grid_auto_columns": null,
            "grid_auto_flow": null,
            "grid_auto_rows": null,
            "grid_column": null,
            "grid_gap": null,
            "grid_row": null,
            "grid_template_areas": null,
            "grid_template_columns": null,
            "grid_template_rows": null,
            "height": null,
            "justify_content": null,
            "justify_items": null,
            "left": null,
            "margin": null,
            "max_height": null,
            "max_width": null,
            "min_height": null,
            "min_width": null,
            "object_fit": null,
            "object_position": null,
            "order": null,
            "overflow": null,
            "overflow_x": null,
            "overflow_y": null,
            "padding": null,
            "right": null,
            "top": null,
            "visibility": null,
            "width": null
          }
        },
        "e1df1ae4f0d747df8c8579ae89fb6e46": {
          "model_module": "@jupyter-widgets/base",
          "model_name": "LayoutModel",
          "model_module_version": "1.2.0",
          "state": {
            "_model_module": "@jupyter-widgets/base",
            "_model_module_version": "1.2.0",
            "_model_name": "LayoutModel",
            "_view_count": null,
            "_view_module": "@jupyter-widgets/base",
            "_view_module_version": "1.2.0",
            "_view_name": "LayoutView",
            "align_content": null,
            "align_items": null,
            "align_self": null,
            "border": null,
            "bottom": null,
            "display": null,
            "flex": null,
            "flex_flow": null,
            "grid_area": null,
            "grid_auto_columns": null,
            "grid_auto_flow": null,
            "grid_auto_rows": null,
            "grid_column": null,
            "grid_gap": null,
            "grid_row": null,
            "grid_template_areas": null,
            "grid_template_columns": null,
            "grid_template_rows": null,
            "height": null,
            "justify_content": null,
            "justify_items": null,
            "left": null,
            "margin": null,
            "max_height": null,
            "max_width": null,
            "min_height": null,
            "min_width": null,
            "object_fit": null,
            "object_position": null,
            "order": null,
            "overflow": null,
            "overflow_x": null,
            "overflow_y": null,
            "padding": null,
            "right": null,
            "top": null,
            "visibility": null,
            "width": null
          }
        },
        "6ee54341fd644c7bbe5d09547014e917": {
          "model_module": "@jupyter-widgets/controls",
          "model_name": "DescriptionStyleModel",
          "model_module_version": "1.5.0",
          "state": {
            "_model_module": "@jupyter-widgets/controls",
            "_model_module_version": "1.5.0",
            "_model_name": "DescriptionStyleModel",
            "_view_count": null,
            "_view_module": "@jupyter-widgets/base",
            "_view_module_version": "1.2.0",
            "_view_name": "StyleView",
            "description_width": ""
          }
        },
        "a281f297931b4ce8bd6580960830529b": {
          "model_module": "@jupyter-widgets/base",
          "model_name": "LayoutModel",
          "model_module_version": "1.2.0",
          "state": {
            "_model_module": "@jupyter-widgets/base",
            "_model_module_version": "1.2.0",
            "_model_name": "LayoutModel",
            "_view_count": null,
            "_view_module": "@jupyter-widgets/base",
            "_view_module_version": "1.2.0",
            "_view_name": "LayoutView",
            "align_content": null,
            "align_items": null,
            "align_self": null,
            "border": null,
            "bottom": null,
            "display": null,
            "flex": null,
            "flex_flow": null,
            "grid_area": null,
            "grid_auto_columns": null,
            "grid_auto_flow": null,
            "grid_auto_rows": null,
            "grid_column": null,
            "grid_gap": null,
            "grid_row": null,
            "grid_template_areas": null,
            "grid_template_columns": null,
            "grid_template_rows": null,
            "height": null,
            "justify_content": null,
            "justify_items": null,
            "left": null,
            "margin": null,
            "max_height": null,
            "max_width": null,
            "min_height": null,
            "min_width": null,
            "object_fit": null,
            "object_position": null,
            "order": null,
            "overflow": null,
            "overflow_x": null,
            "overflow_y": null,
            "padding": null,
            "right": null,
            "top": null,
            "visibility": null,
            "width": null
          }
        },
        "0ab5de4836434cbab4f1d72966f8b19c": {
          "model_module": "@jupyter-widgets/controls",
          "model_name": "ProgressStyleModel",
          "model_module_version": "1.5.0",
          "state": {
            "_model_module": "@jupyter-widgets/controls",
            "_model_module_version": "1.5.0",
            "_model_name": "ProgressStyleModel",
            "_view_count": null,
            "_view_module": "@jupyter-widgets/base",
            "_view_module_version": "1.2.0",
            "_view_name": "StyleView",
            "bar_color": null,
            "description_width": ""
          }
        },
        "047fed50814844f6a4daba820bf22f2b": {
          "model_module": "@jupyter-widgets/base",
          "model_name": "LayoutModel",
          "model_module_version": "1.2.0",
          "state": {
            "_model_module": "@jupyter-widgets/base",
            "_model_module_version": "1.2.0",
            "_model_name": "LayoutModel",
            "_view_count": null,
            "_view_module": "@jupyter-widgets/base",
            "_view_module_version": "1.2.0",
            "_view_name": "LayoutView",
            "align_content": null,
            "align_items": null,
            "align_self": null,
            "border": null,
            "bottom": null,
            "display": null,
            "flex": null,
            "flex_flow": null,
            "grid_area": null,
            "grid_auto_columns": null,
            "grid_auto_flow": null,
            "grid_auto_rows": null,
            "grid_column": null,
            "grid_gap": null,
            "grid_row": null,
            "grid_template_areas": null,
            "grid_template_columns": null,
            "grid_template_rows": null,
            "height": null,
            "justify_content": null,
            "justify_items": null,
            "left": null,
            "margin": null,
            "max_height": null,
            "max_width": null,
            "min_height": null,
            "min_width": null,
            "object_fit": null,
            "object_position": null,
            "order": null,
            "overflow": null,
            "overflow_x": null,
            "overflow_y": null,
            "padding": null,
            "right": null,
            "top": null,
            "visibility": null,
            "width": null
          }
        },
        "a05c1eebf7644c85b68e2bc1c73dd216": {
          "model_module": "@jupyter-widgets/controls",
          "model_name": "DescriptionStyleModel",
          "model_module_version": "1.5.0",
          "state": {
            "_model_module": "@jupyter-widgets/controls",
            "_model_module_version": "1.5.0",
            "_model_name": "DescriptionStyleModel",
            "_view_count": null,
            "_view_module": "@jupyter-widgets/base",
            "_view_module_version": "1.2.0",
            "_view_name": "StyleView",
            "description_width": ""
          }
        },
        "89c8f986394e4348bea9840c62606db0": {
          "model_module": "@jupyter-widgets/controls",
          "model_name": "HBoxModel",
          "model_module_version": "1.5.0",
          "state": {
            "_dom_classes": [],
            "_model_module": "@jupyter-widgets/controls",
            "_model_module_version": "1.5.0",
            "_model_name": "HBoxModel",
            "_view_count": null,
            "_view_module": "@jupyter-widgets/controls",
            "_view_module_version": "1.5.0",
            "_view_name": "HBoxView",
            "box_style": "",
            "children": [
              "IPY_MODEL_759fd91b40e24ecf8346b93717e234da",
              "IPY_MODEL_d6b31df4167a44f6a2a132cb7bfd00c6",
              "IPY_MODEL_f6377219f23242188ffa1326a6fbd2ad"
            ],
            "layout": "IPY_MODEL_2fdd82101be64d3eb8daf7c5a8fc91f4"
          }
        },
        "759fd91b40e24ecf8346b93717e234da": {
          "model_module": "@jupyter-widgets/controls",
          "model_name": "HTMLModel",
          "model_module_version": "1.5.0",
          "state": {
            "_dom_classes": [],
            "_model_module": "@jupyter-widgets/controls",
            "_model_module_version": "1.5.0",
            "_model_name": "HTMLModel",
            "_view_count": null,
            "_view_module": "@jupyter-widgets/controls",
            "_view_module_version": "1.5.0",
            "_view_name": "HTMLView",
            "description": "",
            "description_tooltip": null,
            "layout": "IPY_MODEL_7ec107fc48c04b5f96cdea7cb3d4d9a8",
            "placeholder": "​",
            "style": "IPY_MODEL_94587440c0f74321bf982216c87cffa9",
            "value": "Downloading (…)solve/main/vocab.txt: 100%"
          }
        },
        "d6b31df4167a44f6a2a132cb7bfd00c6": {
          "model_module": "@jupyter-widgets/controls",
          "model_name": "FloatProgressModel",
          "model_module_version": "1.5.0",
          "state": {
            "_dom_classes": [],
            "_model_module": "@jupyter-widgets/controls",
            "_model_module_version": "1.5.0",
            "_model_name": "FloatProgressModel",
            "_view_count": null,
            "_view_module": "@jupyter-widgets/controls",
            "_view_module_version": "1.5.0",
            "_view_name": "ProgressView",
            "bar_style": "success",
            "description": "",
            "description_tooltip": null,
            "layout": "IPY_MODEL_eb920a94cbc947278a0f566427a4d023",
            "max": 843438,
            "min": 0,
            "orientation": "horizontal",
            "style": "IPY_MODEL_520404bf0f8646f48e93d78054f1ad1e",
            "value": 843438
          }
        },
        "f6377219f23242188ffa1326a6fbd2ad": {
          "model_module": "@jupyter-widgets/controls",
          "model_name": "HTMLModel",
          "model_module_version": "1.5.0",
          "state": {
            "_dom_classes": [],
            "_model_module": "@jupyter-widgets/controls",
            "_model_module_version": "1.5.0",
            "_model_name": "HTMLModel",
            "_view_count": null,
            "_view_module": "@jupyter-widgets/controls",
            "_view_module_version": "1.5.0",
            "_view_name": "HTMLView",
            "description": "",
            "description_tooltip": null,
            "layout": "IPY_MODEL_d49f324f4d834f7c994376077685b26a",
            "placeholder": "​",
            "style": "IPY_MODEL_e125f0f8dd294a7f8076656b1aa0ae12",
            "value": " 843k/843k [00:00&lt;00:00, 29.1MB/s]"
          }
        },
        "2fdd82101be64d3eb8daf7c5a8fc91f4": {
          "model_module": "@jupyter-widgets/base",
          "model_name": "LayoutModel",
          "model_module_version": "1.2.0",
          "state": {
            "_model_module": "@jupyter-widgets/base",
            "_model_module_version": "1.2.0",
            "_model_name": "LayoutModel",
            "_view_count": null,
            "_view_module": "@jupyter-widgets/base",
            "_view_module_version": "1.2.0",
            "_view_name": "LayoutView",
            "align_content": null,
            "align_items": null,
            "align_self": null,
            "border": null,
            "bottom": null,
            "display": null,
            "flex": null,
            "flex_flow": null,
            "grid_area": null,
            "grid_auto_columns": null,
            "grid_auto_flow": null,
            "grid_auto_rows": null,
            "grid_column": null,
            "grid_gap": null,
            "grid_row": null,
            "grid_template_areas": null,
            "grid_template_columns": null,
            "grid_template_rows": null,
            "height": null,
            "justify_content": null,
            "justify_items": null,
            "left": null,
            "margin": null,
            "max_height": null,
            "max_width": null,
            "min_height": null,
            "min_width": null,
            "object_fit": null,
            "object_position": null,
            "order": null,
            "overflow": null,
            "overflow_x": null,
            "overflow_y": null,
            "padding": null,
            "right": null,
            "top": null,
            "visibility": null,
            "width": null
          }
        },
        "7ec107fc48c04b5f96cdea7cb3d4d9a8": {
          "model_module": "@jupyter-widgets/base",
          "model_name": "LayoutModel",
          "model_module_version": "1.2.0",
          "state": {
            "_model_module": "@jupyter-widgets/base",
            "_model_module_version": "1.2.0",
            "_model_name": "LayoutModel",
            "_view_count": null,
            "_view_module": "@jupyter-widgets/base",
            "_view_module_version": "1.2.0",
            "_view_name": "LayoutView",
            "align_content": null,
            "align_items": null,
            "align_self": null,
            "border": null,
            "bottom": null,
            "display": null,
            "flex": null,
            "flex_flow": null,
            "grid_area": null,
            "grid_auto_columns": null,
            "grid_auto_flow": null,
            "grid_auto_rows": null,
            "grid_column": null,
            "grid_gap": null,
            "grid_row": null,
            "grid_template_areas": null,
            "grid_template_columns": null,
            "grid_template_rows": null,
            "height": null,
            "justify_content": null,
            "justify_items": null,
            "left": null,
            "margin": null,
            "max_height": null,
            "max_width": null,
            "min_height": null,
            "min_width": null,
            "object_fit": null,
            "object_position": null,
            "order": null,
            "overflow": null,
            "overflow_x": null,
            "overflow_y": null,
            "padding": null,
            "right": null,
            "top": null,
            "visibility": null,
            "width": null
          }
        },
        "94587440c0f74321bf982216c87cffa9": {
          "model_module": "@jupyter-widgets/controls",
          "model_name": "DescriptionStyleModel",
          "model_module_version": "1.5.0",
          "state": {
            "_model_module": "@jupyter-widgets/controls",
            "_model_module_version": "1.5.0",
            "_model_name": "DescriptionStyleModel",
            "_view_count": null,
            "_view_module": "@jupyter-widgets/base",
            "_view_module_version": "1.2.0",
            "_view_name": "StyleView",
            "description_width": ""
          }
        },
        "eb920a94cbc947278a0f566427a4d023": {
          "model_module": "@jupyter-widgets/base",
          "model_name": "LayoutModel",
          "model_module_version": "1.2.0",
          "state": {
            "_model_module": "@jupyter-widgets/base",
            "_model_module_version": "1.2.0",
            "_model_name": "LayoutModel",
            "_view_count": null,
            "_view_module": "@jupyter-widgets/base",
            "_view_module_version": "1.2.0",
            "_view_name": "LayoutView",
            "align_content": null,
            "align_items": null,
            "align_self": null,
            "border": null,
            "bottom": null,
            "display": null,
            "flex": null,
            "flex_flow": null,
            "grid_area": null,
            "grid_auto_columns": null,
            "grid_auto_flow": null,
            "grid_auto_rows": null,
            "grid_column": null,
            "grid_gap": null,
            "grid_row": null,
            "grid_template_areas": null,
            "grid_template_columns": null,
            "grid_template_rows": null,
            "height": null,
            "justify_content": null,
            "justify_items": null,
            "left": null,
            "margin": null,
            "max_height": null,
            "max_width": null,
            "min_height": null,
            "min_width": null,
            "object_fit": null,
            "object_position": null,
            "order": null,
            "overflow": null,
            "overflow_x": null,
            "overflow_y": null,
            "padding": null,
            "right": null,
            "top": null,
            "visibility": null,
            "width": null
          }
        },
        "520404bf0f8646f48e93d78054f1ad1e": {
          "model_module": "@jupyter-widgets/controls",
          "model_name": "ProgressStyleModel",
          "model_module_version": "1.5.0",
          "state": {
            "_model_module": "@jupyter-widgets/controls",
            "_model_module_version": "1.5.0",
            "_model_name": "ProgressStyleModel",
            "_view_count": null,
            "_view_module": "@jupyter-widgets/base",
            "_view_module_version": "1.2.0",
            "_view_name": "StyleView",
            "bar_color": null,
            "description_width": ""
          }
        },
        "d49f324f4d834f7c994376077685b26a": {
          "model_module": "@jupyter-widgets/base",
          "model_name": "LayoutModel",
          "model_module_version": "1.2.0",
          "state": {
            "_model_module": "@jupyter-widgets/base",
            "_model_module_version": "1.2.0",
            "_model_name": "LayoutModel",
            "_view_count": null,
            "_view_module": "@jupyter-widgets/base",
            "_view_module_version": "1.2.0",
            "_view_name": "LayoutView",
            "align_content": null,
            "align_items": null,
            "align_self": null,
            "border": null,
            "bottom": null,
            "display": null,
            "flex": null,
            "flex_flow": null,
            "grid_area": null,
            "grid_auto_columns": null,
            "grid_auto_flow": null,
            "grid_auto_rows": null,
            "grid_column": null,
            "grid_gap": null,
            "grid_row": null,
            "grid_template_areas": null,
            "grid_template_columns": null,
            "grid_template_rows": null,
            "height": null,
            "justify_content": null,
            "justify_items": null,
            "left": null,
            "margin": null,
            "max_height": null,
            "max_width": null,
            "min_height": null,
            "min_width": null,
            "object_fit": null,
            "object_position": null,
            "order": null,
            "overflow": null,
            "overflow_x": null,
            "overflow_y": null,
            "padding": null,
            "right": null,
            "top": null,
            "visibility": null,
            "width": null
          }
        },
        "e125f0f8dd294a7f8076656b1aa0ae12": {
          "model_module": "@jupyter-widgets/controls",
          "model_name": "DescriptionStyleModel",
          "model_module_version": "1.5.0",
          "state": {
            "_model_module": "@jupyter-widgets/controls",
            "_model_module_version": "1.5.0",
            "_model_name": "DescriptionStyleModel",
            "_view_count": null,
            "_view_module": "@jupyter-widgets/base",
            "_view_module_version": "1.2.0",
            "_view_name": "StyleView",
            "description_width": ""
          }
        },
        "61a8c23837344861a15d6df72d854561": {
          "model_module": "@jupyter-widgets/controls",
          "model_name": "HBoxModel",
          "model_module_version": "1.5.0",
          "state": {
            "_dom_classes": [],
            "_model_module": "@jupyter-widgets/controls",
            "_model_module_version": "1.5.0",
            "_model_name": "HBoxModel",
            "_view_count": null,
            "_view_module": "@jupyter-widgets/controls",
            "_view_module_version": "1.5.0",
            "_view_name": "HBoxView",
            "box_style": "",
            "children": [
              "IPY_MODEL_56509c16e9324cf0800c0921527a34a0",
              "IPY_MODEL_5e8497431b57423ba7869b715bc689b5",
              "IPY_MODEL_b107004dec7d44de9bc86b7c8a6612bc"
            ],
            "layout": "IPY_MODEL_8c76780926af453d8121fe3d3fc3ddad"
          }
        },
        "56509c16e9324cf0800c0921527a34a0": {
          "model_module": "@jupyter-widgets/controls",
          "model_name": "HTMLModel",
          "model_module_version": "1.5.0",
          "state": {
            "_dom_classes": [],
            "_model_module": "@jupyter-widgets/controls",
            "_model_module_version": "1.5.0",
            "_model_name": "HTMLModel",
            "_view_count": null,
            "_view_module": "@jupyter-widgets/controls",
            "_view_module_version": "1.5.0",
            "_view_name": "HTMLView",
            "description": "",
            "description_tooltip": null,
            "layout": "IPY_MODEL_007a5fdfe50945db83ea60ad8fdf47d4",
            "placeholder": "​",
            "style": "IPY_MODEL_e6a645fa0d2c4263816fd0e3d6c6708a",
            "value": "Downloading (…)solve/main/bpe.codes: 100%"
          }
        },
        "5e8497431b57423ba7869b715bc689b5": {
          "model_module": "@jupyter-widgets/controls",
          "model_name": "FloatProgressModel",
          "model_module_version": "1.5.0",
          "state": {
            "_dom_classes": [],
            "_model_module": "@jupyter-widgets/controls",
            "_model_module_version": "1.5.0",
            "_model_name": "FloatProgressModel",
            "_view_count": null,
            "_view_module": "@jupyter-widgets/controls",
            "_view_module_version": "1.5.0",
            "_view_name": "ProgressView",
            "bar_style": "success",
            "description": "",
            "description_tooltip": null,
            "layout": "IPY_MODEL_9b3a0689880347d3ac7aa8507f238dad",
            "max": 1078931,
            "min": 0,
            "orientation": "horizontal",
            "style": "IPY_MODEL_a7361bc0ee3947cb9b372cdeba1ae767",
            "value": 1078931
          }
        },
        "b107004dec7d44de9bc86b7c8a6612bc": {
          "model_module": "@jupyter-widgets/controls",
          "model_name": "HTMLModel",
          "model_module_version": "1.5.0",
          "state": {
            "_dom_classes": [],
            "_model_module": "@jupyter-widgets/controls",
            "_model_module_version": "1.5.0",
            "_model_name": "HTMLModel",
            "_view_count": null,
            "_view_module": "@jupyter-widgets/controls",
            "_view_module_version": "1.5.0",
            "_view_name": "HTMLView",
            "description": "",
            "description_tooltip": null,
            "layout": "IPY_MODEL_4de6565eae4c42178b5c213b1af5cd50",
            "placeholder": "​",
            "style": "IPY_MODEL_943bcb07abe6490eaf22acc278b1b7a7",
            "value": " 1.08M/1.08M [00:00&lt;00:00, 1.31MB/s]"
          }
        },
        "8c76780926af453d8121fe3d3fc3ddad": {
          "model_module": "@jupyter-widgets/base",
          "model_name": "LayoutModel",
          "model_module_version": "1.2.0",
          "state": {
            "_model_module": "@jupyter-widgets/base",
            "_model_module_version": "1.2.0",
            "_model_name": "LayoutModel",
            "_view_count": null,
            "_view_module": "@jupyter-widgets/base",
            "_view_module_version": "1.2.0",
            "_view_name": "LayoutView",
            "align_content": null,
            "align_items": null,
            "align_self": null,
            "border": null,
            "bottom": null,
            "display": null,
            "flex": null,
            "flex_flow": null,
            "grid_area": null,
            "grid_auto_columns": null,
            "grid_auto_flow": null,
            "grid_auto_rows": null,
            "grid_column": null,
            "grid_gap": null,
            "grid_row": null,
            "grid_template_areas": null,
            "grid_template_columns": null,
            "grid_template_rows": null,
            "height": null,
            "justify_content": null,
            "justify_items": null,
            "left": null,
            "margin": null,
            "max_height": null,
            "max_width": null,
            "min_height": null,
            "min_width": null,
            "object_fit": null,
            "object_position": null,
            "order": null,
            "overflow": null,
            "overflow_x": null,
            "overflow_y": null,
            "padding": null,
            "right": null,
            "top": null,
            "visibility": null,
            "width": null
          }
        },
        "007a5fdfe50945db83ea60ad8fdf47d4": {
          "model_module": "@jupyter-widgets/base",
          "model_name": "LayoutModel",
          "model_module_version": "1.2.0",
          "state": {
            "_model_module": "@jupyter-widgets/base",
            "_model_module_version": "1.2.0",
            "_model_name": "LayoutModel",
            "_view_count": null,
            "_view_module": "@jupyter-widgets/base",
            "_view_module_version": "1.2.0",
            "_view_name": "LayoutView",
            "align_content": null,
            "align_items": null,
            "align_self": null,
            "border": null,
            "bottom": null,
            "display": null,
            "flex": null,
            "flex_flow": null,
            "grid_area": null,
            "grid_auto_columns": null,
            "grid_auto_flow": null,
            "grid_auto_rows": null,
            "grid_column": null,
            "grid_gap": null,
            "grid_row": null,
            "grid_template_areas": null,
            "grid_template_columns": null,
            "grid_template_rows": null,
            "height": null,
            "justify_content": null,
            "justify_items": null,
            "left": null,
            "margin": null,
            "max_height": null,
            "max_width": null,
            "min_height": null,
            "min_width": null,
            "object_fit": null,
            "object_position": null,
            "order": null,
            "overflow": null,
            "overflow_x": null,
            "overflow_y": null,
            "padding": null,
            "right": null,
            "top": null,
            "visibility": null,
            "width": null
          }
        },
        "e6a645fa0d2c4263816fd0e3d6c6708a": {
          "model_module": "@jupyter-widgets/controls",
          "model_name": "DescriptionStyleModel",
          "model_module_version": "1.5.0",
          "state": {
            "_model_module": "@jupyter-widgets/controls",
            "_model_module_version": "1.5.0",
            "_model_name": "DescriptionStyleModel",
            "_view_count": null,
            "_view_module": "@jupyter-widgets/base",
            "_view_module_version": "1.2.0",
            "_view_name": "StyleView",
            "description_width": ""
          }
        },
        "9b3a0689880347d3ac7aa8507f238dad": {
          "model_module": "@jupyter-widgets/base",
          "model_name": "LayoutModel",
          "model_module_version": "1.2.0",
          "state": {
            "_model_module": "@jupyter-widgets/base",
            "_model_module_version": "1.2.0",
            "_model_name": "LayoutModel",
            "_view_count": null,
            "_view_module": "@jupyter-widgets/base",
            "_view_module_version": "1.2.0",
            "_view_name": "LayoutView",
            "align_content": null,
            "align_items": null,
            "align_self": null,
            "border": null,
            "bottom": null,
            "display": null,
            "flex": null,
            "flex_flow": null,
            "grid_area": null,
            "grid_auto_columns": null,
            "grid_auto_flow": null,
            "grid_auto_rows": null,
            "grid_column": null,
            "grid_gap": null,
            "grid_row": null,
            "grid_template_areas": null,
            "grid_template_columns": null,
            "grid_template_rows": null,
            "height": null,
            "justify_content": null,
            "justify_items": null,
            "left": null,
            "margin": null,
            "max_height": null,
            "max_width": null,
            "min_height": null,
            "min_width": null,
            "object_fit": null,
            "object_position": null,
            "order": null,
            "overflow": null,
            "overflow_x": null,
            "overflow_y": null,
            "padding": null,
            "right": null,
            "top": null,
            "visibility": null,
            "width": null
          }
        },
        "a7361bc0ee3947cb9b372cdeba1ae767": {
          "model_module": "@jupyter-widgets/controls",
          "model_name": "ProgressStyleModel",
          "model_module_version": "1.5.0",
          "state": {
            "_model_module": "@jupyter-widgets/controls",
            "_model_module_version": "1.5.0",
            "_model_name": "ProgressStyleModel",
            "_view_count": null,
            "_view_module": "@jupyter-widgets/base",
            "_view_module_version": "1.2.0",
            "_view_name": "StyleView",
            "bar_color": null,
            "description_width": ""
          }
        },
        "4de6565eae4c42178b5c213b1af5cd50": {
          "model_module": "@jupyter-widgets/base",
          "model_name": "LayoutModel",
          "model_module_version": "1.2.0",
          "state": {
            "_model_module": "@jupyter-widgets/base",
            "_model_module_version": "1.2.0",
            "_model_name": "LayoutModel",
            "_view_count": null,
            "_view_module": "@jupyter-widgets/base",
            "_view_module_version": "1.2.0",
            "_view_name": "LayoutView",
            "align_content": null,
            "align_items": null,
            "align_self": null,
            "border": null,
            "bottom": null,
            "display": null,
            "flex": null,
            "flex_flow": null,
            "grid_area": null,
            "grid_auto_columns": null,
            "grid_auto_flow": null,
            "grid_auto_rows": null,
            "grid_column": null,
            "grid_gap": null,
            "grid_row": null,
            "grid_template_areas": null,
            "grid_template_columns": null,
            "grid_template_rows": null,
            "height": null,
            "justify_content": null,
            "justify_items": null,
            "left": null,
            "margin": null,
            "max_height": null,
            "max_width": null,
            "min_height": null,
            "min_width": null,
            "object_fit": null,
            "object_position": null,
            "order": null,
            "overflow": null,
            "overflow_x": null,
            "overflow_y": null,
            "padding": null,
            "right": null,
            "top": null,
            "visibility": null,
            "width": null
          }
        },
        "943bcb07abe6490eaf22acc278b1b7a7": {
          "model_module": "@jupyter-widgets/controls",
          "model_name": "DescriptionStyleModel",
          "model_module_version": "1.5.0",
          "state": {
            "_model_module": "@jupyter-widgets/controls",
            "_model_module_version": "1.5.0",
            "_model_name": "DescriptionStyleModel",
            "_view_count": null,
            "_view_module": "@jupyter-widgets/base",
            "_view_module_version": "1.2.0",
            "_view_name": "StyleView",
            "description_width": ""
          }
        },
        "b983312f89a14ac696734b1f3fc6acd8": {
          "model_module": "@jupyter-widgets/controls",
          "model_name": "HBoxModel",
          "model_module_version": "1.5.0",
          "state": {
            "_dom_classes": [],
            "_model_module": "@jupyter-widgets/controls",
            "_model_module_version": "1.5.0",
            "_model_name": "HBoxModel",
            "_view_count": null,
            "_view_module": "@jupyter-widgets/controls",
            "_view_module_version": "1.5.0",
            "_view_name": "HBoxView",
            "box_style": "",
            "children": [
              "IPY_MODEL_e1345ee85f8342a4be0fa6a939f62e45",
              "IPY_MODEL_d05a6fef56424ca7998e361ca6e6d599",
              "IPY_MODEL_90c7f00d0a24438585c29657776bea05"
            ],
            "layout": "IPY_MODEL_ec94d4cc4ad846eebeff13456c3e1743"
          }
        },
        "e1345ee85f8342a4be0fa6a939f62e45": {
          "model_module": "@jupyter-widgets/controls",
          "model_name": "HTMLModel",
          "model_module_version": "1.5.0",
          "state": {
            "_dom_classes": [],
            "_model_module": "@jupyter-widgets/controls",
            "_model_module_version": "1.5.0",
            "_model_name": "HTMLModel",
            "_view_count": null,
            "_view_module": "@jupyter-widgets/controls",
            "_view_module_version": "1.5.0",
            "_view_name": "HTMLView",
            "description": "",
            "description_tooltip": null,
            "layout": "IPY_MODEL_c6b3d4c2d97644b89886ff5667855a53",
            "placeholder": "​",
            "style": "IPY_MODEL_aecf721ce0a44a5ebecbed9096287709",
            "value": "Downloading tf_model.h5: 100%"
          }
        },
        "d05a6fef56424ca7998e361ca6e6d599": {
          "model_module": "@jupyter-widgets/controls",
          "model_name": "FloatProgressModel",
          "model_module_version": "1.5.0",
          "state": {
            "_dom_classes": [],
            "_model_module": "@jupyter-widgets/controls",
            "_model_module_version": "1.5.0",
            "_model_name": "FloatProgressModel",
            "_view_count": null,
            "_view_module": "@jupyter-widgets/controls",
            "_view_module_version": "1.5.0",
            "_view_name": "ProgressView",
            "bar_style": "success",
            "description": "",
            "description_tooltip": null,
            "layout": "IPY_MODEL_633ddf7004874b96b1c24e8ca734a490",
            "max": 739523780,
            "min": 0,
            "orientation": "horizontal",
            "style": "IPY_MODEL_45bc2b5175e74a3bb2fd2f8968d54f21",
            "value": 739523780
          }
        },
        "90c7f00d0a24438585c29657776bea05": {
          "model_module": "@jupyter-widgets/controls",
          "model_name": "HTMLModel",
          "model_module_version": "1.5.0",
          "state": {
            "_dom_classes": [],
            "_model_module": "@jupyter-widgets/controls",
            "_model_module_version": "1.5.0",
            "_model_name": "HTMLModel",
            "_view_count": null,
            "_view_module": "@jupyter-widgets/controls",
            "_view_module_version": "1.5.0",
            "_view_name": "HTMLView",
            "description": "",
            "description_tooltip": null,
            "layout": "IPY_MODEL_5497d5d1887548c481def38f82de61b9",
            "placeholder": "​",
            "style": "IPY_MODEL_f3bf0f4cb2314196bcc331978db5386b",
            "value": " 740M/740M [00:09&lt;00:00, 83.2MB/s]"
          }
        },
        "ec94d4cc4ad846eebeff13456c3e1743": {
          "model_module": "@jupyter-widgets/base",
          "model_name": "LayoutModel",
          "model_module_version": "1.2.0",
          "state": {
            "_model_module": "@jupyter-widgets/base",
            "_model_module_version": "1.2.0",
            "_model_name": "LayoutModel",
            "_view_count": null,
            "_view_module": "@jupyter-widgets/base",
            "_view_module_version": "1.2.0",
            "_view_name": "LayoutView",
            "align_content": null,
            "align_items": null,
            "align_self": null,
            "border": null,
            "bottom": null,
            "display": null,
            "flex": null,
            "flex_flow": null,
            "grid_area": null,
            "grid_auto_columns": null,
            "grid_auto_flow": null,
            "grid_auto_rows": null,
            "grid_column": null,
            "grid_gap": null,
            "grid_row": null,
            "grid_template_areas": null,
            "grid_template_columns": null,
            "grid_template_rows": null,
            "height": null,
            "justify_content": null,
            "justify_items": null,
            "left": null,
            "margin": null,
            "max_height": null,
            "max_width": null,
            "min_height": null,
            "min_width": null,
            "object_fit": null,
            "object_position": null,
            "order": null,
            "overflow": null,
            "overflow_x": null,
            "overflow_y": null,
            "padding": null,
            "right": null,
            "top": null,
            "visibility": null,
            "width": null
          }
        },
        "c6b3d4c2d97644b89886ff5667855a53": {
          "model_module": "@jupyter-widgets/base",
          "model_name": "LayoutModel",
          "model_module_version": "1.2.0",
          "state": {
            "_model_module": "@jupyter-widgets/base",
            "_model_module_version": "1.2.0",
            "_model_name": "LayoutModel",
            "_view_count": null,
            "_view_module": "@jupyter-widgets/base",
            "_view_module_version": "1.2.0",
            "_view_name": "LayoutView",
            "align_content": null,
            "align_items": null,
            "align_self": null,
            "border": null,
            "bottom": null,
            "display": null,
            "flex": null,
            "flex_flow": null,
            "grid_area": null,
            "grid_auto_columns": null,
            "grid_auto_flow": null,
            "grid_auto_rows": null,
            "grid_column": null,
            "grid_gap": null,
            "grid_row": null,
            "grid_template_areas": null,
            "grid_template_columns": null,
            "grid_template_rows": null,
            "height": null,
            "justify_content": null,
            "justify_items": null,
            "left": null,
            "margin": null,
            "max_height": null,
            "max_width": null,
            "min_height": null,
            "min_width": null,
            "object_fit": null,
            "object_position": null,
            "order": null,
            "overflow": null,
            "overflow_x": null,
            "overflow_y": null,
            "padding": null,
            "right": null,
            "top": null,
            "visibility": null,
            "width": null
          }
        },
        "aecf721ce0a44a5ebecbed9096287709": {
          "model_module": "@jupyter-widgets/controls",
          "model_name": "DescriptionStyleModel",
          "model_module_version": "1.5.0",
          "state": {
            "_model_module": "@jupyter-widgets/controls",
            "_model_module_version": "1.5.0",
            "_model_name": "DescriptionStyleModel",
            "_view_count": null,
            "_view_module": "@jupyter-widgets/base",
            "_view_module_version": "1.2.0",
            "_view_name": "StyleView",
            "description_width": ""
          }
        },
        "633ddf7004874b96b1c24e8ca734a490": {
          "model_module": "@jupyter-widgets/base",
          "model_name": "LayoutModel",
          "model_module_version": "1.2.0",
          "state": {
            "_model_module": "@jupyter-widgets/base",
            "_model_module_version": "1.2.0",
            "_model_name": "LayoutModel",
            "_view_count": null,
            "_view_module": "@jupyter-widgets/base",
            "_view_module_version": "1.2.0",
            "_view_name": "LayoutView",
            "align_content": null,
            "align_items": null,
            "align_self": null,
            "border": null,
            "bottom": null,
            "display": null,
            "flex": null,
            "flex_flow": null,
            "grid_area": null,
            "grid_auto_columns": null,
            "grid_auto_flow": null,
            "grid_auto_rows": null,
            "grid_column": null,
            "grid_gap": null,
            "grid_row": null,
            "grid_template_areas": null,
            "grid_template_columns": null,
            "grid_template_rows": null,
            "height": null,
            "justify_content": null,
            "justify_items": null,
            "left": null,
            "margin": null,
            "max_height": null,
            "max_width": null,
            "min_height": null,
            "min_width": null,
            "object_fit": null,
            "object_position": null,
            "order": null,
            "overflow": null,
            "overflow_x": null,
            "overflow_y": null,
            "padding": null,
            "right": null,
            "top": null,
            "visibility": null,
            "width": null
          }
        },
        "45bc2b5175e74a3bb2fd2f8968d54f21": {
          "model_module": "@jupyter-widgets/controls",
          "model_name": "ProgressStyleModel",
          "model_module_version": "1.5.0",
          "state": {
            "_model_module": "@jupyter-widgets/controls",
            "_model_module_version": "1.5.0",
            "_model_name": "ProgressStyleModel",
            "_view_count": null,
            "_view_module": "@jupyter-widgets/base",
            "_view_module_version": "1.2.0",
            "_view_name": "StyleView",
            "bar_color": null,
            "description_width": ""
          }
        },
        "5497d5d1887548c481def38f82de61b9": {
          "model_module": "@jupyter-widgets/base",
          "model_name": "LayoutModel",
          "model_module_version": "1.2.0",
          "state": {
            "_model_module": "@jupyter-widgets/base",
            "_model_module_version": "1.2.0",
            "_model_name": "LayoutModel",
            "_view_count": null,
            "_view_module": "@jupyter-widgets/base",
            "_view_module_version": "1.2.0",
            "_view_name": "LayoutView",
            "align_content": null,
            "align_items": null,
            "align_self": null,
            "border": null,
            "bottom": null,
            "display": null,
            "flex": null,
            "flex_flow": null,
            "grid_area": null,
            "grid_auto_columns": null,
            "grid_auto_flow": null,
            "grid_auto_rows": null,
            "grid_column": null,
            "grid_gap": null,
            "grid_row": null,
            "grid_template_areas": null,
            "grid_template_columns": null,
            "grid_template_rows": null,
            "height": null,
            "justify_content": null,
            "justify_items": null,
            "left": null,
            "margin": null,
            "max_height": null,
            "max_width": null,
            "min_height": null,
            "min_width": null,
            "object_fit": null,
            "object_position": null,
            "order": null,
            "overflow": null,
            "overflow_x": null,
            "overflow_y": null,
            "padding": null,
            "right": null,
            "top": null,
            "visibility": null,
            "width": null
          }
        },
        "f3bf0f4cb2314196bcc331978db5386b": {
          "model_module": "@jupyter-widgets/controls",
          "model_name": "DescriptionStyleModel",
          "model_module_version": "1.5.0",
          "state": {
            "_model_module": "@jupyter-widgets/controls",
            "_model_module_version": "1.5.0",
            "_model_name": "DescriptionStyleModel",
            "_view_count": null,
            "_view_module": "@jupyter-widgets/base",
            "_view_module_version": "1.2.0",
            "_view_name": "StyleView",
            "description_width": ""
          }
        }
      }
    }
  },
  "nbformat": 4,
  "nbformat_minor": 5
}