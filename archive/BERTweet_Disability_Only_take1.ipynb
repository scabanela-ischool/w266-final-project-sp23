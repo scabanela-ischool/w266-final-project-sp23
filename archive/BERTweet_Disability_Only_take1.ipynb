{
 "cells": [
  {
   "cell_type": "markdown",
   "id": "0f02e155",
   "metadata": {},
   "source": [
    "## Imports"
   ]
  },
  {
   "cell_type": "code",
   "execution_count": 1,
   "id": "166edf60",
   "metadata": {},
   "outputs": [
    {
     "name": "stderr",
     "output_type": "stream",
     "text": [
      "/Users/cabanela/anaconda3/envs/w266tensorflow/lib/python3.10/site-packages/tensorflow_addons/utils/ensure_tf_install.py:53: UserWarning: Tensorflow Addons supports using Python ops for all Tensorflow versions above or equal to 2.7.0 and strictly below 2.10.0 (nightly versions are not supported). \n",
      " The versions of TensorFlow you are currently using is 2.12.0 and is not supported. \n",
      "Some things might work, some things might not.\n",
      "If you were to encounter a bug, do not file an issue.\n",
      "If you want to make sure you're using a tested and supported configuration, either change the TensorFlow version or the TensorFlow Addons's version. \n",
      "You can find the compatibility matrix in TensorFlow Addon's readme:\n",
      "https://github.com/tensorflow/addons\n",
      "  warnings.warn(\n"
     ]
    }
   ],
   "source": [
    "import pandas as pd\n",
    "import numpy as np\n",
    "import matplotlib.pyplot as plt\n",
    "\n",
    "import tensorflow as tf\n",
    "import tensorflow_addons as tfa\n",
    "import transformers\n",
    "from transformers import AutoTokenizer,TFRobertaModel\n",
    "\n",
    "import pytz\n",
    "import datetime"
   ]
  },
  {
   "cell_type": "markdown",
   "id": "061a517d",
   "metadata": {},
   "source": [
    "## Resources Configuration"
   ]
  },
  {
   "cell_type": "code",
   "execution_count": 2,
   "id": "92ed989b",
   "metadata": {},
   "outputs": [
    {
     "name": "stdout",
     "output_type": "stream",
     "text": [
      "REPLICAS:  1\n"
     ]
    }
   ],
   "source": [
    "# Detect hardware, return appropriate distribution strategy\n",
    "try:\n",
    "    tpu = tf.distribute.cluster_resolver.TPUClusterResolver()\n",
    "    print('Running on TPU ', tpu.master())\n",
    "except ValueError:\n",
    "    tpu = None\n",
    "\n",
    "if tpu:\n",
    "    tf.config.experimental_connect_to_cluster(tpu)\n",
    "    tf.tpu.experimental.initialize_tpu_system(tpu)\n",
    "    strategy = tf.distribute.experimental.TPUStrategy(tpu)\n",
    "else:\n",
    "    # Default distribution strategy in Tensorflow. Works on CPU and single GPU.\n",
    "    strategy = tf.distribute.get_strategy()\n",
    "\n",
    "print(\"REPLICAS: \", strategy.num_replicas_in_sync)"
   ]
  },
  {
   "cell_type": "code",
   "execution_count": 3,
   "id": "113295a5",
   "metadata": {},
   "outputs": [
    {
     "name": "stdout",
     "output_type": "stream",
     "text": [
      "Python Platform: macOS-12.5-arm64-arm-64bit\n",
      "Tensor Flow Version: 2.12.0\n",
      "Keras Version: 2.12.0\n",
      "\n",
      "Python 3.10.10 | packaged by conda-forge | (main, Mar 24 2023, 20:12:31) [Clang 14.0.6 ]\n",
      "Pandas 2.0.0\n",
      "Scikit-Learn 1.2.2\n",
      "GPU is available\n"
     ]
    }
   ],
   "source": [
    "# What version of Python do you have?\n",
    "import sys\n",
    "import platform\n",
    "import sklearn as sk\n",
    "\n",
    "print(f\"Python Platform: {platform.platform()}\")\n",
    "print(f\"Tensor Flow Version: {tf.__version__}\")\n",
    "print(f\"Keras Version: {tf.keras.__version__}\")\n",
    "print()\n",
    "print(f\"Python {sys.version}\")\n",
    "print(f\"Pandas {pd.__version__}\")\n",
    "print(f\"Scikit-Learn {sk.__version__}\")\n",
    "gpu = len(tf.config.list_physical_devices('GPU'))>0\n",
    "print(\"GPU is\", \"available\" if gpu else \"NOT AVAILABLE\")"
   ]
  },
  {
   "cell_type": "markdown",
   "id": "ac6533ca",
   "metadata": {},
   "source": [
    "## Functions and Constants"
   ]
  },
  {
   "cell_type": "code",
   "execution_count": 4,
   "id": "653cd9b5",
   "metadata": {},
   "outputs": [],
   "source": [
    "def to_arrays(df):\n",
    "  X = df['comment_text'].to_numpy()\n",
    "  y = df['toxicity_binary'].to_numpy()\n",
    "  return X, y\n",
    "\n",
    "def load_data(group):\n",
    "  df_train = pd.read_csv('data/' + group + '-dataset-train.csv')\n",
    "  df_val = pd.read_csv('data/' + group + '-dataset-val.csv')\n",
    "  df_test = pd.read_csv('data/' + group + '-dataset-test.csv')\n",
    "\n",
    "  X_train, y_train = to_arrays(df_train)\n",
    "  X_val, y_val = to_arrays(df_val)\n",
    "  X_test, y_test = to_arrays(df_test)\n",
    "\n",
    "  return X_train, y_train, X_test, y_test, X_val, y_val"
   ]
  },
  {
   "cell_type": "code",
   "execution_count": 5,
   "id": "9b7be9ac",
   "metadata": {},
   "outputs": [],
   "source": [
    "MAX_SEQUENCE_LENGTH = 128"
   ]
  },
  {
   "cell_type": "code",
   "execution_count": 6,
   "id": "023b0626",
   "metadata": {},
   "outputs": [],
   "source": [
    "def tokenizing_pipeline(X, tokenizer):\n",
    "  bert_tokenized = tokenizer(list(X),\n",
    "                max_length=MAX_SEQUENCE_LENGTH,\n",
    "                truncation=True,\n",
    "                padding='max_length',\n",
    "                return_tensors='tf')\n",
    "  bert_inputs = [bert_tokenized.input_ids,\n",
    "                 bert_tokenized.token_type_ids,\n",
    "                 bert_tokenized.attention_mask]\n",
    "  return bert_inputs"
   ]
  },
  {
   "cell_type": "code",
   "execution_count": 7,
   "id": "f486369a",
   "metadata": {},
   "outputs": [],
   "source": [
    "def build_bertweet_cls_model(max_sequence_length=MAX_SEQUENCE_LENGTH,\n",
    "                          hidden_size=100, \n",
    "                          dropout=0.3,\n",
    "                          learning_rate=0.0001,\n",
    "                          num_train_layers=0):\n",
    "\n",
    "    # freeze all pre-trained BERTweet layers\n",
    "    if num_train_layers == 0:\n",
    "      bertweet_model.trainable = False\n",
    "\n",
    "    # partially freeze the first n pre-trained BERTweet layers\n",
    "    else:\n",
    "        for layer_num in range(num_train_layers):\n",
    "            bertweet_model.roberta.encoder.layer[layer_num].trainable = False\n",
    "    \n",
    "    input_ids = tf.keras.layers.Input(shape=(max_sequence_length,), dtype=tf.int64, name='input_ids_layer')\n",
    "    token_type_ids = tf.keras.layers.Input(shape=(max_sequence_length,), dtype=tf.int64, name='token_type_ids_layer')\n",
    "    attention_mask = tf.keras.layers.Input(shape=(max_sequence_length,), dtype=tf.int64, name='attention_mask_layer')\n",
    "\n",
    "    bert_inputs = {'input_ids': input_ids,\n",
    "                   'token_type_ids': token_type_ids,\n",
    "                   'attention_mask': attention_mask}      \n",
    "\n",
    "    # Use the same bertweet model instance\n",
    "    bert_out = bertweet_model(bert_inputs)\n",
    "\n",
    "    cls_token = bert_out[0][:, 0, :]\n",
    "\n",
    "    \n",
    "    hidden = tf.keras.layers.Dense(hidden_size, activation='relu', name='hidden_layer')(cls_token)\n",
    "\n",
    "    hidden = tf.keras.layers.Dropout(dropout)(hidden)  \n",
    "\n",
    "    f1_score = tfa.metrics.F1Score(1, threshold = 0.5)\n",
    "\n",
    "    classification = tf.keras.layers.Dense(1, activation='sigmoid', name='classification_layer')(hidden)\n",
    "    \n",
    "    classification_model = tf.keras.Model(inputs=[input_ids, token_type_ids, attention_mask], outputs=[classification])\n",
    "    \n",
    "    classification_model.compile(optimizer=tf.keras.optimizers.legacy.Adam(learning_rate=learning_rate),\n",
    "                                 loss=tf.keras.losses.BinaryCrossentropy(from_logits=False), \n",
    "                                 metrics=[tf.keras.metrics.BinaryAccuracy(),\n",
    "                                        tf.keras.metrics.Precision(),\n",
    "                                        tf.keras.metrics.Recall(),\n",
    "                                        f1_score])\n",
    "\n",
    "    return classification_model"
   ]
  },
  {
   "cell_type": "markdown",
   "id": "e3390ff2",
   "metadata": {},
   "source": [
    "## Load Data"
   ]
  },
  {
   "cell_type": "code",
   "execution_count": 8,
   "id": "165a0f2b",
   "metadata": {},
   "outputs": [],
   "source": [
    "X_train_disability, y_train_disability, X_test_disability, y_test_disability, X_val_disability, y_val_disability = load_data('disability')"
   ]
  },
  {
   "cell_type": "code",
   "execution_count": 9,
   "id": "1513e398",
   "metadata": {},
   "outputs": [
    {
     "data": {
      "text/plain": [
       "\"Doesn't work? How do we know? When the country is at the point of legalizing silencers, and the right of the mentally ill to own assault weapons, it's laughable to think we have ANY gun controls.\""
      ]
     },
     "execution_count": 9,
     "metadata": {},
     "output_type": "execute_result"
    }
   ],
   "source": [
    "X_train_disability[0]"
   ]
  },
  {
   "cell_type": "code",
   "execution_count": 10,
   "id": "a6627800",
   "metadata": {},
   "outputs": [
    {
     "data": {
      "text/plain": [
       "'LoL. The mental retardation of the (d)onkeys is stunning.\\nThey propose the craziest whackjob laws without one regard to the Constitution.'"
      ]
     },
     "execution_count": 10,
     "metadata": {},
     "output_type": "execute_result"
    }
   ],
   "source": [
    "X_train_disability[1]"
   ]
  },
  {
   "cell_type": "markdown",
   "id": "c352de2f",
   "metadata": {},
   "source": [
    "## Load BERTweet Model from_pretrained()"
   ]
  },
  {
   "cell_type": "code",
   "execution_count": 12,
   "id": "e252515b",
   "metadata": {},
   "outputs": [
    {
     "name": "stderr",
     "output_type": "stream",
     "text": [
      "Special tokens have been added in the vocabulary, make sure the associated word embeddings are fine-tuned or trained.\n"
     ]
    },
    {
     "name": "stdout",
     "output_type": "stream",
     "text": [
      "Metal device set to: Apple M1 Pro\n"
     ]
    },
    {
     "name": "stderr",
     "output_type": "stream",
     "text": [
      "Some layers from the model checkpoint at vinai/bertweet-base were not used when initializing TFRobertaModel: ['lm_head']\n",
      "- This IS expected if you are initializing TFRobertaModel from the checkpoint of a model trained on another task or with another architecture (e.g. initializing a BertForSequenceClassification model from a BertForPreTraining model).\n",
      "- This IS NOT expected if you are initializing TFRobertaModel from the checkpoint of a model that you expect to be exactly identical (initializing a BertForSequenceClassification model from a BertForSequenceClassification model).\n",
      "All the layers of TFRobertaModel were initialized from the model checkpoint at vinai/bertweet-base.\n",
      "If your task is similar to the task the model of the checkpoint was trained on, you can already use TFRobertaModel for predictions without further training.\n"
     ]
    }
   ],
   "source": [
    "# For transformers v4.x+:\n",
    "bertweet_tokenizer = AutoTokenizer.from_pretrained(\"vinai/bertweet-base\", use_fast=False)\n",
    "bertweet_model = TFRobertaModel.from_pretrained(\"vinai/bertweet-base\")"
   ]
  },
  {
   "cell_type": "code",
   "execution_count": 13,
   "id": "01854eb9",
   "metadata": {},
   "outputs": [
    {
     "name": "stdout",
     "output_type": "stream",
     "text": [
      "Model: \"tf_roberta_model\"\n",
      "_________________________________________________________________\n",
      " Layer (type)                Output Shape              Param #   \n",
      "=================================================================\n",
      " roberta (TFRobertaMainLayer  multiple                 134899968 \n",
      " )                                                               \n",
      "                                                                 \n",
      "=================================================================\n",
      "Total params: 134,899,968\n",
      "Trainable params: 134,899,968\n",
      "Non-trainable params: 0\n",
      "_________________________________________________________________\n"
     ]
    }
   ],
   "source": [
    "bertweet_model.summary()"
   ]
  },
  {
   "cell_type": "markdown",
   "id": "6bbf0d8f",
   "metadata": {},
   "source": [
    "## Tokenize Data Splits"
   ]
  },
  {
   "cell_type": "code",
   "execution_count": 14,
   "id": "b25b6965",
   "metadata": {},
   "outputs": [],
   "source": [
    "bertweet_train_inputs_disability = tokenizing_pipeline(X_train_disability, bertweet_tokenizer)\n",
    "bertweet_test_inputs_disability = tokenizing_pipeline(X_test_disability, bertweet_tokenizer)\n",
    "bertweet_val_inputs_disability = tokenizing_pipeline(X_val_disability, bertweet_tokenizer)"
   ]
  },
  {
   "cell_type": "markdown",
   "id": "94f5b97a",
   "metadata": {},
   "source": [
    "## Calculate Class Weights for Disability"
   ]
  },
  {
   "cell_type": "markdown",
   "id": "b6f287eb",
   "metadata": {},
   "source": [
    "Get class weights for disability train set:"
   ]
  },
  {
   "cell_type": "code",
   "execution_count": 15,
   "id": "5c048779",
   "metadata": {},
   "outputs": [
    {
     "name": "stdout",
     "output_type": "stream",
     "text": [
      "Disability Examples:\n",
      "    Total: 12798\n",
      "    Positive: 2758 (21.55% of total)\n",
      "\n",
      "Disability Weight for class 0: 0.64\n",
      "Disability Weight for class 1: 2.32\n"
     ]
    }
   ],
   "source": [
    "neg, pos = np.bincount(y_train_disability)\n",
    "total = neg + pos\n",
    "print('Disability Examples:\\n    Total: {}\\n    Positive: {} ({:.2f}% of total)\\n'.format(\n",
    "    total, pos, 100 * pos / total))\n",
    "\n",
    "# Scaling by total/2 helps keep the loss to a similar magnitude.\n",
    "# The sum of the weights of all examples stays the same.\n",
    "weight_for_0 = (1 / neg) * (total / 2.0)\n",
    "weight_for_1 = (1 / pos) * (total / 2.0)\n",
    "\n",
    "disability_class_weight = {0: weight_for_0, 1: weight_for_1}\n",
    "\n",
    "print('Disability Weight for class 0: {:.2f}'.format(weight_for_0))\n",
    "print('Disability Weight for class 1: {:.2f}'.format(weight_for_1))"
   ]
  },
  {
   "cell_type": "markdown",
   "id": "3129f17c",
   "metadata": {},
   "source": [
    "## Build Disability Model with half-frozen BERTweet layers"
   ]
  },
  {
   "cell_type": "code",
   "execution_count": 16,
   "id": "b72fe4c1",
   "metadata": {},
   "outputs": [
    {
     "name": "stdout",
     "output_type": "stream",
     "text": [
      "Model: \"model\"\n",
      "__________________________________________________________________________________________________\n",
      " Layer (type)                   Output Shape         Param #     Connected to                     \n",
      "==================================================================================================\n",
      " attention_mask_layer (InputLay  [(None, 128)]       0           []                               \n",
      " er)                                                                                              \n",
      "                                                                                                  \n",
      " input_ids_layer (InputLayer)   [(None, 128)]        0           []                               \n",
      "                                                                                                  \n",
      " token_type_ids_layer (InputLay  [(None, 128)]       0           []                               \n",
      " er)                                                                                              \n",
      "                                                                                                  \n",
      " tf_roberta_model (TFRobertaMod  TFBaseModelOutputWi  134899968  ['attention_mask_layer[0][0]',   \n",
      " el)                            thPoolingAndCrossAt               'input_ids_layer[0][0]',        \n",
      "                                tentions(last_hidde               'token_type_ids_layer[0][0]']   \n",
      "                                n_state=(None, 128,                                               \n",
      "                                 768),                                                            \n",
      "                                 pooler_output=(Non                                               \n",
      "                                e, 768),                                                          \n",
      "                                 past_key_values=No                                               \n",
      "                                ne, hidden_states=N                                               \n",
      "                                one, attentions=Non                                               \n",
      "                                e, cross_attentions                                               \n",
      "                                =None)                                                            \n",
      "                                                                                                  \n",
      " tf.__operators__.getitem (Slic  (None, 768)         0           ['tf_roberta_model[0][0]']       \n",
      " ingOpLambda)                                                                                     \n",
      "                                                                                                  \n",
      " hidden_layer (Dense)           (None, 100)          76900       ['tf.__operators__.getitem[0][0]'\n",
      "                                                                 ]                                \n",
      "                                                                                                  \n",
      " dropout_37 (Dropout)           (None, 100)          0           ['hidden_layer[0][0]']           \n",
      "                                                                                                  \n",
      " classification_layer (Dense)   (None, 1)            101         ['dropout_37[0][0]']             \n",
      "                                                                                                  \n",
      "==================================================================================================\n",
      "Total params: 134,976,969\n",
      "Trainable params: 92,449,737\n",
      "Non-trainable params: 42,527,232\n",
      "__________________________________________________________________________________________________\n"
     ]
    }
   ],
   "source": [
    "disability_model = build_bertweet_cls_model(num_train_layers=6, learning_rate=1e-5)\n",
    "disability_model.summary()"
   ]
  },
  {
   "cell_type": "code",
   "execution_count": 17,
   "id": "ea9b921b",
   "metadata": {},
   "outputs": [
    {
     "name": "stdout",
     "output_type": "stream",
     "text": [
      "2023-04-11T02:06:07.500742-07:00\n"
     ]
    }
   ],
   "source": [
    "america_la_tz = pytz.timezone('America/Los_Angeles')\n",
    "start_time = datetime.datetime.now(tz=america_la_tz).isoformat()\n",
    "print(str(start_time))"
   ]
  },
  {
   "cell_type": "markdown",
   "id": "f4ed6610",
   "metadata": {},
   "source": [
    "## Train Disability Model "
   ]
  },
  {
   "cell_type": "code",
   "execution_count": 18,
   "id": "14535c2b",
   "metadata": {},
   "outputs": [
    {
     "name": "stdout",
     "output_type": "stream",
     "text": [
      "Epoch 1/5\n"
     ]
    },
    {
     "name": "stderr",
     "output_type": "stream",
     "text": [
      "2023-04-11 02:06:15.293854: W tensorflow/tsl/platform/profile_utils/cpu_utils.cc:128] Failed to get CPU frequency: 0 Hz\n"
     ]
    },
    {
     "name": "stdout",
     "output_type": "stream",
     "text": [
      "WARNING:tensorflow:Gradients do not exist for variables ['tf_roberta_model/roberta/pooler/dense/kernel:0', 'tf_roberta_model/roberta/pooler/dense/bias:0'] when minimizing the loss. If you're using `model.compile()`, did you forget to provide a `loss` argument?\n",
      "WARNING:tensorflow:Gradients do not exist for variables ['tf_roberta_model/roberta/pooler/dense/kernel:0', 'tf_roberta_model/roberta/pooler/dense/bias:0'] when minimizing the loss. If you're using `model.compile()`, did you forget to provide a `loss` argument?\n",
      "400/400 [==============================] - 461s 1s/step - loss: 0.5743 - binary_accuracy: 0.6907 - precision: 0.3816 - recall: 0.7009 - f1_score: 0.4941 - val_loss: 0.4935 - val_binary_accuracy: 0.7732 - val_precision: 0.4783 - val_recall: 0.8333 - val_f1_score: 0.6078\n",
      "Epoch 2/5\n",
      "400/400 [==============================] - 449s 1s/step - loss: 0.4851 - binary_accuracy: 0.7629 - precision: 0.4686 - recall: 0.7458 - f1_score: 0.5755 - val_loss: 0.5486 - val_binary_accuracy: 0.7418 - val_precision: 0.4443 - val_recall: 0.8956 - val_f1_score: 0.5940\n",
      "Epoch 3/5\n",
      "400/400 [==============================] - 444s 1s/step - loss: 0.4440 - binary_accuracy: 0.7865 - precision: 0.5029 - recall: 0.7792 - f1_score: 0.6113 - val_loss: 0.5417 - val_binary_accuracy: 0.7409 - val_precision: 0.4443 - val_recall: 0.9133 - val_f1_score: 0.5978\n",
      "Epoch 4/5\n",
      "400/400 [==============================] - 445s 1s/step - loss: 0.4129 - binary_accuracy: 0.8011 - precision: 0.5252 - recall: 0.8024 - f1_score: 0.6348 - val_loss: 0.3608 - val_binary_accuracy: 0.8365 - val_precision: 0.5837 - val_recall: 0.7822 - val_f1_score: 0.6686\n",
      "Epoch 5/5\n",
      "400/400 [==============================] - 479s 1s/step - loss: 0.3885 - binary_accuracy: 0.8211 - precision: 0.5581 - recall: 0.8154 - f1_score: 0.6626 - val_loss: 0.4762 - val_binary_accuracy: 0.7915 - val_precision: 0.5032 - val_recall: 0.8844 - val_f1_score: 0.6414\n"
     ]
    }
   ],
   "source": [
    "disability_history = disability_model.fit(bertweet_train_inputs_disability,\n",
    "                                          y_train_disability,\n",
    "                                          validation_data=(bertweet_val_inputs_disability, y_val_disability),\n",
    "                                          batch_size=32,\n",
    "                                          epochs=5,\n",
    "                                          class_weight=disability_class_weight)"
   ]
  },
  {
   "cell_type": "code",
   "execution_count": 26,
   "id": "347ff0c9",
   "metadata": {},
   "outputs": [
    {
     "data": {
      "image/png": "[encoded data removed]",
      "text/plain": [
       "<Figure size 640x480 with 1 Axes>"
      ]
     },
     "metadata": {},
     "output_type": "display_data"
    }
   ],
   "source": [
    "history = pd.DataFrame(disability_history.history)\n",
    "plt.ylabel('F1 Score')\n",
    "plt.xlabel('Epoch')\n",
    "plt.title('Disability Only Train vs Val F1 Score for Half-Frozen Bertweet')\n",
    "plt.xticks([0, 1, 2, 3, 4],['1', '2', '3', '4', '5'])\n",
    "plt.plot(history['f1_score'], label=\"training\", marker='o')\n",
    "plt.plot(history['val_f1_score'], label=\"validation\", marker='o')\n",
    "plt.legend()\n",
    "plt.show()"
   ]
  },
  {
   "cell_type": "code",
   "execution_count": 27,
   "id": "ab6607bb",
   "metadata": {},
   "outputs": [
    {
     "data": {
      "image/png": "[encoded data removed]",
      "text/plain": [
       "<Figure size 640x480 with 1 Axes>"
      ]
     },
     "metadata": {},
     "output_type": "display_data"
    }
   ],
   "source": [
    "history = pd.DataFrame(disability_history.history)\n",
    "plt.ylabel('Loss')\n",
    "plt.xlabel('Epoch')\n",
    "plt.title('Disability Only Train vs Val Loss for Half-Frozen Bertweet')\n",
    "plt.xticks([0, 1, 2, 3, 4],['1', '2', '3', '4', '5'])\n",
    "plt.plot(history['loss'], label=\"training\", marker='o')\n",
    "plt.plot(history['val_loss'], label=\"validation\", marker='o')\n",
    "plt.legend()\n",
    "plt.show()"
   ]
  },
  {
   "cell_type": "code",
   "execution_count": 29,
   "id": "ad42b36b",
   "metadata": {},
   "outputs": [
    {
     "data": {
      "image/png": "[encoded data removed]",
      "text/plain": [
       "<Figure size 640x480 with 1 Axes>"
      ]
     },
     "metadata": {},
     "output_type": "display_data"
    }
   ],
   "source": [
    "history = pd.DataFrame(disability_history.history)\n",
    "plt.ylabel('F1 Score')\n",
    "plt.xlabel('Epoch')\n",
    "plt.title('Disability Only Train vs Val Binary Accuracy for Half-Frozen Bertweet')\n",
    "plt.xticks([0, 1, 2, 3, 4],['1', '2', '3', '4', '5'])\n",
    "plt.plot(history['binary_accuracy'], label=\"training\", marker='o')\n",
    "plt.plot(history['val_binary_accuracy'], label=\"validation\", marker='o')\n",
    "plt.legend()\n",
    "plt.show()"
   ]
  },
  {
   "cell_type": "markdown",
   "id": "5c4fb6da",
   "metadata": {},
   "source": [
    "## Evaluate Disability Model on Test Set"
   ]
  },
  {
   "cell_type": "code",
   "execution_count": 30,
   "id": "f97f561d",
   "metadata": {},
   "outputs": [
    {
     "name": "stdout",
     "output_type": "stream",
     "text": [
      "117/117 [==============================] - 45s 379ms/step - loss: 0.4699 - binary_accuracy: 0.7924 - precision: 0.4931 - recall: 0.8494 - f1_score: 0.6240\n"
     ]
    }
   ],
   "source": [
    "disability_test_history = disability_model.evaluate(bertweet_test_inputs_disability, y_test_disability)"
   ]
  },
  {
   "cell_type": "markdown",
   "id": "83d47671",
   "metadata": {},
   "source": [
    "## Export Results to csv"
   ]
  },
  {
   "cell_type": "code",
   "execution_count": 35,
   "id": "8be4d31e",
   "metadata": {},
   "outputs": [
    {
     "data": {
      "text/html": [
       "<div>\n",
       "<style scoped>\n",
       "    .dataframe tbody tr th:only-of-type {\n",
       "        vertical-align: middle;\n",
       "    }\n",
       "\n",
       "    .dataframe tbody tr th {\n",
       "        vertical-align: top;\n",
       "    }\n",
       "\n",
       "    .dataframe thead th {\n",
       "        text-align: right;\n",
       "    }\n",
       "</style>\n",
       "<table border=\"1\" class=\"dataframe\">\n",
       "  <thead>\n",
       "    <tr style=\"text-align: right;\">\n",
       "      <th></th>\n",
       "      <th>loss</th>\n",
       "      <th>binary_accuracy</th>\n",
       "      <th>precision</th>\n",
       "      <th>recall</th>\n",
       "      <th>f1_score</th>\n",
       "      <th>val_loss</th>\n",
       "      <th>val_binary_accuracy</th>\n",
       "      <th>val_precision</th>\n",
       "      <th>val_recall</th>\n",
       "      <th>val_f1_score</th>\n",
       "      <th>test_loss</th>\n",
       "      <th>test_binary_accuracy</th>\n",
       "      <th>test_precision</th>\n",
       "      <th>test_recall</th>\n",
       "      <th>test_f1_score</th>\n",
       "    </tr>\n",
       "  </thead>\n",
       "  <tbody>\n",
       "    <tr>\n",
       "      <th>0</th>\n",
       "      <td>0.574286</td>\n",
       "      <td>0.690733</td>\n",
       "      <td>0.381563</td>\n",
       "      <td>0.700870</td>\n",
       "      <td>[0.4941207]</td>\n",
       "      <td>0.493458</td>\n",
       "      <td>0.773196</td>\n",
       "      <td>0.478316</td>\n",
       "      <td>0.833333</td>\n",
       "      <td>[0.6077796]</td>\n",
       "      <td>NaN</td>\n",
       "      <td>NaN</td>\n",
       "      <td>NaN</td>\n",
       "      <td>NaN</td>\n",
       "      <td>NaN</td>\n",
       "    </tr>\n",
       "    <tr>\n",
       "      <th>1</th>\n",
       "      <td>0.485123</td>\n",
       "      <td>0.762932</td>\n",
       "      <td>0.468565</td>\n",
       "      <td>0.745830</td>\n",
       "      <td>[0.5755456]</td>\n",
       "      <td>0.548597</td>\n",
       "      <td>0.741799</td>\n",
       "      <td>0.444322</td>\n",
       "      <td>0.895556</td>\n",
       "      <td>[0.5939573]</td>\n",
       "      <td>NaN</td>\n",
       "      <td>NaN</td>\n",
       "      <td>NaN</td>\n",
       "      <td>NaN</td>\n",
       "      <td>NaN</td>\n",
       "    </tr>\n",
       "    <tr>\n",
       "      <th>2</th>\n",
       "      <td>0.444014</td>\n",
       "      <td>0.786451</td>\n",
       "      <td>0.502925</td>\n",
       "      <td>0.779188</td>\n",
       "      <td>[0.6112929]</td>\n",
       "      <td>0.541670</td>\n",
       "      <td>0.740862</td>\n",
       "      <td>0.444324</td>\n",
       "      <td>0.913333</td>\n",
       "      <td>[0.59781826]</td>\n",
       "      <td>NaN</td>\n",
       "      <td>NaN</td>\n",
       "      <td>NaN</td>\n",
       "      <td>NaN</td>\n",
       "      <td>NaN</td>\n",
       "    </tr>\n",
       "    <tr>\n",
       "      <th>3</th>\n",
       "      <td>0.412935</td>\n",
       "      <td>0.801063</td>\n",
       "      <td>0.525154</td>\n",
       "      <td>0.802393</td>\n",
       "      <td>[0.634825]</td>\n",
       "      <td>0.360841</td>\n",
       "      <td>0.836457</td>\n",
       "      <td>0.583748</td>\n",
       "      <td>0.782222</td>\n",
       "      <td>[0.6685661]</td>\n",
       "      <td>NaN</td>\n",
       "      <td>NaN</td>\n",
       "      <td>NaN</td>\n",
       "      <td>NaN</td>\n",
       "      <td>NaN</td>\n",
       "    </tr>\n",
       "    <tr>\n",
       "      <th>4</th>\n",
       "      <td>0.388453</td>\n",
       "      <td>0.821066</td>\n",
       "      <td>0.558065</td>\n",
       "      <td>0.815446</td>\n",
       "      <td>[0.66264]</td>\n",
       "      <td>0.476232</td>\n",
       "      <td>0.791471</td>\n",
       "      <td>0.503161</td>\n",
       "      <td>0.884444</td>\n",
       "      <td>[0.6414183]</td>\n",
       "      <td>NaN</td>\n",
       "      <td>NaN</td>\n",
       "      <td>NaN</td>\n",
       "      <td>NaN</td>\n",
       "      <td>NaN</td>\n",
       "    </tr>\n",
       "    <tr>\n",
       "      <th>0</th>\n",
       "      <td>NaN</td>\n",
       "      <td>NaN</td>\n",
       "      <td>NaN</td>\n",
       "      <td>NaN</td>\n",
       "      <td>NaN</td>\n",
       "      <td>NaN</td>\n",
       "      <td>NaN</td>\n",
       "      <td>NaN</td>\n",
       "      <td>NaN</td>\n",
       "      <td>NaN</td>\n",
       "      <td>0.469923</td>\n",
       "      <td>0.792392</td>\n",
       "      <td>0.493098</td>\n",
       "      <td>0.849406</td>\n",
       "      <td>0.623969</td>\n",
       "    </tr>\n",
       "  </tbody>\n",
       "</table>\n",
       "</div>"
      ],
      "text/plain": [
       "       loss  binary_accuracy  precision    recall     f1_score  val_loss   \n",
       "0  0.574286         0.690733   0.381563  0.700870  [0.4941207]  0.493458  \\\n",
       "1  0.485123         0.762932   0.468565  0.745830  [0.5755456]  0.548597   \n",
       "2  0.444014         0.786451   0.502925  0.779188  [0.6112929]  0.541670   \n",
       "3  0.412935         0.801063   0.525154  0.802393   [0.634825]  0.360841   \n",
       "4  0.388453         0.821066   0.558065  0.815446    [0.66264]  0.476232   \n",
       "0       NaN              NaN        NaN       NaN          NaN       NaN   \n",
       "\n",
       "   val_binary_accuracy  val_precision  val_recall  val_f1_score  test_loss   \n",
       "0             0.773196       0.478316    0.833333   [0.6077796]        NaN  \\\n",
       "1             0.741799       0.444322    0.895556   [0.5939573]        NaN   \n",
       "2             0.740862       0.444324    0.913333  [0.59781826]        NaN   \n",
       "3             0.836457       0.583748    0.782222   [0.6685661]        NaN   \n",
       "4             0.791471       0.503161    0.884444   [0.6414183]        NaN   \n",
       "0                  NaN            NaN         NaN           NaN   0.469923   \n",
       "\n",
       "   test_binary_accuracy  test_precision  test_recall  test_f1_score  \n",
       "0                   NaN             NaN          NaN            NaN  \n",
       "1                   NaN             NaN          NaN            NaN  \n",
       "2                   NaN             NaN          NaN            NaN  \n",
       "3                   NaN             NaN          NaN            NaN  \n",
       "4                   NaN             NaN          NaN            NaN  \n",
       "0              0.792392        0.493098     0.849406       0.623969  "
      ]
     },
     "execution_count": 35,
     "metadata": {},
     "output_type": "execute_result"
    }
   ],
   "source": [
    "disability_test_history_df = pd.DataFrame({\n",
    "    'test_loss': disability_test_history[0],\n",
    "    'test_binary_accuracy': disability_test_history[1],\n",
    "    'test_precision': disability_test_history[2],\n",
    "    'test_recall': disability_test_history[3],\n",
    "    'test_f1_score': disability_test_history[4]})\n",
    "disability_results_df = pd.concat([pd.DataFrame(disability_history.history), disability_test_history_df], axis=0)\n",
    "disability_results_df"
   ]
  },
  {
   "cell_type": "code",
   "execution_count": 36,
   "id": "7eb575fb",
   "metadata": {},
   "outputs": [],
   "source": [
    "disability_results_df.to_csv('experiment_results/disability_only_half-frozen_take1.csv')"
   ]
  },
  {
   "cell_type": "markdown",
   "id": "3536ba90",
   "metadata": {},
   "source": [
    "# Save Model Weights"
   ]
  },
  {
   "cell_type": "code",
   "execution_count": 37,
   "id": "f0c1e9aa",
   "metadata": {},
   "outputs": [],
   "source": [
    "disability_model.save_weights('saved_weights/take1_disability_only_half_frozen.h5')"
   ]
  },
  {
   "cell_type": "code",
   "execution_count": null,
   "id": "a00f78c1",
   "metadata": {},
   "outputs": [],
   "source": []
  }
 ],
 "metadata": {
  "kernelspec": {
   "display_name": "Python 3.10 (tensorflow)",
   "language": "python",
   "name": "w266tensorflow"
  },
  "language_info": {
   "codemirror_mode": {
    "name": "ipython",
    "version": 3
   },
   "file_extension": ".py",
   "mimetype": "text/x-python",
   "name": "python",
   "nbconvert_exporter": "python",
   "pygments_lexer": "ipython3",
   "version": "3.10.10"
  }
 },
 "nbformat": 4,
 "nbformat_minor": 5
}
