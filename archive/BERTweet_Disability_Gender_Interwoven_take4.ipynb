{
 "cells": [
  {
   "cell_type": "markdown",
   "id": "2a45853f",
   "metadata": {},
   "source": [
    "## Imports"
   ]
  },
  {
   "cell_type": "code",
   "execution_count": 1,
   "id": "a04b186a",
   "metadata": {},
   "outputs": [
    {
     "name": "stderr",
     "output_type": "stream",
     "text": [
      "/Users/cabanela/anaconda3/envs/w266tensorflow/lib/python3.10/site-packages/tensorflow_addons/utils/ensure_tf_install.py:53: UserWarning: Tensorflow Addons supports using Python ops for all Tensorflow versions above or equal to 2.7.0 and strictly below 2.10.0 (nightly versions are not supported). \n",
      " The versions of TensorFlow you are currently using is 2.12.0 and is not supported. \n",
      "Some things might work, some things might not.\n",
      "If you were to encounter a bug, do not file an issue.\n",
      "If you want to make sure you're using a tested and supported configuration, either change the TensorFlow version or the TensorFlow Addons's version. \n",
      "You can find the compatibility matrix in TensorFlow Addon's readme:\n",
      "https://github.com/tensorflow/addons\n",
      "  warnings.warn(\n"
     ]
    }
   ],
   "source": [
    "import pandas as pd\n",
    "import numpy as np\n",
    "import matplotlib.pyplot as plt\n",
    "\n",
    "import tensorflow as tf\n",
    "import tensorflow_addons as tfa\n",
    "import transformers\n",
    "from transformers import AutoTokenizer,TFRobertaModel\n",
    "\n",
    "import pytz\n",
    "import datetime"
   ]
  },
  {
   "cell_type": "code",
   "execution_count": 2,
   "id": "eb7a17d8",
   "metadata": {},
   "outputs": [
    {
     "name": "stdout",
     "output_type": "stream",
     "text": [
      "REPLICAS:  1\n"
     ]
    }
   ],
   "source": [
    "# Detect hardware, return appropriate distribution strategy\n",
    "try:\n",
    "    tpu = tf.distribute.cluster_resolver.TPUClusterResolver()\n",
    "    print('Running on TPU ', tpu.master())\n",
    "except ValueError:\n",
    "    tpu = None\n",
    "\n",
    "if tpu:\n",
    "    tf.config.experimental_connect_to_cluster(tpu)\n",
    "    tf.tpu.experimental.initialize_tpu_system(tpu)\n",
    "    strategy = tf.distribute.experimental.TPUStrategy(tpu)\n",
    "else:\n",
    "    # Default distribution strategy in Tensorflow. Works on CPU and single GPU.\n",
    "    strategy = tf.distribute.get_strategy()\n",
    "\n",
    "print(\"REPLICAS: \", strategy.num_replicas_in_sync)"
   ]
  },
  {
   "cell_type": "code",
   "execution_count": 3,
   "id": "8be64335",
   "metadata": {},
   "outputs": [
    {
     "name": "stdout",
     "output_type": "stream",
     "text": [
      "Python Platform: macOS-12.5-arm64-arm-64bit\n",
      "Tensor Flow Version: 2.12.0\n",
      "Keras Version: 2.12.0\n",
      "\n",
      "Python 3.10.10 | packaged by conda-forge | (main, Mar 24 2023, 20:12:31) [Clang 14.0.6 ]\n",
      "Pandas 2.0.0\n",
      "Scikit-Learn 1.2.2\n",
      "GPU is available\n"
     ]
    }
   ],
   "source": [
    "# What version of Python do you have?\n",
    "import sys\n",
    "import platform\n",
    "import sklearn as sk\n",
    "\n",
    "print(f\"Python Platform: {platform.platform()}\")\n",
    "print(f\"Tensor Flow Version: {tf.__version__}\")\n",
    "print(f\"Keras Version: {tf.keras.__version__}\")\n",
    "print()\n",
    "print(f\"Python {sys.version}\")\n",
    "print(f\"Pandas {pd.__version__}\")\n",
    "print(f\"Scikit-Learn {sk.__version__}\")\n",
    "gpu = len(tf.config.list_physical_devices('GPU'))>0\n",
    "print(\"GPU is\", \"available\" if gpu else \"NOT AVAILABLE\")"
   ]
  },
  {
   "cell_type": "markdown",
   "id": "e30a75fa",
   "metadata": {},
   "source": [
    "## Functions and Constants"
   ]
  },
  {
   "cell_type": "code",
   "execution_count": 4,
   "id": "a39e90da",
   "metadata": {},
   "outputs": [],
   "source": [
    "def to_arrays(df):\n",
    "  X = df['comment_text'].to_numpy()\n",
    "  y = df['toxicity_binary'].to_numpy()\n",
    "  return X, y\n",
    "\n",
    "def load_data(group):\n",
    "  df_train = pd.read_csv('data/' + group + '-dataset-train.csv')\n",
    "  df_val = pd.read_csv('data/' + group + '-dataset-val.csv')\n",
    "  df_test = pd.read_csv('data/' + group + '-dataset-test.csv')\n",
    "\n",
    "  X_train, y_train = to_arrays(df_train)\n",
    "  X_val, y_val = to_arrays(df_val)\n",
    "  X_test, y_test = to_arrays(df_test)\n",
    "\n",
    "  return X_train, y_train, X_test, y_test, X_val, y_val"
   ]
  },
  {
   "cell_type": "code",
   "execution_count": 5,
   "id": "0b2d5f5f",
   "metadata": {},
   "outputs": [],
   "source": [
    "MAX_SEQUENCE_LENGTH = 128"
   ]
  },
  {
   "cell_type": "code",
   "execution_count": 6,
   "id": "18669a07",
   "metadata": {},
   "outputs": [],
   "source": [
    "def tokenizing_pipeline(X, tokenizer):\n",
    "  bert_tokenized = tokenizer(list(X),\n",
    "                max_length=MAX_SEQUENCE_LENGTH,\n",
    "                truncation=True,\n",
    "                padding='max_length',\n",
    "                return_tensors='tf')\n",
    "  bert_inputs = [bert_tokenized.input_ids,\n",
    "                 bert_tokenized.token_type_ids,\n",
    "                 bert_tokenized.attention_mask]\n",
    "  return bert_inputs"
   ]
  },
  {
   "cell_type": "code",
   "execution_count": 7,
   "id": "92359852",
   "metadata": {},
   "outputs": [],
   "source": [
    "def build_bertweet_cls_model(max_sequence_length=MAX_SEQUENCE_LENGTH,\n",
    "                          hidden_size=100, \n",
    "                          dropout=0.3,\n",
    "                          learning_rate=0.0001,\n",
    "                          num_train_layers=0):\n",
    "\n",
    "    # freeze all pre-trained BERTweet layers\n",
    "    if num_train_layers == 0:\n",
    "      bertweet_model.trainable = False\n",
    "\n",
    "    # partially freeze the first n pre-trained BERTweet layers\n",
    "    else:\n",
    "        for layer_num in range(num_train_layers):\n",
    "            bertweet_model.roberta.encoder.layer[layer_num].trainable = False\n",
    "    \n",
    "    input_ids = tf.keras.layers.Input(shape=(max_sequence_length,), dtype=tf.int64, name='input_ids_layer')\n",
    "    token_type_ids = tf.keras.layers.Input(shape=(max_sequence_length,), dtype=tf.int64, name='token_type_ids_layer')\n",
    "    attention_mask = tf.keras.layers.Input(shape=(max_sequence_length,), dtype=tf.int64, name='attention_mask_layer')\n",
    "\n",
    "    bert_inputs = {'input_ids': input_ids,\n",
    "                   'token_type_ids': token_type_ids,\n",
    "                   'attention_mask': attention_mask}      \n",
    "\n",
    "    # Use the same bertweet model instance\n",
    "    bert_out = bertweet_model(bert_inputs)\n",
    "\n",
    "    cls_token = bert_out[0][:, 0, :]\n",
    "\n",
    "    \n",
    "    hidden = tf.keras.layers.Dense(hidden_size, activation='relu', name='hidden_layer')(cls_token)\n",
    "\n",
    "    hidden = tf.keras.layers.Dropout(dropout)(hidden)  \n",
    "\n",
    "    f1_score = tfa.metrics.F1Score(1, threshold = 0.5)\n",
    "\n",
    "    classification = tf.keras.layers.Dense(1, activation='sigmoid', name='classification_layer')(hidden)\n",
    "    \n",
    "    classification_model = tf.keras.Model(inputs=[input_ids, token_type_ids, attention_mask], outputs=[classification])\n",
    "    \n",
    "    classification_model.compile(optimizer=tf.keras.optimizers.legacy.Adam(learning_rate=learning_rate),\n",
    "                                 loss=tf.keras.losses.BinaryCrossentropy(from_logits=False), \n",
    "                                 metrics=[tf.keras.metrics.BinaryAccuracy(),\n",
    "                                        tf.keras.metrics.Precision(),\n",
    "                                        tf.keras.metrics.Recall(),\n",
    "                                        f1_score])\n",
    "\n",
    "    return classification_model"
   ]
  },
  {
   "cell_type": "markdown",
   "id": "15bd2e96",
   "metadata": {},
   "source": [
    "## Load Data"
   ]
  },
  {
   "cell_type": "code",
   "execution_count": 8,
   "id": "a08de687",
   "metadata": {},
   "outputs": [],
   "source": [
    "X_train_disability, y_train_disability, X_test_disability, y_test_disability, X_val_disability, y_val_disability = load_data('disability')"
   ]
  },
  {
   "cell_type": "code",
   "execution_count": 9,
   "id": "72f914f2",
   "metadata": {
    "scrolled": true
   },
   "outputs": [
    {
     "data": {
      "text/plain": [
       "\"Doesn't work? How do we know? When the country is at the point of legalizing silencers, and the right of the mentally ill to own assault weapons, it's laughable to think we have ANY gun controls.\""
      ]
     },
     "execution_count": 9,
     "metadata": {},
     "output_type": "execute_result"
    }
   ],
   "source": [
    "X_train_disability[0]"
   ]
  },
  {
   "cell_type": "code",
   "execution_count": 10,
   "id": "f8f4ed6c",
   "metadata": {},
   "outputs": [
    {
     "data": {
      "text/plain": [
       "'LoL. The mental retardation of the (d)onkeys is stunning.\\nThey propose the craziest whackjob laws without one regard to the Constitution.'"
      ]
     },
     "execution_count": 10,
     "metadata": {},
     "output_type": "execute_result"
    }
   ],
   "source": [
    "X_train_disability[1]"
   ]
  },
  {
   "cell_type": "code",
   "execution_count": 11,
   "id": "fce3628f",
   "metadata": {},
   "outputs": [],
   "source": [
    "X_train_gender, y_train_gender, X_test_gender, y_test_gender, X_val_gender, y_val_gender = load_data('gender')"
   ]
  },
  {
   "cell_type": "code",
   "execution_count": 12,
   "id": "52601b32",
   "metadata": {},
   "outputs": [
    {
     "data": {
      "text/plain": [
       "'My impression is that the parents were very happy to have the media publicize their case. They raised a lot of $$ thru that publicity.  Is there any update on what now happens to those $$?'"
      ]
     },
     "execution_count": 12,
     "metadata": {},
     "output_type": "execute_result"
    }
   ],
   "source": [
    "X_train_gender[0]"
   ]
  },
  {
   "cell_type": "code",
   "execution_count": 13,
   "id": "c7eec67b",
   "metadata": {},
   "outputs": [
    {
     "data": {
      "text/plain": [
       "\"One man's opinion is another man's toilet paper. Paul Bedard=F-\""
      ]
     },
     "execution_count": 13,
     "metadata": {},
     "output_type": "execute_result"
    }
   ],
   "source": [
    "X_train_gender[1]"
   ]
  },
  {
   "cell_type": "markdown",
   "id": "c8ae7e1d",
   "metadata": {},
   "source": [
    "## Load BERTweet Model from_pretrained()"
   ]
  },
  {
   "cell_type": "code",
   "execution_count": 14,
   "id": "b08b040a",
   "metadata": {},
   "outputs": [
    {
     "name": "stderr",
     "output_type": "stream",
     "text": [
      "Special tokens have been added in the vocabulary, make sure the associated word embeddings are fine-tuned or trained.\n"
     ]
    },
    {
     "name": "stdout",
     "output_type": "stream",
     "text": [
      "Metal device set to: Apple M1 Pro\n"
     ]
    },
    {
     "name": "stderr",
     "output_type": "stream",
     "text": [
      "Some layers from the model checkpoint at vinai/bertweet-base were not used when initializing TFRobertaModel: ['lm_head']\n",
      "- This IS expected if you are initializing TFRobertaModel from the checkpoint of a model trained on another task or with another architecture (e.g. initializing a BertForSequenceClassification model from a BertForPreTraining model).\n",
      "- This IS NOT expected if you are initializing TFRobertaModel from the checkpoint of a model that you expect to be exactly identical (initializing a BertForSequenceClassification model from a BertForSequenceClassification model).\n",
      "All the layers of TFRobertaModel were initialized from the model checkpoint at vinai/bertweet-base.\n",
      "If your task is similar to the task the model of the checkpoint was trained on, you can already use TFRobertaModel for predictions without further training.\n"
     ]
    }
   ],
   "source": [
    "# For transformers v4.x+:\n",
    "bertweet_tokenizer = AutoTokenizer.from_pretrained(\"vinai/bertweet-base\", use_fast=False)\n",
    "bertweet_model = TFRobertaModel.from_pretrained(\"vinai/bertweet-base\")"
   ]
  },
  {
   "cell_type": "code",
   "execution_count": 15,
   "id": "eceecee1",
   "metadata": {},
   "outputs": [
    {
     "name": "stdout",
     "output_type": "stream",
     "text": [
      "Model: \"tf_roberta_model\"\n",
      "_________________________________________________________________\n",
      " Layer (type)                Output Shape              Param #   \n",
      "=================================================================\n",
      " roberta (TFRobertaMainLayer  multiple                 134899968 \n",
      " )                                                               \n",
      "                                                                 \n",
      "=================================================================\n",
      "Total params: 134,899,968\n",
      "Trainable params: 134,899,968\n",
      "Non-trainable params: 0\n",
      "_________________________________________________________________\n"
     ]
    }
   ],
   "source": [
    "bertweet_model.summary()"
   ]
  },
  {
   "cell_type": "markdown",
   "id": "da37cd16",
   "metadata": {},
   "source": [
    "## Tokenize Data Splits"
   ]
  },
  {
   "cell_type": "code",
   "execution_count": 16,
   "id": "a0f01c94",
   "metadata": {},
   "outputs": [],
   "source": [
    "bertweet_train_inputs_disability = tokenizing_pipeline(X_train_disability, bertweet_tokenizer)\n",
    "bertweet_test_inputs_disability = tokenizing_pipeline(X_test_disability, bertweet_tokenizer)\n",
    "bertweet_val_inputs_disability = tokenizing_pipeline(X_val_disability, bertweet_tokenizer)\n",
    "\n",
    "bertweet_train_inputs_gender = tokenizing_pipeline(X_train_gender, bertweet_tokenizer)\n",
    "bertweet_test_inputs_gender = tokenizing_pipeline(X_test_gender, bertweet_tokenizer)\n",
    "bertweet_val_inputs_gender = tokenizing_pipeline(X_val_gender, bertweet_tokenizer)"
   ]
  },
  {
   "cell_type": "markdown",
   "id": "30c5adff",
   "metadata": {},
   "source": [
    "# Calculate Class Weights for Each Identity Group"
   ]
  },
  {
   "cell_type": "markdown",
   "id": "7daaf600",
   "metadata": {},
   "source": [
    "Get class weights for disability train set:"
   ]
  },
  {
   "cell_type": "code",
   "execution_count": 17,
   "id": "d4876ad5",
   "metadata": {},
   "outputs": [
    {
     "name": "stdout",
     "output_type": "stream",
     "text": [
      "Disability Examples:\n",
      "    Total: 12798\n",
      "    Positive: 2758 (21.55% of total)\n",
      "\n",
      "Disability Weight for class 0: 0.64\n",
      "Disability Weight for class 1: 2.32\n"
     ]
    }
   ],
   "source": [
    "neg, pos = np.bincount(y_train_disability)\n",
    "total = neg + pos\n",
    "print('Disability Examples:\\n    Total: {}\\n    Positive: {} ({:.2f}% of total)\\n'.format(\n",
    "    total, pos, 100 * pos / total))\n",
    "\n",
    "# Scaling by total/2 helps keep the loss to a similar magnitude.\n",
    "# The sum of the weights of all examples stays the same.\n",
    "weight_for_0 = (1 / neg) * (total / 2.0)\n",
    "weight_for_1 = (1 / pos) * (total / 2.0)\n",
    "\n",
    "disability_class_weight = {0: weight_for_0, 1: weight_for_1}\n",
    "\n",
    "print('Disability Weight for class 0: {:.2f}'.format(weight_for_0))\n",
    "print('Disability Weight for class 1: {:.2f}'.format(weight_for_1))"
   ]
  },
  {
   "cell_type": "markdown",
   "id": "1fe4a385",
   "metadata": {},
   "source": [
    "Get class weights for gender train set:"
   ]
  },
  {
   "cell_type": "code",
   "execution_count": 18,
   "id": "a16e75ba",
   "metadata": {},
   "outputs": [
    {
     "name": "stdout",
     "output_type": "stream",
     "text": [
      "Gender Examples:\n",
      "    Total: 12798\n",
      "    Positive: 1846 (14.42% of total)\n",
      "\n",
      "Gender Weight for class 0: 0.58\n",
      "Gender Weight for class 1: 3.47\n"
     ]
    }
   ],
   "source": [
    "neg, pos = np.bincount(y_train_gender)\n",
    "total = neg + pos\n",
    "print('Gender Examples:\\n    Total: {}\\n    Positive: {} ({:.2f}% of total)\\n'.format(\n",
    "    total, pos, 100 * pos / total))\n",
    "\n",
    "# Scaling by total/2 helps keep the loss to a similar magnitude.\n",
    "# The sum of the weights of all examples stays the same.\n",
    "weight_for_0 = (1 / neg) * (total / 2.0)\n",
    "weight_for_1 = (1 / pos) * (total / 2.0)\n",
    "\n",
    "gender_class_weight = {0: weight_for_0, 1: weight_for_1}\n",
    "\n",
    "print('Gender Weight for class 0: {:.2f}'.format(weight_for_0))\n",
    "print('Gender Weight for class 1: {:.2f}'.format(weight_for_1))"
   ]
  },
  {
   "cell_type": "markdown",
   "id": "9e428fbf",
   "metadata": {},
   "source": [
    "# Build Disability Model"
   ]
  },
  {
   "cell_type": "code",
   "execution_count": 19,
   "id": "e624a503",
   "metadata": {},
   "outputs": [
    {
     "name": "stdout",
     "output_type": "stream",
     "text": [
      "Model: \"model\"\n",
      "__________________________________________________________________________________________________\n",
      " Layer (type)                   Output Shape         Param #     Connected to                     \n",
      "==================================================================================================\n",
      " attention_mask_layer (InputLay  [(None, 128)]       0           []                               \n",
      " er)                                                                                              \n",
      "                                                                                                  \n",
      " input_ids_layer (InputLayer)   [(None, 128)]        0           []                               \n",
      "                                                                                                  \n",
      " token_type_ids_layer (InputLay  [(None, 128)]       0           []                               \n",
      " er)                                                                                              \n",
      "                                                                                                  \n",
      " tf_roberta_model (TFRobertaMod  TFBaseModelOutputWi  134899968  ['attention_mask_layer[0][0]',   \n",
      " el)                            thPoolingAndCrossAt               'input_ids_layer[0][0]',        \n",
      "                                tentions(last_hidde               'token_type_ids_layer[0][0]']   \n",
      "                                n_state=(None, 128,                                               \n",
      "                                 768),                                                            \n",
      "                                 pooler_output=(Non                                               \n",
      "                                e, 768),                                                          \n",
      "                                 past_key_values=No                                               \n",
      "                                ne, hidden_states=N                                               \n",
      "                                one, attentions=Non                                               \n",
      "                                e, cross_attentions                                               \n",
      "                                =None)                                                            \n",
      "                                                                                                  \n",
      " tf.__operators__.getitem (Slic  (None, 768)         0           ['tf_roberta_model[0][0]']       \n",
      " ingOpLambda)                                                                                     \n",
      "                                                                                                  \n",
      " hidden_layer (Dense)           (None, 100)          76900       ['tf.__operators__.getitem[0][0]'\n",
      "                                                                 ]                                \n",
      "                                                                                                  \n",
      " dropout_37 (Dropout)           (None, 100)          0           ['hidden_layer[0][0]']           \n",
      "                                                                                                  \n",
      " classification_layer (Dense)   (None, 1)            101         ['dropout_37[0][0]']             \n",
      "                                                                                                  \n",
      "==================================================================================================\n",
      "Total params: 134,976,969\n",
      "Trainable params: 92,449,737\n",
      "Non-trainable params: 42,527,232\n",
      "__________________________________________________________________________________________________\n"
     ]
    }
   ],
   "source": [
    "disability_model = build_bertweet_cls_model(num_train_layers=6, learning_rate=1e-4)\n",
    "disability_model.summary()"
   ]
  },
  {
   "cell_type": "markdown",
   "id": "892a8ad7",
   "metadata": {},
   "source": [
    "# Build Gender Model"
   ]
  },
  {
   "cell_type": "code",
   "execution_count": 20,
   "id": "85f00c95",
   "metadata": {},
   "outputs": [
    {
     "name": "stdout",
     "output_type": "stream",
     "text": [
      "Model: \"model_1\"\n",
      "__________________________________________________________________________________________________\n",
      " Layer (type)                   Output Shape         Param #     Connected to                     \n",
      "==================================================================================================\n",
      " attention_mask_layer (InputLay  [(None, 128)]       0           []                               \n",
      " er)                                                                                              \n",
      "                                                                                                  \n",
      " input_ids_layer (InputLayer)   [(None, 128)]        0           []                               \n",
      "                                                                                                  \n",
      " token_type_ids_layer (InputLay  [(None, 128)]       0           []                               \n",
      " er)                                                                                              \n",
      "                                                                                                  \n",
      " tf_roberta_model (TFRobertaMod  TFBaseModelOutputWi  134899968  ['attention_mask_layer[0][0]',   \n",
      " el)                            thPoolingAndCrossAt               'input_ids_layer[0][0]',        \n",
      "                                tentions(last_hidde               'token_type_ids_layer[0][0]']   \n",
      "                                n_state=(None, 128,                                               \n",
      "                                 768),                                                            \n",
      "                                 pooler_output=(Non                                               \n",
      "                                e, 768),                                                          \n",
      "                                 past_key_values=No                                               \n",
      "                                ne, hidden_states=N                                               \n",
      "                                one, attentions=Non                                               \n",
      "                                e, cross_attentions                                               \n",
      "                                =None)                                                            \n",
      "                                                                                                  \n",
      " tf.__operators__.getitem_1 (Sl  (None, 768)         0           ['tf_roberta_model[1][0]']       \n",
      " icingOpLambda)                                                                                   \n",
      "                                                                                                  \n",
      " hidden_layer (Dense)           (None, 100)          76900       ['tf.__operators__.getitem_1[0][0\n",
      "                                                                 ]']                              \n",
      "                                                                                                  \n",
      " dropout_38 (Dropout)           (None, 100)          0           ['hidden_layer[0][0]']           \n",
      "                                                                                                  \n",
      " classification_layer (Dense)   (None, 1)            101         ['dropout_38[0][0]']             \n",
      "                                                                                                  \n",
      "==================================================================================================\n",
      "Total params: 134,976,969\n",
      "Trainable params: 92,449,737\n",
      "Non-trainable params: 42,527,232\n",
      "__________________________________________________________________________________________________\n"
     ]
    }
   ],
   "source": [
    "gender_model = build_bertweet_cls_model(num_train_layers=6, learning_rate=1e-5)\n",
    "gender_model.summary()"
   ]
  },
  {
   "cell_type": "markdown",
   "id": "d095bab8",
   "metadata": {},
   "source": [
    "# Record Start Time"
   ]
  },
  {
   "cell_type": "code",
   "execution_count": 21,
   "id": "4b42b4eb",
   "metadata": {},
   "outputs": [
    {
     "name": "stdout",
     "output_type": "stream",
     "text": [
      "2023-04-11T00:40:11.513087-07:00\n"
     ]
    }
   ],
   "source": [
    "america_la_tz = pytz.timezone('America/Los_Angeles')\n",
    "start_time = datetime.datetime.now(tz=america_la_tz).isoformat()\n",
    "print(str(start_time))"
   ]
  },
  {
   "cell_type": "markdown",
   "id": "371ff2b1",
   "metadata": {},
   "source": [
    "# Round 1: Train Disability Model for 2 epochs"
   ]
  },
  {
   "cell_type": "code",
   "execution_count": 22,
   "id": "31954ee0",
   "metadata": {},
   "outputs": [
    {
     "name": "stdout",
     "output_type": "stream",
     "text": [
      "Epoch 1/2\n"
     ]
    },
    {
     "name": "stderr",
     "output_type": "stream",
     "text": [
      "2023-04-11 00:40:13.680399: W tensorflow/tsl/platform/profile_utils/cpu_utils.cc:128] Failed to get CPU frequency: 0 Hz\n"
     ]
    },
    {
     "name": "stdout",
     "output_type": "stream",
     "text": [
      "WARNING:tensorflow:Gradients do not exist for variables ['tf_roberta_model/roberta/pooler/dense/kernel:0', 'tf_roberta_model/roberta/pooler/dense/bias:0'] when minimizing the loss. If you're using `model.compile()`, did you forget to provide a `loss` argument?\n",
      "WARNING:tensorflow:Gradients do not exist for variables ['tf_roberta_model/roberta/pooler/dense/kernel:0', 'tf_roberta_model/roberta/pooler/dense/bias:0'] when minimizing the loss. If you're using `model.compile()`, did you forget to provide a `loss` argument?\n",
      "400/400 [==============================] - 468s 1s/step - loss: 0.5398 - binary_accuracy: 0.7211 - precision: 0.4173 - recall: 0.7415 - f1_score: 0.5340 - val_loss: 0.3819 - val_binary_accuracy: 0.8496 - val_precision: 0.6201 - val_recall: 0.7400 - val_f1_score: 0.6748\n",
      "Epoch 2/2\n",
      "400/400 [==============================] - 443s 1s/step - loss: 0.4261 - binary_accuracy: 0.7961 - precision: 0.5174 - recall: 0.7995 - f1_score: 0.6282 - val_loss: 0.4107 - val_binary_accuracy: 0.8130 - val_precision: 0.5361 - val_recall: 0.8422 - val_f1_score: 0.6551\n"
     ]
    }
   ],
   "source": [
    "disability_round1_history = disability_model.fit(bertweet_train_inputs_disability,\n",
    "                                          y_train_disability,\n",
    "                                          validation_data=(bertweet_val_inputs_disability, y_val_disability),\n",
    "                                          batch_size=32,\n",
    "                                          epochs=2,\n",
    "                                          class_weight=disability_class_weight)"
   ]
  },
  {
   "cell_type": "code",
   "execution_count": 23,
   "id": "bb4a2081",
   "metadata": {},
   "outputs": [
    {
     "data": {
      "image/png": "[encoded data removed]",
      "text/plain": [
       "<Figure size 640x480 with 1 Axes>"
      ]
     },
     "metadata": {},
     "output_type": "display_data"
    }
   ],
   "source": [
    "history = pd.DataFrame(disability_round1_history.history)\n",
    "plt.ylabel('Loss')\n",
    "plt.xlabel('Epoch')\n",
    "plt.title('Round 1: Disability Train vs Val Loss for Half-Frozen Bertweet')\n",
    "plt.xticks(range(0, len(history['loss'] + 1)))\n",
    "plt.plot(history['loss'], label=\"training\", marker='o')\n",
    "plt.plot(history['val_loss'], label=\"validation\", marker='o')\n",
    "plt.legend()\n",
    "plt.show()"
   ]
  },
  {
   "cell_type": "code",
   "execution_count": 24,
   "id": "b28efb56",
   "metadata": {},
   "outputs": [
    {
     "data": {
      "image/png": "[encoded data removed]",
      "text/plain": [
       "<Figure size 640x480 with 1 Axes>"
      ]
     },
     "metadata": {},
     "output_type": "display_data"
    }
   ],
   "source": [
    "history = pd.DataFrame(disability_round1_history.history)\n",
    "plt.ylabel('F1 Score')\n",
    "plt.xlabel('Epoch')\n",
    "plt.title('Round 1: Disability Train vs Val F1 Score for Half-Frozen Bertweet')\n",
    "plt.xticks(range(0, len(history['f1_score'] + 1)))\n",
    "plt.plot(history['f1_score'], label=\"training\", marker='o')\n",
    "plt.plot(history['val_f1_score'], label=\"validation\", marker='o')\n",
    "plt.legend()\n",
    "plt.show()"
   ]
  },
  {
   "cell_type": "code",
   "execution_count": 25,
   "id": "e6a88bef",
   "metadata": {},
   "outputs": [
    {
     "data": {
      "image/png": "[encoded data removed]",
      "text/plain": [
       "<Figure size 640x480 with 1 Axes>"
      ]
     },
     "metadata": {},
     "output_type": "display_data"
    }
   ],
   "source": [
    "history = pd.DataFrame(disability_round1_history.history)\n",
    "plt.ylabel('Binary Accuracy')\n",
    "plt.xlabel('Epoch')\n",
    "plt.title('Round 1: Disability Train vs Val Binary Accuracy for Half-Frozen Bertweet')\n",
    "plt.xticks(range(0, len(history['binary_accuracy'] + 1)))\n",
    "plt.plot(history['binary_accuracy'], label=\"training\", marker='o')\n",
    "plt.plot(history['val_binary_accuracy'], label=\"validation\", marker='o')\n",
    "plt.legend()\n",
    "plt.show()"
   ]
  },
  {
   "cell_type": "markdown",
   "id": "9f2549f4",
   "metadata": {},
   "source": [
    "### Change learning rate for disability_model to something much smaller for future training steps and recompile:"
   ]
  },
  {
   "cell_type": "code",
   "execution_count": 26,
   "id": "f5a333f7",
   "metadata": {},
   "outputs": [],
   "source": [
    "f1_score = tfa.metrics.F1Score(1, threshold = 0.5)\n",
    "disability_model.compile(optimizer=tf.keras.optimizers.legacy.Adam(learning_rate=1e-5),\n",
    "                                 loss=tf.keras.losses.BinaryCrossentropy(from_logits=False), \n",
    "                                 metrics=[tf.keras.metrics.BinaryAccuracy(),\n",
    "                                        tf.keras.metrics.Precision(),\n",
    "                                        tf.keras.metrics.Recall(),\n",
    "                                        f1_score])"
   ]
  },
  {
   "cell_type": "markdown",
   "id": "ad0c956f",
   "metadata": {},
   "source": [
    "# Round 2: Train Gender Model for 1 epoch"
   ]
  },
  {
   "cell_type": "code",
   "execution_count": 27,
   "id": "55d1bab2",
   "metadata": {},
   "outputs": [
    {
     "name": "stdout",
     "output_type": "stream",
     "text": [
      "WARNING:tensorflow:Gradients do not exist for variables ['tf_roberta_model/roberta/pooler/dense/kernel:0', 'tf_roberta_model/roberta/pooler/dense/bias:0'] when minimizing the loss. If you're using `model.compile()`, did you forget to provide a `loss` argument?\n",
      "WARNING:tensorflow:Gradients do not exist for variables ['tf_roberta_model/roberta/pooler/dense/kernel:0', 'tf_roberta_model/roberta/pooler/dense/bias:0'] when minimizing the loss. If you're using `model.compile()`, did you forget to provide a `loss` argument?\n",
      "400/400 [==============================] - 485s 1s/step - loss: 0.4963 - binary_accuracy: 0.7575 - precision_1: 0.3417 - recall_1: 0.7356 - f1_score: 0.4667 - val_loss: 0.5586 - val_binary_accuracy: 0.7263 - val_precision_1: 0.3247 - val_recall_1: 0.8767 - val_f1_score: 0.4739\n"
     ]
    }
   ],
   "source": [
    "gender_round2_history = gender_model.fit(bertweet_train_inputs_gender,\n",
    "                                          y_train_gender,\n",
    "                                          validation_data=(bertweet_val_inputs_gender, y_val_gender),\n",
    "                                          batch_size=32,\n",
    "                                          epochs=1,\n",
    "                                          class_weight=gender_class_weight)"
   ]
  },
  {
   "cell_type": "markdown",
   "id": "327d9e0a",
   "metadata": {},
   "source": [
    "# Round 3: Train Disability Model for 1 epoch"
   ]
  },
  {
   "cell_type": "code",
   "execution_count": 28,
   "id": "49a462ff",
   "metadata": {},
   "outputs": [
    {
     "name": "stdout",
     "output_type": "stream",
     "text": [
      "WARNING:tensorflow:Gradients do not exist for variables ['tf_roberta_model/roberta/pooler/dense/kernel:0', 'tf_roberta_model/roberta/pooler/dense/bias:0'] when minimizing the loss. If you're using `model.compile()`, did you forget to provide a `loss` argument?\n",
      "WARNING:tensorflow:Gradients do not exist for variables ['tf_roberta_model/roberta/pooler/dense/kernel:0', 'tf_roberta_model/roberta/pooler/dense/bias:0'] when minimizing the loss. If you're using `model.compile()`, did you forget to provide a `loss` argument?\n",
      "400/400 [==============================] - 511s 1s/step - loss: 0.3193 - binary_accuracy: 0.8629 - precision_2: 0.6351 - recall_2: 0.8557 - f1_score: 0.7291 - val_loss: 0.5383 - val_binary_accuracy: 0.7812 - val_precision_2: 0.4895 - val_recall_2: 0.8800 - val_f1_score: 0.6291\n"
     ]
    }
   ],
   "source": [
    "disability_round3_history = disability_model.fit(bertweet_train_inputs_disability,\n",
    "                                          y_train_disability,\n",
    "                                          validation_data=(bertweet_val_inputs_disability, y_val_disability),\n",
    "                                          batch_size=32,\n",
    "                                          epochs=1,\n",
    "                                          class_weight=disability_class_weight)"
   ]
  },
  {
   "cell_type": "markdown",
   "id": "43e82e15",
   "metadata": {},
   "source": [
    "# Round 4: Train Gender Model for 1 epoch"
   ]
  },
  {
   "cell_type": "code",
   "execution_count": 29,
   "id": "dec3cf89",
   "metadata": {},
   "outputs": [
    {
     "name": "stdout",
     "output_type": "stream",
     "text": [
      "400/400 [==============================] - 465s 1s/step - loss: 0.4560 - binary_accuracy: 0.7776 - precision_1: 0.3707 - recall_1: 0.7768 - f1_score: 0.5019 - val_loss: 0.4777 - val_binary_accuracy: 0.7676 - val_precision_1: 0.3612 - val_recall_1: 0.8500 - val_f1_score: 0.5070\n"
     ]
    }
   ],
   "source": [
    "gender_round4_history = gender_model.fit(bertweet_train_inputs_gender,\n",
    "                                          y_train_gender,\n",
    "                                          validation_data=(bertweet_val_inputs_gender, y_val_gender),\n",
    "                                          batch_size=32,\n",
    "                                          epochs=1,\n",
    "                                          class_weight=gender_class_weight)"
   ]
  },
  {
   "cell_type": "markdown",
   "id": "e69568fd",
   "metadata": {},
   "source": [
    "# Round 5: Train Disability Model for 1 epoch"
   ]
  },
  {
   "cell_type": "code",
   "execution_count": 30,
   "id": "1160ef62",
   "metadata": {},
   "outputs": [
    {
     "name": "stdout",
     "output_type": "stream",
     "text": [
      "400/400 [==============================] - 460s 1s/step - loss: 0.2995 - binary_accuracy: 0.8693 - precision_2: 0.6478 - recall_2: 0.8622 - f1_score: 0.7398 - val_loss: 0.4972 - val_binary_accuracy: 0.7816 - val_precision_2: 0.4903 - val_recall_2: 0.8956 - val_f1_score: 0.6336\n"
     ]
    }
   ],
   "source": [
    "disability_round5_history = disability_model.fit(bertweet_train_inputs_disability,\n",
    "                                          y_train_disability,\n",
    "                                          validation_data=(bertweet_val_inputs_disability, y_val_disability),\n",
    "                                          batch_size=32,\n",
    "                                          epochs=1,\n",
    "                                          class_weight=disability_class_weight)"
   ]
  },
  {
   "cell_type": "markdown",
   "id": "74a25e54",
   "metadata": {},
   "source": [
    "### Current Timestamp"
   ]
  },
  {
   "cell_type": "code",
   "execution_count": 31,
   "id": "ce5ffb7b",
   "metadata": {},
   "outputs": [
    {
     "name": "stdout",
     "output_type": "stream",
     "text": [
      "2023-04-11T01:27:26.267738-07:00\n"
     ]
    }
   ],
   "source": [
    "timestamp1 = datetime.datetime.now(tz=america_la_tz).isoformat()\n",
    "print(str(timestamp1))"
   ]
  },
  {
   "cell_type": "markdown",
   "id": "529c117d",
   "metadata": {},
   "source": [
    "# Round 6: Train Gender Model for 1 epoch"
   ]
  },
  {
   "cell_type": "code",
   "execution_count": 32,
   "id": "ebf3fe3c",
   "metadata": {},
   "outputs": [
    {
     "name": "stdout",
     "output_type": "stream",
     "text": [
      "400/400 [==============================] - 462s 1s/step - loss: 0.4238 - binary_accuracy: 0.7714 - precision_1: 0.3712 - recall_1: 0.8434 - f1_score: 0.5156 - val_loss: 0.4664 - val_binary_accuracy: 0.7704 - val_precision_1: 0.3651 - val_recall_1: 0.8567 - val_f1_score: 0.5120\n"
     ]
    }
   ],
   "source": [
    "gender_round6_history = gender_model.fit(bertweet_train_inputs_gender,\n",
    "                                          y_train_gender,\n",
    "                                          validation_data=(bertweet_val_inputs_gender, y_val_gender),\n",
    "                                          batch_size=32,\n",
    "                                          epochs=1,\n",
    "                                          class_weight=gender_class_weight)"
   ]
  },
  {
   "cell_type": "markdown",
   "id": "f5a6a9ae",
   "metadata": {},
   "source": [
    "# Round 7: Train Disability Model for 1 epoch"
   ]
  },
  {
   "cell_type": "code",
   "execution_count": 33,
   "id": "354dcd74",
   "metadata": {},
   "outputs": [
    {
     "name": "stdout",
     "output_type": "stream",
     "text": [
      "400/400 [==============================] - 458s 1s/step - loss: 0.2756 - binary_accuracy: 0.8808 - precision_2: 0.6668 - recall_2: 0.8927 - f1_score: 0.7634 - val_loss: 0.5427 - val_binary_accuracy: 0.7807 - val_precision_2: 0.4892 - val_recall_2: 0.9067 - val_f1_score: 0.6355\n"
     ]
    }
   ],
   "source": [
    "disability_round7_history = disability_model.fit(bertweet_train_inputs_disability,\n",
    "                                          y_train_disability,\n",
    "                                          validation_data=(bertweet_val_inputs_disability, y_val_disability),\n",
    "                                          batch_size=32,\n",
    "                                          epochs=1,\n",
    "                                          class_weight=disability_class_weight)"
   ]
  },
  {
   "cell_type": "markdown",
   "id": "93847572",
   "metadata": {},
   "source": [
    "### Current Timestamp"
   ]
  },
  {
   "cell_type": "code",
   "execution_count": 34,
   "id": "b399f77e",
   "metadata": {},
   "outputs": [
    {
     "name": "stdout",
     "output_type": "stream",
     "text": [
      "2023-04-11T01:42:46.394953-07:00\n"
     ]
    }
   ],
   "source": [
    "timestamp2 = datetime.datetime.now(tz=america_la_tz).isoformat()\n",
    "print(str(timestamp2))"
   ]
  },
  {
   "cell_type": "markdown",
   "id": "5c86ef1f",
   "metadata": {},
   "source": [
    "# Round 8: Train Gender Model for 1 epoch"
   ]
  },
  {
   "cell_type": "code",
   "execution_count": 35,
   "id": "d105bae1",
   "metadata": {},
   "outputs": [
    {
     "name": "stdout",
     "output_type": "stream",
     "text": [
      "400/400 [==============================] - 457s 1s/step - loss: 0.3999 - binary_accuracy: 0.8063 - precision_1: 0.4149 - recall_1: 0.8364 - f1_score: 0.5547 - val_loss: 0.4437 - val_binary_accuracy: 0.7849 - val_precision_1: 0.3812 - val_recall_1: 0.8500 - val_f1_score: 0.5263\n"
     ]
    }
   ],
   "source": [
    "gender_round8_history = gender_model.fit(bertweet_train_inputs_gender,\n",
    "                                          y_train_gender,\n",
    "                                          validation_data=(bertweet_val_inputs_gender, y_val_gender),\n",
    "                                          batch_size=32,\n",
    "                                          epochs=1,\n",
    "                                          class_weight=gender_class_weight)"
   ]
  },
  {
   "cell_type": "markdown",
   "id": "c11da3b8",
   "metadata": {},
   "source": [
    "# Round 9: Train Disability Model for 1 epoch"
   ]
  },
  {
   "cell_type": "code",
   "execution_count": 36,
   "id": "853fbd28",
   "metadata": {},
   "outputs": [
    {
     "name": "stdout",
     "output_type": "stream",
     "text": [
      "400/400 [==============================] - 460s 1s/step - loss: 0.2589 - binary_accuracy: 0.8815 - precision_2: 0.6650 - recall_2: 0.9068 - f1_score: 0.7673 - val_loss: 0.4747 - val_binary_accuracy: 0.8135 - val_precision_2: 0.5363 - val_recall_2: 0.8533 - val_f1_score: 0.6587\n"
     ]
    }
   ],
   "source": [
    "disability_round9_history = disability_model.fit(bertweet_train_inputs_disability,\n",
    "                                          y_train_disability,\n",
    "                                          validation_data=(bertweet_val_inputs_disability, y_val_disability),\n",
    "                                          batch_size=32,\n",
    "                                          epochs=1,\n",
    "                                          class_weight=disability_class_weight)"
   ]
  },
  {
   "cell_type": "code",
   "execution_count": 37,
   "id": "518eab8a",
   "metadata": {
    "scrolled": true
   },
   "outputs": [
    {
     "data": {
      "text/html": [
       "<div>\n",
       "<style scoped>\n",
       "    .dataframe tbody tr th:only-of-type {\n",
       "        vertical-align: middle;\n",
       "    }\n",
       "\n",
       "    .dataframe tbody tr th {\n",
       "        vertical-align: top;\n",
       "    }\n",
       "\n",
       "    .dataframe thead th {\n",
       "        text-align: right;\n",
       "    }\n",
       "</style>\n",
       "<table border=\"1\" class=\"dataframe\">\n",
       "  <thead>\n",
       "    <tr style=\"text-align: right;\">\n",
       "      <th></th>\n",
       "      <th>loss</th>\n",
       "      <th>binary_accuracy</th>\n",
       "      <th>precision_2</th>\n",
       "      <th>recall_2</th>\n",
       "      <th>f1_score</th>\n",
       "      <th>val_loss</th>\n",
       "      <th>val_binary_accuracy</th>\n",
       "      <th>val_precision_2</th>\n",
       "      <th>val_recall_2</th>\n",
       "      <th>val_f1_score</th>\n",
       "    </tr>\n",
       "  </thead>\n",
       "  <tbody>\n",
       "    <tr>\n",
       "      <th>0</th>\n",
       "      <td>0.258892</td>\n",
       "      <td>0.881466</td>\n",
       "      <td>0.664983</td>\n",
       "      <td>0.906817</td>\n",
       "      <td>[0.7672956]</td>\n",
       "      <td>0.474663</td>\n",
       "      <td>0.813496</td>\n",
       "      <td>0.536313</td>\n",
       "      <td>0.853333</td>\n",
       "      <td>[0.65866214]</td>\n",
       "    </tr>\n",
       "  </tbody>\n",
       "</table>\n",
       "</div>"
      ],
      "text/plain": [
       "       loss  binary_accuracy  precision_2  recall_2     f1_score  val_loss   \n",
       "0  0.258892         0.881466     0.664983  0.906817  [0.7672956]  0.474663  \\\n",
       "\n",
       "   val_binary_accuracy  val_precision_2  val_recall_2  val_f1_score  \n",
       "0             0.813496         0.536313      0.853333  [0.65866214]  "
      ]
     },
     "execution_count": 37,
     "metadata": {},
     "output_type": "execute_result"
    }
   ],
   "source": [
    "pd.DataFrame(disability_round9_history.history)"
   ]
  },
  {
   "cell_type": "code",
   "execution_count": 42,
   "id": "1c3956d6",
   "metadata": {
    "scrolled": false
   },
   "outputs": [
    {
     "data": {
      "image/png": "[encoded data removed]",
      "text/plain": [
       "<Figure size 640x480 with 1 Axes>"
      ]
     },
     "metadata": {},
     "output_type": "display_data"
    }
   ],
   "source": [
    "# history = pd.DataFrame(disability_round9_history.history)\n",
    "# plt.ylabel('Binary Accuracy')\n",
    "# plt.xlabel('Epoch')\n",
    "# plt.title('Round 1: Disability Train vs Val Binary Accuracy for Half-Frozen Bertweet')\n",
    "# plt.xticks(range(0, len(history['binary_accuracy'] + 1)))\n",
    "# plt.plot(history['binary_accuracy'], label=\"training\", marker='o')\n",
    "# plt.plot(history['val_binary_accuracy'], label=\"validation\", marker='o')\n",
    "# plt.legend()\n",
    "# plt.show()\n",
    "# history = pd.DataFrame(disability_round9_history.history)\n",
    "# val_f1_scores = list(disability_round9_history.history['val_f1_score'][0][0],\n",
    "#                     )\n",
    "\n",
    "\n",
    "disability_val_f1_scores = [max(list(zip(*disability_round1_history.history['val_f1_score']))[0]),\n",
    "                     disability_round3_history.history['val_f1_score'][0][0],\n",
    "                     disability_round5_history.history['val_f1_score'][0][0],\n",
    "                     disability_round7_history.history['val_f1_score'][0][0],\n",
    "                     disability_round9_history.history['val_f1_score'][0][0]]\n",
    "\n",
    "disability_train_f1_scores = [max(list(zip(*disability_round1_history.history['f1_score']))[0]),\n",
    "                     disability_round3_history.history['f1_score'][0][0],\n",
    "                     disability_round5_history.history['f1_score'][0][0],\n",
    "                     disability_round7_history.history['f1_score'][0][0],\n",
    "                     disability_round9_history.history['f1_score'][0][0]]\n",
    "\n",
    "plt.ylabel('F1 Score')\n",
    "plt.xlabel('Round #')\n",
    "plt.title('Disability F1 Scores With Gender Interweaving')\n",
    "# plt.xticks(range(0, len(disability_val_f1_scores + 1)))\n",
    "# plt.xticks(1, 10)\n",
    "# plt.xticks([1, 3, 5, 7, 9])\n",
    "plt.xticks([0, 1, 2, 3, 4], ['1', '3', '5', '7', '9'])\n",
    "plt.plot(disability_train_f1_scores, label=\"training\", marker='o')\n",
    "plt.plot(disability_val_f1_scores, label=\"validation\", marker='o')\n",
    "plt.legend()\n",
    "plt.show()"
   ]
  },
  {
   "cell_type": "code",
   "execution_count": 43,
   "id": "a542196f",
   "metadata": {
    "scrolled": false
   },
   "outputs": [
    {
     "data": {
      "image/png": "[encoded data removed]",
      "text/plain": [
       "<Figure size 640x480 with 1 Axes>"
      ]
     },
     "metadata": {},
     "output_type": "display_data"
    }
   ],
   "source": [
    "disability_val_binary_accuracys = [max(disability_round1_history.history['val_binary_accuracy']),\n",
    "                     disability_round3_history.history['val_binary_accuracy'][0],\n",
    "                     disability_round5_history.history['val_binary_accuracy'][0],\n",
    "                     disability_round7_history.history['val_binary_accuracy'][0],\n",
    "                     disability_round9_history.history['val_binary_accuracy'][0]]\n",
    "\n",
    "disability_train_binary_accuracys = [max(disability_round1_history.history['binary_accuracy']),\n",
    "                     disability_round3_history.history['binary_accuracy'][0],\n",
    "                     disability_round5_history.history['binary_accuracy'][0],\n",
    "                     disability_round7_history.history['binary_accuracy'][0],\n",
    "                     disability_round9_history.history['binary_accuracy'][0]]\n",
    "\n",
    "plt.ylabel('Binary Accuracy')\n",
    "plt.xlabel('Round #')\n",
    "plt.title('Disability Binary Accuracy With Gender Interweaving')\n",
    "plt.xticks([0, 1, 2, 3, 4], ['1', '3', '5', '7', '9'])\n",
    "plt.plot(disability_train_binary_accuracys, label=\"training\", marker='o')\n",
    "plt.plot(disability_val_binary_accuracys, label=\"validation\", marker='o')\n",
    "plt.legend()\n",
    "plt.show()"
   ]
  },
  {
   "cell_type": "code",
   "execution_count": 44,
   "id": "10ce68e6",
   "metadata": {},
   "outputs": [
    {
     "data": {
      "image/png": "[encoded data removed]",
      "text/plain": [
       "<Figure size 640x480 with 1 Axes>"
      ]
     },
     "metadata": {},
     "output_type": "display_data"
    }
   ],
   "source": [
    "disability_val_loss = [max(disability_round1_history.history['val_loss']),\n",
    "                     disability_round3_history.history['val_loss'][0],\n",
    "                     disability_round5_history.history['val_loss'][0],\n",
    "                     disability_round7_history.history['val_loss'][0],\n",
    "                     disability_round9_history.history['val_loss'][0]]\n",
    "\n",
    "disability_train_loss = [max(disability_round1_history.history['loss']),\n",
    "                     disability_round3_history.history['loss'][0],\n",
    "                     disability_round5_history.history['loss'][0],\n",
    "                     disability_round7_history.history['loss'][0],\n",
    "                     disability_round9_history.history['loss'][0]]\n",
    "\n",
    "plt.ylabel('Loss')\n",
    "plt.xlabel('Round #')\n",
    "plt.title('Disability Loss With Gender Interweaving')\n",
    "plt.xticks([0, 1, 2, 3, 4], ['1', '3', '5', '7', '9'])\n",
    "plt.plot(disability_train_loss, label=\"training\", marker='o')\n",
    "plt.plot(disability_val_loss, label=\"validation\", marker='o')\n",
    "plt.legend()\n",
    "plt.show()"
   ]
  },
  {
   "cell_type": "markdown",
   "id": "bcd1808c",
   "metadata": {},
   "source": [
    "## Evaluate Disability and Gender Models on their corresponding test sets"
   ]
  },
  {
   "cell_type": "code",
   "execution_count": 65,
   "id": "1fbdbe25",
   "metadata": {},
   "outputs": [
    {
     "name": "stdout",
     "output_type": "stream",
     "text": [
      "117/117 [==============================] - 84s 698ms/step - loss: 0.4766 - binary_accuracy: 0.8149 - precision_2: 0.5276 - recall_2: 0.8322 - f1_score: 0.6458\n"
     ]
    }
   ],
   "source": [
    "disability_test_history = disability_model.evaluate(bertweet_test_inputs_disability, y_test_disability)"
   ]
  },
  {
   "cell_type": "code",
   "execution_count": 73,
   "id": "33628c1e",
   "metadata": {},
   "outputs": [
    {
     "name": "stdout",
     "output_type": "stream",
     "text": [
      "117/117 [==============================] - 46s 386ms/step - loss: 0.3781 - binary_accuracy: 0.8288 - precision_1: 0.4608 - recall_1: 0.8043 - f1_score: 0.5859\n"
     ]
    }
   ],
   "source": [
    "gender_test_history = gender_model.evaluate(bertweet_test_inputs_gender, y_test_gender)"
   ]
  },
  {
   "cell_type": "markdown",
   "id": "c447bfa6",
   "metadata": {},
   "source": [
    "## Export Round Results to csv"
   ]
  },
  {
   "cell_type": "code",
   "execution_count": 77,
   "id": "e50ad67f",
   "metadata": {},
   "outputs": [
    {
     "data": {
      "text/html": [
       "<div>\n",
       "<style scoped>\n",
       "    .dataframe tbody tr th:only-of-type {\n",
       "        vertical-align: middle;\n",
       "    }\n",
       "\n",
       "    .dataframe tbody tr th {\n",
       "        vertical-align: top;\n",
       "    }\n",
       "\n",
       "    .dataframe thead th {\n",
       "        text-align: right;\n",
       "    }\n",
       "</style>\n",
       "<table border=\"1\" class=\"dataframe\">\n",
       "  <thead>\n",
       "    <tr style=\"text-align: right;\">\n",
       "      <th></th>\n",
       "      <th>Round</th>\n",
       "      <th>loss</th>\n",
       "      <th>binary_accuracy</th>\n",
       "      <th>precision</th>\n",
       "      <th>recall</th>\n",
       "      <th>f1_score</th>\n",
       "      <th>val_loss</th>\n",
       "      <th>val_binary_accuracy</th>\n",
       "      <th>val_precision</th>\n",
       "      <th>val_recall</th>\n",
       "      <th>...</th>\n",
       "      <th>val_recall_2</th>\n",
       "      <th>precision_1</th>\n",
       "      <th>recall_1</th>\n",
       "      <th>val_precision_1</th>\n",
       "      <th>val_recall_1</th>\n",
       "      <th>test_loss</th>\n",
       "      <th>test_binary_accuracy</th>\n",
       "      <th>test_precision</th>\n",
       "      <th>test_recall</th>\n",
       "      <th>test_f1_score</th>\n",
       "    </tr>\n",
       "  </thead>\n",
       "  <tbody>\n",
       "    <tr>\n",
       "      <th>0</th>\n",
       "      <td>Round1_Disability_Epoch1</td>\n",
       "      <td>0.539825</td>\n",
       "      <td>0.721128</td>\n",
       "      <td>0.417262</td>\n",
       "      <td>0.741479</td>\n",
       "      <td>[0.5340124]</td>\n",
       "      <td>0.381910</td>\n",
       "      <td>0.849578</td>\n",
       "      <td>0.620112</td>\n",
       "      <td>0.740000</td>\n",
       "      <td>...</td>\n",
       "      <td>NaN</td>\n",
       "      <td>NaN</td>\n",
       "      <td>NaN</td>\n",
       "      <td>NaN</td>\n",
       "      <td>NaN</td>\n",
       "      <td>NaN</td>\n",
       "      <td>NaN</td>\n",
       "      <td>NaN</td>\n",
       "      <td>NaN</td>\n",
       "      <td>NaN</td>\n",
       "    </tr>\n",
       "    <tr>\n",
       "      <th>1</th>\n",
       "      <td>Round1_Disability_Epoch2</td>\n",
       "      <td>0.426055</td>\n",
       "      <td>0.796062</td>\n",
       "      <td>0.517363</td>\n",
       "      <td>0.799492</td>\n",
       "      <td>[0.6282051]</td>\n",
       "      <td>0.410715</td>\n",
       "      <td>0.813027</td>\n",
       "      <td>0.536068</td>\n",
       "      <td>0.842222</td>\n",
       "      <td>...</td>\n",
       "      <td>NaN</td>\n",
       "      <td>NaN</td>\n",
       "      <td>NaN</td>\n",
       "      <td>NaN</td>\n",
       "      <td>NaN</td>\n",
       "      <td>NaN</td>\n",
       "      <td>NaN</td>\n",
       "      <td>NaN</td>\n",
       "      <td>NaN</td>\n",
       "      <td>NaN</td>\n",
       "    </tr>\n",
       "    <tr>\n",
       "      <th>0</th>\n",
       "      <td>Round3_Disability</td>\n",
       "      <td>0.319341</td>\n",
       "      <td>0.862947</td>\n",
       "      <td>NaN</td>\n",
       "      <td>NaN</td>\n",
       "      <td>[0.7290702]</td>\n",
       "      <td>0.538258</td>\n",
       "      <td>0.781162</td>\n",
       "      <td>NaN</td>\n",
       "      <td>NaN</td>\n",
       "      <td>...</td>\n",
       "      <td>0.880000</td>\n",
       "      <td>NaN</td>\n",
       "      <td>NaN</td>\n",
       "      <td>NaN</td>\n",
       "      <td>NaN</td>\n",
       "      <td>NaN</td>\n",
       "      <td>NaN</td>\n",
       "      <td>NaN</td>\n",
       "      <td>NaN</td>\n",
       "      <td>NaN</td>\n",
       "    </tr>\n",
       "    <tr>\n",
       "      <th>0</th>\n",
       "      <td>Round5_Disability</td>\n",
       "      <td>0.299488</td>\n",
       "      <td>0.869276</td>\n",
       "      <td>NaN</td>\n",
       "      <td>NaN</td>\n",
       "      <td>[0.739773]</td>\n",
       "      <td>0.497166</td>\n",
       "      <td>0.781631</td>\n",
       "      <td>NaN</td>\n",
       "      <td>NaN</td>\n",
       "      <td>...</td>\n",
       "      <td>0.895556</td>\n",
       "      <td>NaN</td>\n",
       "      <td>NaN</td>\n",
       "      <td>NaN</td>\n",
       "      <td>NaN</td>\n",
       "      <td>NaN</td>\n",
       "      <td>NaN</td>\n",
       "      <td>NaN</td>\n",
       "      <td>NaN</td>\n",
       "      <td>NaN</td>\n",
       "    </tr>\n",
       "    <tr>\n",
       "      <th>0</th>\n",
       "      <td>Round7_Disability</td>\n",
       "      <td>0.275620</td>\n",
       "      <td>0.880763</td>\n",
       "      <td>NaN</td>\n",
       "      <td>NaN</td>\n",
       "      <td>[0.7634108]</td>\n",
       "      <td>0.542686</td>\n",
       "      <td>0.780694</td>\n",
       "      <td>NaN</td>\n",
       "      <td>NaN</td>\n",
       "      <td>...</td>\n",
       "      <td>0.906667</td>\n",
       "      <td>NaN</td>\n",
       "      <td>NaN</td>\n",
       "      <td>NaN</td>\n",
       "      <td>NaN</td>\n",
       "      <td>NaN</td>\n",
       "      <td>NaN</td>\n",
       "      <td>NaN</td>\n",
       "      <td>NaN</td>\n",
       "      <td>NaN</td>\n",
       "    </tr>\n",
       "    <tr>\n",
       "      <th>0</th>\n",
       "      <td>Round9_Disability</td>\n",
       "      <td>0.258892</td>\n",
       "      <td>0.881466</td>\n",
       "      <td>NaN</td>\n",
       "      <td>NaN</td>\n",
       "      <td>[0.7672956]</td>\n",
       "      <td>0.474663</td>\n",
       "      <td>0.813496</td>\n",
       "      <td>NaN</td>\n",
       "      <td>NaN</td>\n",
       "      <td>...</td>\n",
       "      <td>0.853333</td>\n",
       "      <td>NaN</td>\n",
       "      <td>NaN</td>\n",
       "      <td>NaN</td>\n",
       "      <td>NaN</td>\n",
       "      <td>NaN</td>\n",
       "      <td>NaN</td>\n",
       "      <td>NaN</td>\n",
       "      <td>NaN</td>\n",
       "      <td>NaN</td>\n",
       "    </tr>\n",
       "    <tr>\n",
       "      <th>0</th>\n",
       "      <td>Round2_Gender</td>\n",
       "      <td>0.496296</td>\n",
       "      <td>0.757462</td>\n",
       "      <td>NaN</td>\n",
       "      <td>NaN</td>\n",
       "      <td>[0.46666667]</td>\n",
       "      <td>0.558567</td>\n",
       "      <td>0.726336</td>\n",
       "      <td>NaN</td>\n",
       "      <td>NaN</td>\n",
       "      <td>...</td>\n",
       "      <td>NaN</td>\n",
       "      <td>0.341721</td>\n",
       "      <td>0.735645</td>\n",
       "      <td>0.324691</td>\n",
       "      <td>0.876667</td>\n",
       "      <td>NaN</td>\n",
       "      <td>NaN</td>\n",
       "      <td>NaN</td>\n",
       "      <td>NaN</td>\n",
       "      <td>NaN</td>\n",
       "    </tr>\n",
       "    <tr>\n",
       "      <th>0</th>\n",
       "      <td>Round4_Gender</td>\n",
       "      <td>0.456037</td>\n",
       "      <td>0.777622</td>\n",
       "      <td>NaN</td>\n",
       "      <td>NaN</td>\n",
       "      <td>[0.5019251]</td>\n",
       "      <td>0.477659</td>\n",
       "      <td>0.767573</td>\n",
       "      <td>NaN</td>\n",
       "      <td>NaN</td>\n",
       "      <td>...</td>\n",
       "      <td>NaN</td>\n",
       "      <td>0.370734</td>\n",
       "      <td>0.776815</td>\n",
       "      <td>0.361190</td>\n",
       "      <td>0.850000</td>\n",
       "      <td>NaN</td>\n",
       "      <td>NaN</td>\n",
       "      <td>NaN</td>\n",
       "      <td>NaN</td>\n",
       "      <td>NaN</td>\n",
       "    </tr>\n",
       "    <tr>\n",
       "      <th>0</th>\n",
       "      <td>Round6_Gender</td>\n",
       "      <td>0.423836</td>\n",
       "      <td>0.771371</td>\n",
       "      <td>NaN</td>\n",
       "      <td>NaN</td>\n",
       "      <td>[0.5155629]</td>\n",
       "      <td>0.466444</td>\n",
       "      <td>0.770384</td>\n",
       "      <td>NaN</td>\n",
       "      <td>NaN</td>\n",
       "      <td>...</td>\n",
       "      <td>NaN</td>\n",
       "      <td>0.371245</td>\n",
       "      <td>0.843445</td>\n",
       "      <td>0.365057</td>\n",
       "      <td>0.856667</td>\n",
       "      <td>NaN</td>\n",
       "      <td>NaN</td>\n",
       "      <td>NaN</td>\n",
       "      <td>NaN</td>\n",
       "      <td>NaN</td>\n",
       "    </tr>\n",
       "    <tr>\n",
       "      <th>0</th>\n",
       "      <td>Round8_Gender</td>\n",
       "      <td>0.399881</td>\n",
       "      <td>0.806298</td>\n",
       "      <td>NaN</td>\n",
       "      <td>NaN</td>\n",
       "      <td>[0.55469733]</td>\n",
       "      <td>0.443723</td>\n",
       "      <td>0.784911</td>\n",
       "      <td>NaN</td>\n",
       "      <td>NaN</td>\n",
       "      <td>...</td>\n",
       "      <td>NaN</td>\n",
       "      <td>0.414942</td>\n",
       "      <td>0.836403</td>\n",
       "      <td>0.381166</td>\n",
       "      <td>0.850000</td>\n",
       "      <td>NaN</td>\n",
       "      <td>NaN</td>\n",
       "      <td>NaN</td>\n",
       "      <td>NaN</td>\n",
       "      <td>NaN</td>\n",
       "    </tr>\n",
       "    <tr>\n",
       "      <th>0</th>\n",
       "      <td>Test_Disability</td>\n",
       "      <td>NaN</td>\n",
       "      <td>NaN</td>\n",
       "      <td>NaN</td>\n",
       "      <td>NaN</td>\n",
       "      <td>NaN</td>\n",
       "      <td>NaN</td>\n",
       "      <td>NaN</td>\n",
       "      <td>NaN</td>\n",
       "      <td>NaN</td>\n",
       "      <td>...</td>\n",
       "      <td>NaN</td>\n",
       "      <td>NaN</td>\n",
       "      <td>NaN</td>\n",
       "      <td>NaN</td>\n",
       "      <td>NaN</td>\n",
       "      <td>0.476589</td>\n",
       "      <td>0.814894</td>\n",
       "      <td>0.527638</td>\n",
       "      <td>0.832233</td>\n",
       "      <td>0.645823</td>\n",
       "    </tr>\n",
       "    <tr>\n",
       "      <th>0</th>\n",
       "      <td>Test_Gender</td>\n",
       "      <td>NaN</td>\n",
       "      <td>NaN</td>\n",
       "      <td>NaN</td>\n",
       "      <td>NaN</td>\n",
       "      <td>NaN</td>\n",
       "      <td>NaN</td>\n",
       "      <td>NaN</td>\n",
       "      <td>NaN</td>\n",
       "      <td>NaN</td>\n",
       "      <td>...</td>\n",
       "      <td>NaN</td>\n",
       "      <td>NaN</td>\n",
       "      <td>NaN</td>\n",
       "      <td>NaN</td>\n",
       "      <td>NaN</td>\n",
       "      <td>0.378057</td>\n",
       "      <td>0.828824</td>\n",
       "      <td>0.460754</td>\n",
       "      <td>0.804270</td>\n",
       "      <td>0.585872</td>\n",
       "    </tr>\n",
       "  </tbody>\n",
       "</table>\n",
       "<p>12 rows × 24 columns</p>\n",
       "</div>"
      ],
      "text/plain": [
       "                      Round      loss  binary_accuracy  precision    recall   \n",
       "0  Round1_Disability_Epoch1  0.539825         0.721128   0.417262  0.741479  \\\n",
       "1  Round1_Disability_Epoch2  0.426055         0.796062   0.517363  0.799492   \n",
       "0         Round3_Disability  0.319341         0.862947        NaN       NaN   \n",
       "0         Round5_Disability  0.299488         0.869276        NaN       NaN   \n",
       "0         Round7_Disability  0.275620         0.880763        NaN       NaN   \n",
       "0         Round9_Disability  0.258892         0.881466        NaN       NaN   \n",
       "0             Round2_Gender  0.496296         0.757462        NaN       NaN   \n",
       "0             Round4_Gender  0.456037         0.777622        NaN       NaN   \n",
       "0             Round6_Gender  0.423836         0.771371        NaN       NaN   \n",
       "0             Round8_Gender  0.399881         0.806298        NaN       NaN   \n",
       "0           Test_Disability       NaN              NaN        NaN       NaN   \n",
       "0               Test_Gender       NaN              NaN        NaN       NaN   \n",
       "\n",
       "       f1_score  val_loss  val_binary_accuracy  val_precision  val_recall   \n",
       "0   [0.5340124]  0.381910             0.849578       0.620112    0.740000  \\\n",
       "1   [0.6282051]  0.410715             0.813027       0.536068    0.842222   \n",
       "0   [0.7290702]  0.538258             0.781162            NaN         NaN   \n",
       "0    [0.739773]  0.497166             0.781631            NaN         NaN   \n",
       "0   [0.7634108]  0.542686             0.780694            NaN         NaN   \n",
       "0   [0.7672956]  0.474663             0.813496            NaN         NaN   \n",
       "0  [0.46666667]  0.558567             0.726336            NaN         NaN   \n",
       "0   [0.5019251]  0.477659             0.767573            NaN         NaN   \n",
       "0   [0.5155629]  0.466444             0.770384            NaN         NaN   \n",
       "0  [0.55469733]  0.443723             0.784911            NaN         NaN   \n",
       "0           NaN       NaN                  NaN            NaN         NaN   \n",
       "0           NaN       NaN                  NaN            NaN         NaN   \n",
       "\n",
       "   ... val_recall_2  precision_1  recall_1  val_precision_1  val_recall_1   \n",
       "0  ...          NaN          NaN       NaN              NaN           NaN  \\\n",
       "1  ...          NaN          NaN       NaN              NaN           NaN   \n",
       "0  ...     0.880000          NaN       NaN              NaN           NaN   \n",
       "0  ...     0.895556          NaN       NaN              NaN           NaN   \n",
       "0  ...     0.906667          NaN       NaN              NaN           NaN   \n",
       "0  ...     0.853333          NaN       NaN              NaN           NaN   \n",
       "0  ...          NaN     0.341721  0.735645         0.324691      0.876667   \n",
       "0  ...          NaN     0.370734  0.776815         0.361190      0.850000   \n",
       "0  ...          NaN     0.371245  0.843445         0.365057      0.856667   \n",
       "0  ...          NaN     0.414942  0.836403         0.381166      0.850000   \n",
       "0  ...          NaN          NaN       NaN              NaN           NaN   \n",
       "0  ...          NaN          NaN       NaN              NaN           NaN   \n",
       "\n",
       "   test_loss  test_binary_accuracy  test_precision  test_recall  test_f1_score  \n",
       "0        NaN                   NaN             NaN          NaN            NaN  \n",
       "1        NaN                   NaN             NaN          NaN            NaN  \n",
       "0        NaN                   NaN             NaN          NaN            NaN  \n",
       "0        NaN                   NaN             NaN          NaN            NaN  \n",
       "0        NaN                   NaN             NaN          NaN            NaN  \n",
       "0        NaN                   NaN             NaN          NaN            NaN  \n",
       "0        NaN                   NaN             NaN          NaN            NaN  \n",
       "0        NaN                   NaN             NaN          NaN            NaN  \n",
       "0        NaN                   NaN             NaN          NaN            NaN  \n",
       "0        NaN                   NaN             NaN          NaN            NaN  \n",
       "0   0.476589              0.814894        0.527638     0.832233       0.645823  \n",
       "0   0.378057              0.828824        0.460754     0.804270       0.585872  \n",
       "\n",
       "[12 rows x 24 columns]"
      ]
     },
     "execution_count": 77,
     "metadata": {},
     "output_type": "execute_result"
    }
   ],
   "source": [
    "disability_round1_history_df = pd.DataFrame(disability_round1_history.history)\n",
    "disability_round1_history_df.insert(0, 'Round', ['Round1_Disability_Epoch1', 'Round1_Disability_Epoch2'])\n",
    "disability_round3_history_df = pd.DataFrame(disability_round3_history.history)\n",
    "disability_round3_history_df.insert(0, 'Round', ['Round3_Disability'])\n",
    "disability_round5_history_df = pd.DataFrame(disability_round5_history.history)\n",
    "disability_round5_history_df.insert(0, 'Round', ['Round5_Disability'])\n",
    "disability_round7_history_df = pd.DataFrame(disability_round7_history.history)\n",
    "disability_round7_history_df.insert(0, 'Round', ['Round7_Disability'])\n",
    "disability_round9_history_df = pd.DataFrame(disability_round9_history.history)\n",
    "disability_round9_history_df.insert(0, 'Round', ['Round9_Disability'])\n",
    "gender_round2_history_df = pd.DataFrame(gender_round2_history.history)\n",
    "gender_round2_history_df.insert(0, 'Round', ['Round2_Gender'])\n",
    "gender_round4_history_df = pd.DataFrame(gender_round4_history.history)\n",
    "gender_round4_history_df.insert(0, 'Round', ['Round4_Gender'])\n",
    "gender_round6_history_df = pd.DataFrame(gender_round6_history.history)\n",
    "gender_round6_history_df.insert(0, 'Round', ['Round6_Gender'])\n",
    "gender_round8_history_df = pd.DataFrame(gender_round8_history.history)\n",
    "gender_round8_history_df.insert(0, 'Round', ['Round8_Gender'])\n",
    "\n",
    "disability_test_history_df = pd.DataFrame({\n",
    "    'Round': 'Test_Disability',\n",
    "    'test_loss': disability_test_history[0],\n",
    "    'test_binary_accuracy': disability_test_history[1],\n",
    "    'test_precision': disability_test_history[2],\n",
    "    'test_recall': disability_test_history[3],\n",
    "    'test_f1_score': disability_test_history[4]})\n",
    "gender_test_history_df = pd.DataFrame({\n",
    "    'Round': 'Test_Gender',\n",
    "    'test_loss': gender_test_history[0],\n",
    "    'test_binary_accuracy': gender_test_history[1],\n",
    "    'test_precision': gender_test_history[2],\n",
    "    'test_recall': gender_test_history[3],\n",
    "    'test_f1_score': gender_test_history[4]})\n",
    "pd.concat([all_rounds_df, disability_test_history_df, gender_test_history_df], axis=0)\n",
    "\n",
    "all_rounds_df = pd.concat([disability_round1_history_df,\n",
    "           disability_round3_history_df,\n",
    "           disability_round5_history_df,\n",
    "           disability_round7_history_df,\n",
    "           disability_round9_history_df,\n",
    "           gender_round2_history_df,\n",
    "           gender_round4_history_df,\n",
    "           gender_round6_history_df,\n",
    "           gender_round8_history_df,\n",
    "           disability_test_history_df,\n",
    "           gender_test_history_df], axis=0)\n",
    "all_rounds_df"
   ]
  },
  {
   "cell_type": "code",
   "execution_count": 79,
   "id": "787e15c1",
   "metadata": {},
   "outputs": [],
   "source": [
    "all_rounds_df.to_csv('experiment_results/disability_gender_take4.csv')"
   ]
  },
  {
   "cell_type": "markdown",
   "id": "9002b068",
   "metadata": {},
   "source": [
    "# Record Stop Time"
   ]
  },
  {
   "cell_type": "code",
   "execution_count": 41,
   "id": "3afa6717",
   "metadata": {},
   "outputs": [
    {
     "name": "stdout",
     "output_type": "stream",
     "text": [
      "2023-04-11T01:58:04.162998-07:00\n"
     ]
    }
   ],
   "source": [
    "stop_time = datetime.datetime.now(tz=america_la_tz).isoformat()\n",
    "print(str(stop_time))"
   ]
  },
  {
   "cell_type": "markdown",
   "id": "5f7fed7d",
   "metadata": {},
   "source": [
    "# Save Model Weights"
   ]
  },
  {
   "cell_type": "code",
   "execution_count": 45,
   "id": "f543df62",
   "metadata": {},
   "outputs": [],
   "source": [
    "disability_model.save_weights('saved_weights/take4_disability_interwoven_half_frozen_rounds9_b32lr1e-4.h5')\n",
    "gender_model.save_weights('saved_models/take_4gender_interwoven_half_frozen_rounds9_b32lr1e-4.h5')"
   ]
  },
  {
   "cell_type": "markdown",
   "id": "817dbf59",
   "metadata": {},
   "source": [
    "### Example of how to load weights and evaluate them"
   ]
  },
  {
   "cell_type": "code",
   "execution_count": null,
   "id": "2f939639",
   "metadata": {},
   "outputs": [],
   "source": [
    "# Loads the weights\n",
    "model2.load_weights(checkpoint_path)\n",
    "\n",
    "# Re-evaluate the model\n",
    "loss, acc = model2.evaluate(test_images, test_labels, verbose=2)\n",
    "print(\"Restored model, accuracy: {:5.2f}%\".format(100 * acc))\n",
    "\n",
    "# do stuff with model2 (e.g. predict() to get y_pred)\n",
    "# Then you can do stuff like keras.metrics.accuracy(y_true, y_pred)\n",
    "# Then you can do stuff like keras.metrics.confusion_matrix(y_test, y_pred)"
   ]
  }
 ],
 "metadata": {
  "kernelspec": {
   "display_name": "Python 3.10 (tensorflow)",
   "language": "python",
   "name": "w266tensorflow"
  },
  "language_info": {
   "codemirror_mode": {
    "name": "ipython",
    "version": 3
   },
   "file_extension": ".py",
   "mimetype": "text/x-python",
   "name": "python",
   "nbconvert_exporter": "python",
   "pygments_lexer": "ipython3",
   "version": "3.10.10"
  }
 },
 "nbformat": 4,
 "nbformat_minor": 5
}
