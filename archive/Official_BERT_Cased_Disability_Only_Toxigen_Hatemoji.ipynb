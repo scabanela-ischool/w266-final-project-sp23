{
  "cells": [
    {
      "cell_type": "markdown",
      "source": [
        "# BERT Cased Fine-Tuned on Disability Subset using Toxigen+Hatemoji Data"
      ],
      "metadata": {
        "id": "c6AvmAP073ZL"
      },
      "id": "c6AvmAP073ZL"
    },
    {
      "cell_type": "code",
      "source": [
        "from google.colab import drive\n",
        "drive.mount('/content/drive')"
      ],
      "metadata": {
        "colab": {
          "base_uri": "https://localhost:8080/"
        },
        "id": "lpYKtzLjeQIi",
        "outputId": "2ccc068c-3905-4548-de45-468be100c361"
      },
      "id": "lpYKtzLjeQIi",
      "execution_count": 1,
      "outputs": [
        {
          "output_type": "stream",
          "name": "stdout",
          "text": [
            "Mounted at /content/drive\n"
          ]
        }
      ]
    },
    {
      "cell_type": "markdown",
      "id": "0f02e155",
      "metadata": {
        "id": "0f02e155"
      },
      "source": [
        "## Imports"
      ]
    },
    {
      "cell_type": "code",
      "source": [
        "!pip install -q tensorflow-addons"
      ],
      "metadata": {
        "colab": {
          "base_uri": "https://localhost:8080/"
        },
        "id": "Jh9OvNpve_rk",
        "outputId": "c798abef-3eb1-4897-fad5-3fefb0aa8f8a"
      },
      "id": "Jh9OvNpve_rk",
      "execution_count": 2,
      "outputs": [
        {
          "output_type": "stream",
          "name": "stdout",
          "text": [
            "\u001b[?25l     \u001b[90m━━━━━━━━━━━━━━━━━━━━━━━━━━━━━━━━━━━━━━━━\u001b[0m \u001b[32m0.0/591.0 kB\u001b[0m \u001b[31m?\u001b[0m eta \u001b[36m-:--:--\u001b[0m\r\u001b[2K     \u001b[90m━━━━━━━━━━━━━━━━━━━━━━━━━━━━━━━━━━━━━━\u001b[0m \u001b[32m591.0/591.0 kB\u001b[0m \u001b[31m43.0 MB/s\u001b[0m eta \u001b[36m0:00:00\u001b[0m\n",
            "\u001b[?25h"
          ]
        }
      ]
    },
    {
      "cell_type": "code",
      "source": [
        "!pip install -q transformers"
      ],
      "metadata": {
        "colab": {
          "base_uri": "https://localhost:8080/"
        },
        "id": "eIuITAWkfB03",
        "outputId": "ebb8bdb2-e683-40e4-91b1-5cb971e9254f"
      },
      "id": "eIuITAWkfB03",
      "execution_count": 3,
      "outputs": [
        {
          "output_type": "stream",
          "name": "stdout",
          "text": [
            "\u001b[2K     \u001b[90m━━━━━━━━━━━━━━━━━━━━━━━━━━━━━━━━━━━━━━━━\u001b[0m \u001b[32m7.0/7.0 MB\u001b[0m \u001b[31m89.6 MB/s\u001b[0m eta \u001b[36m0:00:00\u001b[0m\n",
            "\u001b[2K     \u001b[90m━━━━━━━━━━━━━━━━━━━━━━━━━━━━━━━━━━━━━━\u001b[0m \u001b[32m200.1/200.1 kB\u001b[0m \u001b[31m28.3 MB/s\u001b[0m eta \u001b[36m0:00:00\u001b[0m\n",
            "\u001b[2K     \u001b[90m━━━━━━━━━━━━━━━━━━━━━━━━━━━━━━━━━━━━━━━━\u001b[0m \u001b[32m7.8/7.8 MB\u001b[0m \u001b[31m102.4 MB/s\u001b[0m eta \u001b[36m0:00:00\u001b[0m\n",
            "\u001b[?25h"
          ]
        }
      ]
    },
    {
      "cell_type": "code",
      "source": [
        "!pip3 install -q emoji==0.6.0"
      ],
      "metadata": {
        "colab": {
          "base_uri": "https://localhost:8080/"
        },
        "id": "55Pjzpk8jRxG",
        "outputId": "38be63a2-9a66-4a5e-d805-81f94ed956b6"
      },
      "id": "55Pjzpk8jRxG",
      "execution_count": 4,
      "outputs": [
        {
          "output_type": "stream",
          "name": "stdout",
          "text": [
            "\u001b[?25l     \u001b[90m━━━━━━━━━━━━━━━━━━━━━━━━━━━━━━━━━━━━━━━━\u001b[0m \u001b[32m0.0/51.0 kB\u001b[0m \u001b[31m?\u001b[0m eta \u001b[36m-:--:--\u001b[0m\r\u001b[2K     \u001b[90m━━━━━━━━━━━━━━━━━━━━━━━━━━━━━━━━━━━━━━━━\u001b[0m \u001b[32m51.0/51.0 kB\u001b[0m \u001b[31m3.8 MB/s\u001b[0m eta \u001b[36m0:00:00\u001b[0m\n",
            "\u001b[?25h  Preparing metadata (setup.py) ... \u001b[?25l\u001b[?25hdone\n",
            "  Building wheel for emoji (setup.py) ... \u001b[?25l\u001b[?25hdone\n"
          ]
        }
      ]
    },
    {
      "cell_type": "code",
      "source": [
        "!pip install -q pyyaml h5py  # Required to save models in HDF5 format"
      ],
      "metadata": {
        "id": "VXRx3TsYqGMa"
      },
      "id": "VXRx3TsYqGMa",
      "execution_count": 5,
      "outputs": []
    },
    {
      "cell_type": "code",
      "execution_count": 6,
      "id": "166edf60",
      "metadata": {
        "colab": {
          "base_uri": "https://localhost:8080/"
        },
        "id": "166edf60",
        "outputId": "c6c93e06-30a1-4ff4-ed2e-62e8d8772e4f"
      },
      "outputs": [
        {
          "output_type": "stream",
          "name": "stderr",
          "text": [
            "/usr/local/lib/python3.9/dist-packages/tensorflow_addons/utils/tfa_eol_msg.py:23: UserWarning: \n",
            "\n",
            "TensorFlow Addons (TFA) has ended development and introduction of new features.\n",
            "TFA has entered a minimal maintenance and release mode until a planned end of life in May 2024.\n",
            "Please modify downstream libraries to take dependencies from other repositories in our TensorFlow community (e.g. Keras, Keras-CV, and Keras-NLP). \n",
            "\n",
            "For more information see: https://github.com/tensorflow/addons/issues/2807 \n",
            "\n",
            "  warnings.warn(\n"
          ]
        }
      ],
      "source": [
        "import pandas as pd\n",
        "import numpy as np\n",
        "import matplotlib.pyplot as plt\n",
        "\n",
        "import tensorflow as tf\n",
        "import tensorflow_addons as tfa\n",
        "import transformers\n",
        "from transformers import AutoTokenizer,TFBertModel"
      ]
    },
    {
      "cell_type": "markdown",
      "id": "ac6533ca",
      "metadata": {
        "id": "ac6533ca"
      },
      "source": [
        "## Functions and Constants"
      ]
    },
    {
      "cell_type": "code",
      "execution_count": 7,
      "id": "653cd9b5",
      "metadata": {
        "id": "653cd9b5"
      },
      "outputs": [],
      "source": [
        "def to_arrays(df):\n",
        "  X = df['comment_text'].to_numpy()\n",
        "  y = df['toxicity_binary'].to_numpy()\n",
        "  return X, y\n",
        "\n",
        "def load_data(group):\n",
        "  df_train = pd.read_csv('drive/MyDrive/data/' + group + '-dataset-train-augmented.csv')\n",
        "  df_val = pd.read_csv('drive/MyDrive/data/' + group + '-dataset-val-augmented.csv')\n",
        "  df_test = pd.read_csv('drive/MyDrive/data/' + group + '-dataset-test-augmented.csv')\n",
        "\n",
        "  X_train, y_train = to_arrays(df_train)\n",
        "  X_val, y_val = to_arrays(df_val)\n",
        "  X_test, y_test = to_arrays(df_test)\n",
        "\n",
        "  return X_train, y_train, X_test, y_test, X_val, y_val"
      ]
    },
    {
      "cell_type": "code",
      "execution_count": 8,
      "id": "9b7be9ac",
      "metadata": {
        "id": "9b7be9ac"
      },
      "outputs": [],
      "source": [
        "MAX_SEQUENCE_LENGTH = 128"
      ]
    },
    {
      "cell_type": "code",
      "execution_count": 9,
      "id": "023b0626",
      "metadata": {
        "id": "023b0626"
      },
      "outputs": [],
      "source": [
        "def tokenizing_pipeline(X, tokenizer):\n",
        "  bert_tokenized = tokenizer(list(X),\n",
        "                max_length=MAX_SEQUENCE_LENGTH,\n",
        "                truncation=True,\n",
        "                padding='max_length',\n",
        "                return_tensors='tf')\n",
        "  bert_inputs = [bert_tokenized.input_ids,\n",
        "                 bert_tokenized.token_type_ids,\n",
        "                 bert_tokenized.attention_mask]\n",
        "  return bert_inputs"
      ]
    },
    {
      "cell_type": "code",
      "execution_count": 24,
      "id": "f486369a",
      "metadata": {
        "id": "f486369a"
      },
      "outputs": [],
      "source": [
        "def build_bertcased_cls_model(max_sequence_length=MAX_SEQUENCE_LENGTH,\n",
        "                          hidden_size=100, \n",
        "                          dropout=0.3,\n",
        "                          learning_rate=0.0001,\n",
        "                          num_train_layers=0):\n",
        "\n",
        "    # freeze all pre-trained BERT cased layers\n",
        "    if num_train_layers == 0:\n",
        "      bertcased_model.trainable = False\n",
        "\n",
        "    # partially freeze the first n pre-trained BERT cased layers\n",
        "    else:\n",
        "        for layer_num in range(num_train_layers):\n",
        "            bertcased_model.bert.encoder.layer[layer_num].trainable = False\n",
        "    \n",
        "    input_ids = tf.keras.layers.Input(shape=(max_sequence_length,), dtype=tf.int64, name='input_ids_layer')\n",
        "    token_type_ids = tf.keras.layers.Input(shape=(max_sequence_length,), dtype=tf.int64, name='token_type_ids_layer')\n",
        "    attention_mask = tf.keras.layers.Input(shape=(max_sequence_length,), dtype=tf.int64, name='attention_mask_layer')\n",
        "\n",
        "    bert_inputs = {'input_ids': input_ids,\n",
        "                   'token_type_ids': token_type_ids,\n",
        "                   'attention_mask': attention_mask}      \n",
        "\n",
        "    bert_out = bertcased_model(bert_inputs)\n",
        "\n",
        "    cls_token = bert_out[0][:, 0, :]\n",
        "\n",
        "    \n",
        "    hidden = tf.keras.layers.Dense(hidden_size, activation='relu', name='hidden_layer')(cls_token)\n",
        "\n",
        "    hidden = tf.keras.layers.Dropout(dropout)(hidden)  \n",
        "\n",
        "    f1_score = tfa.metrics.F1Score(1, threshold = 0.5)\n",
        "\n",
        "    classification = tf.keras.layers.Dense(1, activation='sigmoid', name='classification_layer')(hidden)\n",
        "    \n",
        "    classification_model = tf.keras.Model(inputs=[input_ids, token_type_ids, attention_mask], outputs=[classification])\n",
        "    \n",
        "    classification_model.compile(optimizer=tf.keras.optimizers.legacy.Adam(learning_rate=learning_rate),\n",
        "                                 loss=tf.keras.losses.BinaryCrossentropy(from_logits=False), \n",
        "                                 metrics=[tf.keras.metrics.BinaryAccuracy(),\n",
        "                                        tf.keras.metrics.Precision(),\n",
        "                                        tf.keras.metrics.Recall(),\n",
        "                                        f1_score])\n",
        "\n",
        "    return classification_model"
      ]
    },
    {
      "cell_type": "markdown",
      "id": "e3390ff2",
      "metadata": {
        "id": "e3390ff2"
      },
      "source": [
        "## Load Data"
      ]
    },
    {
      "cell_type": "code",
      "execution_count": 11,
      "id": "165a0f2b",
      "metadata": {
        "id": "165a0f2b"
      },
      "outputs": [],
      "source": [
        "X_train_disability, y_train_disability, X_test_disability, y_test_disability, X_val_disability, y_val_disability = load_data('disability')"
      ]
    },
    {
      "cell_type": "code",
      "execution_count": 12,
      "id": "1513e398",
      "metadata": {
        "colab": {
          "base_uri": "https://localhost:8080/",
          "height": 35
        },
        "id": "1513e398",
        "outputId": "4106c385-b822-4c9e-9085-022b0649be0d"
      },
      "outputs": [
        {
          "output_type": "execute_result",
          "data": {
            "text/plain": [
              "'Many school related studies focus on the work on children with disabilities in school.\\n[6] This article talks about the exceptional children in the classroom and'"
            ],
            "application/vnd.google.colaboratory.intrinsic+json": {
              "type": "string"
            }
          },
          "metadata": {},
          "execution_count": 12
        }
      ],
      "source": [
        "X_train_disability[2]"
      ]
    },
    {
      "cell_type": "code",
      "execution_count": 13,
      "id": "a6627800",
      "metadata": {
        "colab": {
          "base_uri": "https://localhost:8080/",
          "height": 35
        },
        "id": "a6627800",
        "outputId": "f92a7444-1683-4685-b652-cce166f02508"
      },
      "outputs": [
        {
          "output_type": "execute_result",
          "data": {
            "text/plain": [
              "' youre not disabled, you just use a wheelchair'"
            ],
            "application/vnd.google.colaboratory.intrinsic+json": {
              "type": "string"
            }
          },
          "metadata": {},
          "execution_count": 13
        }
      ],
      "source": [
        "X_train_disability[10]"
      ]
    },
    {
      "cell_type": "code",
      "source": [
        "X_train_disability[20]"
      ],
      "metadata": {
        "colab": {
          "base_uri": "https://localhost:8080/",
          "height": 35
        },
        "id": "D4sq1JqwPWuy",
        "outputId": "d904525f-54e7-46ec-cd7e-5843674857e5"
      },
      "id": "D4sq1JqwPWuy",
      "execution_count": 14,
      "outputs": [
        {
          "output_type": "execute_result",
          "data": {
            "text/plain": [
              "' Mental disorders are categorized as psychiatric disorders.Â\\xa0- There are more than 180 different types of mental illness.Â\\xa0- Serious mental illness is more'"
            ],
            "application/vnd.google.colaboratory.intrinsic+json": {
              "type": "string"
            }
          },
          "metadata": {},
          "execution_count": 14
        }
      ]
    },
    {
      "cell_type": "markdown",
      "id": "c352de2f",
      "metadata": {
        "id": "c352de2f"
      },
      "source": [
        "## Load BERT Case Model from_pretrained() **WITHOUT normalization=True**"
      ]
    },
    {
      "cell_type": "code",
      "execution_count": 15,
      "id": "e252515b",
      "metadata": {
        "colab": {
          "base_uri": "https://localhost:8080/",
          "height": 266,
          "referenced_widgets": [
            "78deb47407064d798fef0ddd6aabb497",
            "355daa5e25534f4f991e6bed61788c02",
            "59593e23049f43dfbb52b2b5a391cf7a",
            "62b6fc71b26242b3a51d8329c915cf2f",
            "f54fc4ae5a7e45bcbfbfa514686306ff",
            "75ab3717bdfc47a586b9878695ace9ef",
            "b92945d2c07244fabe99083304eba414",
            "39dd79e99c1a4b298daa77e8d39baea4",
            "1c8cf6524fdb4226afed4096a6a20854",
            "9e550f03680446a999429df255f9968b",
            "dca16f5f01eb4c2d9a2b420bcef477c0",
            "134ff9a7a580455284e2949175a8fc52",
            "a02635ef015c4c14810976dc3a5e96d5",
            "c134fdd899fd457a9e4dc5ee058d3734",
            "e6817bc820e74d0bb02110e113939368",
            "1c8d87ee235943f4b89e44beffb7a4b9",
            "079adb662e38428aa1a2aab1b3f6a02e",
            "4d84ee863df443368969dd8b69f0b6ab",
            "add7f10a37424b78aca03002e588a40b",
            "06789d1093764e8393cf7bf285794a35",
            "b240d65da22442289e5f87d0987a04b2",
            "aeca4c66a4f14f0ba4892e2cd1245ed6",
            "a24faaa7dc334367939304a8e653ca46",
            "2e10b93c784b47e7a2f7364a4a5b9d58",
            "8d617a3fdbfe4e558bdfc63e86a58f8f",
            "ca5aed0a81bd4d218731c8c1c979b44f",
            "5089d112bc7e44e1ae7315369c3a57e7",
            "4b43709c21844234847b347086043993",
            "2468885704b84ea193313672f05d7635",
            "a38017edf67643e29e02af65afba5244",
            "b51b66a1d06842a7941b8d6febc90378",
            "435f305d838846f5b9384753e4c4f0b7",
            "8bbffe918f5d45c5b51ee85e5566ea74",
            "2b6306d2f8a8457bb234e70a352c6c41",
            "bf5fe1d34162423a8fd5014ec1bcb255",
            "7c517d7eaca64e3ebbfc9df9d37a3930",
            "daf960f97abe489db96f49d2da70ca32",
            "2676b165a82e43969360de6e1aff1240",
            "62ff0b6b7ae847eba5774028f8be2e5c",
            "7603a15ab4574b7e8ed3b4ff6cfe57b0",
            "24fa8a5355e94a2284197e82bd8f50c0",
            "5a192f92d51f4454b9a6b20e1b518a1c",
            "ba22f13340de4f1783801ffd024950e7",
            "537c5fabe0c04c7188224a97061338f1",
            "1b6332ef7cf14aedb13b9e6558282baa",
            "c1a311aa6ea4466fbdb87af4f55575d6",
            "a8163399001d4e86b2f80d39b6b1a740",
            "33c20d0e7d7d4fc991772b96d0f527cc",
            "84275aa92bbf4f1e96ffd81c44e3419b",
            "2a3980435cb744aebd1f47aefef92c00",
            "7cefc44c2c624506b4b2be73f62ecb88",
            "050f0357d374421a9742a1ff014dfd4f",
            "8d86600bacbd4e7f9cae4515ca17584a",
            "84b91787988b4da7b396f60b9f98778e",
            "2fe083605e1240e99733ac1e72bab657"
          ]
        },
        "id": "e252515b",
        "outputId": "d86874f4-f890-4472-8414-81603f044ffe"
      },
      "outputs": [
        {
          "output_type": "display_data",
          "data": {
            "text/plain": [
              "Downloading (…)okenizer_config.json:   0%|          | 0.00/29.0 [00:00<?, ?B/s]"
            ],
            "application/vnd.jupyter.widget-view+json": {
              "version_major": 2,
              "version_minor": 0,
              "model_id": "78deb47407064d798fef0ddd6aabb497"
            }
          },
          "metadata": {}
        },
        {
          "output_type": "display_data",
          "data": {
            "text/plain": [
              "Downloading (…)lve/main/config.json:   0%|          | 0.00/570 [00:00<?, ?B/s]"
            ],
            "application/vnd.jupyter.widget-view+json": {
              "version_major": 2,
              "version_minor": 0,
              "model_id": "134ff9a7a580455284e2949175a8fc52"
            }
          },
          "metadata": {}
        },
        {
          "output_type": "display_data",
          "data": {
            "text/plain": [
              "Downloading (…)solve/main/vocab.txt:   0%|          | 0.00/213k [00:00<?, ?B/s]"
            ],
            "application/vnd.jupyter.widget-view+json": {
              "version_major": 2,
              "version_minor": 0,
              "model_id": "a24faaa7dc334367939304a8e653ca46"
            }
          },
          "metadata": {}
        },
        {
          "output_type": "display_data",
          "data": {
            "text/plain": [
              "Downloading (…)/main/tokenizer.json:   0%|          | 0.00/436k [00:00<?, ?B/s]"
            ],
            "application/vnd.jupyter.widget-view+json": {
              "version_major": 2,
              "version_minor": 0,
              "model_id": "2b6306d2f8a8457bb234e70a352c6c41"
            }
          },
          "metadata": {}
        },
        {
          "output_type": "display_data",
          "data": {
            "text/plain": [
              "Downloading tf_model.h5:   0%|          | 0.00/527M [00:00<?, ?B/s]"
            ],
            "application/vnd.jupyter.widget-view+json": {
              "version_major": 2,
              "version_minor": 0,
              "model_id": "1b6332ef7cf14aedb13b9e6558282baa"
            }
          },
          "metadata": {}
        },
        {
          "output_type": "stream",
          "name": "stderr",
          "text": [
            "Some layers from the model checkpoint at bert-base-cased were not used when initializing TFBertModel: ['nsp___cls', 'mlm___cls']\n",
            "- This IS expected if you are initializing TFBertModel from the checkpoint of a model trained on another task or with another architecture (e.g. initializing a BertForSequenceClassification model from a BertForPreTraining model).\n",
            "- This IS NOT expected if you are initializing TFBertModel from the checkpoint of a model that you expect to be exactly identical (initializing a BertForSequenceClassification model from a BertForSequenceClassification model).\n",
            "All the layers of TFBertModel were initialized from the model checkpoint at bert-base-cased.\n",
            "If your task is similar to the task the model of the checkpoint was trained on, you can already use TFBertModel for predictions without further training.\n"
          ]
        }
      ],
      "source": [
        "bertcased_tokenizer = AutoTokenizer.from_pretrained('bert-base-cased')\n",
        "bertcased_model = TFBertModel.from_pretrained('bert-base-cased')"
      ]
    },
    {
      "cell_type": "code",
      "execution_count": 16,
      "id": "fcc5ead2",
      "metadata": {
        "id": "fcc5ead2",
        "colab": {
          "base_uri": "https://localhost:8080/"
        },
        "outputId": "18850deb-f8c0-47d2-c2b5-82a19ceb491e"
      },
      "outputs": [
        {
          "output_type": "execute_result",
          "data": {
            "text/plain": [
              "['mental', 'disability', 'is', 'extremely', 'physical']"
            ]
          },
          "metadata": {},
          "execution_count": 16
        }
      ],
      "source": [
        "bertcased_tokenizer.tokenize(X_train_disability[1])"
      ]
    },
    {
      "cell_type": "code",
      "execution_count": 17,
      "id": "01854eb9",
      "metadata": {
        "colab": {
          "base_uri": "https://localhost:8080/"
        },
        "id": "01854eb9",
        "outputId": "502d1687-ee2a-40cd-8710-1744221370da"
      },
      "outputs": [
        {
          "output_type": "stream",
          "name": "stdout",
          "text": [
            "Model: \"tf_bert_model\"\n",
            "_________________________________________________________________\n",
            " Layer (type)                Output Shape              Param #   \n",
            "=================================================================\n",
            " bert (TFBertMainLayer)      multiple                  108310272 \n",
            "                                                                 \n",
            "=================================================================\n",
            "Total params: 108,310,272\n",
            "Trainable params: 108,310,272\n",
            "Non-trainable params: 0\n",
            "_________________________________________________________________\n"
          ]
        }
      ],
      "source": [
        "bertcased_model.summary()"
      ]
    },
    {
      "cell_type": "markdown",
      "id": "6bbf0d8f",
      "metadata": {
        "id": "6bbf0d8f"
      },
      "source": [
        "## Tokenize Data Splits"
      ]
    },
    {
      "cell_type": "code",
      "execution_count": 18,
      "id": "b25b6965",
      "metadata": {
        "id": "b25b6965"
      },
      "outputs": [],
      "source": [
        "bertcased_train_inputs_disability = tokenizing_pipeline(X_train_disability, bertcased_tokenizer)\n",
        "bertcased_test_inputs_disability = tokenizing_pipeline(X_test_disability, bertcased_tokenizer)\n",
        "bertcased_val_inputs_disability = tokenizing_pipeline(X_val_disability, bertcased_tokenizer)"
      ]
    },
    {
      "cell_type": "code",
      "execution_count": 19,
      "id": "a9751de7",
      "metadata": {
        "colab": {
          "base_uri": "https://localhost:8080/"
        },
        "id": "a9751de7",
        "outputId": "6688092c-afaa-4839-af55-58eb32de3498"
      },
      "outputs": [
        {
          "output_type": "execute_result",
          "data": {
            "text/plain": [
              "24904"
            ]
          },
          "metadata": {},
          "execution_count": 19
        }
      ],
      "source": [
        "len(X_train_disability)"
      ]
    },
    {
      "cell_type": "code",
      "execution_count": 20,
      "id": "e58f74c8",
      "metadata": {
        "colab": {
          "base_uri": "https://localhost:8080/"
        },
        "id": "e58f74c8",
        "outputId": "a9be20a3-c7e7-4adb-aae4-9d0941f583f2"
      },
      "outputs": [
        {
          "output_type": "execute_result",
          "data": {
            "text/plain": [
              "4152"
            ]
          },
          "metadata": {},
          "execution_count": 20
        }
      ],
      "source": [
        "len(X_val_disability)"
      ]
    },
    {
      "cell_type": "code",
      "execution_count": 21,
      "id": "ac1e0a0d",
      "metadata": {
        "colab": {
          "base_uri": "https://localhost:8080/"
        },
        "id": "ac1e0a0d",
        "outputId": "d2ceeeaf-08c2-4000-8dd9-ed68e8609111"
      },
      "outputs": [
        {
          "output_type": "execute_result",
          "data": {
            "text/plain": [
              "7265"
            ]
          },
          "metadata": {},
          "execution_count": 21
        }
      ],
      "source": [
        "len(X_test_disability)"
      ]
    },
    {
      "cell_type": "markdown",
      "id": "94f5b97a",
      "metadata": {
        "id": "94f5b97a"
      },
      "source": [
        "## Calculate Class Weights for Disability"
      ]
    },
    {
      "cell_type": "markdown",
      "id": "b6f287eb",
      "metadata": {
        "id": "b6f287eb"
      },
      "source": [
        "Get class weights for disability train set:"
      ]
    },
    {
      "cell_type": "code",
      "execution_count": 22,
      "id": "5c048779",
      "metadata": {
        "colab": {
          "base_uri": "https://localhost:8080/"
        },
        "id": "5c048779",
        "outputId": "3024ce66-7edb-4bb1-da3d-3f71270c8659"
      },
      "outputs": [
        {
          "output_type": "stream",
          "name": "stdout",
          "text": [
            "Disability Examples:\n",
            "    Total: 24904\n",
            "    Positive: 13009 (52.24% of total)\n",
            "\n",
            "Disability Weight for class 0: 1.05\n",
            "Disability Weight for class 1: 0.96\n"
          ]
        }
      ],
      "source": [
        "neg, pos = np.bincount(y_train_disability)\n",
        "total = neg + pos\n",
        "print('Disability Examples:\\n    Total: {}\\n    Positive: {} ({:.2f}% of total)\\n'.format(\n",
        "    total, pos, 100 * pos / total))\n",
        "\n",
        "# Scaling by total/2 helps keep the loss to a similar magnitude.\n",
        "# The sum of the weights of all examples stays the same.\n",
        "weight_for_0 = (1 / neg) * (total / 2.0)\n",
        "weight_for_1 = (1 / pos) * (total / 2.0)\n",
        "\n",
        "disability_class_weight = {0: weight_for_0, 1: weight_for_1}\n",
        "\n",
        "print('Disability Weight for class 0: {:.2f}'.format(weight_for_0))\n",
        "print('Disability Weight for class 1: {:.2f}'.format(weight_for_1))"
      ]
    },
    {
      "cell_type": "markdown",
      "id": "3129f17c",
      "metadata": {
        "id": "3129f17c"
      },
      "source": [
        "## Build Disability Model"
      ]
    },
    {
      "cell_type": "code",
      "execution_count": 25,
      "id": "b72fe4c1",
      "metadata": {
        "colab": {
          "base_uri": "https://localhost:8080/"
        },
        "id": "b72fe4c1",
        "outputId": "c2fcb448-a53c-484f-d3a9-0a45c605050d"
      },
      "outputs": [
        {
          "output_type": "stream",
          "name": "stdout",
          "text": [
            "Model: \"model\"\n",
            "__________________________________________________________________________________________________\n",
            " Layer (type)                   Output Shape         Param #     Connected to                     \n",
            "==================================================================================================\n",
            " attention_mask_layer (InputLay  [(None, 128)]       0           []                               \n",
            " er)                                                                                              \n",
            "                                                                                                  \n",
            " input_ids_layer (InputLayer)   [(None, 128)]        0           []                               \n",
            "                                                                                                  \n",
            " token_type_ids_layer (InputLay  [(None, 128)]       0           []                               \n",
            " er)                                                                                              \n",
            "                                                                                                  \n",
            " tf_bert_model (TFBertModel)    TFBaseModelOutputWi  108310272   ['attention_mask_layer[0][0]',   \n",
            "                                thPoolingAndCrossAt               'input_ids_layer[0][0]',        \n",
            "                                tentions(last_hidde               'token_type_ids_layer[0][0]']   \n",
            "                                n_state=(None, 128,                                               \n",
            "                                 768),                                                            \n",
            "                                 pooler_output=(Non                                               \n",
            "                                e, 768),                                                          \n",
            "                                 past_key_values=No                                               \n",
            "                                ne, hidden_states=N                                               \n",
            "                                one, attentions=Non                                               \n",
            "                                e, cross_attentions                                               \n",
            "                                =None)                                                            \n",
            "                                                                                                  \n",
            " tf.__operators__.getitem (Slic  (None, 768)         0           ['tf_bert_model[0][0]']          \n",
            " ingOpLambda)                                                                                     \n",
            "                                                                                                  \n",
            " hidden_layer (Dense)           (None, 100)          76900       ['tf.__operators__.getitem[0][0]'\n",
            "                                                                 ]                                \n",
            "                                                                                                  \n",
            " dropout_37 (Dropout)           (None, 100)          0           ['hidden_layer[0][0]']           \n",
            "                                                                                                  \n",
            " classification_layer (Dense)   (None, 1)            101         ['dropout_37[0][0]']             \n",
            "                                                                                                  \n",
            "==================================================================================================\n",
            "Total params: 108,387,273\n",
            "Trainable params: 51,684,297\n",
            "Non-trainable params: 56,702,976\n",
            "__________________________________________________________________________________________________\n"
          ]
        }
      ],
      "source": [
        "num_train_layers=8\n",
        "learning_rate=1e-6\n",
        "disability_model = build_bertcased_cls_model(num_train_layers=num_train_layers, learning_rate=learning_rate)\n",
        "disability_model.summary()"
      ]
    },
    {
      "cell_type": "code",
      "source": [
        "num_epochs = 10\n",
        "batch_size=24\n",
        "disability_history = disability_model.fit(bertcased_train_inputs_disability,\n",
        "                                          y_train_disability,\n",
        "                                          validation_data=(bertcased_val_inputs_disability, y_val_disability),\n",
        "                                          batch_size=batch_size,\n",
        "                                          epochs=num_epochs,\n",
        "                                          class_weight=disability_class_weight)"
      ],
      "metadata": {
        "colab": {
          "base_uri": "https://localhost:8080/"
        },
        "id": "49uLd8IRDlhy",
        "outputId": "be8ae2c6-532a-431f-fe52-59c5db5e2c8b"
      },
      "id": "49uLd8IRDlhy",
      "execution_count": 26,
      "outputs": [
        {
          "output_type": "stream",
          "name": "stdout",
          "text": [
            "Epoch 1/10\n"
          ]
        },
        {
          "output_type": "stream",
          "name": "stderr",
          "text": [
            "WARNING:tensorflow:Gradients do not exist for variables ['tf_bert_model/bert/pooler/dense/kernel:0', 'tf_bert_model/bert/pooler/dense/bias:0'] when minimizing the loss. If you're using `model.compile()`, did you forget to provide a `loss` argument?\n",
            "WARNING:tensorflow:Gradients do not exist for variables ['tf_bert_model/bert/pooler/dense/kernel:0', 'tf_bert_model/bert/pooler/dense/bias:0'] when minimizing the loss. If you're using `model.compile()`, did you forget to provide a `loss` argument?\n"
          ]
        },
        {
          "output_type": "stream",
          "name": "stdout",
          "text": [
            "1038/1038 [==============================] - 95s 76ms/step - loss: 0.5973 - binary_accuracy: 0.6737 - precision: 0.6934 - recall: 0.6730 - f1_score: 0.6831 - val_loss: 0.4920 - val_binary_accuracy: 0.7664 - val_precision: 0.7826 - val_recall: 0.7608 - val_f1_score: 0.7715\n",
            "Epoch 2/10\n",
            "1038/1038 [==============================] - 76s 73ms/step - loss: 0.4906 - binary_accuracy: 0.7659 - precision: 0.7830 - recall: 0.7635 - f1_score: 0.7731 - val_loss: 0.4663 - val_binary_accuracy: 0.7779 - val_precision: 0.8107 - val_recall: 0.7459 - val_f1_score: 0.7770\n",
            "Epoch 3/10\n",
            "1038/1038 [==============================] - 76s 73ms/step - loss: 0.4623 - binary_accuracy: 0.7800 - precision: 0.7987 - recall: 0.7739 - f1_score: 0.7861 - val_loss: 0.4488 - val_binary_accuracy: 0.7837 - val_precision: 0.7893 - val_recall: 0.7952 - val_f1_score: 0.7922\n",
            "Epoch 4/10\n",
            "1038/1038 [==============================] - 76s 73ms/step - loss: 0.4412 - binary_accuracy: 0.7951 - precision: 0.8131 - recall: 0.7891 - f1_score: 0.8009 - val_loss: 0.4393 - val_binary_accuracy: 0.7905 - val_precision: 0.8098 - val_recall: 0.7789 - val_f1_score: 0.7940\n",
            "Epoch 5/10\n",
            "1038/1038 [==============================] - 76s 74ms/step - loss: 0.4308 - binary_accuracy: 0.7983 - precision: 0.8157 - recall: 0.7932 - f1_score: 0.8043 - val_loss: 0.4316 - val_binary_accuracy: 0.7958 - val_precision: 0.8219 - val_recall: 0.7738 - val_f1_score: 0.7971\n",
            "Epoch 6/10\n",
            "1038/1038 [==============================] - 77s 74ms/step - loss: 0.4178 - binary_accuracy: 0.8080 - precision: 0.8282 - recall: 0.7980 - f1_score: 0.8128 - val_loss: 0.4252 - val_binary_accuracy: 0.8001 - val_precision: 0.8125 - val_recall: 0.7989 - val_f1_score: 0.8056\n",
            "Epoch 7/10\n",
            "1038/1038 [==============================] - 76s 73ms/step - loss: 0.4088 - binary_accuracy: 0.8135 - precision: 0.8355 - recall: 0.8005 - f1_score: 0.8177 - val_loss: 0.4195 - val_binary_accuracy: 0.8025 - val_precision: 0.8107 - val_recall: 0.8077 - val_f1_score: 0.8092\n",
            "Epoch 8/10\n",
            "1038/1038 [==============================] - 76s 73ms/step - loss: 0.3988 - binary_accuracy: 0.8197 - precision: 0.8405 - recall: 0.8083 - f1_score: 0.8241 - val_loss: 0.4170 - val_binary_accuracy: 0.8090 - val_precision: 0.8285 - val_recall: 0.7966 - val_f1_score: 0.8122\n",
            "Epoch 9/10\n",
            "1038/1038 [==============================] - 76s 74ms/step - loss: 0.3918 - binary_accuracy: 0.8222 - precision: 0.8418 - recall: 0.8122 - f1_score: 0.8267 - val_loss: 0.4139 - val_binary_accuracy: 0.8095 - val_precision: 0.8153 - val_recall: 0.8179 - val_f1_score: 0.8166\n",
            "Epoch 10/10\n",
            "1038/1038 [==============================] - 76s 73ms/step - loss: 0.3859 - binary_accuracy: 0.8254 - precision: 0.8437 - recall: 0.8172 - f1_score: 0.8303 - val_loss: 0.4124 - val_binary_accuracy: 0.8129 - val_precision: 0.8215 - val_recall: 0.8165 - val_f1_score: 0.8190\n"
          ]
        }
      ]
    },
    {
      "cell_type": "markdown",
      "source": [
        "## Plots"
      ],
      "metadata": {
        "id": "sdDsg423k_gJ"
      },
      "id": "sdDsg423k_gJ"
    },
    {
      "cell_type": "code",
      "source": [
        "# Initialise the subplot function using number of rows and columns\n",
        "figure, axis = plt.subplots(1, 3, figsize=(20,6))\n",
        "\n",
        "# F1 Score\n",
        "axis[0].plot(disability_history.history['f1_score'], label=\"training\", marker='o')\n",
        "axis[0].plot(disability_history.history['val_f1_score'], label=\"validation\", marker='o')\n",
        "axis[0].set_ylabel('F1 Score')\n",
        "axis[0].set_xlabel('Epoch')\n",
        "axis[0].set_xticks(list(range(0, num_epochs)),[str(x) for x in range(1, num_epochs+1)])\n",
        "axis[0].set_title('BERT Cased Disability Only Train vs Val F1 Score\\n'+'# Unfrozen BERT Cased Layers='+str(num_train_layers)+'\\nBatch Size='+str(batch_size)+'nlearning_rate='+str(learning_rate))\n",
        "  \n",
        "# Loss\n",
        "axis[1].plot(disability_history.history['loss'], label=\"training\", marker='o')\n",
        "axis[1].plot(disability_history.history['val_loss'], label=\"validation\", marker='o')\n",
        "axis[1].set_ylabel('Loss')\n",
        "axis[1].set_xlabel('Epoch')\n",
        "axis[1].set_xticks(list(range(0, num_epochs)),[str(x) for x in range(1, num_epochs+1)])\n",
        "axis[1].set_title('BERT Cased Disability Only Train vs Val Loss\\n'+'# Unfrozen BERT Cased Layers='+str(num_train_layers)+'\\nBatch Size='+str(batch_size)+'nlearning_rate='+str(learning_rate))\n",
        "  \n",
        "# Binary Accuracy\n",
        "axis[2].plot(disability_history.history['binary_accuracy'], label=\"training\", marker='o')\n",
        "axis[2].plot(disability_history.history['val_binary_accuracy'], label=\"validation\", marker='o')\n",
        "axis[2].set_ylabel('Binary Accuracy')\n",
        "axis[2].set_xlabel('Epoch')\n",
        "axis[2].set_xticks(list(range(0, num_epochs)),[str(x) for x in range(1, num_epochs+1)])\n",
        "axis[2].set_title('BERT Cased Disability Only Train vs Val Binary Accuracy\\n'+'# Unfrozen BERT Cased Layers='+str(num_train_layers)+'\\nBatch Size='+str(batch_size)+'nlearning_rate='+str(learning_rate))\n",
        "  \n",
        "# Combine all the operations and display\n",
        "plt.show()"
      ],
      "metadata": {
        "id": "KjS6sn71k53r"
      },
      "id": "KjS6sn71k53r",
      "execution_count": null,
      "outputs": []
    },
    {
      "cell_type": "markdown",
      "id": "83d47671",
      "metadata": {
        "id": "83d47671"
      },
      "source": [
        "## Save Weights"
      ]
    },
    {
      "cell_type": "code",
      "execution_count": 31,
      "id": "8be4d31e",
      "metadata": {
        "id": "8be4d31e"
      },
      "outputs": [],
      "source": [
        "disability_model.save_weights('drive/MyDrive/model_checkpoints/Official_BERT_Cased_Disability_Only_Toxigen_Hatemoji.hdh5')"
      ]
    },
    {
      "cell_type": "markdown",
      "source": [
        "## Previous Result: We can see that it overfits after 3 epochs, so stop training at 3 epochs"
      ],
      "metadata": {
        "id": "cicRxtHgLPwA"
      },
      "id": "cicRxtHgLPwA"
    },
    {
      "cell_type": "code",
      "source": [],
      "metadata": {
        "colab": {
          "base_uri": "https://localhost:8080/",
          "height": 606
        },
        "id": "dZmC4TBlLNze",
        "outputId": "121efd8c-c607-40a1-ec8e-113547068007"
      },
      "id": "dZmC4TBlLNze",
      "execution_count": 30,
      "outputs": [
        {
          "output_type": "display_data",
          "data": {
            "text/plain": [
              "<Figure size 2000x600 with 3 Axes>"
            ],
            "image/png": "[encoded data removed]"
          },
          "metadata": {}
        }
      ]
    }
  ],
  "metadata": {
    "kernelspec": {
      "display_name": "Python 3.10 (tensorflow)",
      "language": "python",
      "name": "w266tensorflow"
    },
    "language_info": {
      "codemirror_mode": {
        "name": "ipython",
        "version": 3
      },
      "file_extension": ".py",
      "mimetype": "text/x-python",
      "name": "python",
      "nbconvert_exporter": "python",
      "pygments_lexer": "ipython3",
      "version": "3.10.10"
    },
    "colab": {
      "provenance": [],
      "machine_shape": "hm"
    },
    "accelerator": "GPU",
    "gpuClass": "premium",
    "widgets": {
      "application/vnd.jupyter.widget-state+json": {
        "78deb47407064d798fef0ddd6aabb497": {
          "model_module": "@jupyter-widgets/controls",
          "model_name": "HBoxModel",
          "model_module_version": "1.5.0",
          "state": {
            "_dom_classes": [],
            "_model_module": "@jupyter-widgets/controls",
            "_model_module_version": "1.5.0",
            "_model_name": "HBoxModel",
            "_view_count": null,
            "_view_module": "@jupyter-widgets/controls",
            "_view_module_version": "1.5.0",
            "_view_name": "HBoxView",
            "box_style": "",
            "children": [
              "IPY_MODEL_355daa5e25534f4f991e6bed61788c02",
              "IPY_MODEL_59593e23049f43dfbb52b2b5a391cf7a",
              "IPY_MODEL_62b6fc71b26242b3a51d8329c915cf2f"
            ],
            "layout": "IPY_MODEL_f54fc4ae5a7e45bcbfbfa514686306ff"
          }
        },
        "355daa5e25534f4f991e6bed61788c02": {
          "model_module": "@jupyter-widgets/controls",
          "model_name": "HTMLModel",
          "model_module_version": "1.5.0",
          "state": {
            "_dom_classes": [],
            "_model_module": "@jupyter-widgets/controls",
            "_model_module_version": "1.5.0",
            "_model_name": "HTMLModel",
            "_view_count": null,
            "_view_module": "@jupyter-widgets/controls",
            "_view_module_version": "1.5.0",
            "_view_name": "HTMLView",
            "description": "",
            "description_tooltip": null,
            "layout": "IPY_MODEL_75ab3717bdfc47a586b9878695ace9ef",
            "placeholder": "​",
            "style": "IPY_MODEL_b92945d2c07244fabe99083304eba414",
            "value": "Downloading (…)okenizer_config.json: 100%"
          }
        },
        "59593e23049f43dfbb52b2b5a391cf7a": {
          "model_module": "@jupyter-widgets/controls",
          "model_name": "FloatProgressModel",
          "model_module_version": "1.5.0",
          "state": {
            "_dom_classes": [],
            "_model_module": "@jupyter-widgets/controls",
            "_model_module_version": "1.5.0",
            "_model_name": "FloatProgressModel",
            "_view_count": null,
            "_view_module": "@jupyter-widgets/controls",
            "_view_module_version": "1.5.0",
            "_view_name": "ProgressView",
            "bar_style": "success",
            "description": "",
            "description_tooltip": null,
            "layout": "IPY_MODEL_39dd79e99c1a4b298daa77e8d39baea4",
            "max": 29,
            "min": 0,
            "orientation": "horizontal",
            "style": "IPY_MODEL_1c8cf6524fdb4226afed4096a6a20854",
            "value": 29
          }
        },
        "62b6fc71b26242b3a51d8329c915cf2f": {
          "model_module": "@jupyter-widgets/controls",
          "model_name": "HTMLModel",
          "model_module_version": "1.5.0",
          "state": {
            "_dom_classes": [],
            "_model_module": "@jupyter-widgets/controls",
            "_model_module_version": "1.5.0",
            "_model_name": "HTMLModel",
            "_view_count": null,
            "_view_module": "@jupyter-widgets/controls",
            "_view_module_version": "1.5.0",
            "_view_name": "HTMLView",
            "description": "",
            "description_tooltip": null,
            "layout": "IPY_MODEL_9e550f03680446a999429df255f9968b",
            "placeholder": "​",
            "style": "IPY_MODEL_dca16f5f01eb4c2d9a2b420bcef477c0",
            "value": " 29.0/29.0 [00:00&lt;00:00, 1.82kB/s]"
          }
        },
        "f54fc4ae5a7e45bcbfbfa514686306ff": {
          "model_module": "@jupyter-widgets/base",
          "model_name": "LayoutModel",
          "model_module_version": "1.2.0",
          "state": {
            "_model_module": "@jupyter-widgets/base",
            "_model_module_version": "1.2.0",
            "_model_name": "LayoutModel",
            "_view_count": null,
            "_view_module": "@jupyter-widgets/base",
            "_view_module_version": "1.2.0",
            "_view_name": "LayoutView",
            "align_content": null,
            "align_items": null,
            "align_self": null,
            "border": null,
            "bottom": null,
            "display": null,
            "flex": null,
            "flex_flow": null,
            "grid_area": null,
            "grid_auto_columns": null,
            "grid_auto_flow": null,
            "grid_auto_rows": null,
            "grid_column": null,
            "grid_gap": null,
            "grid_row": null,
            "grid_template_areas": null,
            "grid_template_columns": null,
            "grid_template_rows": null,
            "height": null,
            "justify_content": null,
            "justify_items": null,
            "left": null,
            "margin": null,
            "max_height": null,
            "max_width": null,
            "min_height": null,
            "min_width": null,
            "object_fit": null,
            "object_position": null,
            "order": null,
            "overflow": null,
            "overflow_x": null,
            "overflow_y": null,
            "padding": null,
            "right": null,
            "top": null,
            "visibility": null,
            "width": null
          }
        },
        "75ab3717bdfc47a586b9878695ace9ef": {
          "model_module": "@jupyter-widgets/base",
          "model_name": "LayoutModel",
          "model_module_version": "1.2.0",
          "state": {
            "_model_module": "@jupyter-widgets/base",
            "_model_module_version": "1.2.0",
            "_model_name": "LayoutModel",
            "_view_count": null,
            "_view_module": "@jupyter-widgets/base",
            "_view_module_version": "1.2.0",
            "_view_name": "LayoutView",
            "align_content": null,
            "align_items": null,
            "align_self": null,
            "border": null,
            "bottom": null,
            "display": null,
            "flex": null,
            "flex_flow": null,
            "grid_area": null,
            "grid_auto_columns": null,
            "grid_auto_flow": null,
            "grid_auto_rows": null,
            "grid_column": null,
            "grid_gap": null,
            "grid_row": null,
            "grid_template_areas": null,
            "grid_template_columns": null,
            "grid_template_rows": null,
            "height": null,
            "justify_content": null,
            "justify_items": null,
            "left": null,
            "margin": null,
            "max_height": null,
            "max_width": null,
            "min_height": null,
            "min_width": null,
            "object_fit": null,
            "object_position": null,
            "order": null,
            "overflow": null,
            "overflow_x": null,
            "overflow_y": null,
            "padding": null,
            "right": null,
            "top": null,
            "visibility": null,
            "width": null
          }
        },
        "b92945d2c07244fabe99083304eba414": {
          "model_module": "@jupyter-widgets/controls",
          "model_name": "DescriptionStyleModel",
          "model_module_version": "1.5.0",
          "state": {
            "_model_module": "@jupyter-widgets/controls",
            "_model_module_version": "1.5.0",
            "_model_name": "DescriptionStyleModel",
            "_view_count": null,
            "_view_module": "@jupyter-widgets/base",
            "_view_module_version": "1.2.0",
            "_view_name": "StyleView",
            "description_width": ""
          }
        },
        "39dd79e99c1a4b298daa77e8d39baea4": {
          "model_module": "@jupyter-widgets/base",
          "model_name": "LayoutModel",
          "model_module_version": "1.2.0",
          "state": {
            "_model_module": "@jupyter-widgets/base",
            "_model_module_version": "1.2.0",
            "_model_name": "LayoutModel",
            "_view_count": null,
            "_view_module": "@jupyter-widgets/base",
            "_view_module_version": "1.2.0",
            "_view_name": "LayoutView",
            "align_content": null,
            "align_items": null,
            "align_self": null,
            "border": null,
            "bottom": null,
            "display": null,
            "flex": null,
            "flex_flow": null,
            "grid_area": null,
            "grid_auto_columns": null,
            "grid_auto_flow": null,
            "grid_auto_rows": null,
            "grid_column": null,
            "grid_gap": null,
            "grid_row": null,
            "grid_template_areas": null,
            "grid_template_columns": null,
            "grid_template_rows": null,
            "height": null,
            "justify_content": null,
            "justify_items": null,
            "left": null,
            "margin": null,
            "max_height": null,
            "max_width": null,
            "min_height": null,
            "min_width": null,
            "object_fit": null,
            "object_position": null,
            "order": null,
            "overflow": null,
            "overflow_x": null,
            "overflow_y": null,
            "padding": null,
            "right": null,
            "top": null,
            "visibility": null,
            "width": null
          }
        },
        "1c8cf6524fdb4226afed4096a6a20854": {
          "model_module": "@jupyter-widgets/controls",
          "model_name": "ProgressStyleModel",
          "model_module_version": "1.5.0",
          "state": {
            "_model_module": "@jupyter-widgets/controls",
            "_model_module_version": "1.5.0",
            "_model_name": "ProgressStyleModel",
            "_view_count": null,
            "_view_module": "@jupyter-widgets/base",
            "_view_module_version": "1.2.0",
            "_view_name": "StyleView",
            "bar_color": null,
            "description_width": ""
          }
        },
        "9e550f03680446a999429df255f9968b": {
          "model_module": "@jupyter-widgets/base",
          "model_name": "LayoutModel",
          "model_module_version": "1.2.0",
          "state": {
            "_model_module": "@jupyter-widgets/base",
            "_model_module_version": "1.2.0",
            "_model_name": "LayoutModel",
            "_view_count": null,
            "_view_module": "@jupyter-widgets/base",
            "_view_module_version": "1.2.0",
            "_view_name": "LayoutView",
            "align_content": null,
            "align_items": null,
            "align_self": null,
            "border": null,
            "bottom": null,
            "display": null,
            "flex": null,
            "flex_flow": null,
            "grid_area": null,
            "grid_auto_columns": null,
            "grid_auto_flow": null,
            "grid_auto_rows": null,
            "grid_column": null,
            "grid_gap": null,
            "grid_row": null,
            "grid_template_areas": null,
            "grid_template_columns": null,
            "grid_template_rows": null,
            "height": null,
            "justify_content": null,
            "justify_items": null,
            "left": null,
            "margin": null,
            "max_height": null,
            "max_width": null,
            "min_height": null,
            "min_width": null,
            "object_fit": null,
            "object_position": null,
            "order": null,
            "overflow": null,
            "overflow_x": null,
            "overflow_y": null,
            "padding": null,
            "right": null,
            "top": null,
            "visibility": null,
            "width": null
          }
        },
        "dca16f5f01eb4c2d9a2b420bcef477c0": {
          "model_module": "@jupyter-widgets/controls",
          "model_name": "DescriptionStyleModel",
          "model_module_version": "1.5.0",
          "state": {
            "_model_module": "@jupyter-widgets/controls",
            "_model_module_version": "1.5.0",
            "_model_name": "DescriptionStyleModel",
            "_view_count": null,
            "_view_module": "@jupyter-widgets/base",
            "_view_module_version": "1.2.0",
            "_view_name": "StyleView",
            "description_width": ""
          }
        },
        "134ff9a7a580455284e2949175a8fc52": {
          "model_module": "@jupyter-widgets/controls",
          "model_name": "HBoxModel",
          "model_module_version": "1.5.0",
          "state": {
            "_dom_classes": [],
            "_model_module": "@jupyter-widgets/controls",
            "_model_module_version": "1.5.0",
            "_model_name": "HBoxModel",
            "_view_count": null,
            "_view_module": "@jupyter-widgets/controls",
            "_view_module_version": "1.5.0",
            "_view_name": "HBoxView",
            "box_style": "",
            "children": [
              "IPY_MODEL_a02635ef015c4c14810976dc3a5e96d5",
              "IPY_MODEL_c134fdd899fd457a9e4dc5ee058d3734",
              "IPY_MODEL_e6817bc820e74d0bb02110e113939368"
            ],
            "layout": "IPY_MODEL_1c8d87ee235943f4b89e44beffb7a4b9"
          }
        },
        "a02635ef015c4c14810976dc3a5e96d5": {
          "model_module": "@jupyter-widgets/controls",
          "model_name": "HTMLModel",
          "model_module_version": "1.5.0",
          "state": {
            "_dom_classes": [],
            "_model_module": "@jupyter-widgets/controls",
            "_model_module_version": "1.5.0",
            "_model_name": "HTMLModel",
            "_view_count": null,
            "_view_module": "@jupyter-widgets/controls",
            "_view_module_version": "1.5.0",
            "_view_name": "HTMLView",
            "description": "",
            "description_tooltip": null,
            "layout": "IPY_MODEL_079adb662e38428aa1a2aab1b3f6a02e",
            "placeholder": "​",
            "style": "IPY_MODEL_4d84ee863df443368969dd8b69f0b6ab",
            "value": "Downloading (…)lve/main/config.json: 100%"
          }
        },
        "c134fdd899fd457a9e4dc5ee058d3734": {
          "model_module": "@jupyter-widgets/controls",
          "model_name": "FloatProgressModel",
          "model_module_version": "1.5.0",
          "state": {
            "_dom_classes": [],
            "_model_module": "@jupyter-widgets/controls",
            "_model_module_version": "1.5.0",
            "_model_name": "FloatProgressModel",
            "_view_count": null,
            "_view_module": "@jupyter-widgets/controls",
            "_view_module_version": "1.5.0",
            "_view_name": "ProgressView",
            "bar_style": "success",
            "description": "",
            "description_tooltip": null,
            "layout": "IPY_MODEL_add7f10a37424b78aca03002e588a40b",
            "max": 570,
            "min": 0,
            "orientation": "horizontal",
            "style": "IPY_MODEL_06789d1093764e8393cf7bf285794a35",
            "value": 570
          }
        },
        "e6817bc820e74d0bb02110e113939368": {
          "model_module": "@jupyter-widgets/controls",
          "model_name": "HTMLModel",
          "model_module_version": "1.5.0",
          "state": {
            "_dom_classes": [],
            "_model_module": "@jupyter-widgets/controls",
            "_model_module_version": "1.5.0",
            "_model_name": "HTMLModel",
            "_view_count": null,
            "_view_module": "@jupyter-widgets/controls",
            "_view_module_version": "1.5.0",
            "_view_name": "HTMLView",
            "description": "",
            "description_tooltip": null,
            "layout": "IPY_MODEL_b240d65da22442289e5f87d0987a04b2",
            "placeholder": "​",
            "style": "IPY_MODEL_aeca4c66a4f14f0ba4892e2cd1245ed6",
            "value": " 570/570 [00:00&lt;00:00, 38.2kB/s]"
          }
        },
        "1c8d87ee235943f4b89e44beffb7a4b9": {
          "model_module": "@jupyter-widgets/base",
          "model_name": "LayoutModel",
          "model_module_version": "1.2.0",
          "state": {
            "_model_module": "@jupyter-widgets/base",
            "_model_module_version": "1.2.0",
            "_model_name": "LayoutModel",
            "_view_count": null,
            "_view_module": "@jupyter-widgets/base",
            "_view_module_version": "1.2.0",
            "_view_name": "LayoutView",
            "align_content": null,
            "align_items": null,
            "align_self": null,
            "border": null,
            "bottom": null,
            "display": null,
            "flex": null,
            "flex_flow": null,
            "grid_area": null,
            "grid_auto_columns": null,
            "grid_auto_flow": null,
            "grid_auto_rows": null,
            "grid_column": null,
            "grid_gap": null,
            "grid_row": null,
            "grid_template_areas": null,
            "grid_template_columns": null,
            "grid_template_rows": null,
            "height": null,
            "justify_content": null,
            "justify_items": null,
            "left": null,
            "margin": null,
            "max_height": null,
            "max_width": null,
            "min_height": null,
            "min_width": null,
            "object_fit": null,
            "object_position": null,
            "order": null,
            "overflow": null,
            "overflow_x": null,
            "overflow_y": null,
            "padding": null,
            "right": null,
            "top": null,
            "visibility": null,
            "width": null
          }
        },
        "079adb662e38428aa1a2aab1b3f6a02e": {
          "model_module": "@jupyter-widgets/base",
          "model_name": "LayoutModel",
          "model_module_version": "1.2.0",
          "state": {
            "_model_module": "@jupyter-widgets/base",
            "_model_module_version": "1.2.0",
            "_model_name": "LayoutModel",
            "_view_count": null,
            "_view_module": "@jupyter-widgets/base",
            "_view_module_version": "1.2.0",
            "_view_name": "LayoutView",
            "align_content": null,
            "align_items": null,
            "align_self": null,
            "border": null,
            "bottom": null,
            "display": null,
            "flex": null,
            "flex_flow": null,
            "grid_area": null,
            "grid_auto_columns": null,
            "grid_auto_flow": null,
            "grid_auto_rows": null,
            "grid_column": null,
            "grid_gap": null,
            "grid_row": null,
            "grid_template_areas": null,
            "grid_template_columns": null,
            "grid_template_rows": null,
            "height": null,
            "justify_content": null,
            "justify_items": null,
            "left": null,
            "margin": null,
            "max_height": null,
            "max_width": null,
            "min_height": null,
            "min_width": null,
            "object_fit": null,
            "object_position": null,
            "order": null,
            "overflow": null,
            "overflow_x": null,
            "overflow_y": null,
            "padding": null,
            "right": null,
            "top": null,
            "visibility": null,
            "width": null
          }
        },
        "4d84ee863df443368969dd8b69f0b6ab": {
          "model_module": "@jupyter-widgets/controls",
          "model_name": "DescriptionStyleModel",
          "model_module_version": "1.5.0",
          "state": {
            "_model_module": "@jupyter-widgets/controls",
            "_model_module_version": "1.5.0",
            "_model_name": "DescriptionStyleModel",
            "_view_count": null,
            "_view_module": "@jupyter-widgets/base",
            "_view_module_version": "1.2.0",
            "_view_name": "StyleView",
            "description_width": ""
          }
        },
        "add7f10a37424b78aca03002e588a40b": {
          "model_module": "@jupyter-widgets/base",
          "model_name": "LayoutModel",
          "model_module_version": "1.2.0",
          "state": {
            "_model_module": "@jupyter-widgets/base",
            "_model_module_version": "1.2.0",
            "_model_name": "LayoutModel",
            "_view_count": null,
            "_view_module": "@jupyter-widgets/base",
            "_view_module_version": "1.2.0",
            "_view_name": "LayoutView",
            "align_content": null,
            "align_items": null,
            "align_self": null,
            "border": null,
            "bottom": null,
            "display": null,
            "flex": null,
            "flex_flow": null,
            "grid_area": null,
            "grid_auto_columns": null,
            "grid_auto_flow": null,
            "grid_auto_rows": null,
            "grid_column": null,
            "grid_gap": null,
            "grid_row": null,
            "grid_template_areas": null,
            "grid_template_columns": null,
            "grid_template_rows": null,
            "height": null,
            "justify_content": null,
            "justify_items": null,
            "left": null,
            "margin": null,
            "max_height": null,
            "max_width": null,
            "min_height": null,
            "min_width": null,
            "object_fit": null,
            "object_position": null,
            "order": null,
            "overflow": null,
            "overflow_x": null,
            "overflow_y": null,
            "padding": null,
            "right": null,
            "top": null,
            "visibility": null,
            "width": null
          }
        },
        "06789d1093764e8393cf7bf285794a35": {
          "model_module": "@jupyter-widgets/controls",
          "model_name": "ProgressStyleModel",
          "model_module_version": "1.5.0",
          "state": {
            "_model_module": "@jupyter-widgets/controls",
            "_model_module_version": "1.5.0",
            "_model_name": "ProgressStyleModel",
            "_view_count": null,
            "_view_module": "@jupyter-widgets/base",
            "_view_module_version": "1.2.0",
            "_view_name": "StyleView",
            "bar_color": null,
            "description_width": ""
          }
        },
        "b240d65da22442289e5f87d0987a04b2": {
          "model_module": "@jupyter-widgets/base",
          "model_name": "LayoutModel",
          "model_module_version": "1.2.0",
          "state": {
            "_model_module": "@jupyter-widgets/base",
            "_model_module_version": "1.2.0",
            "_model_name": "LayoutModel",
            "_view_count": null,
            "_view_module": "@jupyter-widgets/base",
            "_view_module_version": "1.2.0",
            "_view_name": "LayoutView",
            "align_content": null,
            "align_items": null,
            "align_self": null,
            "border": null,
            "bottom": null,
            "display": null,
            "flex": null,
            "flex_flow": null,
            "grid_area": null,
            "grid_auto_columns": null,
            "grid_auto_flow": null,
            "grid_auto_rows": null,
            "grid_column": null,
            "grid_gap": null,
            "grid_row": null,
            "grid_template_areas": null,
            "grid_template_columns": null,
            "grid_template_rows": null,
            "height": null,
            "justify_content": null,
            "justify_items": null,
            "left": null,
            "margin": null,
            "max_height": null,
            "max_width": null,
            "min_height": null,
            "min_width": null,
            "object_fit": null,
            "object_position": null,
            "order": null,
            "overflow": null,
            "overflow_x": null,
            "overflow_y": null,
            "padding": null,
            "right": null,
            "top": null,
            "visibility": null,
            "width": null
          }
        },
        "aeca4c66a4f14f0ba4892e2cd1245ed6": {
          "model_module": "@jupyter-widgets/controls",
          "model_name": "DescriptionStyleModel",
          "model_module_version": "1.5.0",
          "state": {
            "_model_module": "@jupyter-widgets/controls",
            "_model_module_version": "1.5.0",
            "_model_name": "DescriptionStyleModel",
            "_view_count": null,
            "_view_module": "@jupyter-widgets/base",
            "_view_module_version": "1.2.0",
            "_view_name": "StyleView",
            "description_width": ""
          }
        },
        "a24faaa7dc334367939304a8e653ca46": {
          "model_module": "@jupyter-widgets/controls",
          "model_name": "HBoxModel",
          "model_module_version": "1.5.0",
          "state": {
            "_dom_classes": [],
            "_model_module": "@jupyter-widgets/controls",
            "_model_module_version": "1.5.0",
            "_model_name": "HBoxModel",
            "_view_count": null,
            "_view_module": "@jupyter-widgets/controls",
            "_view_module_version": "1.5.0",
            "_view_name": "HBoxView",
            "box_style": "",
            "children": [
              "IPY_MODEL_2e10b93c784b47e7a2f7364a4a5b9d58",
              "IPY_MODEL_8d617a3fdbfe4e558bdfc63e86a58f8f",
              "IPY_MODEL_ca5aed0a81bd4d218731c8c1c979b44f"
            ],
            "layout": "IPY_MODEL_5089d112bc7e44e1ae7315369c3a57e7"
          }
        },
        "2e10b93c784b47e7a2f7364a4a5b9d58": {
          "model_module": "@jupyter-widgets/controls",
          "model_name": "HTMLModel",
          "model_module_version": "1.5.0",
          "state": {
            "_dom_classes": [],
            "_model_module": "@jupyter-widgets/controls",
            "_model_module_version": "1.5.0",
            "_model_name": "HTMLModel",
            "_view_count": null,
            "_view_module": "@jupyter-widgets/controls",
            "_view_module_version": "1.5.0",
            "_view_name": "HTMLView",
            "description": "",
            "description_tooltip": null,
            "layout": "IPY_MODEL_4b43709c21844234847b347086043993",
            "placeholder": "​",
            "style": "IPY_MODEL_2468885704b84ea193313672f05d7635",
            "value": "Downloading (…)solve/main/vocab.txt: 100%"
          }
        },
        "8d617a3fdbfe4e558bdfc63e86a58f8f": {
          "model_module": "@jupyter-widgets/controls",
          "model_name": "FloatProgressModel",
          "model_module_version": "1.5.0",
          "state": {
            "_dom_classes": [],
            "_model_module": "@jupyter-widgets/controls",
            "_model_module_version": "1.5.0",
            "_model_name": "FloatProgressModel",
            "_view_count": null,
            "_view_module": "@jupyter-widgets/controls",
            "_view_module_version": "1.5.0",
            "_view_name": "ProgressView",
            "bar_style": "success",
            "description": "",
            "description_tooltip": null,
            "layout": "IPY_MODEL_a38017edf67643e29e02af65afba5244",
            "max": 213450,
            "min": 0,
            "orientation": "horizontal",
            "style": "IPY_MODEL_b51b66a1d06842a7941b8d6febc90378",
            "value": 213450
          }
        },
        "ca5aed0a81bd4d218731c8c1c979b44f": {
          "model_module": "@jupyter-widgets/controls",
          "model_name": "HTMLModel",
          "model_module_version": "1.5.0",
          "state": {
            "_dom_classes": [],
            "_model_module": "@jupyter-widgets/controls",
            "_model_module_version": "1.5.0",
            "_model_name": "HTMLModel",
            "_view_count": null,
            "_view_module": "@jupyter-widgets/controls",
            "_view_module_version": "1.5.0",
            "_view_name": "HTMLView",
            "description": "",
            "description_tooltip": null,
            "layout": "IPY_MODEL_435f305d838846f5b9384753e4c4f0b7",
            "placeholder": "​",
            "style": "IPY_MODEL_8bbffe918f5d45c5b51ee85e5566ea74",
            "value": " 213k/213k [00:00&lt;00:00, 10.5MB/s]"
          }
        },
        "5089d112bc7e44e1ae7315369c3a57e7": {
          "model_module": "@jupyter-widgets/base",
          "model_name": "LayoutModel",
          "model_module_version": "1.2.0",
          "state": {
            "_model_module": "@jupyter-widgets/base",
            "_model_module_version": "1.2.0",
            "_model_name": "LayoutModel",
            "_view_count": null,
            "_view_module": "@jupyter-widgets/base",
            "_view_module_version": "1.2.0",
            "_view_name": "LayoutView",
            "align_content": null,
            "align_items": null,
            "align_self": null,
            "border": null,
            "bottom": null,
            "display": null,
            "flex": null,
            "flex_flow": null,
            "grid_area": null,
            "grid_auto_columns": null,
            "grid_auto_flow": null,
            "grid_auto_rows": null,
            "grid_column": null,
            "grid_gap": null,
            "grid_row": null,
            "grid_template_areas": null,
            "grid_template_columns": null,
            "grid_template_rows": null,
            "height": null,
            "justify_content": null,
            "justify_items": null,
            "left": null,
            "margin": null,
            "max_height": null,
            "max_width": null,
            "min_height": null,
            "min_width": null,
            "object_fit": null,
            "object_position": null,
            "order": null,
            "overflow": null,
            "overflow_x": null,
            "overflow_y": null,
            "padding": null,
            "right": null,
            "top": null,
            "visibility": null,
            "width": null
          }
        },
        "4b43709c21844234847b347086043993": {
          "model_module": "@jupyter-widgets/base",
          "model_name": "LayoutModel",
          "model_module_version": "1.2.0",
          "state": {
            "_model_module": "@jupyter-widgets/base",
            "_model_module_version": "1.2.0",
            "_model_name": "LayoutModel",
            "_view_count": null,
            "_view_module": "@jupyter-widgets/base",
            "_view_module_version": "1.2.0",
            "_view_name": "LayoutView",
            "align_content": null,
            "align_items": null,
            "align_self": null,
            "border": null,
            "bottom": null,
            "display": null,
            "flex": null,
            "flex_flow": null,
            "grid_area": null,
            "grid_auto_columns": null,
            "grid_auto_flow": null,
            "grid_auto_rows": null,
            "grid_column": null,
            "grid_gap": null,
            "grid_row": null,
            "grid_template_areas": null,
            "grid_template_columns": null,
            "grid_template_rows": null,
            "height": null,
            "justify_content": null,
            "justify_items": null,
            "left": null,
            "margin": null,
            "max_height": null,
            "max_width": null,
            "min_height": null,
            "min_width": null,
            "object_fit": null,
            "object_position": null,
            "order": null,
            "overflow": null,
            "overflow_x": null,
            "overflow_y": null,
            "padding": null,
            "right": null,
            "top": null,
            "visibility": null,
            "width": null
          }
        },
        "2468885704b84ea193313672f05d7635": {
          "model_module": "@jupyter-widgets/controls",
          "model_name": "DescriptionStyleModel",
          "model_module_version": "1.5.0",
          "state": {
            "_model_module": "@jupyter-widgets/controls",
            "_model_module_version": "1.5.0",
            "_model_name": "DescriptionStyleModel",
            "_view_count": null,
            "_view_module": "@jupyter-widgets/base",
            "_view_module_version": "1.2.0",
            "_view_name": "StyleView",
            "description_width": ""
          }
        },
        "a38017edf67643e29e02af65afba5244": {
          "model_module": "@jupyter-widgets/base",
          "model_name": "LayoutModel",
          "model_module_version": "1.2.0",
          "state": {
            "_model_module": "@jupyter-widgets/base",
            "_model_module_version": "1.2.0",
            "_model_name": "LayoutModel",
            "_view_count": null,
            "_view_module": "@jupyter-widgets/base",
            "_view_module_version": "1.2.0",
            "_view_name": "LayoutView",
            "align_content": null,
            "align_items": null,
            "align_self": null,
            "border": null,
            "bottom": null,
            "display": null,
            "flex": null,
            "flex_flow": null,
            "grid_area": null,
            "grid_auto_columns": null,
            "grid_auto_flow": null,
            "grid_auto_rows": null,
            "grid_column": null,
            "grid_gap": null,
            "grid_row": null,
            "grid_template_areas": null,
            "grid_template_columns": null,
            "grid_template_rows": null,
            "height": null,
            "justify_content": null,
            "justify_items": null,
            "left": null,
            "margin": null,
            "max_height": null,
            "max_width": null,
            "min_height": null,
            "min_width": null,
            "object_fit": null,
            "object_position": null,
            "order": null,
            "overflow": null,
            "overflow_x": null,
            "overflow_y": null,
            "padding": null,
            "right": null,
            "top": null,
            "visibility": null,
            "width": null
          }
        },
        "b51b66a1d06842a7941b8d6febc90378": {
          "model_module": "@jupyter-widgets/controls",
          "model_name": "ProgressStyleModel",
          "model_module_version": "1.5.0",
          "state": {
            "_model_module": "@jupyter-widgets/controls",
            "_model_module_version": "1.5.0",
            "_model_name": "ProgressStyleModel",
            "_view_count": null,
            "_view_module": "@jupyter-widgets/base",
            "_view_module_version": "1.2.0",
            "_view_name": "StyleView",
            "bar_color": null,
            "description_width": ""
          }
        },
        "435f305d838846f5b9384753e4c4f0b7": {
          "model_module": "@jupyter-widgets/base",
          "model_name": "LayoutModel",
          "model_module_version": "1.2.0",
          "state": {
            "_model_module": "@jupyter-widgets/base",
            "_model_module_version": "1.2.0",
            "_model_name": "LayoutModel",
            "_view_count": null,
            "_view_module": "@jupyter-widgets/base",
            "_view_module_version": "1.2.0",
            "_view_name": "LayoutView",
            "align_content": null,
            "align_items": null,
            "align_self": null,
            "border": null,
            "bottom": null,
            "display": null,
            "flex": null,
            "flex_flow": null,
            "grid_area": null,
            "grid_auto_columns": null,
            "grid_auto_flow": null,
            "grid_auto_rows": null,
            "grid_column": null,
            "grid_gap": null,
            "grid_row": null,
            "grid_template_areas": null,
            "grid_template_columns": null,
            "grid_template_rows": null,
            "height": null,
            "justify_content": null,
            "justify_items": null,
            "left": null,
            "margin": null,
            "max_height": null,
            "max_width": null,
            "min_height": null,
            "min_width": null,
            "object_fit": null,
            "object_position": null,
            "order": null,
            "overflow": null,
            "overflow_x": null,
            "overflow_y": null,
            "padding": null,
            "right": null,
            "top": null,
            "visibility": null,
            "width": null
          }
        },
        "8bbffe918f5d45c5b51ee85e5566ea74": {
          "model_module": "@jupyter-widgets/controls",
          "model_name": "DescriptionStyleModel",
          "model_module_version": "1.5.0",
          "state": {
            "_model_module": "@jupyter-widgets/controls",
            "_model_module_version": "1.5.0",
            "_model_name": "DescriptionStyleModel",
            "_view_count": null,
            "_view_module": "@jupyter-widgets/base",
            "_view_module_version": "1.2.0",
            "_view_name": "StyleView",
            "description_width": ""
          }
        },
        "2b6306d2f8a8457bb234e70a352c6c41": {
          "model_module": "@jupyter-widgets/controls",
          "model_name": "HBoxModel",
          "model_module_version": "1.5.0",
          "state": {
            "_dom_classes": [],
            "_model_module": "@jupyter-widgets/controls",
            "_model_module_version": "1.5.0",
            "_model_name": "HBoxModel",
            "_view_count": null,
            "_view_module": "@jupyter-widgets/controls",
            "_view_module_version": "1.5.0",
            "_view_name": "HBoxView",
            "box_style": "",
            "children": [
              "IPY_MODEL_bf5fe1d34162423a8fd5014ec1bcb255",
              "IPY_MODEL_7c517d7eaca64e3ebbfc9df9d37a3930",
              "IPY_MODEL_daf960f97abe489db96f49d2da70ca32"
            ],
            "layout": "IPY_MODEL_2676b165a82e43969360de6e1aff1240"
          }
        },
        "bf5fe1d34162423a8fd5014ec1bcb255": {
          "model_module": "@jupyter-widgets/controls",
          "model_name": "HTMLModel",
          "model_module_version": "1.5.0",
          "state": {
            "_dom_classes": [],
            "_model_module": "@jupyter-widgets/controls",
            "_model_module_version": "1.5.0",
            "_model_name": "HTMLModel",
            "_view_count": null,
            "_view_module": "@jupyter-widgets/controls",
            "_view_module_version": "1.5.0",
            "_view_name": "HTMLView",
            "description": "",
            "description_tooltip": null,
            "layout": "IPY_MODEL_62ff0b6b7ae847eba5774028f8be2e5c",
            "placeholder": "​",
            "style": "IPY_MODEL_7603a15ab4574b7e8ed3b4ff6cfe57b0",
            "value": "Downloading (…)/main/tokenizer.json: 100%"
          }
        },
        "7c517d7eaca64e3ebbfc9df9d37a3930": {
          "model_module": "@jupyter-widgets/controls",
          "model_name": "FloatProgressModel",
          "model_module_version": "1.5.0",
          "state": {
            "_dom_classes": [],
            "_model_module": "@jupyter-widgets/controls",
            "_model_module_version": "1.5.0",
            "_model_name": "FloatProgressModel",
            "_view_count": null,
            "_view_module": "@jupyter-widgets/controls",
            "_view_module_version": "1.5.0",
            "_view_name": "ProgressView",
            "bar_style": "success",
            "description": "",
            "description_tooltip": null,
            "layout": "IPY_MODEL_24fa8a5355e94a2284197e82bd8f50c0",
            "max": 435797,
            "min": 0,
            "orientation": "horizontal",
            "style": "IPY_MODEL_5a192f92d51f4454b9a6b20e1b518a1c",
            "value": 435797
          }
        },
        "daf960f97abe489db96f49d2da70ca32": {
          "model_module": "@jupyter-widgets/controls",
          "model_name": "HTMLModel",
          "model_module_version": "1.5.0",
          "state": {
            "_dom_classes": [],
            "_model_module": "@jupyter-widgets/controls",
            "_model_module_version": "1.5.0",
            "_model_name": "HTMLModel",
            "_view_count": null,
            "_view_module": "@jupyter-widgets/controls",
            "_view_module_version": "1.5.0",
            "_view_name": "HTMLView",
            "description": "",
            "description_tooltip": null,
            "layout": "IPY_MODEL_ba22f13340de4f1783801ffd024950e7",
            "placeholder": "​",
            "style": "IPY_MODEL_537c5fabe0c04c7188224a97061338f1",
            "value": " 436k/436k [00:00&lt;00:00, 684kB/s]"
          }
        },
        "2676b165a82e43969360de6e1aff1240": {
          "model_module": "@jupyter-widgets/base",
          "model_name": "LayoutModel",
          "model_module_version": "1.2.0",
          "state": {
            "_model_module": "@jupyter-widgets/base",
            "_model_module_version": "1.2.0",
            "_model_name": "LayoutModel",
            "_view_count": null,
            "_view_module": "@jupyter-widgets/base",
            "_view_module_version": "1.2.0",
            "_view_name": "LayoutView",
            "align_content": null,
            "align_items": null,
            "align_self": null,
            "border": null,
            "bottom": null,
            "display": null,
            "flex": null,
            "flex_flow": null,
            "grid_area": null,
            "grid_auto_columns": null,
            "grid_auto_flow": null,
            "grid_auto_rows": null,
            "grid_column": null,
            "grid_gap": null,
            "grid_row": null,
            "grid_template_areas": null,
            "grid_template_columns": null,
            "grid_template_rows": null,
            "height": null,
            "justify_content": null,
            "justify_items": null,
            "left": null,
            "margin": null,
            "max_height": null,
            "max_width": null,
            "min_height": null,
            "min_width": null,
            "object_fit": null,
            "object_position": null,
            "order": null,
            "overflow": null,
            "overflow_x": null,
            "overflow_y": null,
            "padding": null,
            "right": null,
            "top": null,
            "visibility": null,
            "width": null
          }
        },
        "62ff0b6b7ae847eba5774028f8be2e5c": {
          "model_module": "@jupyter-widgets/base",
          "model_name": "LayoutModel",
          "model_module_version": "1.2.0",
          "state": {
            "_model_module": "@jupyter-widgets/base",
            "_model_module_version": "1.2.0",
            "_model_name": "LayoutModel",
            "_view_count": null,
            "_view_module": "@jupyter-widgets/base",
            "_view_module_version": "1.2.0",
            "_view_name": "LayoutView",
            "align_content": null,
            "align_items": null,
            "align_self": null,
            "border": null,
            "bottom": null,
            "display": null,
            "flex": null,
            "flex_flow": null,
            "grid_area": null,
            "grid_auto_columns": null,
            "grid_auto_flow": null,
            "grid_auto_rows": null,
            "grid_column": null,
            "grid_gap": null,
            "grid_row": null,
            "grid_template_areas": null,
            "grid_template_columns": null,
            "grid_template_rows": null,
            "height": null,
            "justify_content": null,
            "justify_items": null,
            "left": null,
            "margin": null,
            "max_height": null,
            "max_width": null,
            "min_height": null,
            "min_width": null,
            "object_fit": null,
            "object_position": null,
            "order": null,
            "overflow": null,
            "overflow_x": null,
            "overflow_y": null,
            "padding": null,
            "right": null,
            "top": null,
            "visibility": null,
            "width": null
          }
        },
        "7603a15ab4574b7e8ed3b4ff6cfe57b0": {
          "model_module": "@jupyter-widgets/controls",
          "model_name": "DescriptionStyleModel",
          "model_module_version": "1.5.0",
          "state": {
            "_model_module": "@jupyter-widgets/controls",
            "_model_module_version": "1.5.0",
            "_model_name": "DescriptionStyleModel",
            "_view_count": null,
            "_view_module": "@jupyter-widgets/base",
            "_view_module_version": "1.2.0",
            "_view_name": "StyleView",
            "description_width": ""
          }
        },
        "24fa8a5355e94a2284197e82bd8f50c0": {
          "model_module": "@jupyter-widgets/base",
          "model_name": "LayoutModel",
          "model_module_version": "1.2.0",
          "state": {
            "_model_module": "@jupyter-widgets/base",
            "_model_module_version": "1.2.0",
            "_model_name": "LayoutModel",
            "_view_count": null,
            "_view_module": "@jupyter-widgets/base",
            "_view_module_version": "1.2.0",
            "_view_name": "LayoutView",
            "align_content": null,
            "align_items": null,
            "align_self": null,
            "border": null,
            "bottom": null,
            "display": null,
            "flex": null,
            "flex_flow": null,
            "grid_area": null,
            "grid_auto_columns": null,
            "grid_auto_flow": null,
            "grid_auto_rows": null,
            "grid_column": null,
            "grid_gap": null,
            "grid_row": null,
            "grid_template_areas": null,
            "grid_template_columns": null,
            "grid_template_rows": null,
            "height": null,
            "justify_content": null,
            "justify_items": null,
            "left": null,
            "margin": null,
            "max_height": null,
            "max_width": null,
            "min_height": null,
            "min_width": null,
            "object_fit": null,
            "object_position": null,
            "order": null,
            "overflow": null,
            "overflow_x": null,
            "overflow_y": null,
            "padding": null,
            "right": null,
            "top": null,
            "visibility": null,
            "width": null
          }
        },
        "5a192f92d51f4454b9a6b20e1b518a1c": {
          "model_module": "@jupyter-widgets/controls",
          "model_name": "ProgressStyleModel",
          "model_module_version": "1.5.0",
          "state": {
            "_model_module": "@jupyter-widgets/controls",
            "_model_module_version": "1.5.0",
            "_model_name": "ProgressStyleModel",
            "_view_count": null,
            "_view_module": "@jupyter-widgets/base",
            "_view_module_version": "1.2.0",
            "_view_name": "StyleView",
            "bar_color": null,
            "description_width": ""
          }
        },
        "ba22f13340de4f1783801ffd024950e7": {
          "model_module": "@jupyter-widgets/base",
          "model_name": "LayoutModel",
          "model_module_version": "1.2.0",
          "state": {
            "_model_module": "@jupyter-widgets/base",
            "_model_module_version": "1.2.0",
            "_model_name": "LayoutModel",
            "_view_count": null,
            "_view_module": "@jupyter-widgets/base",
            "_view_module_version": "1.2.0",
            "_view_name": "LayoutView",
            "align_content": null,
            "align_items": null,
            "align_self": null,
            "border": null,
            "bottom": null,
            "display": null,
            "flex": null,
            "flex_flow": null,
            "grid_area": null,
            "grid_auto_columns": null,
            "grid_auto_flow": null,
            "grid_auto_rows": null,
            "grid_column": null,
            "grid_gap": null,
            "grid_row": null,
            "grid_template_areas": null,
            "grid_template_columns": null,
            "grid_template_rows": null,
            "height": null,
            "justify_content": null,
            "justify_items": null,
            "left": null,
            "margin": null,
            "max_height": null,
            "max_width": null,
            "min_height": null,
            "min_width": null,
            "object_fit": null,
            "object_position": null,
            "order": null,
            "overflow": null,
            "overflow_x": null,
            "overflow_y": null,
            "padding": null,
            "right": null,
            "top": null,
            "visibility": null,
            "width": null
          }
        },
        "537c5fabe0c04c7188224a97061338f1": {
          "model_module": "@jupyter-widgets/controls",
          "model_name": "DescriptionStyleModel",
          "model_module_version": "1.5.0",
          "state": {
            "_model_module": "@jupyter-widgets/controls",
            "_model_module_version": "1.5.0",
            "_model_name": "DescriptionStyleModel",
            "_view_count": null,
            "_view_module": "@jupyter-widgets/base",
            "_view_module_version": "1.2.0",
            "_view_name": "StyleView",
            "description_width": ""
          }
        },
        "1b6332ef7cf14aedb13b9e6558282baa": {
          "model_module": "@jupyter-widgets/controls",
          "model_name": "HBoxModel",
          "model_module_version": "1.5.0",
          "state": {
            "_dom_classes": [],
            "_model_module": "@jupyter-widgets/controls",
            "_model_module_version": "1.5.0",
            "_model_name": "HBoxModel",
            "_view_count": null,
            "_view_module": "@jupyter-widgets/controls",
            "_view_module_version": "1.5.0",
            "_view_name": "HBoxView",
            "box_style": "",
            "children": [
              "IPY_MODEL_c1a311aa6ea4466fbdb87af4f55575d6",
              "IPY_MODEL_a8163399001d4e86b2f80d39b6b1a740",
              "IPY_MODEL_33c20d0e7d7d4fc991772b96d0f527cc"
            ],
            "layout": "IPY_MODEL_84275aa92bbf4f1e96ffd81c44e3419b"
          }
        },
        "c1a311aa6ea4466fbdb87af4f55575d6": {
          "model_module": "@jupyter-widgets/controls",
          "model_name": "HTMLModel",
          "model_module_version": "1.5.0",
          "state": {
            "_dom_classes": [],
            "_model_module": "@jupyter-widgets/controls",
            "_model_module_version": "1.5.0",
            "_model_name": "HTMLModel",
            "_view_count": null,
            "_view_module": "@jupyter-widgets/controls",
            "_view_module_version": "1.5.0",
            "_view_name": "HTMLView",
            "description": "",
            "description_tooltip": null,
            "layout": "IPY_MODEL_2a3980435cb744aebd1f47aefef92c00",
            "placeholder": "​",
            "style": "IPY_MODEL_7cefc44c2c624506b4b2be73f62ecb88",
            "value": "Downloading tf_model.h5: 100%"
          }
        },
        "a8163399001d4e86b2f80d39b6b1a740": {
          "model_module": "@jupyter-widgets/controls",
          "model_name": "FloatProgressModel",
          "model_module_version": "1.5.0",
          "state": {
            "_dom_classes": [],
            "_model_module": "@jupyter-widgets/controls",
            "_model_module_version": "1.5.0",
            "_model_name": "FloatProgressModel",
            "_view_count": null,
            "_view_module": "@jupyter-widgets/controls",
            "_view_module_version": "1.5.0",
            "_view_name": "ProgressView",
            "bar_style": "success",
            "description": "",
            "description_tooltip": null,
            "layout": "IPY_MODEL_050f0357d374421a9742a1ff014dfd4f",
            "max": 526681800,
            "min": 0,
            "orientation": "horizontal",
            "style": "IPY_MODEL_8d86600bacbd4e7f9cae4515ca17584a",
            "value": 526681800
          }
        },
        "33c20d0e7d7d4fc991772b96d0f527cc": {
          "model_module": "@jupyter-widgets/controls",
          "model_name": "HTMLModel",
          "model_module_version": "1.5.0",
          "state": {
            "_dom_classes": [],
            "_model_module": "@jupyter-widgets/controls",
            "_model_module_version": "1.5.0",
            "_model_name": "HTMLModel",
            "_view_count": null,
            "_view_module": "@jupyter-widgets/controls",
            "_view_module_version": "1.5.0",
            "_view_name": "HTMLView",
            "description": "",
            "description_tooltip": null,
            "layout": "IPY_MODEL_84b91787988b4da7b396f60b9f98778e",
            "placeholder": "​",
            "style": "IPY_MODEL_2fe083605e1240e99733ac1e72bab657",
            "value": " 527M/527M [00:01&lt;00:00, 278MB/s]"
          }
        },
        "84275aa92bbf4f1e96ffd81c44e3419b": {
          "model_module": "@jupyter-widgets/base",
          "model_name": "LayoutModel",
          "model_module_version": "1.2.0",
          "state": {
            "_model_module": "@jupyter-widgets/base",
            "_model_module_version": "1.2.0",
            "_model_name": "LayoutModel",
            "_view_count": null,
            "_view_module": "@jupyter-widgets/base",
            "_view_module_version": "1.2.0",
            "_view_name": "LayoutView",
            "align_content": null,
            "align_items": null,
            "align_self": null,
            "border": null,
            "bottom": null,
            "display": null,
            "flex": null,
            "flex_flow": null,
            "grid_area": null,
            "grid_auto_columns": null,
            "grid_auto_flow": null,
            "grid_auto_rows": null,
            "grid_column": null,
            "grid_gap": null,
            "grid_row": null,
            "grid_template_areas": null,
            "grid_template_columns": null,
            "grid_template_rows": null,
            "height": null,
            "justify_content": null,
            "justify_items": null,
            "left": null,
            "margin": null,
            "max_height": null,
            "max_width": null,
            "min_height": null,
            "min_width": null,
            "object_fit": null,
            "object_position": null,
            "order": null,
            "overflow": null,
            "overflow_x": null,
            "overflow_y": null,
            "padding": null,
            "right": null,
            "top": null,
            "visibility": null,
            "width": null
          }
        },
        "2a3980435cb744aebd1f47aefef92c00": {
          "model_module": "@jupyter-widgets/base",
          "model_name": "LayoutModel",
          "model_module_version": "1.2.0",
          "state": {
            "_model_module": "@jupyter-widgets/base",
            "_model_module_version": "1.2.0",
            "_model_name": "LayoutModel",
            "_view_count": null,
            "_view_module": "@jupyter-widgets/base",
            "_view_module_version": "1.2.0",
            "_view_name": "LayoutView",
            "align_content": null,
            "align_items": null,
            "align_self": null,
            "border": null,
            "bottom": null,
            "display": null,
            "flex": null,
            "flex_flow": null,
            "grid_area": null,
            "grid_auto_columns": null,
            "grid_auto_flow": null,
            "grid_auto_rows": null,
            "grid_column": null,
            "grid_gap": null,
            "grid_row": null,
            "grid_template_areas": null,
            "grid_template_columns": null,
            "grid_template_rows": null,
            "height": null,
            "justify_content": null,
            "justify_items": null,
            "left": null,
            "margin": null,
            "max_height": null,
            "max_width": null,
            "min_height": null,
            "min_width": null,
            "object_fit": null,
            "object_position": null,
            "order": null,
            "overflow": null,
            "overflow_x": null,
            "overflow_y": null,
            "padding": null,
            "right": null,
            "top": null,
            "visibility": null,
            "width": null
          }
        },
        "7cefc44c2c624506b4b2be73f62ecb88": {
          "model_module": "@jupyter-widgets/controls",
          "model_name": "DescriptionStyleModel",
          "model_module_version": "1.5.0",
          "state": {
            "_model_module": "@jupyter-widgets/controls",
            "_model_module_version": "1.5.0",
            "_model_name": "DescriptionStyleModel",
            "_view_count": null,
            "_view_module": "@jupyter-widgets/base",
            "_view_module_version": "1.2.0",
            "_view_name": "StyleView",
            "description_width": ""
          }
        },
        "050f0357d374421a9742a1ff014dfd4f": {
          "model_module": "@jupyter-widgets/base",
          "model_name": "LayoutModel",
          "model_module_version": "1.2.0",
          "state": {
            "_model_module": "@jupyter-widgets/base",
            "_model_module_version": "1.2.0",
            "_model_name": "LayoutModel",
            "_view_count": null,
            "_view_module": "@jupyter-widgets/base",
            "_view_module_version": "1.2.0",
            "_view_name": "LayoutView",
            "align_content": null,
            "align_items": null,
            "align_self": null,
            "border": null,
            "bottom": null,
            "display": null,
            "flex": null,
            "flex_flow": null,
            "grid_area": null,
            "grid_auto_columns": null,
            "grid_auto_flow": null,
            "grid_auto_rows": null,
            "grid_column": null,
            "grid_gap": null,
            "grid_row": null,
            "grid_template_areas": null,
            "grid_template_columns": null,
            "grid_template_rows": null,
            "height": null,
            "justify_content": null,
            "justify_items": null,
            "left": null,
            "margin": null,
            "max_height": null,
            "max_width": null,
            "min_height": null,
            "min_width": null,
            "object_fit": null,
            "object_position": null,
            "order": null,
            "overflow": null,
            "overflow_x": null,
            "overflow_y": null,
            "padding": null,
            "right": null,
            "top": null,
            "visibility": null,
            "width": null
          }
        },
        "8d86600bacbd4e7f9cae4515ca17584a": {
          "model_module": "@jupyter-widgets/controls",
          "model_name": "ProgressStyleModel",
          "model_module_version": "1.5.0",
          "state": {
            "_model_module": "@jupyter-widgets/controls",
            "_model_module_version": "1.5.0",
            "_model_name": "ProgressStyleModel",
            "_view_count": null,
            "_view_module": "@jupyter-widgets/base",
            "_view_module_version": "1.2.0",
            "_view_name": "StyleView",
            "bar_color": null,
            "description_width": ""
          }
        },
        "84b91787988b4da7b396f60b9f98778e": {
          "model_module": "@jupyter-widgets/base",
          "model_name": "LayoutModel",
          "model_module_version": "1.2.0",
          "state": {
            "_model_module": "@jupyter-widgets/base",
            "_model_module_version": "1.2.0",
            "_model_name": "LayoutModel",
            "_view_count": null,
            "_view_module": "@jupyter-widgets/base",
            "_view_module_version": "1.2.0",
            "_view_name": "LayoutView",
            "align_content": null,
            "align_items": null,
            "align_self": null,
            "border": null,
            "bottom": null,
            "display": null,
            "flex": null,
            "flex_flow": null,
            "grid_area": null,
            "grid_auto_columns": null,
            "grid_auto_flow": null,
            "grid_auto_rows": null,
            "grid_column": null,
            "grid_gap": null,
            "grid_row": null,
            "grid_template_areas": null,
            "grid_template_columns": null,
            "grid_template_rows": null,
            "height": null,
            "justify_content": null,
            "justify_items": null,
            "left": null,
            "margin": null,
            "max_height": null,
            "max_width": null,
            "min_height": null,
            "min_width": null,
            "object_fit": null,
            "object_position": null,
            "order": null,
            "overflow": null,
            "overflow_x": null,
            "overflow_y": null,
            "padding": null,
            "right": null,
            "top": null,
            "visibility": null,
            "width": null
          }
        },
        "2fe083605e1240e99733ac1e72bab657": {
          "model_module": "@jupyter-widgets/controls",
          "model_name": "DescriptionStyleModel",
          "model_module_version": "1.5.0",
          "state": {
            "_model_module": "@jupyter-widgets/controls",
            "_model_module_version": "1.5.0",
            "_model_name": "DescriptionStyleModel",
            "_view_count": null,
            "_view_module": "@jupyter-widgets/base",
            "_view_module_version": "1.2.0",
            "_view_name": "StyleView",
            "description_width": ""
          }
        }
      }
    }
  },
  "nbformat": 4,
  "nbformat_minor": 5
}