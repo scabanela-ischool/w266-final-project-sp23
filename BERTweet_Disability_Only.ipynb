{
  "cells": [
    {
      "cell_type": "markdown",
      "source": [
        "# BERTweet Fine-Tuned on Disability Subset"
      ],
      "metadata": {
        "id": "c6AvmAP073ZL"
      },
      "id": "c6AvmAP073ZL"
    },
    {
      "cell_type": "code",
      "source": [
        "from google.colab import drive\n",
        "drive.mount('/content/drive')"
      ],
      "metadata": {
        "colab": {
          "base_uri": "https://localhost:8080/"
        },
        "id": "lpYKtzLjeQIi",
        "outputId": "267e5803-2a5d-4f50-bc64-95ce0b7a6f6f"
      },
      "id": "lpYKtzLjeQIi",
      "execution_count": 1,
      "outputs": [
        {
          "output_type": "stream",
          "name": "stdout",
          "text": [
            "Drive already mounted at /content/drive; to attempt to forcibly remount, call drive.mount(\"/content/drive\", force_remount=True).\n"
          ]
        }
      ]
    },
    {
      "cell_type": "markdown",
      "id": "0f02e155",
      "metadata": {
        "id": "0f02e155"
      },
      "source": [
        "## Imports"
      ]
    },
    {
      "cell_type": "code",
      "execution_count": 2,
      "id": "65f3fdb6",
      "metadata": {
        "id": "65f3fdb6"
      },
      "outputs": [],
      "source": [
        "import tensorflow as tf\n",
        "tf.keras.backend.clear_session()"
      ]
    },
    {
      "cell_type": "code",
      "source": [
        "!pip install tensorflow-addons"
      ],
      "metadata": {
        "colab": {
          "base_uri": "https://localhost:8080/"
        },
        "id": "Jh9OvNpve_rk",
        "outputId": "79b230de-0ef6-445b-ffd8-ac64182509d6"
      },
      "id": "Jh9OvNpve_rk",
      "execution_count": 5,
      "outputs": [
        {
          "output_type": "stream",
          "name": "stdout",
          "text": [
            "Looking in indexes: https://pypi.org/simple, https://us-python.pkg.dev/colab-wheels/public/simple/\n",
            "Collecting tensorflow-addons\n",
            "  Downloading tensorflow_addons-0.20.0-cp39-cp39-manylinux_2_17_x86_64.manylinux2014_x86_64.whl (591 kB)\n",
            "\u001b[2K     \u001b[90m━━━━━━━━━━━━━━━━━━━━━━━━━━━━━━━━━━━━━━\u001b[0m \u001b[32m591.0/591.0 kB\u001b[0m \u001b[31m15.7 MB/s\u001b[0m eta \u001b[36m0:00:00\u001b[0m\n",
            "\u001b[?25hRequirement already satisfied: packaging in /usr/local/lib/python3.9/dist-packages (from tensorflow-addons) (23.0)\n",
            "Collecting typeguard<3.0.0,>=2.7\n",
            "  Downloading typeguard-2.13.3-py3-none-any.whl (17 kB)\n",
            "Installing collected packages: typeguard, tensorflow-addons\n",
            "Successfully installed tensorflow-addons-0.20.0 typeguard-2.13.3\n"
          ]
        }
      ]
    },
    {
      "cell_type": "code",
      "source": [
        "!pip install transformers"
      ],
      "metadata": {
        "colab": {
          "base_uri": "https://localhost:8080/"
        },
        "id": "eIuITAWkfB03",
        "outputId": "31bb7423-e92c-45d9-b010-5229cd11c80a"
      },
      "id": "eIuITAWkfB03",
      "execution_count": 6,
      "outputs": [
        {
          "output_type": "stream",
          "name": "stdout",
          "text": [
            "Looking in indexes: https://pypi.org/simple, https://us-python.pkg.dev/colab-wheels/public/simple/\n",
            "Collecting transformers\n",
            "  Downloading transformers-4.27.4-py3-none-any.whl (6.8 MB)\n",
            "\u001b[2K     \u001b[90m━━━━━━━━━━━━━━━━━━━━━━━━━━━━━━━━━━━━━━━━\u001b[0m \u001b[32m6.8/6.8 MB\u001b[0m \u001b[31m79.0 MB/s\u001b[0m eta \u001b[36m0:00:00\u001b[0m\n",
            "\u001b[?25hRequirement already satisfied: packaging>=20.0 in /usr/local/lib/python3.9/dist-packages (from transformers) (23.0)\n",
            "Requirement already satisfied: pyyaml>=5.1 in /usr/local/lib/python3.9/dist-packages (from transformers) (6.0)\n",
            "Requirement already satisfied: numpy>=1.17 in /usr/local/lib/python3.9/dist-packages (from transformers) (1.22.4)\n",
            "Requirement already satisfied: regex!=2019.12.17 in /usr/local/lib/python3.9/dist-packages (from transformers) (2022.10.31)\n",
            "Requirement already satisfied: requests in /usr/local/lib/python3.9/dist-packages (from transformers) (2.27.1)\n",
            "Collecting tokenizers!=0.11.3,<0.14,>=0.11.1\n",
            "  Downloading tokenizers-0.13.3-cp39-cp39-manylinux_2_17_x86_64.manylinux2014_x86_64.whl (7.8 MB)\n",
            "\u001b[2K     \u001b[90m━━━━━━━━━━━━━━━━━━━━━━━━━━━━━━━━━━━━━━━━\u001b[0m \u001b[32m7.8/7.8 MB\u001b[0m \u001b[31m32.8 MB/s\u001b[0m eta \u001b[36m0:00:00\u001b[0m\n",
            "\u001b[?25hCollecting huggingface-hub<1.0,>=0.11.0\n",
            "  Downloading huggingface_hub-0.13.4-py3-none-any.whl (200 kB)\n",
            "\u001b[2K     \u001b[90m━━━━━━━━━━━━━━━━━━━━━━━━━━━━━━━━━━━━━━\u001b[0m \u001b[32m200.1/200.1 kB\u001b[0m \u001b[31m20.4 MB/s\u001b[0m eta \u001b[36m0:00:00\u001b[0m\n",
            "\u001b[?25hRequirement already satisfied: tqdm>=4.27 in /usr/local/lib/python3.9/dist-packages (from transformers) (4.65.0)\n",
            "Requirement already satisfied: filelock in /usr/local/lib/python3.9/dist-packages (from transformers) (3.11.0)\n",
            "Requirement already satisfied: typing-extensions>=3.7.4.3 in /usr/local/lib/python3.9/dist-packages (from huggingface-hub<1.0,>=0.11.0->transformers) (4.5.0)\n",
            "Requirement already satisfied: charset-normalizer~=2.0.0 in /usr/local/lib/python3.9/dist-packages (from requests->transformers) (2.0.12)\n",
            "Requirement already satisfied: urllib3<1.27,>=1.21.1 in /usr/local/lib/python3.9/dist-packages (from requests->transformers) (1.26.15)\n",
            "Requirement already satisfied: certifi>=2017.4.17 in /usr/local/lib/python3.9/dist-packages (from requests->transformers) (2022.12.7)\n",
            "Requirement already satisfied: idna<4,>=2.5 in /usr/local/lib/python3.9/dist-packages (from requests->transformers) (3.4)\n",
            "Installing collected packages: tokenizers, huggingface-hub, transformers\n",
            "Successfully installed huggingface-hub-0.13.4 tokenizers-0.13.3 transformers-4.27.4\n"
          ]
        }
      ]
    },
    {
      "cell_type": "code",
      "source": [
        "!pip3 install emoji==0.6.0"
      ],
      "metadata": {
        "colab": {
          "base_uri": "https://localhost:8080/"
        },
        "id": "55Pjzpk8jRxG",
        "outputId": "347f8e21-97e8-47c7-b94b-6e5eb14bd153"
      },
      "id": "55Pjzpk8jRxG",
      "execution_count": 11,
      "outputs": [
        {
          "output_type": "stream",
          "name": "stdout",
          "text": [
            "Looking in indexes: https://pypi.org/simple, https://us-python.pkg.dev/colab-wheels/public/simple/\n",
            "Collecting emoji==0.6.0\n",
            "  Downloading emoji-0.6.0.tar.gz (51 kB)\n",
            "\u001b[2K     \u001b[90m━━━━━━━━━━━━━━━━━━━━━━━━━━━━━━━━━━━━━━━━\u001b[0m \u001b[32m51.0/51.0 kB\u001b[0m \u001b[31m3.2 MB/s\u001b[0m eta \u001b[36m0:00:00\u001b[0m\n",
            "\u001b[?25h  Preparing metadata (setup.py) ... \u001b[?25l\u001b[?25hdone\n",
            "Building wheels for collected packages: emoji\n",
            "  Building wheel for emoji (setup.py) ... \u001b[?25l\u001b[?25hdone\n",
            "  Created wheel for emoji: filename=emoji-0.6.0-py3-none-any.whl size=49732 sha256=b733584bef07d0f64afd3daa83bcdbf024dac803ad6ae35edadfdfa6ac64103e\n",
            "  Stored in directory: /root/.cache/pip/wheels/70/2a/7f/1a0012c86b1061c6ee2ed9568b1f830f857a51e8e416452af2\n",
            "Successfully built emoji\n",
            "Installing collected packages: emoji\n",
            "Successfully installed emoji-0.6.0\n"
          ]
        }
      ]
    },
    {
      "cell_type": "code",
      "source": [
        "!pip install pyyaml h5py  # Required to save models in HDF5 format"
      ],
      "metadata": {
        "colab": {
          "base_uri": "https://localhost:8080/"
        },
        "id": "VXRx3TsYqGMa",
        "outputId": "606c596b-0f6f-424e-9422-c55da5f6f247"
      },
      "id": "VXRx3TsYqGMa",
      "execution_count": 44,
      "outputs": [
        {
          "output_type": "stream",
          "name": "stdout",
          "text": [
            "Looking in indexes: https://pypi.org/simple, https://us-python.pkg.dev/colab-wheels/public/simple/\n",
            "Requirement already satisfied: pyyaml in /usr/local/lib/python3.9/dist-packages (6.0)\n",
            "Requirement already satisfied: h5py in /usr/local/lib/python3.9/dist-packages (3.8.0)\n",
            "Requirement already satisfied: numpy>=1.14.5 in /usr/local/lib/python3.9/dist-packages (from h5py) (1.22.4)\n"
          ]
        }
      ]
    },
    {
      "cell_type": "code",
      "execution_count": 3,
      "id": "166edf60",
      "metadata": {
        "colab": {
          "base_uri": "https://localhost:8080/"
        },
        "id": "166edf60",
        "outputId": "0dff33fb-e9df-4824-ca0d-87b513594238"
      },
      "outputs": [
        {
          "output_type": "stream",
          "name": "stderr",
          "text": [
            "/usr/local/lib/python3.9/dist-packages/tensorflow_addons/utils/tfa_eol_msg.py:23: UserWarning: \n",
            "\n",
            "TensorFlow Addons (TFA) has ended development and introduction of new features.\n",
            "TFA has entered a minimal maintenance and release mode until a planned end of life in May 2024.\n",
            "Please modify downstream libraries to take dependencies from other repositories in our TensorFlow community (e.g. Keras, Keras-CV, and Keras-NLP). \n",
            "\n",
            "For more information see: https://github.com/tensorflow/addons/issues/2807 \n",
            "\n",
            "  warnings.warn(\n"
          ]
        }
      ],
      "source": [
        "import pandas as pd\n",
        "import numpy as np\n",
        "import matplotlib.pyplot as plt\n",
        "\n",
        "import tensorflow as tf\n",
        "import tensorflow_addons as tfa\n",
        "import transformers\n",
        "from transformers import AutoTokenizer,TFRobertaModel\n",
        "\n",
        "import pytz\n",
        "import datetime\n",
        "import os"
      ]
    },
    {
      "cell_type": "markdown",
      "id": "ac6533ca",
      "metadata": {
        "id": "ac6533ca"
      },
      "source": [
        "## Functions and Constants"
      ]
    },
    {
      "cell_type": "code",
      "execution_count": 4,
      "id": "653cd9b5",
      "metadata": {
        "id": "653cd9b5"
      },
      "outputs": [],
      "source": [
        "def to_arrays(df):\n",
        "  X = df['comment_text'].to_numpy()\n",
        "  y = df['toxicity_binary'].to_numpy()\n",
        "  return X, y\n",
        "\n",
        "def load_data(group):\n",
        "  df_train = pd.read_csv('drive/MyDrive/data/' + group + '-dataset-train.csv')\n",
        "  df_val = pd.read_csv('drive/MyDrive/data/' + group + '-dataset-val.csv')\n",
        "  df_test = pd.read_csv('drive/MyDrive/data/' + group + '-dataset-test.csv')\n",
        "\n",
        "  X_train, y_train = to_arrays(df_train)\n",
        "  X_val, y_val = to_arrays(df_val)\n",
        "  X_test, y_test = to_arrays(df_test)\n",
        "\n",
        "  return X_train, y_train, X_test, y_test, X_val, y_val"
      ]
    },
    {
      "cell_type": "code",
      "execution_count": 5,
      "id": "9b7be9ac",
      "metadata": {
        "id": "9b7be9ac"
      },
      "outputs": [],
      "source": [
        "MAX_SEQUENCE_LENGTH = 128"
      ]
    },
    {
      "cell_type": "code",
      "execution_count": 6,
      "id": "023b0626",
      "metadata": {
        "id": "023b0626"
      },
      "outputs": [],
      "source": [
        "def tokenizing_pipeline(X, tokenizer):\n",
        "  bert_tokenized = tokenizer(list(X),\n",
        "                max_length=MAX_SEQUENCE_LENGTH,\n",
        "                truncation=True,\n",
        "                padding='max_length',\n",
        "                return_tensors='tf')\n",
        "  bert_inputs = [bert_tokenized.input_ids,\n",
        "                 bert_tokenized.token_type_ids,\n",
        "                 bert_tokenized.attention_mask]\n",
        "  return bert_inputs"
      ]
    },
    {
      "cell_type": "code",
      "execution_count": 7,
      "id": "f486369a",
      "metadata": {
        "id": "f486369a"
      },
      "outputs": [],
      "source": [
        "def build_bertweet_cls_model(max_sequence_length=MAX_SEQUENCE_LENGTH,\n",
        "                          hidden_size=100, \n",
        "                          dropout=0.3,\n",
        "                          learning_rate=0.0001,\n",
        "                          num_train_layers=0):\n",
        "\n",
        "    # freeze all pre-trained BERTweet layers\n",
        "    if num_train_layers == 0:\n",
        "      bertweet_model.trainable = False\n",
        "\n",
        "    # partially freeze the first n pre-trained BERTweet layers\n",
        "    else:\n",
        "        for layer_num in range(num_train_layers):\n",
        "            bertweet_model.roberta.encoder.layer[layer_num].trainable = False\n",
        "    \n",
        "    input_ids = tf.keras.layers.Input(shape=(max_sequence_length,), dtype=tf.int64, name='input_ids_layer')\n",
        "    token_type_ids = tf.keras.layers.Input(shape=(max_sequence_length,), dtype=tf.int64, name='token_type_ids_layer')\n",
        "    attention_mask = tf.keras.layers.Input(shape=(max_sequence_length,), dtype=tf.int64, name='attention_mask_layer')\n",
        "\n",
        "    bert_inputs = {'input_ids': input_ids,\n",
        "                   'token_type_ids': token_type_ids,\n",
        "                   'attention_mask': attention_mask}      \n",
        "\n",
        "    # Use the same bertweet model instance\n",
        "    bert_out = bertweet_model(bert_inputs)\n",
        "\n",
        "    cls_token = bert_out[0][:, 0, :]\n",
        "\n",
        "    \n",
        "    hidden = tf.keras.layers.Dense(hidden_size, activation='relu', name='hidden_layer')(cls_token)\n",
        "\n",
        "    hidden = tf.keras.layers.Dropout(dropout)(hidden)  \n",
        "\n",
        "    f1_score = tfa.metrics.F1Score(1, threshold = 0.5)\n",
        "\n",
        "    classification = tf.keras.layers.Dense(1, activation='sigmoid', name='classification_layer')(hidden)\n",
        "    \n",
        "    classification_model = tf.keras.Model(inputs=[input_ids, token_type_ids, attention_mask], outputs=[classification])\n",
        "    \n",
        "    classification_model.compile(optimizer=tf.keras.optimizers.legacy.Adam(learning_rate=learning_rate),\n",
        "                                 loss=tf.keras.losses.BinaryCrossentropy(from_logits=False), \n",
        "                                 metrics=[tf.keras.metrics.BinaryAccuracy(),\n",
        "                                        tf.keras.metrics.Precision(),\n",
        "                                        tf.keras.metrics.Recall(),\n",
        "                                        f1_score])\n",
        "\n",
        "    return classification_model"
      ]
    },
    {
      "cell_type": "markdown",
      "id": "e3390ff2",
      "metadata": {
        "id": "e3390ff2"
      },
      "source": [
        "## Load Data"
      ]
    },
    {
      "cell_type": "code",
      "execution_count": 8,
      "id": "165a0f2b",
      "metadata": {
        "id": "165a0f2b"
      },
      "outputs": [],
      "source": [
        "X_train_disability, y_train_disability, X_test_disability, y_test_disability, X_val_disability, y_val_disability = load_data('disability')"
      ]
    },
    {
      "cell_type": "code",
      "execution_count": 9,
      "id": "1513e398",
      "metadata": {
        "colab": {
          "base_uri": "https://localhost:8080/",
          "height": 35
        },
        "id": "1513e398",
        "outputId": "add5de36-a39b-4afe-f4f6-7a7e98317cb5"
      },
      "outputs": [
        {
          "output_type": "execute_result",
          "data": {
            "text/plain": [
              "\"Doesn't work? How do we know? When the country is at the point of legalizing silencers, and the right of the mentally ill to own assault weapons, it's laughable to think we have ANY gun controls.\""
            ],
            "application/vnd.google.colaboratory.intrinsic+json": {
              "type": "string"
            }
          },
          "metadata": {},
          "execution_count": 9
        }
      ],
      "source": [
        "X_train_disability[0]"
      ]
    },
    {
      "cell_type": "code",
      "execution_count": 10,
      "id": "a6627800",
      "metadata": {
        "colab": {
          "base_uri": "https://localhost:8080/",
          "height": 35
        },
        "id": "a6627800",
        "outputId": "7bfc4970-eff6-4caa-c3f1-fa1844b99924"
      },
      "outputs": [
        {
          "output_type": "execute_result",
          "data": {
            "text/plain": [
              "'LoL. The mental retardation of the (d)onkeys is stunning.\\nThey propose the craziest whackjob laws without one regard to the Constitution.'"
            ],
            "application/vnd.google.colaboratory.intrinsic+json": {
              "type": "string"
            }
          },
          "metadata": {},
          "execution_count": 10
        }
      ],
      "source": [
        "X_train_disability[1]"
      ]
    },
    {
      "cell_type": "markdown",
      "id": "c352de2f",
      "metadata": {
        "id": "c352de2f"
      },
      "source": [
        "## Load BERTweet Model from_pretrained() with normalization=True"
      ]
    },
    {
      "cell_type": "code",
      "execution_count": 11,
      "id": "e252515b",
      "metadata": {
        "colab": {
          "base_uri": "https://localhost:8080/"
        },
        "id": "e252515b",
        "outputId": "68a60dea-e9d7-4952-f884-c3aa088f2296"
      },
      "outputs": [
        {
          "output_type": "stream",
          "name": "stderr",
          "text": [
            "Special tokens have been added in the vocabulary, make sure the associated word embeddings are fine-tuned or trained.\n",
            "Some layers from the model checkpoint at vinai/bertweet-base were not used when initializing TFRobertaModel: ['lm_head']\n",
            "- This IS expected if you are initializing TFRobertaModel from the checkpoint of a model trained on another task or with another architecture (e.g. initializing a BertForSequenceClassification model from a BertForPreTraining model).\n",
            "- This IS NOT expected if you are initializing TFRobertaModel from the checkpoint of a model that you expect to be exactly identical (initializing a BertForSequenceClassification model from a BertForSequenceClassification model).\n",
            "All the layers of TFRobertaModel were initialized from the model checkpoint at vinai/bertweet-base.\n",
            "If your task is similar to the task the model of the checkpoint was trained on, you can already use TFRobertaModel for predictions without further training.\n"
          ]
        }
      ],
      "source": [
        "# For transformers v4.x+:\n",
        "# bertweet_tokenizer = AutoTokenizer.from_pretrained(\"vinai/bertweet-base\", use_fast=False)\n",
        "# bertweet_tokenizer_heavy = AutoTokenizer.from_pretrained(\"vinai/bertweet-base\",\n",
        "#                                                     use_fast=False,\n",
        "#                                                     normalization=True,\n",
        "#                                                     add_special_tokens=True,\n",
        "#                                                     return_attention_mask=True)\n",
        "bertweet_tokenizer = AutoTokenizer.from_pretrained(\"vinai/bertweet-base\",\n",
        "                                                    use_fast=False,\n",
        "                                                    normalization=True,\n",
        "                                                    add_special_tokens=True,\n",
        "                                                    return_attention_mask=True)\n",
        "bertweet_model = TFRobertaModel.from_pretrained(\"vinai/bertweet-base\")"
      ]
    },
    {
      "cell_type": "code",
      "execution_count": 12,
      "id": "fcc5ead2",
      "metadata": {
        "colab": {
          "base_uri": "https://localhost:8080/"
        },
        "id": "fcc5ead2",
        "outputId": "60eb4068-5b03-4a95-fdb8-cba426bdfd07"
      },
      "outputs": [
        {
          "output_type": "execute_result",
          "data": {
            "text/plain": [
              "['LoL',\n",
              " '.',\n",
              " 'The',\n",
              " 'mental',\n",
              " 'retar@@',\n",
              " 'dation',\n",
              " 'of',\n",
              " 'the',\n",
              " '(',\n",
              " 'd',\n",
              " ')',\n",
              " 'on@@',\n",
              " 'keys',\n",
              " 'is',\n",
              " 'stunning',\n",
              " '.',\n",
              " 'They',\n",
              " 'propose',\n",
              " 'the',\n",
              " 'craziest',\n",
              " 'wha@@',\n",
              " 'ck@@',\n",
              " 'job',\n",
              " 'laws',\n",
              " 'without',\n",
              " 'one',\n",
              " 'regard',\n",
              " 'to',\n",
              " 'the',\n",
              " 'Constitution',\n",
              " '.']"
            ]
          },
          "metadata": {},
          "execution_count": 12
        }
      ],
      "source": [
        "bertweet_tokenizer.tokenize(X_train_disability[1])"
      ]
    },
    {
      "cell_type": "code",
      "execution_count": 13,
      "id": "d89bd3a2",
      "metadata": {
        "id": "d89bd3a2"
      },
      "outputs": [],
      "source": [
        "# bertweet_tokenizer_heavy.tokenize(X_train_disability[1])"
      ]
    },
    {
      "cell_type": "code",
      "execution_count": 14,
      "id": "01854eb9",
      "metadata": {
        "colab": {
          "base_uri": "https://localhost:8080/"
        },
        "id": "01854eb9",
        "outputId": "878cc639-4657-4ab2-9200-77f23c0d87c7"
      },
      "outputs": [
        {
          "output_type": "stream",
          "name": "stdout",
          "text": [
            "Model: \"tf_roberta_model\"\n",
            "_________________________________________________________________\n",
            " Layer (type)                Output Shape              Param #   \n",
            "=================================================================\n",
            " roberta (TFRobertaMainLayer  multiple                 134899968 \n",
            " )                                                               \n",
            "                                                                 \n",
            "=================================================================\n",
            "Total params: 134,899,968\n",
            "Trainable params: 134,899,968\n",
            "Non-trainable params: 0\n",
            "_________________________________________________________________\n"
          ]
        }
      ],
      "source": [
        "bertweet_model.summary()"
      ]
    },
    {
      "cell_type": "markdown",
      "id": "6bbf0d8f",
      "metadata": {
        "id": "6bbf0d8f"
      },
      "source": [
        "## Tokenize Data Splits"
      ]
    },
    {
      "cell_type": "code",
      "execution_count": 15,
      "id": "b25b6965",
      "metadata": {
        "id": "b25b6965"
      },
      "outputs": [],
      "source": [
        "# bertweet_train_inputs_disability_small = tokenizing_pipeline(X_train_disability[:100], bertweet_tokenizer) # only get the first 100 examples\n",
        "# bertweet_val_inputs_disability_small = tokenizing_pipeline(X_val_disability[:50], bertweet_tokenizer) # only get the first 50 examples\n",
        "# bertweet_test_inputs_disability_small = tokenizing_pipeline(X_test_disability[:20], bertweet_tokenizer) # only get the first 20 examples\n",
        "bertweet_train_inputs_disability = tokenizing_pipeline(X_train_disability, bertweet_tokenizer)\n",
        "bertweet_test_inputs_disability = tokenizing_pipeline(X_test_disability, bertweet_tokenizer)\n",
        "bertweet_val_inputs_disability = tokenizing_pipeline(X_val_disability, bertweet_tokenizer)"
      ]
    },
    {
      "cell_type": "code",
      "execution_count": 16,
      "id": "a9751de7",
      "metadata": {
        "colab": {
          "base_uri": "https://localhost:8080/"
        },
        "id": "a9751de7",
        "outputId": "7ab3a54d-24c8-40c6-a63b-d55af95e4fe3"
      },
      "outputs": [
        {
          "output_type": "execute_result",
          "data": {
            "text/plain": [
              "12798"
            ]
          },
          "metadata": {},
          "execution_count": 16
        }
      ],
      "source": [
        "len(X_train_disability)"
      ]
    },
    {
      "cell_type": "code",
      "execution_count": 17,
      "id": "e58f74c8",
      "metadata": {
        "colab": {
          "base_uri": "https://localhost:8080/"
        },
        "id": "e58f74c8",
        "outputId": "6a758010-6464-47f3-e94c-dbb01a717379"
      },
      "outputs": [
        {
          "output_type": "execute_result",
          "data": {
            "text/plain": [
              "2134"
            ]
          },
          "metadata": {},
          "execution_count": 17
        }
      ],
      "source": [
        "len(X_val_disability)"
      ]
    },
    {
      "cell_type": "code",
      "execution_count": 18,
      "id": "ac1e0a0d",
      "metadata": {
        "colab": {
          "base_uri": "https://localhost:8080/"
        },
        "id": "ac1e0a0d",
        "outputId": "afb23cca-94ba-40ae-9aa2-beee3686da37"
      },
      "outputs": [
        {
          "output_type": "execute_result",
          "data": {
            "text/plain": [
              "3733"
            ]
          },
          "metadata": {},
          "execution_count": 18
        }
      ],
      "source": [
        "len(X_test_disability)"
      ]
    },
    {
      "cell_type": "markdown",
      "id": "94f5b97a",
      "metadata": {
        "id": "94f5b97a"
      },
      "source": [
        "## Calculate Class Weights for Disability"
      ]
    },
    {
      "cell_type": "markdown",
      "id": "b6f287eb",
      "metadata": {
        "id": "b6f287eb"
      },
      "source": [
        "Get class weights for disability train set:"
      ]
    },
    {
      "cell_type": "code",
      "execution_count": 19,
      "id": "5c048779",
      "metadata": {
        "colab": {
          "base_uri": "https://localhost:8080/"
        },
        "id": "5c048779",
        "outputId": "f80af14d-5f5b-4d37-cd9c-d71b364a148f"
      },
      "outputs": [
        {
          "output_type": "stream",
          "name": "stdout",
          "text": [
            "Disability Examples:\n",
            "    Total: 12798\n",
            "    Positive: 2758 (21.55% of total)\n",
            "\n",
            "Disability Weight for class 0: 0.64\n",
            "Disability Weight for class 1: 2.32\n"
          ]
        }
      ],
      "source": [
        "neg, pos = np.bincount(y_train_disability)\n",
        "total = neg + pos\n",
        "print('Disability Examples:\\n    Total: {}\\n    Positive: {} ({:.2f}% of total)\\n'.format(\n",
        "    total, pos, 100 * pos / total))\n",
        "\n",
        "# Scaling by total/2 helps keep the loss to a similar magnitude.\n",
        "# The sum of the weights of all examples stays the same.\n",
        "weight_for_0 = (1 / neg) * (total / 2.0)\n",
        "weight_for_1 = (1 / pos) * (total / 2.0)\n",
        "\n",
        "disability_class_weight = {0: weight_for_0, 1: weight_for_1}\n",
        "\n",
        "print('Disability Weight for class 0: {:.2f}'.format(weight_for_0))\n",
        "print('Disability Weight for class 1: {:.2f}'.format(weight_for_1))"
      ]
    },
    {
      "cell_type": "markdown",
      "id": "3129f17c",
      "metadata": {
        "id": "3129f17c"
      },
      "source": [
        "## Build Disability Model with half-frozen BERTweet layers"
      ]
    },
    {
      "cell_type": "code",
      "execution_count": 20,
      "id": "b72fe4c1",
      "metadata": {
        "colab": {
          "base_uri": "https://localhost:8080/"
        },
        "id": "b72fe4c1",
        "outputId": "0205107b-97ee-4fe1-e527-66821b007a48"
      },
      "outputs": [
        {
          "output_type": "stream",
          "name": "stdout",
          "text": [
            "Model: \"model\"\n",
            "__________________________________________________________________________________________________\n",
            " Layer (type)                   Output Shape         Param #     Connected to                     \n",
            "==================================================================================================\n",
            " attention_mask_layer (InputLay  [(None, 128)]       0           []                               \n",
            " er)                                                                                              \n",
            "                                                                                                  \n",
            " input_ids_layer (InputLayer)   [(None, 128)]        0           []                               \n",
            "                                                                                                  \n",
            " token_type_ids_layer (InputLay  [(None, 128)]       0           []                               \n",
            " er)                                                                                              \n",
            "                                                                                                  \n",
            " tf_roberta_model (TFRobertaMod  TFBaseModelOutputWi  134899968  ['attention_mask_layer[0][0]',   \n",
            " el)                            thPoolingAndCrossAt               'input_ids_layer[0][0]',        \n",
            "                                tentions(last_hidde               'token_type_ids_layer[0][0]']   \n",
            "                                n_state=(None, 128,                                               \n",
            "                                 768),                                                            \n",
            "                                 pooler_output=(Non                                               \n",
            "                                e, 768),                                                          \n",
            "                                 past_key_values=No                                               \n",
            "                                ne, hidden_states=N                                               \n",
            "                                one, attentions=Non                                               \n",
            "                                e, cross_attentions                                               \n",
            "                                =None)                                                            \n",
            "                                                                                                  \n",
            " tf.__operators__.getitem (Slic  (None, 768)         0           ['tf_roberta_model[0][0]']       \n",
            " ingOpLambda)                                                                                     \n",
            "                                                                                                  \n",
            " hidden_layer (Dense)           (None, 100)          76900       ['tf.__operators__.getitem[0][0]'\n",
            "                                                                 ]                                \n",
            "                                                                                                  \n",
            " dropout_37 (Dropout)           (None, 100)          0           ['hidden_layer[0][0]']           \n",
            "                                                                                                  \n",
            " classification_layer (Dense)   (None, 1)            101         ['dropout_37[0][0]']             \n",
            "                                                                                                  \n",
            "==================================================================================================\n",
            "Total params: 134,976,969\n",
            "Trainable params: 92,449,737\n",
            "Non-trainable params: 42,527,232\n",
            "__________________________________________________________________________________________________\n"
          ]
        }
      ],
      "source": [
        "disability_model = build_bertweet_cls_model(num_train_layers=6, learning_rate=1e-5)\n",
        "disability_model.summary()"
      ]
    },
    {
      "cell_type": "code",
      "execution_count": 21,
      "id": "ea9b921b",
      "metadata": {
        "colab": {
          "base_uri": "https://localhost:8080/"
        },
        "id": "ea9b921b",
        "outputId": "7469d776-c136-4c8f-ac06-9ae1b1c81aa4"
      },
      "outputs": [
        {
          "output_type": "stream",
          "name": "stdout",
          "text": [
            "2023-04-12T02:21:39.907948-07:00\n"
          ]
        }
      ],
      "source": [
        "america_la_tz = pytz.timezone('America/Los_Angeles')\n",
        "start_time = datetime.datetime.now(tz=america_la_tz).isoformat()\n",
        "print(str(start_time))"
      ]
    },
    {
      "cell_type": "markdown",
      "id": "d4cda4e3",
      "metadata": {
        "id": "d4cda4e3"
      },
      "source": [
        "## Define Checkpoint"
      ]
    },
    {
      "cell_type": "code",
      "execution_count": 22,
      "id": "febb3077",
      "metadata": {
        "id": "febb3077"
      },
      "outputs": [],
      "source": [
        "# checkpoint_filepath = 'model_checkpoints/disability_only_best_weights.h5'\n",
        "# model_checkpoint_callback = tf.keras.callbacks.ModelCheckpoint(\n",
        "#     filepath=checkpoint_filepath,\n",
        "#     verbose=1,\n",
        "#     monitor='val_f1_score',\n",
        "#     mode='max',\n",
        "#     save_best_only=True)\n",
        "\n",
        "# checkpoint_dir = 'drive/MyDrive/model_checkpoints/'\n",
        "# checkpoint_filepath = checkpoint_dir + 'best_disability_only_weights'\n",
        "# checkpoint_filepath = 'drive/MyDrive/model_checkpoints/best_disability_only_weights'\n",
        "# checkpoint_filepath = 'drive/MyDrive/model_checkpoints/bestdisabilityonly-{epoch:04d}.ckpt'\n",
        "checkpoint_filepath = 'drive/MyDrive/model_checkpoints/verybestdisabilityonly.hdf5'\n",
        "model_checkpoint_callback = tf.keras.callbacks.ModelCheckpoint(\n",
        "    filepath=checkpoint_filepath,\n",
        "    verbose=1,\n",
        "    monitor='val_precision',\n",
        "    mode='max',\n",
        "    # save_weights_only=True,\n",
        "    save_best_only=True)\n",
        "\n",
        "# BELOW ALSO WORKS\n",
        "# ===============================\n",
        "# checkpoint_filepath = 'drive/MyDrive/model_checkpoints/bestdisabilityonly.hdf5'\n",
        "# model_checkpoint_callback = tf.keras.callbacks.ModelCheckpoint(\n",
        "#     filepath=checkpoint_filepath,\n",
        "#     verbose=1,\n",
        "#     # monitor='val_f1_score',\n",
        "#     # mode='max',\n",
        "#     # save_weights_only=True,\n",
        "#     save_best_only=True)"
      ]
    },
    {
      "cell_type": "markdown",
      "id": "f4ed6610",
      "metadata": {
        "id": "f4ed6610"
      },
      "source": [
        "## Train Disability Model "
      ]
    },
    {
      "cell_type": "code",
      "execution_count": 23,
      "id": "14535c2b",
      "metadata": {
        "colab": {
          "base_uri": "https://localhost:8080/"
        },
        "id": "14535c2b",
        "outputId": "25a37915-85d6-4ece-ca7a-e1e2bcdde88d"
      },
      "outputs": [
        {
          "output_type": "stream",
          "name": "stdout",
          "text": [
            "Epoch 1/5\n"
          ]
        },
        {
          "output_type": "stream",
          "name": "stderr",
          "text": [
            "WARNING:tensorflow:Gradients do not exist for variables ['tf_roberta_model/roberta/pooler/dense/kernel:0', 'tf_roberta_model/roberta/pooler/dense/bias:0'] when minimizing the loss. If you're using `model.compile()`, did you forget to provide a `loss` argument?\n",
            "WARNING:tensorflow:Gradients do not exist for variables ['tf_roberta_model/roberta/pooler/dense/kernel:0', 'tf_roberta_model/roberta/pooler/dense/bias:0'] when minimizing the loss. If you're using `model.compile()`, did you forget to provide a `loss` argument?\n"
          ]
        },
        {
          "output_type": "stream",
          "name": "stdout",
          "text": [
            "400/400 [==============================] - ETA: 0s - loss: 0.5167 - binary_accuracy: 0.7447 - precision: 0.4444 - recall: 0.7371 - f1_score: 0.5545\n",
            "Epoch 1: val_precision improved from -inf to 0.52261, saving model to drive/MyDrive/model_checkpoints/verybestdisabilityonly.hdf5\n",
            "400/400 [==============================] - 334s 790ms/step - loss: 0.5167 - binary_accuracy: 0.7447 - precision: 0.4444 - recall: 0.7371 - f1_score: 0.5545 - val_loss: 0.4728 - val_binary_accuracy: 0.8051 - val_precision: 0.5226 - val_recall: 0.8733 - val_f1_score: 0.6539\n",
            "Epoch 2/5\n",
            "400/400 [==============================] - ETA: 0s - loss: 0.4013 - binary_accuracy: 0.8252 - precision: 0.5651 - recall: 0.8198 - f1_score: 0.6690\n",
            "Epoch 2: val_precision did not improve from 0.52261\n",
            "400/400 [==============================] - 306s 764ms/step - loss: 0.4013 - binary_accuracy: 0.8252 - precision: 0.5651 - recall: 0.8198 - f1_score: 0.6690 - val_loss: 0.5285 - val_binary_accuracy: 0.7577 - val_precision: 0.4631 - val_recall: 0.9356 - val_f1_score: 0.6196\n",
            "Epoch 3/5\n",
            "400/400 [==============================] - ETA: 0s - loss: 0.3534 - binary_accuracy: 0.8468 - precision: 0.6026 - recall: 0.8488 - f1_score: 0.7048\n",
            "Epoch 3: val_precision improved from 0.52261 to 0.56395, saving model to drive/MyDrive/model_checkpoints/verybestdisabilityonly.hdf5\n",
            "400/400 [==============================] - 319s 798ms/step - loss: 0.3534 - binary_accuracy: 0.8468 - precision: 0.6026 - recall: 0.8488 - f1_score: 0.7048 - val_loss: 0.3896 - val_binary_accuracy: 0.8304 - val_precision: 0.5640 - val_recall: 0.8622 - val_f1_score: 0.6819\n",
            "Epoch 4/5\n",
            "400/400 [==============================] - ETA: 0s - loss: 0.3124 - binary_accuracy: 0.8650 - precision: 0.6371 - recall: 0.8677 - f1_score: 0.7347\n",
            "Epoch 4: val_precision did not improve from 0.56395\n",
            "400/400 [==============================] - 303s 758ms/step - loss: 0.3124 - binary_accuracy: 0.8650 - precision: 0.6371 - recall: 0.8677 - f1_score: 0.7347 - val_loss: 0.4798 - val_binary_accuracy: 0.7966 - val_precision: 0.5100 - val_recall: 0.9044 - val_f1_score: 0.6522\n",
            "Epoch 5/5\n",
            "400/400 [==============================] - ETA: 0s - loss: 0.2715 - binary_accuracy: 0.8890 - precision: 0.6842 - recall: 0.9003 - f1_score: 0.7775\n",
            "Epoch 5: val_precision improved from 0.56395 to 0.58915, saving model to drive/MyDrive/model_checkpoints/verybestdisabilityonly.hdf5\n",
            "400/400 [==============================] - 319s 797ms/step - loss: 0.2715 - binary_accuracy: 0.8890 - precision: 0.6842 - recall: 0.9003 - f1_score: 0.7775 - val_loss: 0.3915 - val_binary_accuracy: 0.8430 - val_precision: 0.5891 - val_recall: 0.8444 - val_f1_score: 0.6941\n"
          ]
        }
      ],
      "source": [
        "# FOR QUICK TESTING OF LOADING\n",
        "# =============================\n",
        "# disability_history = disability_model.fit(bertweet_train_inputs_disability_small,\n",
        "#                                           y_train_disability[:100],\n",
        "#                                           validation_data=(bertweet_val_inputs_disability_small, y_val_disability[:50]),\n",
        "#                                           epochs=1,\n",
        "#                                           class_weight=disability_class_weight,\n",
        "#                                           callbacks=[model_checkpoint_callback])\n",
        "\n",
        "# takes 5 min to run 1 epoch\n",
        "# takes 26 min to run 5 epochs\n",
        "disability_history = disability_model.fit(bertweet_train_inputs_disability,\n",
        "                                          y_train_disability,\n",
        "                                          validation_data=(bertweet_val_inputs_disability, y_val_disability),\n",
        "                                          batch_size=32,\n",
        "                                          epochs=5,\n",
        "                                          class_weight=disability_class_weight,\n",
        "                                          callbacks=[model_checkpoint_callback])"
      ]
    },
    {
      "cell_type": "markdown",
      "source": [
        "## Plot metrics"
      ],
      "metadata": {
        "id": "QVedKadz7qho"
      },
      "id": "QVedKadz7qho"
    },
    {
      "cell_type": "code",
      "execution_count": 24,
      "id": "347ff0c9",
      "metadata": {
        "colab": {
          "base_uri": "https://localhost:8080/",
          "height": 472
        },
        "id": "347ff0c9",
        "outputId": "0d210d45-7e64-49fb-a1c1-5f4cde58a560"
      },
      "outputs": [
        {
          "output_type": "display_data",
          "data": {
            "text/plain": [
              "<Figure size 640x480 with 1 Axes>"
            ],
            "image/png": "[encoded data removed]"
          },
          "metadata": {}
        }
      ],
      "source": [
        "history = pd.DataFrame(disability_history.history)\n",
        "plt.ylabel('F1 Score')\n",
        "plt.xlabel('Epoch')\n",
        "plt.title('Disability Only Train vs Val F1 Score for Half-Frozen Bertweet')\n",
        "plt.xticks([0, 1, 2, 3, 4],['1', '2', '3', '4', '5'])\n",
        "plt.plot(history['f1_score'], label=\"training\", marker='o')\n",
        "plt.plot(history['val_f1_score'], label=\"validation\", marker='o')\n",
        "plt.legend()\n",
        "plt.show()"
      ]
    },
    {
      "cell_type": "code",
      "execution_count": 25,
      "id": "ab6607bb",
      "metadata": {
        "colab": {
          "base_uri": "https://localhost:8080/",
          "height": 472
        },
        "id": "ab6607bb",
        "outputId": "f2144a7a-b9da-484e-f7b5-73c620567494"
      },
      "outputs": [
        {
          "output_type": "display_data",
          "data": {
            "text/plain": [
              "<Figure size 640x480 with 1 Axes>"
            ],
            "image/png": "[encoded data removed]"
          },
          "metadata": {}
        }
      ],
      "source": [
        "history = pd.DataFrame(disability_history.history)\n",
        "plt.ylabel('Loss')\n",
        "plt.xlabel('Epoch')\n",
        "plt.title('Disability Only Train vs Val Loss for Half-Frozen Bertweet')\n",
        "plt.xticks([0, 1, 2, 3, 4],['1', '2', '3', '4', '5'])\n",
        "plt.plot(history['loss'], label=\"training\", marker='o')\n",
        "plt.plot(history['val_loss'], label=\"validation\", marker='o')\n",
        "plt.legend()\n",
        "plt.show()"
      ]
    },
    {
      "cell_type": "code",
      "execution_count": 27,
      "id": "ad42b36b",
      "metadata": {
        "colab": {
          "base_uri": "https://localhost:8080/",
          "height": 472
        },
        "id": "ad42b36b",
        "outputId": "c43c6b93-82cb-48b8-931a-1a823a5daf42"
      },
      "outputs": [
        {
          "output_type": "display_data",
          "data": {
            "text/plain": [
              "<Figure size 640x480 with 1 Axes>"
            ],
            "image/png": "[encoded data removed]"
          },
          "metadata": {}
        }
      ],
      "source": [
        "history = pd.DataFrame(disability_history.history)\n",
        "plt.ylabel('Binary Accuracy')\n",
        "plt.xlabel('Epoch')\n",
        "plt.title('Disability Only Train vs Val Binary Accuracy for Half-Frozen Bertweet')\n",
        "plt.xticks([0, 1, 2, 3, 4],['1', '2', '3', '4', '5'])\n",
        "plt.plot(history['binary_accuracy'], label=\"training\", marker='o')\n",
        "plt.plot(history['val_binary_accuracy'], label=\"validation\", marker='o')\n",
        "plt.legend()\n",
        "plt.show()"
      ]
    },
    {
      "cell_type": "code",
      "execution_count": 28,
      "id": "e490f79f",
      "metadata": {
        "colab": {
          "base_uri": "https://localhost:8080/"
        },
        "id": "e490f79f",
        "outputId": "89cdc1ca-dbd2-486b-ffa2-7c47d83fcd8b"
      },
      "outputs": [
        {
          "output_type": "stream",
          "name": "stdout",
          "text": [
            "2023-04-12T02:52:11.543404-07:00\n"
          ]
        }
      ],
      "source": [
        "end_time = datetime.datetime.now(tz=america_la_tz).isoformat()\n",
        "print(str(end_time))"
      ]
    },
    {
      "cell_type": "markdown",
      "id": "5c4fb6da",
      "metadata": {
        "id": "5c4fb6da"
      },
      "source": [
        "## Evaluate Disability Model on Test Set"
      ]
    },
    {
      "cell_type": "code",
      "execution_count": 29,
      "id": "f97f561d",
      "metadata": {
        "colab": {
          "base_uri": "https://localhost:8080/"
        },
        "id": "f97f561d",
        "outputId": "c5de9141-1f83-4e62-ae27-60d6d1947f2a"
      },
      "outputs": [
        {
          "output_type": "stream",
          "name": "stdout",
          "text": [
            "117/117 [==============================] - 32s 270ms/step - loss: 0.4130 - binary_accuracy: 0.8339 - precision: 0.5619 - recall: 0.8217 - f1_score: 0.6674\n"
          ]
        }
      ],
      "source": [
        "disability_test_history = disability_model.evaluate(bertweet_test_inputs_disability, y_test_disability)"
      ]
    },
    {
      "cell_type": "markdown",
      "id": "83d47671",
      "metadata": {
        "id": "83d47671"
      },
      "source": [
        "## Export Results to csv"
      ]
    },
    {
      "cell_type": "code",
      "execution_count": 30,
      "id": "8be4d31e",
      "metadata": {
        "colab": {
          "base_uri": "https://localhost:8080/",
          "height": 237
        },
        "id": "8be4d31e",
        "outputId": "a5038800-9145-4375-cc7c-dcca61ceea5a"
      },
      "outputs": [
        {
          "output_type": "execute_result",
          "data": {
            "text/plain": [
              "       loss  binary_accuracy  precision    recall      f1_score  val_loss  \\\n",
              "0  0.516659         0.744726   0.444372  0.737128   [0.5544798]  0.472774   \n",
              "1  0.401349         0.825207   0.565109  0.819797   [0.6690339]  0.528450   \n",
              "2  0.353373         0.846773   0.602574  0.848803  [0.70480204]  0.389618   \n",
              "3  0.312366         0.864979   0.637114  0.867658   [0.7347252]  0.479819   \n",
              "4  0.271520         0.888967   0.684211  0.900290   [0.7775169]  0.391529   \n",
              "0       NaN              NaN        NaN       NaN           NaN       NaN   \n",
              "\n",
              "   val_binary_accuracy  val_precision  val_recall  val_f1_score  test_loss  \\\n",
              "0             0.805061       0.522606    0.873333  [0.65391016]        NaN   \n",
              "1             0.757732       0.463146    0.935556  [0.61957324]        NaN   \n",
              "2             0.830366       0.563953    0.862222  [0.68189806]        NaN   \n",
              "3             0.796626       0.510025    0.904444   [0.6522436]        NaN   \n",
              "4             0.843018       0.589147    0.844444   [0.6940639]        NaN   \n",
              "0                  NaN            NaN         NaN           NaN   0.413022   \n",
              "\n",
              "   test_binary_accuracy  test_precision  test_recall  test_f1_score  \n",
              "0                   NaN             NaN          NaN            NaN  \n",
              "1                   NaN             NaN          NaN            NaN  \n",
              "2                   NaN             NaN          NaN            NaN  \n",
              "3                   NaN             NaN          NaN            NaN  \n",
              "4                   NaN             NaN          NaN            NaN  \n",
              "0              0.833914        0.561879     0.821664       0.667382  "
            ],
            "text/html": [
              "\n",
              "  <div id=\"df-2be2350f-4f3b-422a-8ee2-1e167a70eba4\">\n",
              "    <div class=\"colab-df-container\">\n",
              "      <div>\n",
              "<style scoped>\n",
              "    .dataframe tbody tr th:only-of-type {\n",
              "        vertical-align: middle;\n",
              "    }\n",
              "\n",
              "    .dataframe tbody tr th {\n",
              "        vertical-align: top;\n",
              "    }\n",
              "\n",
              "    .dataframe thead th {\n",
              "        text-align: right;\n",
              "    }\n",
              "</style>\n",
              "<table border=\"1\" class=\"dataframe\">\n",
              "  <thead>\n",
              "    <tr style=\"text-align: right;\">\n",
              "      <th></th>\n",
              "      <th>loss</th>\n",
              "      <th>binary_accuracy</th>\n",
              "      <th>precision</th>\n",
              "      <th>recall</th>\n",
              "      <th>f1_score</th>\n",
              "      <th>val_loss</th>\n",
              "      <th>val_binary_accuracy</th>\n",
              "      <th>val_precision</th>\n",
              "      <th>val_recall</th>\n",
              "      <th>val_f1_score</th>\n",
              "      <th>test_loss</th>\n",
              "      <th>test_binary_accuracy</th>\n",
              "      <th>test_precision</th>\n",
              "      <th>test_recall</th>\n",
              "      <th>test_f1_score</th>\n",
              "    </tr>\n",
              "  </thead>\n",
              "  <tbody>\n",
              "    <tr>\n",
              "      <th>0</th>\n",
              "      <td>0.516659</td>\n",
              "      <td>0.744726</td>\n",
              "      <td>0.444372</td>\n",
              "      <td>0.737128</td>\n",
              "      <td>[0.5544798]</td>\n",
              "      <td>0.472774</td>\n",
              "      <td>0.805061</td>\n",
              "      <td>0.522606</td>\n",
              "      <td>0.873333</td>\n",
              "      <td>[0.65391016]</td>\n",
              "      <td>NaN</td>\n",
              "      <td>NaN</td>\n",
              "      <td>NaN</td>\n",
              "      <td>NaN</td>\n",
              "      <td>NaN</td>\n",
              "    </tr>\n",
              "    <tr>\n",
              "      <th>1</th>\n",
              "      <td>0.401349</td>\n",
              "      <td>0.825207</td>\n",
              "      <td>0.565109</td>\n",
              "      <td>0.819797</td>\n",
              "      <td>[0.6690339]</td>\n",
              "      <td>0.528450</td>\n",
              "      <td>0.757732</td>\n",
              "      <td>0.463146</td>\n",
              "      <td>0.935556</td>\n",
              "      <td>[0.61957324]</td>\n",
              "      <td>NaN</td>\n",
              "      <td>NaN</td>\n",
              "      <td>NaN</td>\n",
              "      <td>NaN</td>\n",
              "      <td>NaN</td>\n",
              "    </tr>\n",
              "    <tr>\n",
              "      <th>2</th>\n",
              "      <td>0.353373</td>\n",
              "      <td>0.846773</td>\n",
              "      <td>0.602574</td>\n",
              "      <td>0.848803</td>\n",
              "      <td>[0.70480204]</td>\n",
              "      <td>0.389618</td>\n",
              "      <td>0.830366</td>\n",
              "      <td>0.563953</td>\n",
              "      <td>0.862222</td>\n",
              "      <td>[0.68189806]</td>\n",
              "      <td>NaN</td>\n",
              "      <td>NaN</td>\n",
              "      <td>NaN</td>\n",
              "      <td>NaN</td>\n",
              "      <td>NaN</td>\n",
              "    </tr>\n",
              "    <tr>\n",
              "      <th>3</th>\n",
              "      <td>0.312366</td>\n",
              "      <td>0.864979</td>\n",
              "      <td>0.637114</td>\n",
              "      <td>0.867658</td>\n",
              "      <td>[0.7347252]</td>\n",
              "      <td>0.479819</td>\n",
              "      <td>0.796626</td>\n",
              "      <td>0.510025</td>\n",
              "      <td>0.904444</td>\n",
              "      <td>[0.6522436]</td>\n",
              "      <td>NaN</td>\n",
              "      <td>NaN</td>\n",
              "      <td>NaN</td>\n",
              "      <td>NaN</td>\n",
              "      <td>NaN</td>\n",
              "    </tr>\n",
              "    <tr>\n",
              "      <th>4</th>\n",
              "      <td>0.271520</td>\n",
              "      <td>0.888967</td>\n",
              "      <td>0.684211</td>\n",
              "      <td>0.900290</td>\n",
              "      <td>[0.7775169]</td>\n",
              "      <td>0.391529</td>\n",
              "      <td>0.843018</td>\n",
              "      <td>0.589147</td>\n",
              "      <td>0.844444</td>\n",
              "      <td>[0.6940639]</td>\n",
              "      <td>NaN</td>\n",
              "      <td>NaN</td>\n",
              "      <td>NaN</td>\n",
              "      <td>NaN</td>\n",
              "      <td>NaN</td>\n",
              "    </tr>\n",
              "    <tr>\n",
              "      <th>0</th>\n",
              "      <td>NaN</td>\n",
              "      <td>NaN</td>\n",
              "      <td>NaN</td>\n",
              "      <td>NaN</td>\n",
              "      <td>NaN</td>\n",
              "      <td>NaN</td>\n",
              "      <td>NaN</td>\n",
              "      <td>NaN</td>\n",
              "      <td>NaN</td>\n",
              "      <td>NaN</td>\n",
              "      <td>0.413022</td>\n",
              "      <td>0.833914</td>\n",
              "      <td>0.561879</td>\n",
              "      <td>0.821664</td>\n",
              "      <td>0.667382</td>\n",
              "    </tr>\n",
              "  </tbody>\n",
              "</table>\n",
              "</div>\n",
              "      <button class=\"colab-df-convert\" onclick=\"convertToInteractive('df-2be2350f-4f3b-422a-8ee2-1e167a70eba4')\"\n",
              "              title=\"Convert this dataframe to an interactive table.\"\n",
              "              style=\"display:none;\">\n",
              "        \n",
              "  <svg xmlns=\"http://www.w3.org/2000/svg\" height=\"24px\"viewBox=\"0 0 24 24\"\n",
              "       width=\"24px\">\n",
              "    <path d=\"M0 0h24v24H0V0z\" fill=\"none\"/>\n",
              "    <path d=\"M18.56 5.44l.94 2.06.94-2.06 2.06-.94-2.06-.94-.94-2.06-.94 2.06-2.06.94zm-11 1L8.5 8.5l.94-2.06 2.06-.94-2.06-.94L8.5 2.5l-.94 2.06-2.06.94zm10 10l.94 2.06.94-2.06 2.06-.94-2.06-.94-.94-2.06-.94 2.06-2.06.94z\"/><path d=\"M17.41 7.96l-1.37-1.37c-.4-.4-.92-.59-1.43-.59-.52 0-1.04.2-1.43.59L10.3 9.45l-7.72 7.72c-.78.78-.78 2.05 0 2.83L4 21.41c.39.39.9.59 1.41.59.51 0 1.02-.2 1.41-.59l7.78-7.78 2.81-2.81c.8-.78.8-2.07 0-2.86zM5.41 20L4 18.59l7.72-7.72 1.47 1.35L5.41 20z\"/>\n",
              "  </svg>\n",
              "      </button>\n",
              "      \n",
              "  <style>\n",
              "    .colab-df-container {\n",
              "      display:flex;\n",
              "      flex-wrap:wrap;\n",
              "      gap: 12px;\n",
              "    }\n",
              "\n",
              "    .colab-df-convert {\n",
              "      background-color: #E8F0FE;\n",
              "      border: none;\n",
              "      border-radius: 50%;\n",
              "      cursor: pointer;\n",
              "      display: none;\n",
              "      fill: #1967D2;\n",
              "      height: 32px;\n",
              "      padding: 0 0 0 0;\n",
              "      width: 32px;\n",
              "    }\n",
              "\n",
              "    .colab-df-convert:hover {\n",
              "      background-color: #E2EBFA;\n",
              "      box-shadow: 0px 1px 2px rgba(60, 64, 67, 0.3), 0px 1px 3px 1px rgba(60, 64, 67, 0.15);\n",
              "      fill: #174EA6;\n",
              "    }\n",
              "\n",
              "    [theme=dark] .colab-df-convert {\n",
              "      background-color: #3B4455;\n",
              "      fill: #D2E3FC;\n",
              "    }\n",
              "\n",
              "    [theme=dark] .colab-df-convert:hover {\n",
              "      background-color: #434B5C;\n",
              "      box-shadow: 0px 1px 3px 1px rgba(0, 0, 0, 0.15);\n",
              "      filter: drop-shadow(0px 1px 2px rgba(0, 0, 0, 0.3));\n",
              "      fill: #FFFFFF;\n",
              "    }\n",
              "  </style>\n",
              "\n",
              "      <script>\n",
              "        const buttonEl =\n",
              "          document.querySelector('#df-2be2350f-4f3b-422a-8ee2-1e167a70eba4 button.colab-df-convert');\n",
              "        buttonEl.style.display =\n",
              "          google.colab.kernel.accessAllowed ? 'block' : 'none';\n",
              "\n",
              "        async function convertToInteractive(key) {\n",
              "          const element = document.querySelector('#df-2be2350f-4f3b-422a-8ee2-1e167a70eba4');\n",
              "          const dataTable =\n",
              "            await google.colab.kernel.invokeFunction('convertToInteractive',\n",
              "                                                     [key], {});\n",
              "          if (!dataTable) return;\n",
              "\n",
              "          const docLinkHtml = 'Like what you see? Visit the ' +\n",
              "            '<a target=\"_blank\" href=https://colab.research.google.com/notebooks/data_table.ipynb>data table notebook</a>'\n",
              "            + ' to learn more about interactive tables.';\n",
              "          element.innerHTML = '';\n",
              "          dataTable['output_type'] = 'display_data';\n",
              "          await google.colab.output.renderOutput(dataTable, element);\n",
              "          const docLink = document.createElement('div');\n",
              "          docLink.innerHTML = docLinkHtml;\n",
              "          element.appendChild(docLink);\n",
              "        }\n",
              "      </script>\n",
              "    </div>\n",
              "  </div>\n",
              "  "
            ]
          },
          "metadata": {},
          "execution_count": 30
        }
      ],
      "source": [
        "disability_test_history_df = pd.DataFrame({\n",
        "    'test_loss': disability_test_history[0],\n",
        "    'test_binary_accuracy': disability_test_history[1],\n",
        "    'test_precision': disability_test_history[2],\n",
        "    'test_recall': disability_test_history[3],\n",
        "    'test_f1_score': disability_test_history[4]})\n",
        "disability_results_df = pd.concat([pd.DataFrame(disability_history.history), disability_test_history_df], axis=0)\n",
        "disability_results_df"
      ]
    },
    {
      "cell_type": "code",
      "execution_count": 32,
      "id": "7eb575fb",
      "metadata": {
        "id": "7eb575fb"
      },
      "outputs": [],
      "source": [
        "disability_results_df.to_csv('drive/MyDrive/experiment_results/BERTweet_Disability_Only.csv')"
      ]
    },
    {
      "cell_type": "markdown",
      "source": [
        "## Sanity Check: Make sure we're able to load the weights from the best disability_model\n",
        "\n",
        "Let's build another model and evaluate on the test set. Since we haven't loaded the weights yet, it should do poorly:"
      ],
      "metadata": {
        "id": "3d6xJDDJ6TFf"
      },
      "id": "3d6xJDDJ6TFf"
    },
    {
      "cell_type": "code",
      "source": [
        "# BEFORE LOADING\n",
        "test_loaded_model5 = build_bertweet_cls_model(num_train_layers=6, learning_rate=1e-5)\n",
        "test_loaded_model5.evaluate(bertweet_test_inputs_disability, y_test_disability)"
      ],
      "metadata": {
        "colab": {
          "base_uri": "https://localhost:8080/"
        },
        "id": "PUWwI4C45S0w",
        "outputId": "2af895eb-993c-4b9b-e5e7-3eb959040c69"
      },
      "id": "PUWwI4C45S0w",
      "execution_count": 33,
      "outputs": [
        {
          "output_type": "stream",
          "name": "stdout",
          "text": [
            "117/117 [==============================] - 35s 271ms/step - loss: 1.0283 - binary_accuracy: 0.2017 - precision_1: 0.2018 - recall_1: 0.9934 - f1_score: 0.3354\n"
          ]
        },
        {
          "output_type": "execute_result",
          "data": {
            "text/plain": [
              "[1.0283199548721313,\n",
              " 0.2017144411802292,\n",
              " 0.2017708569765091,\n",
              " 0.9933949708938599,\n",
              " array([0.3354148], dtype=float32)]"
            ]
          },
          "metadata": {},
          "execution_count": 33
        }
      ]
    },
    {
      "cell_type": "markdown",
      "source": [
        "Now let's load the weights from the best disability_model and evaluate on the test set again. The results should match exactly what we got when we first evaluated disability_model on the test set:"
      ],
      "metadata": {
        "id": "uVyvOIc_6yme"
      },
      "id": "uVyvOIc_6yme"
    },
    {
      "cell_type": "code",
      "source": [
        "# AFTER LOADING\n",
        "f1_score = tfa.metrics.F1Score(1, threshold = 0.5)\n",
        "test_loaded_model5.load_weights('drive/MyDrive/model_checkpoints/verybestdisabilityonly.hdf5')\n",
        "test_loaded_model5.compile(optimizer=tf.keras.optimizers.legacy.Adam(learning_rate=1e-5),\n",
        "                                 loss=tf.keras.losses.BinaryCrossentropy(from_logits=False), \n",
        "                                 metrics=[tf.keras.metrics.BinaryAccuracy(),\n",
        "                                        tf.keras.metrics.Precision(),\n",
        "                                        tf.keras.metrics.Recall(),\n",
        "                                        f1_score])\n",
        "test_loaded_model5.evaluate(bertweet_test_inputs_disability, y_test_disability)"
      ],
      "metadata": {
        "colab": {
          "base_uri": "https://localhost:8080/"
        },
        "outputId": "357808f0-1362-4b91-c193-b8e9a1ec6685",
        "id": "WIN-id605Tp_"
      },
      "execution_count": 34,
      "outputs": [
        {
          "output_type": "stream",
          "name": "stdout",
          "text": [
            "117/117 [==============================] - 35s 273ms/step - loss: 0.4130 - binary_accuracy: 0.8339 - precision_2: 0.5619 - recall_2: 0.8217 - f1_score: 0.6674\n"
          ]
        },
        {
          "output_type": "execute_result",
          "data": {
            "text/plain": [
              "[0.4130224287509918,\n",
              " 0.8339137434959412,\n",
              " 0.5618789792060852,\n",
              " 0.8216644525527954,\n",
              " array([0.66738194], dtype=float32)]"
            ]
          },
          "metadata": {},
          "execution_count": 34
        }
      ],
      "id": "WIN-id605Tp_"
    },
    {
      "cell_type": "markdown",
      "source": [
        "From the disability_test_history below, we can see that we got the same results after loading the weights. This means that we successfully saved and loaded the weights! Yay!"
      ],
      "metadata": {
        "id": "o8HqC9L97H40"
      },
      "id": "o8HqC9L97H40"
    },
    {
      "cell_type": "code",
      "source": [
        "disability_test_history"
      ],
      "metadata": {
        "colab": {
          "base_uri": "https://localhost:8080/"
        },
        "id": "t5Vz1foF6M32",
        "outputId": "43d84f3c-6895-47ef-8ad8-22de04468c63"
      },
      "id": "t5Vz1foF6M32",
      "execution_count": 35,
      "outputs": [
        {
          "output_type": "execute_result",
          "data": {
            "text/plain": [
              "[0.4130224287509918,\n",
              " 0.8339137434959412,\n",
              " 0.5618789792060852,\n",
              " 0.8216644525527954,\n",
              " array([0.66738194], dtype=float32)]"
            ]
          },
          "metadata": {},
          "execution_count": 35
        }
      ]
    }
  ],
  "metadata": {
    "kernelspec": {
      "display_name": "Python 3.10 (tensorflow)",
      "language": "python",
      "name": "w266tensorflow"
    },
    "language_info": {
      "codemirror_mode": {
        "name": "ipython",
        "version": 3
      },
      "file_extension": ".py",
      "mimetype": "text/x-python",
      "name": "python",
      "nbconvert_exporter": "python",
      "pygments_lexer": "ipython3",
      "version": "3.10.10"
    },
    "colab": {
      "provenance": []
    },
    "accelerator": "GPU",
    "gpuClass": "standard"
  },
  "nbformat": 4,
  "nbformat_minor": 5
}