{
 "cells": [
  {
   "cell_type": "markdown",
   "id": "2a45853f",
   "metadata": {},
   "source": [
    "## Imports"
   ]
  },
  {
   "cell_type": "code",
   "execution_count": 1,
   "id": "a04b186a",
   "metadata": {},
   "outputs": [
    {
     "name": "stderr",
     "output_type": "stream",
     "text": [
      "/Users/cabanela/anaconda3/envs/w266tensorflow/lib/python3.10/site-packages/tensorflow_addons/utils/ensure_tf_install.py:53: UserWarning: Tensorflow Addons supports using Python ops for all Tensorflow versions above or equal to 2.7.0 and strictly below 2.10.0 (nightly versions are not supported). \n",
      " The versions of TensorFlow you are currently using is 2.12.0 and is not supported. \n",
      "Some things might work, some things might not.\n",
      "If you were to encounter a bug, do not file an issue.\n",
      "If you want to make sure you're using a tested and supported configuration, either change the TensorFlow version or the TensorFlow Addons's version. \n",
      "You can find the compatibility matrix in TensorFlow Addon's readme:\n",
      "https://github.com/tensorflow/addons\n",
      "  warnings.warn(\n"
     ]
    }
   ],
   "source": [
    "import pandas as pd\n",
    "import numpy as np\n",
    "import matplotlib.pyplot as plt\n",
    "\n",
    "import tensorflow as tf\n",
    "import tensorflow_addons as tfa\n",
    "import transformers\n",
    "from transformers import AutoTokenizer,TFRobertaModel\n",
    "\n",
    "import pytz\n",
    "import datetime"
   ]
  },
  {
   "cell_type": "code",
   "execution_count": 2,
   "id": "eb7a17d8",
   "metadata": {},
   "outputs": [
    {
     "name": "stdout",
     "output_type": "stream",
     "text": [
      "REPLICAS:  1\n"
     ]
    }
   ],
   "source": [
    "# Detect hardware, return appropriate distribution strategy\n",
    "try:\n",
    "    tpu = tf.distribute.cluster_resolver.TPUClusterResolver()\n",
    "    print('Running on TPU ', tpu.master())\n",
    "except ValueError:\n",
    "    tpu = None\n",
    "\n",
    "if tpu:\n",
    "    tf.config.experimental_connect_to_cluster(tpu)\n",
    "    tf.tpu.experimental.initialize_tpu_system(tpu)\n",
    "    strategy = tf.distribute.experimental.TPUStrategy(tpu)\n",
    "else:\n",
    "    # Default distribution strategy in Tensorflow. Works on CPU and single GPU.\n",
    "    strategy = tf.distribute.get_strategy()\n",
    "\n",
    "print(\"REPLICAS: \", strategy.num_replicas_in_sync)"
   ]
  },
  {
   "cell_type": "code",
   "execution_count": 3,
   "id": "8be64335",
   "metadata": {},
   "outputs": [
    {
     "name": "stdout",
     "output_type": "stream",
     "text": [
      "Python Platform: macOS-12.5-arm64-arm-64bit\n",
      "Tensor Flow Version: 2.12.0\n",
      "Keras Version: 2.12.0\n",
      "\n",
      "Python 3.10.10 | packaged by conda-forge | (main, Mar 24 2023, 20:12:31) [Clang 14.0.6 ]\n",
      "Pandas 2.0.0\n",
      "Scikit-Learn 1.2.2\n",
      "GPU is available\n"
     ]
    }
   ],
   "source": [
    "# What version of Python do you have?\n",
    "import sys\n",
    "import platform\n",
    "import sklearn as sk\n",
    "\n",
    "print(f\"Python Platform: {platform.platform()}\")\n",
    "print(f\"Tensor Flow Version: {tf.__version__}\")\n",
    "print(f\"Keras Version: {tf.keras.__version__}\")\n",
    "print()\n",
    "print(f\"Python {sys.version}\")\n",
    "print(f\"Pandas {pd.__version__}\")\n",
    "print(f\"Scikit-Learn {sk.__version__}\")\n",
    "gpu = len(tf.config.list_physical_devices('GPU'))>0\n",
    "print(\"GPU is\", \"available\" if gpu else \"NOT AVAILABLE\")"
   ]
  },
  {
   "cell_type": "markdown",
   "id": "e30a75fa",
   "metadata": {},
   "source": [
    "## Functions and Constants"
   ]
  },
  {
   "cell_type": "code",
   "execution_count": 4,
   "id": "a39e90da",
   "metadata": {},
   "outputs": [],
   "source": [
    "def to_arrays(df):\n",
    "  X = df['comment_text'].to_numpy()\n",
    "  y = df['toxicity_binary'].to_numpy()\n",
    "  return X, y\n",
    "\n",
    "def load_data(group):\n",
    "  df_train = pd.read_csv('data/' + group + '-dataset-train.csv')\n",
    "  df_val = pd.read_csv('data/' + group + '-dataset-val.csv')\n",
    "  df_test = pd.read_csv('data/' + group + '-dataset-test.csv')\n",
    "\n",
    "  X_train, y_train = to_arrays(df_train)\n",
    "  X_val, y_val = to_arrays(df_val)\n",
    "  X_test, y_test = to_arrays(df_test)\n",
    "\n",
    "  return X_train, y_train, X_test, y_test, X_val, y_val"
   ]
  },
  {
   "cell_type": "code",
   "execution_count": 5,
   "id": "0b2d5f5f",
   "metadata": {},
   "outputs": [],
   "source": [
    "MAX_SEQUENCE_LENGTH = 128"
   ]
  },
  {
   "cell_type": "code",
   "execution_count": 6,
   "id": "18669a07",
   "metadata": {},
   "outputs": [],
   "source": [
    "def tokenizing_pipeline(X, tokenizer):\n",
    "  bert_tokenized = tokenizer(list(X),\n",
    "                max_length=MAX_SEQUENCE_LENGTH,\n",
    "                truncation=True,\n",
    "                padding='max_length',\n",
    "                return_tensors='tf')\n",
    "  bert_inputs = [bert_tokenized.input_ids,\n",
    "                 bert_tokenized.token_type_ids,\n",
    "                 bert_tokenized.attention_mask]\n",
    "  return bert_inputs"
   ]
  },
  {
   "cell_type": "code",
   "execution_count": 7,
   "id": "92359852",
   "metadata": {},
   "outputs": [],
   "source": [
    "def build_bertweet_cls_model(max_sequence_length=MAX_SEQUENCE_LENGTH,\n",
    "                          hidden_size=100, \n",
    "                          dropout=0.3,\n",
    "                          learning_rate=0.0001,\n",
    "                          num_train_layers=0):\n",
    "\n",
    "    # freeze all pre-trained BERTweet layers\n",
    "    if num_train_layers == 0:\n",
    "      bertweet_model.trainable = False\n",
    "\n",
    "    # partially freeze the first n pre-trained BERTweet layers\n",
    "    else:\n",
    "        for layer_num in range(num_train_layers):\n",
    "            bertweet_model.roberta.encoder.layer[layer_num].trainable = False\n",
    "    \n",
    "    input_ids = tf.keras.layers.Input(shape=(max_sequence_length,), dtype=tf.int64, name='input_ids_layer')\n",
    "    token_type_ids = tf.keras.layers.Input(shape=(max_sequence_length,), dtype=tf.int64, name='token_type_ids_layer')\n",
    "    attention_mask = tf.keras.layers.Input(shape=(max_sequence_length,), dtype=tf.int64, name='attention_mask_layer')\n",
    "\n",
    "    bert_inputs = {'input_ids': input_ids,\n",
    "                   'token_type_ids': token_type_ids,\n",
    "                   'attention_mask': attention_mask}      \n",
    "\n",
    "    # Use the same bertweet model instance\n",
    "    bert_out = bertweet_model(bert_inputs)\n",
    "\n",
    "    cls_token = bert_out[0][:, 0, :]\n",
    "\n",
    "    \n",
    "    hidden = tf.keras.layers.Dense(hidden_size, activation='relu', name='hidden_layer')(cls_token)\n",
    "\n",
    "    hidden = tf.keras.layers.Dropout(dropout)(hidden)  \n",
    "\n",
    "    f1_score = tfa.metrics.F1Score(1, threshold = 0.5)\n",
    "\n",
    "    classification = tf.keras.layers.Dense(1, activation='sigmoid', name='classification_layer')(hidden)\n",
    "    \n",
    "    classification_model = tf.keras.Model(inputs=[input_ids, token_type_ids, attention_mask], outputs=[classification])\n",
    "    \n",
    "    classification_model.compile(optimizer=tf.keras.optimizers.legacy.Adam(learning_rate=learning_rate),\n",
    "                                 loss=tf.keras.losses.BinaryCrossentropy(from_logits=False), \n",
    "                                 metrics=[tf.keras.metrics.BinaryAccuracy(),\n",
    "                                        tf.keras.metrics.Precision(),\n",
    "                                        tf.keras.metrics.Recall(),\n",
    "                                        f1_score])\n",
    "\n",
    "    return classification_model"
   ]
  },
  {
   "cell_type": "markdown",
   "id": "15bd2e96",
   "metadata": {},
   "source": [
    "## Load Data"
   ]
  },
  {
   "cell_type": "code",
   "execution_count": 8,
   "id": "a08de687",
   "metadata": {},
   "outputs": [],
   "source": [
    "X_train_disability, y_train_disability, X_test_disability, y_test_disability, X_val_disability, y_val_disability = load_data('disability')"
   ]
  },
  {
   "cell_type": "code",
   "execution_count": 9,
   "id": "72f914f2",
   "metadata": {
    "scrolled": true
   },
   "outputs": [
    {
     "data": {
      "text/plain": [
       "\"Doesn't work? How do we know? When the country is at the point of legalizing silencers, and the right of the mentally ill to own assault weapons, it's laughable to think we have ANY gun controls.\""
      ]
     },
     "execution_count": 9,
     "metadata": {},
     "output_type": "execute_result"
    }
   ],
   "source": [
    "X_train_disability[0]"
   ]
  },
  {
   "cell_type": "code",
   "execution_count": 10,
   "id": "f8f4ed6c",
   "metadata": {},
   "outputs": [
    {
     "data": {
      "text/plain": [
       "'LoL. The mental retardation of the (d)onkeys is stunning.\\nThey propose the craziest whackjob laws without one regard to the Constitution.'"
      ]
     },
     "execution_count": 10,
     "metadata": {},
     "output_type": "execute_result"
    }
   ],
   "source": [
    "X_train_disability[1]"
   ]
  },
  {
   "cell_type": "code",
   "execution_count": 11,
   "id": "fce3628f",
   "metadata": {},
   "outputs": [],
   "source": [
    "X_train_race, y_train_race, X_test_race, y_test_race, X_val_race, y_val_race = load_data('race')"
   ]
  },
  {
   "cell_type": "code",
   "execution_count": 12,
   "id": "52601b32",
   "metadata": {},
   "outputs": [
    {
     "data": {
      "text/plain": [
       "\"So he sends in a carrier group and now this ?\\nLike the head spinning double fake on Dodd-Frank/Glass-Steadgall one doesn't know how to interpret Trump.\\n\\nThe one thing he has been consistent on is Israel's continued exploitation of the Palestinians.\\nAIPAC/Israel continues to have a stranglehold on the Presidency.\\n\\nSad ...\""
      ]
     },
     "execution_count": 12,
     "metadata": {},
     "output_type": "execute_result"
    }
   ],
   "source": [
    "X_train_race[0]"
   ]
  },
  {
   "cell_type": "code",
   "execution_count": 13,
   "id": "c7eec67b",
   "metadata": {},
   "outputs": [
    {
     "data": {
      "text/plain": [
       "'I\\'ve read enough about the white nationalist movement to learn that the connection is racial and racist. Their thinking is that it makes no sense to be enemies with Russia, because the white people need to unite against the \"others\".'"
      ]
     },
     "execution_count": 13,
     "metadata": {},
     "output_type": "execute_result"
    }
   ],
   "source": [
    "X_train_race[1]"
   ]
  },
  {
   "cell_type": "markdown",
   "id": "c8ae7e1d",
   "metadata": {},
   "source": [
    "## Load BERTweet Model from_pretrained()"
   ]
  },
  {
   "cell_type": "code",
   "execution_count": 14,
   "id": "b08b040a",
   "metadata": {},
   "outputs": [
    {
     "name": "stderr",
     "output_type": "stream",
     "text": [
      "Special tokens have been added in the vocabulary, make sure the associated word embeddings are fine-tuned or trained.\n"
     ]
    },
    {
     "name": "stdout",
     "output_type": "stream",
     "text": [
      "Metal device set to: Apple M1 Pro\n"
     ]
    },
    {
     "name": "stderr",
     "output_type": "stream",
     "text": [
      "Some layers from the model checkpoint at vinai/bertweet-base were not used when initializing TFRobertaModel: ['lm_head']\n",
      "- This IS expected if you are initializing TFRobertaModel from the checkpoint of a model trained on another task or with another architecture (e.g. initializing a BertForSequenceClassification model from a BertForPreTraining model).\n",
      "- This IS NOT expected if you are initializing TFRobertaModel from the checkpoint of a model that you expect to be exactly identical (initializing a BertForSequenceClassification model from a BertForSequenceClassification model).\n",
      "All the layers of TFRobertaModel were initialized from the model checkpoint at vinai/bertweet-base.\n",
      "If your task is similar to the task the model of the checkpoint was trained on, you can already use TFRobertaModel for predictions without further training.\n"
     ]
    }
   ],
   "source": [
    "# For transformers v4.x+:\n",
    "bertweet_tokenizer = AutoTokenizer.from_pretrained(\"vinai/bertweet-base\", use_fast=False)\n",
    "bertweet_model = TFRobertaModel.from_pretrained(\"vinai/bertweet-base\")"
   ]
  },
  {
   "cell_type": "code",
   "execution_count": 15,
   "id": "eceecee1",
   "metadata": {},
   "outputs": [
    {
     "name": "stdout",
     "output_type": "stream",
     "text": [
      "Model: \"tf_roberta_model\"\n",
      "_________________________________________________________________\n",
      " Layer (type)                Output Shape              Param #   \n",
      "=================================================================\n",
      " roberta (TFRobertaMainLayer  multiple                 134899968 \n",
      " )                                                               \n",
      "                                                                 \n",
      "=================================================================\n",
      "Total params: 134,899,968\n",
      "Trainable params: 134,899,968\n",
      "Non-trainable params: 0\n",
      "_________________________________________________________________\n"
     ]
    }
   ],
   "source": [
    "bertweet_model.summary()"
   ]
  },
  {
   "cell_type": "markdown",
   "id": "da37cd16",
   "metadata": {},
   "source": [
    "## Tokenize Data Splits"
   ]
  },
  {
   "cell_type": "code",
   "execution_count": 16,
   "id": "a0f01c94",
   "metadata": {},
   "outputs": [],
   "source": [
    "bertweet_train_inputs_disability = tokenizing_pipeline(X_train_disability, bertweet_tokenizer)\n",
    "bertweet_test_inputs_disability = tokenizing_pipeline(X_test_disability, bertweet_tokenizer)\n",
    "bertweet_val_inputs_disability = tokenizing_pipeline(X_val_disability, bertweet_tokenizer)\n",
    "\n",
    "bertweet_train_inputs_race = tokenizing_pipeline(X_train_race, bertweet_tokenizer)\n",
    "bertweet_test_inputs_race = tokenizing_pipeline(X_test_race, bertweet_tokenizer)\n",
    "bertweet_val_inputs_race = tokenizing_pipeline(X_val_race, bertweet_tokenizer)"
   ]
  },
  {
   "cell_type": "markdown",
   "id": "30c5adff",
   "metadata": {},
   "source": [
    "# Calculate Class Weights for Each Identity Group"
   ]
  },
  {
   "cell_type": "markdown",
   "id": "7daaf600",
   "metadata": {},
   "source": [
    "Get class weights for disability train set:"
   ]
  },
  {
   "cell_type": "code",
   "execution_count": 17,
   "id": "d4876ad5",
   "metadata": {},
   "outputs": [
    {
     "name": "stdout",
     "output_type": "stream",
     "text": [
      "Disability Examples:\n",
      "    Total: 12798\n",
      "    Positive: 2758 (21.55% of total)\n",
      "\n",
      "Disability Weight for class 0: 0.64\n",
      "Disability Weight for class 1: 2.32\n"
     ]
    }
   ],
   "source": [
    "neg, pos = np.bincount(y_train_disability)\n",
    "total = neg + pos\n",
    "print('Disability Examples:\\n    Total: {}\\n    Positive: {} ({:.2f}% of total)\\n'.format(\n",
    "    total, pos, 100 * pos / total))\n",
    "\n",
    "# Scaling by total/2 helps keep the loss to a similar magnitude.\n",
    "# The sum of the weights of all examples stays the same.\n",
    "weight_for_0 = (1 / neg) * (total / 2.0)\n",
    "weight_for_1 = (1 / pos) * (total / 2.0)\n",
    "\n",
    "disability_class_weight = {0: weight_for_0, 1: weight_for_1}\n",
    "\n",
    "print('Disability Weight for class 0: {:.2f}'.format(weight_for_0))\n",
    "print('Disability Weight for class 1: {:.2f}'.format(weight_for_1))"
   ]
  },
  {
   "cell_type": "markdown",
   "id": "1fe4a385",
   "metadata": {},
   "source": [
    "Get class weights for race train set:"
   ]
  },
  {
   "cell_type": "code",
   "execution_count": 18,
   "id": "a16e75ba",
   "metadata": {},
   "outputs": [
    {
     "name": "stdout",
     "output_type": "stream",
     "text": [
      "Race Examples:\n",
      "    Total: 12798\n",
      "    Positive: 2621 (20.48% of total)\n",
      "\n",
      "Race Weight for class 0: 0.63\n",
      "Race Weight for class 1: 2.44\n"
     ]
    }
   ],
   "source": [
    "neg, pos = np.bincount(y_train_race)\n",
    "total = neg + pos\n",
    "print('Race Examples:\\n    Total: {}\\n    Positive: {} ({:.2f}% of total)\\n'.format(\n",
    "    total, pos, 100 * pos / total))\n",
    "\n",
    "# Scaling by total/2 helps keep the loss to a similar magnitude.\n",
    "# The sum of the weights of all examples stays the same.\n",
    "weight_for_0 = (1 / neg) * (total / 2.0)\n",
    "weight_for_1 = (1 / pos) * (total / 2.0)\n",
    "\n",
    "race_class_weight = {0: weight_for_0, 1: weight_for_1}\n",
    "\n",
    "print('Race Weight for class 0: {:.2f}'.format(weight_for_0))\n",
    "print('Race Weight for class 1: {:.2f}'.format(weight_for_1))"
   ]
  },
  {
   "cell_type": "markdown",
   "id": "9e428fbf",
   "metadata": {},
   "source": [
    "# Build Disability Model"
   ]
  },
  {
   "cell_type": "code",
   "execution_count": 19,
   "id": "e624a503",
   "metadata": {},
   "outputs": [
    {
     "name": "stdout",
     "output_type": "stream",
     "text": [
      "Model: \"model\"\n",
      "__________________________________________________________________________________________________\n",
      " Layer (type)                   Output Shape         Param #     Connected to                     \n",
      "==================================================================================================\n",
      " attention_mask_layer (InputLay  [(None, 128)]       0           []                               \n",
      " er)                                                                                              \n",
      "                                                                                                  \n",
      " input_ids_layer (InputLayer)   [(None, 128)]        0           []                               \n",
      "                                                                                                  \n",
      " token_type_ids_layer (InputLay  [(None, 128)]       0           []                               \n",
      " er)                                                                                              \n",
      "                                                                                                  \n",
      " tf_roberta_model (TFRobertaMod  TFBaseModelOutputWi  134899968  ['attention_mask_layer[0][0]',   \n",
      " el)                            thPoolingAndCrossAt               'input_ids_layer[0][0]',        \n",
      "                                tentions(last_hidde               'token_type_ids_layer[0][0]']   \n",
      "                                n_state=(None, 128,                                               \n",
      "                                 768),                                                            \n",
      "                                 pooler_output=(Non                                               \n",
      "                                e, 768),                                                          \n",
      "                                 past_key_values=No                                               \n",
      "                                ne, hidden_states=N                                               \n",
      "                                one, attentions=Non                                               \n",
      "                                e, cross_attentions                                               \n",
      "                                =None)                                                            \n",
      "                                                                                                  \n",
      " tf.__operators__.getitem (Slic  (None, 768)         0           ['tf_roberta_model[0][0]']       \n",
      " ingOpLambda)                                                                                     \n",
      "                                                                                                  \n",
      " hidden_layer (Dense)           (None, 100)          76900       ['tf.__operators__.getitem[0][0]'\n",
      "                                                                 ]                                \n",
      "                                                                                                  \n",
      " dropout_37 (Dropout)           (None, 100)          0           ['hidden_layer[0][0]']           \n",
      "                                                                                                  \n",
      " classification_layer (Dense)   (None, 1)            101         ['dropout_37[0][0]']             \n",
      "                                                                                                  \n",
      "==================================================================================================\n",
      "Total params: 134,976,969\n",
      "Trainable params: 92,449,737\n",
      "Non-trainable params: 42,527,232\n",
      "__________________________________________________________________________________________________\n"
     ]
    }
   ],
   "source": [
    "disability_model = build_bertweet_cls_model(num_train_layers=6, learning_rate=1e-4)\n",
    "disability_model.summary()"
   ]
  },
  {
   "cell_type": "markdown",
   "id": "892a8ad7",
   "metadata": {},
   "source": [
    "# Build Race Model"
   ]
  },
  {
   "cell_type": "code",
   "execution_count": 20,
   "id": "85f00c95",
   "metadata": {},
   "outputs": [
    {
     "name": "stdout",
     "output_type": "stream",
     "text": [
      "Model: \"model_1\"\n",
      "__________________________________________________________________________________________________\n",
      " Layer (type)                   Output Shape         Param #     Connected to                     \n",
      "==================================================================================================\n",
      " attention_mask_layer (InputLay  [(None, 128)]       0           []                               \n",
      " er)                                                                                              \n",
      "                                                                                                  \n",
      " input_ids_layer (InputLayer)   [(None, 128)]        0           []                               \n",
      "                                                                                                  \n",
      " token_type_ids_layer (InputLay  [(None, 128)]       0           []                               \n",
      " er)                                                                                              \n",
      "                                                                                                  \n",
      " tf_roberta_model (TFRobertaMod  TFBaseModelOutputWi  134899968  ['attention_mask_layer[0][0]',   \n",
      " el)                            thPoolingAndCrossAt               'input_ids_layer[0][0]',        \n",
      "                                tentions(last_hidde               'token_type_ids_layer[0][0]']   \n",
      "                                n_state=(None, 128,                                               \n",
      "                                 768),                                                            \n",
      "                                 pooler_output=(Non                                               \n",
      "                                e, 768),                                                          \n",
      "                                 past_key_values=No                                               \n",
      "                                ne, hidden_states=N                                               \n",
      "                                one, attentions=Non                                               \n",
      "                                e, cross_attentions                                               \n",
      "                                =None)                                                            \n",
      "                                                                                                  \n",
      " tf.__operators__.getitem_1 (Sl  (None, 768)         0           ['tf_roberta_model[1][0]']       \n",
      " icingOpLambda)                                                                                   \n",
      "                                                                                                  \n",
      " hidden_layer (Dense)           (None, 100)          76900       ['tf.__operators__.getitem_1[0][0\n",
      "                                                                 ]']                              \n",
      "                                                                                                  \n",
      " dropout_38 (Dropout)           (None, 100)          0           ['hidden_layer[0][0]']           \n",
      "                                                                                                  \n",
      " classification_layer (Dense)   (None, 1)            101         ['dropout_38[0][0]']             \n",
      "                                                                                                  \n",
      "==================================================================================================\n",
      "Total params: 134,976,969\n",
      "Trainable params: 92,449,737\n",
      "Non-trainable params: 42,527,232\n",
      "__________________________________________________________________________________________________\n"
     ]
    }
   ],
   "source": [
    "race_model = build_bertweet_cls_model(num_train_layers=6, learning_rate=1e-5)\n",
    "race_model.summary()"
   ]
  },
  {
   "cell_type": "markdown",
   "id": "d095bab8",
   "metadata": {},
   "source": [
    "# Record Start Time"
   ]
  },
  {
   "cell_type": "code",
   "execution_count": 21,
   "id": "4b42b4eb",
   "metadata": {},
   "outputs": [
    {
     "name": "stdout",
     "output_type": "stream",
     "text": [
      "2023-04-11T09:19:09.586282-07:00\n"
     ]
    }
   ],
   "source": [
    "america_la_tz = pytz.timezone('America/Los_Angeles')\n",
    "start_time = datetime.datetime.now(tz=america_la_tz).isoformat()\n",
    "print(str(start_time))"
   ]
  },
  {
   "cell_type": "markdown",
   "id": "371ff2b1",
   "metadata": {},
   "source": [
    "# Round 1: Train Disability Model for 2 epochs"
   ]
  },
  {
   "cell_type": "code",
   "execution_count": 22,
   "id": "31954ee0",
   "metadata": {},
   "outputs": [
    {
     "name": "stdout",
     "output_type": "stream",
     "text": [
      "Epoch 1/2\n"
     ]
    },
    {
     "name": "stderr",
     "output_type": "stream",
     "text": [
      "2023-04-11 09:19:09.638289: W tensorflow/tsl/platform/profile_utils/cpu_utils.cc:128] Failed to get CPU frequency: 0 Hz\n"
     ]
    },
    {
     "name": "stdout",
     "output_type": "stream",
     "text": [
      "WARNING:tensorflow:Gradients do not exist for variables ['tf_roberta_model/roberta/pooler/dense/kernel:0', 'tf_roberta_model/roberta/pooler/dense/bias:0'] when minimizing the loss. If you're using `model.compile()`, did you forget to provide a `loss` argument?\n",
      "WARNING:tensorflow:Gradients do not exist for variables ['tf_roberta_model/roberta/pooler/dense/kernel:0', 'tf_roberta_model/roberta/pooler/dense/bias:0'] when minimizing the loss. If you're using `model.compile()`, did you forget to provide a `loss` argument?\n",
      "400/400 [==============================] - 460s 1s/step - loss: 0.5308 - binary_accuracy: 0.7354 - precision: 0.4309 - recall: 0.7099 - f1_score: 0.5363 - val_loss: 0.4499 - val_binary_accuracy: 0.8360 - val_precision: 0.5825 - val_recall: 0.7844 - val_f1_score: 0.6686\n",
      "Epoch 2/2\n",
      "400/400 [==============================] - 439s 1s/step - loss: 0.4281 - binary_accuracy: 0.7953 - precision: 0.5166 - recall: 0.7803 - f1_score: 0.6216 - val_loss: 0.3950 - val_binary_accuracy: 0.8233 - val_precision: 0.5562 - val_recall: 0.8022 - val_f1_score: 0.6570\n"
     ]
    }
   ],
   "source": [
    "disability_round1_history = disability_model.fit(bertweet_train_inputs_disability,\n",
    "                                          y_train_disability,\n",
    "                                          validation_data=(bertweet_val_inputs_disability, y_val_disability),\n",
    "                                          batch_size=32,\n",
    "                                          epochs=2,\n",
    "                                          class_weight=disability_class_weight)"
   ]
  },
  {
   "cell_type": "code",
   "execution_count": 23,
   "id": "bb4a2081",
   "metadata": {},
   "outputs": [
    {
     "data": {
      "image/png": "[encoded data removed]",
      "text/plain": [
       "<Figure size 640x480 with 1 Axes>"
      ]
     },
     "metadata": {},
     "output_type": "display_data"
    }
   ],
   "source": [
    "history = pd.DataFrame(disability_round1_history.history)\n",
    "plt.ylabel('Loss')\n",
    "plt.xlabel('Epoch')\n",
    "plt.title('Round 1: Disability Train vs Val Loss for Half-Frozen Bertweet')\n",
    "plt.xticks(range(0, len(history['loss'] + 1)))\n",
    "plt.plot(history['loss'], label=\"training\", marker='o')\n",
    "plt.plot(history['val_loss'], label=\"validation\", marker='o')\n",
    "plt.legend()\n",
    "plt.show()"
   ]
  },
  {
   "cell_type": "code",
   "execution_count": 24,
   "id": "b28efb56",
   "metadata": {},
   "outputs": [
    {
     "data": {
      "image/png": "[encoded data removed]",
      "text/plain": [
       "<Figure size 640x480 with 1 Axes>"
      ]
     },
     "metadata": {},
     "output_type": "display_data"
    }
   ],
   "source": [
    "history = pd.DataFrame(disability_round1_history.history)\n",
    "plt.ylabel('F1 Score')\n",
    "plt.xlabel('Epoch')\n",
    "plt.title('Round 1: Disability Train vs Val F1 Score for Half-Frozen Bertweet')\n",
    "plt.xticks(range(0, len(history['f1_score'] + 1)))\n",
    "plt.plot(history['f1_score'], label=\"training\", marker='o')\n",
    "plt.plot(history['val_f1_score'], label=\"validation\", marker='o')\n",
    "plt.legend()\n",
    "plt.show()"
   ]
  },
  {
   "cell_type": "code",
   "execution_count": 25,
   "id": "e6a88bef",
   "metadata": {},
   "outputs": [
    {
     "data": {
      "image/png": "[encoded data removed]",
      "text/plain": [
       "<Figure size 640x480 with 1 Axes>"
      ]
     },
     "metadata": {},
     "output_type": "display_data"
    }
   ],
   "source": [
    "history = pd.DataFrame(disability_round1_history.history)\n",
    "plt.ylabel('Binary Accuracy')\n",
    "plt.xlabel('Epoch')\n",
    "plt.title('Round 1: Disability Train vs Val Binary Accuracy for Half-Frozen Bertweet')\n",
    "plt.xticks(range(0, len(history['binary_accuracy'] + 1)))\n",
    "plt.plot(history['binary_accuracy'], label=\"training\", marker='o')\n",
    "plt.plot(history['val_binary_accuracy'], label=\"validation\", marker='o')\n",
    "plt.legend()\n",
    "plt.show()"
   ]
  },
  {
   "cell_type": "markdown",
   "id": "9f2549f4",
   "metadata": {},
   "source": [
    "### Change learning rate for disability_model to something much smaller for future training steps and recompile:"
   ]
  },
  {
   "cell_type": "code",
   "execution_count": 26,
   "id": "f5a333f7",
   "metadata": {},
   "outputs": [],
   "source": [
    "f1_score = tfa.metrics.F1Score(1, threshold = 0.5)\n",
    "disability_model.compile(optimizer=tf.keras.optimizers.legacy.Adam(learning_rate=1e-5),\n",
    "                                 loss=tf.keras.losses.BinaryCrossentropy(from_logits=False), \n",
    "                                 metrics=[tf.keras.metrics.BinaryAccuracy(),\n",
    "                                        tf.keras.metrics.Precision(),\n",
    "                                        tf.keras.metrics.Recall(),\n",
    "                                        f1_score])"
   ]
  },
  {
   "cell_type": "markdown",
   "id": "ad0c956f",
   "metadata": {},
   "source": [
    "# Round 2: Train Race Model for 1 epoch"
   ]
  },
  {
   "cell_type": "code",
   "execution_count": 27,
   "id": "55d1bab2",
   "metadata": {},
   "outputs": [
    {
     "name": "stdout",
     "output_type": "stream",
     "text": [
      "WARNING:tensorflow:Gradients do not exist for variables ['tf_roberta_model/roberta/pooler/dense/kernel:0', 'tf_roberta_model/roberta/pooler/dense/bias:0'] when minimizing the loss. If you're using `model.compile()`, did you forget to provide a `loss` argument?\n",
      "WARNING:tensorflow:Gradients do not exist for variables ['tf_roberta_model/roberta/pooler/dense/kernel:0', 'tf_roberta_model/roberta/pooler/dense/bias:0'] when minimizing the loss. If you're using `model.compile()`, did you forget to provide a `loss` argument?\n",
      "400/400 [==============================] - 479s 1s/step - loss: 0.5238 - binary_accuracy: 0.7228 - precision_1: 0.4020 - recall_1: 0.7249 - f1_score: 0.5172 - val_loss: 0.5544 - val_binary_accuracy: 0.7109 - val_precision_1: 0.3907 - val_recall_1: 0.8449 - val_f1_score: 0.5343\n"
     ]
    }
   ],
   "source": [
    "race_round2_history = race_model.fit(bertweet_train_inputs_race,\n",
    "                                          y_train_race,\n",
    "                                          validation_data=(bertweet_val_inputs_race, y_val_race),\n",
    "                                          batch_size=32,\n",
    "                                          epochs=1,\n",
    "                                          class_weight=race_class_weight)"
   ]
  },
  {
   "cell_type": "markdown",
   "id": "327d9e0a",
   "metadata": {},
   "source": [
    "# Round 3: Train Disability Model for 1 epoch"
   ]
  },
  {
   "cell_type": "code",
   "execution_count": 28,
   "id": "49a462ff",
   "metadata": {},
   "outputs": [
    {
     "name": "stdout",
     "output_type": "stream",
     "text": [
      "WARNING:tensorflow:Gradients do not exist for variables ['tf_roberta_model/roberta/pooler/dense/kernel:0', 'tf_roberta_model/roberta/pooler/dense/bias:0'] when minimizing the loss. If you're using `model.compile()`, did you forget to provide a `loss` argument?\n",
      "WARNING:tensorflow:Gradients do not exist for variables ['tf_roberta_model/roberta/pooler/dense/kernel:0', 'tf_roberta_model/roberta/pooler/dense/bias:0'] when minimizing the loss. If you're using `model.compile()`, did you forget to provide a `loss` argument?\n",
      "400/400 [==============================] - 507s 1s/step - loss: 0.3224 - binary_accuracy: 0.8619 - precision_2: 0.6416 - recall_2: 0.8140 - f1_score: 0.7176 - val_loss: 0.4282 - val_binary_accuracy: 0.8135 - val_precision_2: 0.5359 - val_recall_2: 0.8622 - val_f1_score: 0.6610\n"
     ]
    }
   ],
   "source": [
    "disability_round3_history = disability_model.fit(bertweet_train_inputs_disability,\n",
    "                                          y_train_disability,\n",
    "                                          validation_data=(bertweet_val_inputs_disability, y_val_disability),\n",
    "                                          batch_size=32,\n",
    "                                          epochs=1,\n",
    "                                          class_weight=disability_class_weight)"
   ]
  },
  {
   "cell_type": "markdown",
   "id": "43e82e15",
   "metadata": {},
   "source": [
    "# Round 4: Train Race Model for 1 epoch"
   ]
  },
  {
   "cell_type": "code",
   "execution_count": 29,
   "id": "dec3cf89",
   "metadata": {},
   "outputs": [
    {
     "name": "stdout",
     "output_type": "stream",
     "text": [
      "400/400 [==============================] - 465s 1s/step - loss: 0.4869 - binary_accuracy: 0.7471 - precision_1: 0.4327 - recall_1: 0.7558 - f1_score: 0.5504 - val_loss: 0.5559 - val_binary_accuracy: 0.7268 - val_precision_1: 0.4042 - val_recall_1: 0.8258 - val_f1_score: 0.5427\n"
     ]
    }
   ],
   "source": [
    "race_round4_history = race_model.fit(bertweet_train_inputs_race,\n",
    "                                          y_train_race,\n",
    "                                          validation_data=(bertweet_val_inputs_race, y_val_race),\n",
    "                                          batch_size=32,\n",
    "                                          epochs=1,\n",
    "                                          class_weight=race_class_weight)"
   ]
  },
  {
   "cell_type": "markdown",
   "id": "e69568fd",
   "metadata": {},
   "source": [
    "# Round 5: Train Disability Model for 1 epoch"
   ]
  },
  {
   "cell_type": "code",
   "execution_count": 30,
   "id": "1160ef62",
   "metadata": {},
   "outputs": [
    {
     "name": "stdout",
     "output_type": "stream",
     "text": [
      "400/400 [==============================] - 464s 1s/step - loss: 0.2993 - binary_accuracy: 0.8723 - precision_2: 0.6599 - recall_2: 0.8408 - f1_score: 0.7395 - val_loss: 0.4767 - val_binary_accuracy: 0.8046 - val_precision_2: 0.5219 - val_recall_2: 0.8756 - val_f1_score: 0.6539\n"
     ]
    }
   ],
   "source": [
    "disability_round5_history = disability_model.fit(bertweet_train_inputs_disability,\n",
    "                                          y_train_disability,\n",
    "                                          validation_data=(bertweet_val_inputs_disability, y_val_disability),\n",
    "                                          batch_size=32,\n",
    "                                          epochs=1,\n",
    "                                          class_weight=disability_class_weight)"
   ]
  },
  {
   "cell_type": "markdown",
   "id": "74a25e54",
   "metadata": {},
   "source": [
    "### Current Timestamp"
   ]
  },
  {
   "cell_type": "code",
   "execution_count": 31,
   "id": "ce5ffb7b",
   "metadata": {},
   "outputs": [
    {
     "name": "stdout",
     "output_type": "stream",
     "text": [
      "2023-04-11T10:06:04.508738-07:00\n"
     ]
    }
   ],
   "source": [
    "timestamp1 = datetime.datetime.now(tz=america_la_tz).isoformat()\n",
    "print(str(timestamp1))"
   ]
  },
  {
   "cell_type": "markdown",
   "id": "529c117d",
   "metadata": {},
   "source": [
    "# Round 6: Train Race Model for 1 epoch"
   ]
  },
  {
   "cell_type": "code",
   "execution_count": 32,
   "id": "ebf3fe3c",
   "metadata": {},
   "outputs": [
    {
     "name": "stdout",
     "output_type": "stream",
     "text": [
      "400/400 [==============================] - 460s 1s/step - loss: 0.4675 - binary_accuracy: 0.7569 - precision_1: 0.4461 - recall_1: 0.7738 - f1_score: 0.5659 - val_loss: 0.4857 - val_binary_accuracy: 0.7666 - val_precision_1: 0.4454 - val_recall_1: 0.7685 - val_f1_score: 0.5639\n"
     ]
    }
   ],
   "source": [
    "race_round6_history = race_model.fit(bertweet_train_inputs_race,\n",
    "                                          y_train_race,\n",
    "                                          validation_data=(bertweet_val_inputs_race, y_val_race),\n",
    "                                          batch_size=32,\n",
    "                                          epochs=1,\n",
    "                                          class_weight=race_class_weight)"
   ]
  },
  {
   "cell_type": "markdown",
   "id": "f5a6a9ae",
   "metadata": {},
   "source": [
    "# Round 7: Train Disability Model for 1 epoch"
   ]
  },
  {
   "cell_type": "code",
   "execution_count": 33,
   "id": "354dcd74",
   "metadata": {},
   "outputs": [
    {
     "name": "stdout",
     "output_type": "stream",
     "text": [
      "400/400 [==============================] - 463s 1s/step - loss: 0.2819 - binary_accuracy: 0.8634 - precision_2: 0.6332 - recall_2: 0.8706 - f1_score: 0.7331 - val_loss: 0.4418 - val_binary_accuracy: 0.8144 - val_precision_2: 0.5375 - val_recall_2: 0.8600 - val_f1_score: 0.6615\n"
     ]
    }
   ],
   "source": [
    "disability_round7_history = disability_model.fit(bertweet_train_inputs_disability,\n",
    "                                          y_train_disability,\n",
    "                                          validation_data=(bertweet_val_inputs_disability, y_val_disability),\n",
    "                                          batch_size=32,\n",
    "                                          epochs=1,\n",
    "                                          class_weight=disability_class_weight)"
   ]
  },
  {
   "cell_type": "markdown",
   "id": "93847572",
   "metadata": {},
   "source": [
    "### Current Timestamp"
   ]
  },
  {
   "cell_type": "code",
   "execution_count": 34,
   "id": "b399f77e",
   "metadata": {},
   "outputs": [
    {
     "name": "stdout",
     "output_type": "stream",
     "text": [
      "2023-04-11T10:21:27.364245-07:00\n"
     ]
    }
   ],
   "source": [
    "timestamp2 = datetime.datetime.now(tz=america_la_tz).isoformat()\n",
    "print(str(timestamp2))"
   ]
  },
  {
   "cell_type": "markdown",
   "id": "5c86ef1f",
   "metadata": {},
   "source": [
    "# Round 8: Train Race Model for 1 epoch"
   ]
  },
  {
   "cell_type": "code",
   "execution_count": 35,
   "id": "d105bae1",
   "metadata": {},
   "outputs": [
    {
     "name": "stdout",
     "output_type": "stream",
     "text": [
      "400/400 [==============================] - 461s 1s/step - loss: 0.4482 - binary_accuracy: 0.7709 - precision_1: 0.4656 - recall_1: 0.8035 - f1_score: 0.5896 - val_loss: 0.5389 - val_binary_accuracy: 0.7418 - val_precision_1: 0.4195 - val_recall_1: 0.8210 - val_f1_score: 0.5553\n"
     ]
    }
   ],
   "source": [
    "race_round8_history = race_model.fit(bertweet_train_inputs_race,\n",
    "                                          y_train_race,\n",
    "                                          validation_data=(bertweet_val_inputs_race, y_val_race),\n",
    "                                          batch_size=32,\n",
    "                                          epochs=1,\n",
    "                                          class_weight=race_class_weight)"
   ]
  },
  {
   "cell_type": "markdown",
   "id": "c11da3b8",
   "metadata": {},
   "source": [
    "# Round 9: Train Disability Model for 1 epoch"
   ]
  },
  {
   "cell_type": "code",
   "execution_count": 36,
   "id": "853fbd28",
   "metadata": {},
   "outputs": [
    {
     "name": "stdout",
     "output_type": "stream",
     "text": [
      "400/400 [==============================] - 463s 1s/step - loss: 0.2692 - binary_accuracy: 0.8668 - precision_2: 0.6371 - recall_2: 0.8872 - f1_score: 0.7416 - val_loss: 0.4419 - val_binary_accuracy: 0.8233 - val_precision_2: 0.5522 - val_recall_2: 0.8578 - val_f1_score: 0.6719\n"
     ]
    }
   ],
   "source": [
    "disability_round9_history = disability_model.fit(bertweet_train_inputs_disability,\n",
    "                                          y_train_disability,\n",
    "                                          validation_data=(bertweet_val_inputs_disability, y_val_disability),\n",
    "                                          batch_size=32,\n",
    "                                          epochs=1,\n",
    "                                          class_weight=disability_class_weight)"
   ]
  },
  {
   "cell_type": "markdown",
   "id": "6d97c0c1",
   "metadata": {},
   "source": [
    "## Plot Disability Metrics Between Rounds"
   ]
  },
  {
   "cell_type": "code",
   "execution_count": 37,
   "id": "1c3956d6",
   "metadata": {
    "scrolled": false
   },
   "outputs": [
    {
     "data": {
      "image/png": "[encoded data removed]",
      "text/plain": [
       "<Figure size 640x480 with 1 Axes>"
      ]
     },
     "metadata": {},
     "output_type": "display_data"
    }
   ],
   "source": [
    "disability_val_f1_scores = [max(list(zip(*disability_round1_history.history['val_f1_score']))[0]),\n",
    "                     disability_round3_history.history['val_f1_score'][0][0],\n",
    "                     disability_round5_history.history['val_f1_score'][0][0],\n",
    "                     disability_round7_history.history['val_f1_score'][0][0],\n",
    "                     disability_round9_history.history['val_f1_score'][0][0]]\n",
    "\n",
    "disability_train_f1_scores = [max(list(zip(*disability_round1_history.history['f1_score']))[0]),\n",
    "                     disability_round3_history.history['f1_score'][0][0],\n",
    "                     disability_round5_history.history['f1_score'][0][0],\n",
    "                     disability_round7_history.history['f1_score'][0][0],\n",
    "                     disability_round9_history.history['f1_score'][0][0]]\n",
    "\n",
    "plt.ylabel('F1 Score')\n",
    "plt.xlabel('Round #')\n",
    "plt.title('Disability F1 Scores With Race Interweaving')\n",
    "# plt.xticks(range(0, len(disability_val_f1_scores + 1)))\n",
    "# plt.xticks(1, 10)\n",
    "# plt.xticks([1, 3, 5, 7, 9])\n",
    "plt.xticks([0, 1, 2, 3, 4], ['1', '3', '5', '7', '9'])\n",
    "plt.plot(disability_train_f1_scores, label=\"training\", marker='o')\n",
    "plt.plot(disability_val_f1_scores, label=\"validation\", marker='o')\n",
    "plt.legend()\n",
    "plt.show()"
   ]
  },
  {
   "cell_type": "code",
   "execution_count": 38,
   "id": "a542196f",
   "metadata": {
    "scrolled": false
   },
   "outputs": [
    {
     "data": {
      "image/png": "[encoded data removed]",
      "text/plain": [
       "<Figure size 640x480 with 1 Axes>"
      ]
     },
     "metadata": {},
     "output_type": "display_data"
    }
   ],
   "source": [
    "disability_val_binary_accuracys = [max(disability_round1_history.history['val_binary_accuracy']),\n",
    "                     disability_round3_history.history['val_binary_accuracy'][0],\n",
    "                     disability_round5_history.history['val_binary_accuracy'][0],\n",
    "                     disability_round7_history.history['val_binary_accuracy'][0],\n",
    "                     disability_round9_history.history['val_binary_accuracy'][0]]\n",
    "\n",
    "disability_train_binary_accuracys = [max(disability_round1_history.history['binary_accuracy']),\n",
    "                     disability_round3_history.history['binary_accuracy'][0],\n",
    "                     disability_round5_history.history['binary_accuracy'][0],\n",
    "                     disability_round7_history.history['binary_accuracy'][0],\n",
    "                     disability_round9_history.history['binary_accuracy'][0]]\n",
    "\n",
    "plt.ylabel('Binary Accuracy')\n",
    "plt.xlabel('Round #')\n",
    "plt.title('Disability Binary Accuracy With Race Interweaving')\n",
    "plt.xticks([0, 1, 2, 3, 4], ['1', '3', '5', '7', '9'])\n",
    "plt.plot(disability_train_binary_accuracys, label=\"training\", marker='o')\n",
    "plt.plot(disability_val_binary_accuracys, label=\"validation\", marker='o')\n",
    "plt.legend()\n",
    "plt.show()"
   ]
  },
  {
   "cell_type": "code",
   "execution_count": 39,
   "id": "10ce68e6",
   "metadata": {},
   "outputs": [
    {
     "data": {
      "image/png": "[encoded data removed]",
      "text/plain": [
       "<Figure size 640x480 with 1 Axes>"
      ]
     },
     "metadata": {},
     "output_type": "display_data"
    }
   ],
   "source": [
    "disability_val_loss = [max(disability_round1_history.history['val_loss']),\n",
    "                     disability_round3_history.history['val_loss'][0],\n",
    "                     disability_round5_history.history['val_loss'][0],\n",
    "                     disability_round7_history.history['val_loss'][0],\n",
    "                     disability_round9_history.history['val_loss'][0]]\n",
    "\n",
    "disability_train_loss = [max(disability_round1_history.history['loss']),\n",
    "                     disability_round3_history.history['loss'][0],\n",
    "                     disability_round5_history.history['loss'][0],\n",
    "                     disability_round7_history.history['loss'][0],\n",
    "                     disability_round9_history.history['loss'][0]]\n",
    "\n",
    "plt.ylabel('Loss')\n",
    "plt.xlabel('Round #')\n",
    "plt.title('Disability Loss With Race Interweaving')\n",
    "plt.xticks([0, 1, 2, 3, 4], ['1', '3', '5', '7', '9'])\n",
    "plt.plot(disability_train_loss, label=\"training\", marker='o')\n",
    "plt.plot(disability_val_loss, label=\"validation\", marker='o')\n",
    "plt.legend()\n",
    "plt.show()"
   ]
  },
  {
   "cell_type": "markdown",
   "id": "bcd1808c",
   "metadata": {},
   "source": [
    "## Evaluate Disability and Race Models on their corresponding test sets"
   ]
  },
  {
   "cell_type": "code",
   "execution_count": 40,
   "id": "1fbdbe25",
   "metadata": {},
   "outputs": [
    {
     "name": "stdout",
     "output_type": "stream",
     "text": [
      "117/117 [==============================] - 45s 387ms/step - loss: 0.4485 - binary_accuracy: 0.8189 - precision_2: 0.5346 - recall_2: 0.8256 - f1_score: 0.6490\n"
     ]
    }
   ],
   "source": [
    "disability_test_history = disability_model.evaluate(bertweet_test_inputs_disability, y_test_disability)"
   ]
  },
  {
   "cell_type": "code",
   "execution_count": 41,
   "id": "33628c1e",
   "metadata": {},
   "outputs": [
    {
     "name": "stdout",
     "output_type": "stream",
     "text": [
      "117/117 [==============================] - 45s 386ms/step - loss: 0.4738 - binary_accuracy: 0.7790 - precision_1: 0.4685 - recall_1: 0.7647 - f1_score: 0.5810\n"
     ]
    }
   ],
   "source": [
    "race_test_history = race_model.evaluate(bertweet_test_inputs_race, y_test_race)"
   ]
  },
  {
   "cell_type": "markdown",
   "id": "5f7fed7d",
   "metadata": {},
   "source": [
    "# Save Model Weights"
   ]
  },
  {
   "cell_type": "code",
   "execution_count": 42,
   "id": "f543df62",
   "metadata": {},
   "outputs": [],
   "source": [
    "disability_model.save_weights('saved_weights/take1_disability-race_interwoven_half_frozen_rounds9_b32lr1e-4.h5')\n",
    "race_model.save_weights('saved_models/take_1_race_interwoven_half_frozen_rounds9_b32lr1e-4.h5')"
   ]
  },
  {
   "cell_type": "markdown",
   "id": "c447bfa6",
   "metadata": {},
   "source": [
    "## Export Round Results to csv"
   ]
  },
  {
   "cell_type": "code",
   "execution_count": 44,
   "id": "e50ad67f",
   "metadata": {},
   "outputs": [
    {
     "data": {
      "text/html": [
       "<div>\n",
       "<style scoped>\n",
       "    .dataframe tbody tr th:only-of-type {\n",
       "        vertical-align: middle;\n",
       "    }\n",
       "\n",
       "    .dataframe tbody tr th {\n",
       "        vertical-align: top;\n",
       "    }\n",
       "\n",
       "    .dataframe thead th {\n",
       "        text-align: right;\n",
       "    }\n",
       "</style>\n",
       "<table border=\"1\" class=\"dataframe\">\n",
       "  <thead>\n",
       "    <tr style=\"text-align: right;\">\n",
       "      <th></th>\n",
       "      <th>Round</th>\n",
       "      <th>loss</th>\n",
       "      <th>binary_accuracy</th>\n",
       "      <th>precision</th>\n",
       "      <th>recall</th>\n",
       "      <th>f1_score</th>\n",
       "      <th>val_loss</th>\n",
       "      <th>val_binary_accuracy</th>\n",
       "      <th>val_precision</th>\n",
       "      <th>val_recall</th>\n",
       "      <th>...</th>\n",
       "      <th>val_recall_2</th>\n",
       "      <th>precision_1</th>\n",
       "      <th>recall_1</th>\n",
       "      <th>val_precision_1</th>\n",
       "      <th>val_recall_1</th>\n",
       "      <th>test_loss</th>\n",
       "      <th>test_binary_accuracy</th>\n",
       "      <th>test_precision</th>\n",
       "      <th>test_recall</th>\n",
       "      <th>test_f1_score</th>\n",
       "    </tr>\n",
       "  </thead>\n",
       "  <tbody>\n",
       "    <tr>\n",
       "      <th>0</th>\n",
       "      <td>Round1_Disability_Epoch1</td>\n",
       "      <td>0.530759</td>\n",
       "      <td>0.735427</td>\n",
       "      <td>0.430898</td>\n",
       "      <td>0.709935</td>\n",
       "      <td>[0.5362914]</td>\n",
       "      <td>0.449895</td>\n",
       "      <td>0.835989</td>\n",
       "      <td>0.582508</td>\n",
       "      <td>0.784444</td>\n",
       "      <td>...</td>\n",
       "      <td>NaN</td>\n",
       "      <td>NaN</td>\n",
       "      <td>NaN</td>\n",
       "      <td>NaN</td>\n",
       "      <td>NaN</td>\n",
       "      <td>NaN</td>\n",
       "      <td>NaN</td>\n",
       "      <td>NaN</td>\n",
       "      <td>NaN</td>\n",
       "      <td>NaN</td>\n",
       "    </tr>\n",
       "    <tr>\n",
       "      <th>1</th>\n",
       "      <td>Round1_Disability_Epoch2</td>\n",
       "      <td>0.428143</td>\n",
       "      <td>0.795281</td>\n",
       "      <td>0.516563</td>\n",
       "      <td>0.780276</td>\n",
       "      <td>[0.621606]</td>\n",
       "      <td>0.394960</td>\n",
       "      <td>0.823336</td>\n",
       "      <td>0.556240</td>\n",
       "      <td>0.802222</td>\n",
       "      <td>...</td>\n",
       "      <td>NaN</td>\n",
       "      <td>NaN</td>\n",
       "      <td>NaN</td>\n",
       "      <td>NaN</td>\n",
       "      <td>NaN</td>\n",
       "      <td>NaN</td>\n",
       "      <td>NaN</td>\n",
       "      <td>NaN</td>\n",
       "      <td>NaN</td>\n",
       "      <td>NaN</td>\n",
       "    </tr>\n",
       "    <tr>\n",
       "      <th>0</th>\n",
       "      <td>Round3_Disability</td>\n",
       "      <td>0.322406</td>\n",
       "      <td>0.861932</td>\n",
       "      <td>NaN</td>\n",
       "      <td>NaN</td>\n",
       "      <td>[0.71759635]</td>\n",
       "      <td>0.428210</td>\n",
       "      <td>0.813496</td>\n",
       "      <td>NaN</td>\n",
       "      <td>NaN</td>\n",
       "      <td>...</td>\n",
       "      <td>0.862222</td>\n",
       "      <td>NaN</td>\n",
       "      <td>NaN</td>\n",
       "      <td>NaN</td>\n",
       "      <td>NaN</td>\n",
       "      <td>NaN</td>\n",
       "      <td>NaN</td>\n",
       "      <td>NaN</td>\n",
       "      <td>NaN</td>\n",
       "      <td>NaN</td>\n",
       "    </tr>\n",
       "    <tr>\n",
       "      <th>0</th>\n",
       "      <td>Round5_Disability</td>\n",
       "      <td>0.299349</td>\n",
       "      <td>0.872324</td>\n",
       "      <td>NaN</td>\n",
       "      <td>NaN</td>\n",
       "      <td>[0.73947716]</td>\n",
       "      <td>0.476659</td>\n",
       "      <td>0.804592</td>\n",
       "      <td>NaN</td>\n",
       "      <td>NaN</td>\n",
       "      <td>...</td>\n",
       "      <td>0.875556</td>\n",
       "      <td>NaN</td>\n",
       "      <td>NaN</td>\n",
       "      <td>NaN</td>\n",
       "      <td>NaN</td>\n",
       "      <td>NaN</td>\n",
       "      <td>NaN</td>\n",
       "      <td>NaN</td>\n",
       "      <td>NaN</td>\n",
       "      <td>NaN</td>\n",
       "    </tr>\n",
       "    <tr>\n",
       "      <th>0</th>\n",
       "      <td>Round7_Disability</td>\n",
       "      <td>0.281908</td>\n",
       "      <td>0.863416</td>\n",
       "      <td>NaN</td>\n",
       "      <td>NaN</td>\n",
       "      <td>[0.73312986]</td>\n",
       "      <td>0.441769</td>\n",
       "      <td>0.814433</td>\n",
       "      <td>NaN</td>\n",
       "      <td>NaN</td>\n",
       "      <td>...</td>\n",
       "      <td>0.860000</td>\n",
       "      <td>NaN</td>\n",
       "      <td>NaN</td>\n",
       "      <td>NaN</td>\n",
       "      <td>NaN</td>\n",
       "      <td>NaN</td>\n",
       "      <td>NaN</td>\n",
       "      <td>NaN</td>\n",
       "      <td>NaN</td>\n",
       "      <td>NaN</td>\n",
       "    </tr>\n",
       "    <tr>\n",
       "      <th>0</th>\n",
       "      <td>Round9_Disability</td>\n",
       "      <td>0.269230</td>\n",
       "      <td>0.866776</td>\n",
       "      <td>NaN</td>\n",
       "      <td>NaN</td>\n",
       "      <td>[0.7416275]</td>\n",
       "      <td>0.441874</td>\n",
       "      <td>0.823336</td>\n",
       "      <td>NaN</td>\n",
       "      <td>NaN</td>\n",
       "      <td>...</td>\n",
       "      <td>0.857778</td>\n",
       "      <td>NaN</td>\n",
       "      <td>NaN</td>\n",
       "      <td>NaN</td>\n",
       "      <td>NaN</td>\n",
       "      <td>NaN</td>\n",
       "      <td>NaN</td>\n",
       "      <td>NaN</td>\n",
       "      <td>NaN</td>\n",
       "      <td>NaN</td>\n",
       "    </tr>\n",
       "    <tr>\n",
       "      <th>0</th>\n",
       "      <td>Round2_race</td>\n",
       "      <td>0.523835</td>\n",
       "      <td>0.722847</td>\n",
       "      <td>NaN</td>\n",
       "      <td>NaN</td>\n",
       "      <td>[0.51721793]</td>\n",
       "      <td>0.554423</td>\n",
       "      <td>0.710872</td>\n",
       "      <td>NaN</td>\n",
       "      <td>NaN</td>\n",
       "      <td>...</td>\n",
       "      <td>NaN</td>\n",
       "      <td>0.402031</td>\n",
       "      <td>0.724914</td>\n",
       "      <td>0.390728</td>\n",
       "      <td>0.844869</td>\n",
       "      <td>NaN</td>\n",
       "      <td>NaN</td>\n",
       "      <td>NaN</td>\n",
       "      <td>NaN</td>\n",
       "      <td>NaN</td>\n",
       "    </tr>\n",
       "    <tr>\n",
       "      <th>0</th>\n",
       "      <td>Round4_race</td>\n",
       "      <td>0.486884</td>\n",
       "      <td>0.747070</td>\n",
       "      <td>NaN</td>\n",
       "      <td>NaN</td>\n",
       "      <td>[0.55035424]</td>\n",
       "      <td>0.555948</td>\n",
       "      <td>0.726804</td>\n",
       "      <td>NaN</td>\n",
       "      <td>NaN</td>\n",
       "      <td>...</td>\n",
       "      <td>NaN</td>\n",
       "      <td>0.432722</td>\n",
       "      <td>0.755818</td>\n",
       "      <td>0.404206</td>\n",
       "      <td>0.825776</td>\n",
       "      <td>NaN</td>\n",
       "      <td>NaN</td>\n",
       "      <td>NaN</td>\n",
       "      <td>NaN</td>\n",
       "      <td>NaN</td>\n",
       "    </tr>\n",
       "    <tr>\n",
       "      <th>0</th>\n",
       "      <td>Round6_race</td>\n",
       "      <td>0.467468</td>\n",
       "      <td>0.756915</td>\n",
       "      <td>NaN</td>\n",
       "      <td>NaN</td>\n",
       "      <td>[0.5659272]</td>\n",
       "      <td>0.485697</td>\n",
       "      <td>0.766635</td>\n",
       "      <td>NaN</td>\n",
       "      <td>NaN</td>\n",
       "      <td>...</td>\n",
       "      <td>NaN</td>\n",
       "      <td>0.446106</td>\n",
       "      <td>0.773751</td>\n",
       "      <td>0.445367</td>\n",
       "      <td>0.768496</td>\n",
       "      <td>NaN</td>\n",
       "      <td>NaN</td>\n",
       "      <td>NaN</td>\n",
       "      <td>NaN</td>\n",
       "      <td>NaN</td>\n",
       "    </tr>\n",
       "    <tr>\n",
       "      <th>0</th>\n",
       "      <td>Round8_race</td>\n",
       "      <td>0.448170</td>\n",
       "      <td>0.770902</td>\n",
       "      <td>NaN</td>\n",
       "      <td>NaN</td>\n",
       "      <td>[0.5895857]</td>\n",
       "      <td>0.538899</td>\n",
       "      <td>0.741799</td>\n",
       "      <td>NaN</td>\n",
       "      <td>NaN</td>\n",
       "      <td>...</td>\n",
       "      <td>NaN</td>\n",
       "      <td>0.465620</td>\n",
       "      <td>0.803510</td>\n",
       "      <td>0.419512</td>\n",
       "      <td>0.821002</td>\n",
       "      <td>NaN</td>\n",
       "      <td>NaN</td>\n",
       "      <td>NaN</td>\n",
       "      <td>NaN</td>\n",
       "      <td>NaN</td>\n",
       "    </tr>\n",
       "    <tr>\n",
       "      <th>0</th>\n",
       "      <td>Test_Disability</td>\n",
       "      <td>NaN</td>\n",
       "      <td>NaN</td>\n",
       "      <td>NaN</td>\n",
       "      <td>NaN</td>\n",
       "      <td>NaN</td>\n",
       "      <td>NaN</td>\n",
       "      <td>NaN</td>\n",
       "      <td>NaN</td>\n",
       "      <td>NaN</td>\n",
       "      <td>...</td>\n",
       "      <td>NaN</td>\n",
       "      <td>NaN</td>\n",
       "      <td>NaN</td>\n",
       "      <td>NaN</td>\n",
       "      <td>NaN</td>\n",
       "      <td>0.448502</td>\n",
       "      <td>0.818912</td>\n",
       "      <td>0.534645</td>\n",
       "      <td>0.825628</td>\n",
       "      <td>0.649014</td>\n",
       "    </tr>\n",
       "    <tr>\n",
       "      <th>0</th>\n",
       "      <td>Test_Race</td>\n",
       "      <td>NaN</td>\n",
       "      <td>NaN</td>\n",
       "      <td>NaN</td>\n",
       "      <td>NaN</td>\n",
       "      <td>NaN</td>\n",
       "      <td>NaN</td>\n",
       "      <td>NaN</td>\n",
       "      <td>NaN</td>\n",
       "      <td>NaN</td>\n",
       "      <td>...</td>\n",
       "      <td>NaN</td>\n",
       "      <td>NaN</td>\n",
       "      <td>NaN</td>\n",
       "      <td>NaN</td>\n",
       "      <td>NaN</td>\n",
       "      <td>0.473805</td>\n",
       "      <td>0.778998</td>\n",
       "      <td>0.468468</td>\n",
       "      <td>0.764706</td>\n",
       "      <td>0.581006</td>\n",
       "    </tr>\n",
       "  </tbody>\n",
       "</table>\n",
       "<p>12 rows × 24 columns</p>\n",
       "</div>"
      ],
      "text/plain": [
       "                      Round      loss  binary_accuracy  precision    recall   \n",
       "0  Round1_Disability_Epoch1  0.530759         0.735427   0.430898  0.709935  \\\n",
       "1  Round1_Disability_Epoch2  0.428143         0.795281   0.516563  0.780276   \n",
       "0         Round3_Disability  0.322406         0.861932        NaN       NaN   \n",
       "0         Round5_Disability  0.299349         0.872324        NaN       NaN   \n",
       "0         Round7_Disability  0.281908         0.863416        NaN       NaN   \n",
       "0         Round9_Disability  0.269230         0.866776        NaN       NaN   \n",
       "0               Round2_race  0.523835         0.722847        NaN       NaN   \n",
       "0               Round4_race  0.486884         0.747070        NaN       NaN   \n",
       "0               Round6_race  0.467468         0.756915        NaN       NaN   \n",
       "0               Round8_race  0.448170         0.770902        NaN       NaN   \n",
       "0           Test_Disability       NaN              NaN        NaN       NaN   \n",
       "0                 Test_Race       NaN              NaN        NaN       NaN   \n",
       "\n",
       "       f1_score  val_loss  val_binary_accuracy  val_precision  val_recall   \n",
       "0   [0.5362914]  0.449895             0.835989       0.582508    0.784444  \\\n",
       "1    [0.621606]  0.394960             0.823336       0.556240    0.802222   \n",
       "0  [0.71759635]  0.428210             0.813496            NaN         NaN   \n",
       "0  [0.73947716]  0.476659             0.804592            NaN         NaN   \n",
       "0  [0.73312986]  0.441769             0.814433            NaN         NaN   \n",
       "0   [0.7416275]  0.441874             0.823336            NaN         NaN   \n",
       "0  [0.51721793]  0.554423             0.710872            NaN         NaN   \n",
       "0  [0.55035424]  0.555948             0.726804            NaN         NaN   \n",
       "0   [0.5659272]  0.485697             0.766635            NaN         NaN   \n",
       "0   [0.5895857]  0.538899             0.741799            NaN         NaN   \n",
       "0           NaN       NaN                  NaN            NaN         NaN   \n",
       "0           NaN       NaN                  NaN            NaN         NaN   \n",
       "\n",
       "   ... val_recall_2  precision_1  recall_1  val_precision_1  val_recall_1   \n",
       "0  ...          NaN          NaN       NaN              NaN           NaN  \\\n",
       "1  ...          NaN          NaN       NaN              NaN           NaN   \n",
       "0  ...     0.862222          NaN       NaN              NaN           NaN   \n",
       "0  ...     0.875556          NaN       NaN              NaN           NaN   \n",
       "0  ...     0.860000          NaN       NaN              NaN           NaN   \n",
       "0  ...     0.857778          NaN       NaN              NaN           NaN   \n",
       "0  ...          NaN     0.402031  0.724914         0.390728      0.844869   \n",
       "0  ...          NaN     0.432722  0.755818         0.404206      0.825776   \n",
       "0  ...          NaN     0.446106  0.773751         0.445367      0.768496   \n",
       "0  ...          NaN     0.465620  0.803510         0.419512      0.821002   \n",
       "0  ...          NaN          NaN       NaN              NaN           NaN   \n",
       "0  ...          NaN          NaN       NaN              NaN           NaN   \n",
       "\n",
       "   test_loss  test_binary_accuracy  test_precision  test_recall  test_f1_score  \n",
       "0        NaN                   NaN             NaN          NaN            NaN  \n",
       "1        NaN                   NaN             NaN          NaN            NaN  \n",
       "0        NaN                   NaN             NaN          NaN            NaN  \n",
       "0        NaN                   NaN             NaN          NaN            NaN  \n",
       "0        NaN                   NaN             NaN          NaN            NaN  \n",
       "0        NaN                   NaN             NaN          NaN            NaN  \n",
       "0        NaN                   NaN             NaN          NaN            NaN  \n",
       "0        NaN                   NaN             NaN          NaN            NaN  \n",
       "0        NaN                   NaN             NaN          NaN            NaN  \n",
       "0        NaN                   NaN             NaN          NaN            NaN  \n",
       "0   0.448502              0.818912        0.534645     0.825628       0.649014  \n",
       "0   0.473805              0.778998        0.468468     0.764706       0.581006  \n",
       "\n",
       "[12 rows x 24 columns]"
      ]
     },
     "execution_count": 44,
     "metadata": {},
     "output_type": "execute_result"
    }
   ],
   "source": [
    "disability_round1_history_df = pd.DataFrame(disability_round1_history.history)\n",
    "disability_round1_history_df.insert(0, 'Round', ['Round1_Disability_Epoch1', 'Round1_Disability_Epoch2'])\n",
    "disability_round3_history_df = pd.DataFrame(disability_round3_history.history)\n",
    "disability_round3_history_df.insert(0, 'Round', ['Round3_Disability'])\n",
    "disability_round5_history_df = pd.DataFrame(disability_round5_history.history)\n",
    "disability_round5_history_df.insert(0, 'Round', ['Round5_Disability'])\n",
    "disability_round7_history_df = pd.DataFrame(disability_round7_history.history)\n",
    "disability_round7_history_df.insert(0, 'Round', ['Round7_Disability'])\n",
    "disability_round9_history_df = pd.DataFrame(disability_round9_history.history)\n",
    "disability_round9_history_df.insert(0, 'Round', ['Round9_Disability'])\n",
    "race_round2_history_df = pd.DataFrame(race_round2_history.history)\n",
    "race_round2_history_df.insert(0, 'Round', ['Round2_race'])\n",
    "race_round4_history_df = pd.DataFrame(race_round4_history.history)\n",
    "race_round4_history_df.insert(0, 'Round', ['Round4_race'])\n",
    "race_round6_history_df = pd.DataFrame(race_round6_history.history)\n",
    "race_round6_history_df.insert(0, 'Round', ['Round6_race'])\n",
    "race_round8_history_df = pd.DataFrame(race_round8_history.history)\n",
    "race_round8_history_df.insert(0, 'Round', ['Round8_race'])\n",
    "\n",
    "disability_test_history_df = pd.DataFrame({\n",
    "    'Round': 'Test_Disability',\n",
    "    'test_loss': disability_test_history[0],\n",
    "    'test_binary_accuracy': disability_test_history[1],\n",
    "    'test_precision': disability_test_history[2],\n",
    "    'test_recall': disability_test_history[3],\n",
    "    'test_f1_score': disability_test_history[4]})\n",
    "race_test_history_df = pd.DataFrame({\n",
    "    'Round': 'Test_Race',\n",
    "    'test_loss': race_test_history[0],\n",
    "    'test_binary_accuracy': race_test_history[1],\n",
    "    'test_precision': race_test_history[2],\n",
    "    'test_recall': race_test_history[3],\n",
    "    'test_f1_score': race_test_history[4]})\n",
    "\n",
    "all_rounds_df = pd.concat([disability_round1_history_df,\n",
    "           disability_round3_history_df,\n",
    "           disability_round5_history_df,\n",
    "           disability_round7_history_df,\n",
    "           disability_round9_history_df,\n",
    "           race_round2_history_df,\n",
    "           race_round4_history_df,\n",
    "           race_round6_history_df,\n",
    "           race_round8_history_df,\n",
    "           disability_test_history_df,\n",
    "           race_test_history_df], axis=0)\n",
    "all_rounds_df"
   ]
  },
  {
   "cell_type": "code",
   "execution_count": 45,
   "id": "787e15c1",
   "metadata": {},
   "outputs": [],
   "source": [
    "all_rounds_df.to_csv('experiment_results/disability_race_take1.csv')"
   ]
  },
  {
   "cell_type": "markdown",
   "id": "9002b068",
   "metadata": {},
   "source": [
    "# Record Stop Time"
   ]
  },
  {
   "cell_type": "code",
   "execution_count": null,
   "id": "3afa6717",
   "metadata": {},
   "outputs": [],
   "source": [
    "stop_time = datetime.datetime.now(tz=america_la_tz).isoformat()\n",
    "print(str(stop_time))"
   ]
  },
  {
   "cell_type": "code",
   "execution_count": null,
   "id": "58f7537b",
   "metadata": {},
   "outputs": [],
   "source": []
  }
 ],
 "metadata": {
  "kernelspec": {
   "display_name": "Python 3.10 (tensorflow)",
   "language": "python",
   "name": "w266tensorflow"
  },
  "language_info": {
   "codemirror_mode": {
    "name": "ipython",
    "version": 3
   },
   "file_extension": ".py",
   "mimetype": "text/x-python",
   "name": "python",
   "nbconvert_exporter": "python",
   "pygments_lexer": "ipython3",
   "version": "3.10.10"
  }
 },
 "nbformat": 4,
 "nbformat_minor": 5
}
