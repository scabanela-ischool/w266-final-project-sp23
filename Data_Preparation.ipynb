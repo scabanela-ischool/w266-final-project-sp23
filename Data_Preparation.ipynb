{
  "cells": [
    {
      "cell_type": "markdown",
      "id": "bdb15e45",
      "metadata": {
        "id": "bdb15e45"
      },
      "source": [
        "# Data Preparation\n",
        "Data source: https://www.kaggle.com/competitions/jigsaw-unintended-bias-in-toxicity-classification/data?select=all_data.csv\n",
        "\n",
        "In this notebook, we prepare the data downloaded from kaggle and export data subsets which we will feed into our models. The data preparation process includes data cleaning, extracting data subsets according to identity category, and splitting each identity subset into train, validation, and test sets via stratified sampling."
      ]
    },
    {
      "cell_type": "code",
      "source": [
        "from google.colab import drive\n",
        "drive.mount('/content/drive')"
      ],
      "metadata": {
        "colab": {
          "base_uri": "https://localhost:8080/"
        },
        "id": "ZTVKdOMga7Sm",
        "outputId": "3eeddd9e-38a3-4243-d628-1b6a7a088d5f"
      },
      "id": "ZTVKdOMga7Sm",
      "execution_count": 1,
      "outputs": [
        {
          "output_type": "stream",
          "name": "stdout",
          "text": [
            "Drive already mounted at /content/drive; to attempt to forcibly remount, call drive.mount(\"/content/drive\", force_remount=True).\n"
          ]
        }
      ]
    },
    {
      "cell_type": "code",
      "execution_count": 2,
      "id": "ef6f6faf",
      "metadata": {
        "id": "ef6f6faf"
      },
      "outputs": [],
      "source": [
        "import numpy as np\n",
        "import pandas as pd\n",
        "import matplotlib.pyplot as plt\n",
        "import sklearn\n",
        "from sklearn.model_selection import train_test_split"
      ]
    },
    {
      "cell_type": "markdown",
      "id": "e1d04d83",
      "metadata": {
        "id": "e1d04d83"
      },
      "source": [
        "## Load the data:\n",
        "The kaggle competition corresponding to this dataset came with csv files for their own train and test subset. However, since the competition has ended, the `all_data.csv` file was released containing labels for both the train and test sets. Therefore, we'll be using the `all_data.csv` as our starting dataset."
      ]
    },
    {
      "cell_type": "code",
      "execution_count": 3,
      "id": "6108c6fe",
      "metadata": {
        "id": "6108c6fe"
      },
      "outputs": [],
      "source": [
        "all_data_df = pd.read_csv('drive/MyDrive/data/all_data.csv')"
      ]
    },
    {
      "cell_type": "markdown",
      "id": "4c238e94",
      "metadata": {
        "id": "4c238e94"
      },
      "source": [
        "## Clean the data"
      ]
    },
    {
      "cell_type": "markdown",
      "id": "35d13e1f",
      "metadata": {
        "id": "35d13e1f"
      },
      "source": [
        "EDA revealed that there were some rows with a missing value for `comment_text`. What does these rows look like?"
      ]
    },
    {
      "cell_type": "code",
      "execution_count": 4,
      "id": "7ca35dde",
      "metadata": {
        "id": "7ca35dde",
        "outputId": "7b99e6f1-04cb-4e17-bc8f-68182022fe32",
        "colab": {
          "base_uri": "https://localhost:8080/",
          "height": 191
        }
      },
      "outputs": [
        {
          "output_type": "execute_result",
          "data": {
            "text/plain": [
              "            id comment_text  split                   created_date  \\\n",
              "446630  392337          NaN  train  2016-07-18 19:34:48.278774+00   \n",
              "\n",
              "        publication_id  parent_id  article_id    rating  funny  wow  ...  \\\n",
              "446630              13   392165.0      141670  approved      0    0  ...   \n",
              "\n",
              "        white  asian  latino  other_race_or_ethnicity  physical_disability  \\\n",
              "446630    NaN    NaN     NaN                      NaN                  NaN   \n",
              "\n",
              "        intellectual_or_learning_disability  psychiatric_or_mental_illness  \\\n",
              "446630                                  NaN                            NaN   \n",
              "\n",
              "        other_disability  identity_annotator_count  toxicity_annotator_count  \n",
              "446630               NaN                         0                         4  \n",
              "\n",
              "[1 rows x 46 columns]"
            ],
            "text/html": [
              "\n",
              "  <div id=\"df-f495834d-1ecb-4aac-bf62-1013c9e83eda\">\n",
              "    <div class=\"colab-df-container\">\n",
              "      <div>\n",
              "<style scoped>\n",
              "    .dataframe tbody tr th:only-of-type {\n",
              "        vertical-align: middle;\n",
              "    }\n",
              "\n",
              "    .dataframe tbody tr th {\n",
              "        vertical-align: top;\n",
              "    }\n",
              "\n",
              "    .dataframe thead th {\n",
              "        text-align: right;\n",
              "    }\n",
              "</style>\n",
              "<table border=\"1\" class=\"dataframe\">\n",
              "  <thead>\n",
              "    <tr style=\"text-align: right;\">\n",
              "      <th></th>\n",
              "      <th>id</th>\n",
              "      <th>comment_text</th>\n",
              "      <th>split</th>\n",
              "      <th>created_date</th>\n",
              "      <th>publication_id</th>\n",
              "      <th>parent_id</th>\n",
              "      <th>article_id</th>\n",
              "      <th>rating</th>\n",
              "      <th>funny</th>\n",
              "      <th>wow</th>\n",
              "      <th>...</th>\n",
              "      <th>white</th>\n",
              "      <th>asian</th>\n",
              "      <th>latino</th>\n",
              "      <th>other_race_or_ethnicity</th>\n",
              "      <th>physical_disability</th>\n",
              "      <th>intellectual_or_learning_disability</th>\n",
              "      <th>psychiatric_or_mental_illness</th>\n",
              "      <th>other_disability</th>\n",
              "      <th>identity_annotator_count</th>\n",
              "      <th>toxicity_annotator_count</th>\n",
              "    </tr>\n",
              "  </thead>\n",
              "  <tbody>\n",
              "    <tr>\n",
              "      <th>446630</th>\n",
              "      <td>392337</td>\n",
              "      <td>NaN</td>\n",
              "      <td>train</td>\n",
              "      <td>2016-07-18 19:34:48.278774+00</td>\n",
              "      <td>13</td>\n",
              "      <td>392165.0</td>\n",
              "      <td>141670</td>\n",
              "      <td>approved</td>\n",
              "      <td>0</td>\n",
              "      <td>0</td>\n",
              "      <td>...</td>\n",
              "      <td>NaN</td>\n",
              "      <td>NaN</td>\n",
              "      <td>NaN</td>\n",
              "      <td>NaN</td>\n",
              "      <td>NaN</td>\n",
              "      <td>NaN</td>\n",
              "      <td>NaN</td>\n",
              "      <td>NaN</td>\n",
              "      <td>0</td>\n",
              "      <td>4</td>\n",
              "    </tr>\n",
              "  </tbody>\n",
              "</table>\n",
              "<p>1 rows × 46 columns</p>\n",
              "</div>\n",
              "      <button class=\"colab-df-convert\" onclick=\"convertToInteractive('df-f495834d-1ecb-4aac-bf62-1013c9e83eda')\"\n",
              "              title=\"Convert this dataframe to an interactive table.\"\n",
              "              style=\"display:none;\">\n",
              "        \n",
              "  <svg xmlns=\"http://www.w3.org/2000/svg\" height=\"24px\"viewBox=\"0 0 24 24\"\n",
              "       width=\"24px\">\n",
              "    <path d=\"M0 0h24v24H0V0z\" fill=\"none\"/>\n",
              "    <path d=\"M18.56 5.44l.94 2.06.94-2.06 2.06-.94-2.06-.94-.94-2.06-.94 2.06-2.06.94zm-11 1L8.5 8.5l.94-2.06 2.06-.94-2.06-.94L8.5 2.5l-.94 2.06-2.06.94zm10 10l.94 2.06.94-2.06 2.06-.94-2.06-.94-.94-2.06-.94 2.06-2.06.94z\"/><path d=\"M17.41 7.96l-1.37-1.37c-.4-.4-.92-.59-1.43-.59-.52 0-1.04.2-1.43.59L10.3 9.45l-7.72 7.72c-.78.78-.78 2.05 0 2.83L4 21.41c.39.39.9.59 1.41.59.51 0 1.02-.2 1.41-.59l7.78-7.78 2.81-2.81c.8-.78.8-2.07 0-2.86zM5.41 20L4 18.59l7.72-7.72 1.47 1.35L5.41 20z\"/>\n",
              "  </svg>\n",
              "      </button>\n",
              "      \n",
              "  <style>\n",
              "    .colab-df-container {\n",
              "      display:flex;\n",
              "      flex-wrap:wrap;\n",
              "      gap: 12px;\n",
              "    }\n",
              "\n",
              "    .colab-df-convert {\n",
              "      background-color: #E8F0FE;\n",
              "      border: none;\n",
              "      border-radius: 50%;\n",
              "      cursor: pointer;\n",
              "      display: none;\n",
              "      fill: #1967D2;\n",
              "      height: 32px;\n",
              "      padding: 0 0 0 0;\n",
              "      width: 32px;\n",
              "    }\n",
              "\n",
              "    .colab-df-convert:hover {\n",
              "      background-color: #E2EBFA;\n",
              "      box-shadow: 0px 1px 2px rgba(60, 64, 67, 0.3), 0px 1px 3px 1px rgba(60, 64, 67, 0.15);\n",
              "      fill: #174EA6;\n",
              "    }\n",
              "\n",
              "    [theme=dark] .colab-df-convert {\n",
              "      background-color: #3B4455;\n",
              "      fill: #D2E3FC;\n",
              "    }\n",
              "\n",
              "    [theme=dark] .colab-df-convert:hover {\n",
              "      background-color: #434B5C;\n",
              "      box-shadow: 0px 1px 3px 1px rgba(0, 0, 0, 0.15);\n",
              "      filter: drop-shadow(0px 1px 2px rgba(0, 0, 0, 0.3));\n",
              "      fill: #FFFFFF;\n",
              "    }\n",
              "  </style>\n",
              "\n",
              "      <script>\n",
              "        const buttonEl =\n",
              "          document.querySelector('#df-f495834d-1ecb-4aac-bf62-1013c9e83eda button.colab-df-convert');\n",
              "        buttonEl.style.display =\n",
              "          google.colab.kernel.accessAllowed ? 'block' : 'none';\n",
              "\n",
              "        async function convertToInteractive(key) {\n",
              "          const element = document.querySelector('#df-f495834d-1ecb-4aac-bf62-1013c9e83eda');\n",
              "          const dataTable =\n",
              "            await google.colab.kernel.invokeFunction('convertToInteractive',\n",
              "                                                     [key], {});\n",
              "          if (!dataTable) return;\n",
              "\n",
              "          const docLinkHtml = 'Like what you see? Visit the ' +\n",
              "            '<a target=\"_blank\" href=https://colab.research.google.com/notebooks/data_table.ipynb>data table notebook</a>'\n",
              "            + ' to learn more about interactive tables.';\n",
              "          element.innerHTML = '';\n",
              "          dataTable['output_type'] = 'display_data';\n",
              "          await google.colab.output.renderOutput(dataTable, element);\n",
              "          const docLink = document.createElement('div');\n",
              "          docLink.innerHTML = docLinkHtml;\n",
              "          element.appendChild(docLink);\n",
              "        }\n",
              "      </script>\n",
              "    </div>\n",
              "  </div>\n",
              "  "
            ]
          },
          "metadata": {},
          "execution_count": 4
        }
      ],
      "source": [
        "all_data_df[pd.isna(all_data_df[\"comment_text\"])]"
      ]
    },
    {
      "cell_type": "markdown",
      "id": "fa74e4d9",
      "metadata": {
        "id": "fa74e4d9"
      },
      "source": [
        "### Delete the rows with missing comments\n",
        "Since we'll have no input text to feed in for these rows, it will be unusable and therefore we'll remove them from our dataset."
      ]
    },
    {
      "cell_type": "code",
      "execution_count": 5,
      "id": "08e9a6f2",
      "metadata": {
        "id": "08e9a6f2"
      },
      "outputs": [],
      "source": [
        "all_data_df_cleansed = all_data_df.copy().drop(index=all_data_df[pd.isna(all_data_df['comment_text'])].index)"
      ]
    },
    {
      "cell_type": "markdown",
      "id": "41494a9d",
      "metadata": {
        "id": "41494a9d"
      },
      "source": [
        "We can see that we now have a few less lines in our dataset:"
      ]
    },
    {
      "cell_type": "code",
      "execution_count": 6,
      "id": "010e104e",
      "metadata": {
        "id": "010e104e",
        "outputId": "21e85ad4-88dc-4499-f00d-d5e2bff2982d",
        "colab": {
          "base_uri": "https://localhost:8080/"
        }
      },
      "outputs": [
        {
          "output_type": "execute_result",
          "data": {
            "text/plain": [
              "(1999516, 46)"
            ]
          },
          "metadata": {},
          "execution_count": 6
        }
      ],
      "source": [
        "all_data_df.shape"
      ]
    },
    {
      "cell_type": "code",
      "execution_count": 7,
      "id": "8482b9de",
      "metadata": {
        "id": "8482b9de",
        "outputId": "4e2eeb13-2767-4871-9e0d-a948ef6fe4c0",
        "colab": {
          "base_uri": "https://localhost:8080/"
        }
      },
      "outputs": [
        {
          "output_type": "execute_result",
          "data": {
            "text/plain": [
              "(1999515, 46)"
            ]
          },
          "metadata": {},
          "execution_count": 7
        }
      ],
      "source": [
        "all_data_df_cleansed.shape"
      ]
    },
    {
      "cell_type": "markdown",
      "id": "faeb98e1",
      "metadata": {
        "id": "faeb98e1"
      },
      "source": [
        "## Drop the columns we won't be using"
      ]
    },
    {
      "cell_type": "code",
      "execution_count": 8,
      "id": "2ff8c97f",
      "metadata": {
        "scrolled": false,
        "id": "2ff8c97f",
        "outputId": "f07239b7-fec9-4b4a-b462-2b1f1f27247e",
        "colab": {
          "base_uri": "https://localhost:8080/",
          "height": 577
        }
      },
      "outputs": [
        {
          "output_type": "execute_result",
          "data": {
            "text/plain": [
              "                                        comment_text  disagree  toxicity  \\\n",
              "0  He got his money... now he lies in wait till a...         0  0.373134   \n",
              "1  Mad dog will surely put the liberals in mental...         0  0.605263   \n",
              "2  And Trump continues his lifelong cowardice by ...         7  0.666667   \n",
              "3  \"while arresting a man for resisting arrest\".\\...         0  0.815789   \n",
              "4     Tucker and Paul are both total bad ass mofo's.         0  0.550000   \n",
              "\n",
              "   severe_toxicity   obscene  sexual_explicit  identity_attack    insult  \\\n",
              "0         0.044776  0.089552         0.014925         0.000000  0.343284   \n",
              "1         0.013158  0.065789         0.013158         0.092105  0.565789   \n",
              "2         0.015873  0.031746         0.000000         0.047619  0.666667   \n",
              "3         0.065789  0.552632         0.592105         0.000000  0.684211   \n",
              "4         0.037500  0.337500         0.275000         0.037500  0.487500   \n",
              "\n",
              "     threat  male  ...  white  asian  latino  other_race_or_ethnicity  \\\n",
              "0  0.014925   NaN  ...    NaN    NaN     NaN                      NaN   \n",
              "1  0.065789   NaN  ...    NaN    NaN     NaN                      NaN   \n",
              "2  0.000000   NaN  ...    NaN    NaN     NaN                      NaN   \n",
              "3  0.105263   NaN  ...    NaN    NaN     NaN                      NaN   \n",
              "4  0.000000   NaN  ...    NaN    NaN     NaN                      NaN   \n",
              "\n",
              "   physical_disability  intellectual_or_learning_disability  \\\n",
              "0                  NaN                                  NaN   \n",
              "1                  NaN                                  NaN   \n",
              "2                  NaN                                  NaN   \n",
              "3                  NaN                                  NaN   \n",
              "4                  NaN                                  NaN   \n",
              "\n",
              "   psychiatric_or_mental_illness  other_disability  identity_annotator_count  \\\n",
              "0                            NaN               NaN                         0   \n",
              "1                            NaN               NaN                         0   \n",
              "2                            NaN               NaN                         0   \n",
              "3                            NaN               NaN                         0   \n",
              "4                            NaN               NaN                         0   \n",
              "\n",
              "   toxicity_annotator_count  \n",
              "0                        67  \n",
              "1                        76  \n",
              "2                        63  \n",
              "3                        76  \n",
              "4                        80  \n",
              "\n",
              "[5 rows x 35 columns]"
            ],
            "text/html": [
              "\n",
              "  <div id=\"df-527e3a1a-f49c-4ae5-8ee9-3580570c24a5\">\n",
              "    <div class=\"colab-df-container\">\n",
              "      <div>\n",
              "<style scoped>\n",
              "    .dataframe tbody tr th:only-of-type {\n",
              "        vertical-align: middle;\n",
              "    }\n",
              "\n",
              "    .dataframe tbody tr th {\n",
              "        vertical-align: top;\n",
              "    }\n",
              "\n",
              "    .dataframe thead th {\n",
              "        text-align: right;\n",
              "    }\n",
              "</style>\n",
              "<table border=\"1\" class=\"dataframe\">\n",
              "  <thead>\n",
              "    <tr style=\"text-align: right;\">\n",
              "      <th></th>\n",
              "      <th>comment_text</th>\n",
              "      <th>disagree</th>\n",
              "      <th>toxicity</th>\n",
              "      <th>severe_toxicity</th>\n",
              "      <th>obscene</th>\n",
              "      <th>sexual_explicit</th>\n",
              "      <th>identity_attack</th>\n",
              "      <th>insult</th>\n",
              "      <th>threat</th>\n",
              "      <th>male</th>\n",
              "      <th>...</th>\n",
              "      <th>white</th>\n",
              "      <th>asian</th>\n",
              "      <th>latino</th>\n",
              "      <th>other_race_or_ethnicity</th>\n",
              "      <th>physical_disability</th>\n",
              "      <th>intellectual_or_learning_disability</th>\n",
              "      <th>psychiatric_or_mental_illness</th>\n",
              "      <th>other_disability</th>\n",
              "      <th>identity_annotator_count</th>\n",
              "      <th>toxicity_annotator_count</th>\n",
              "    </tr>\n",
              "  </thead>\n",
              "  <tbody>\n",
              "    <tr>\n",
              "      <th>0</th>\n",
              "      <td>He got his money... now he lies in wait till a...</td>\n",
              "      <td>0</td>\n",
              "      <td>0.373134</td>\n",
              "      <td>0.044776</td>\n",
              "      <td>0.089552</td>\n",
              "      <td>0.014925</td>\n",
              "      <td>0.000000</td>\n",
              "      <td>0.343284</td>\n",
              "      <td>0.014925</td>\n",
              "      <td>NaN</td>\n",
              "      <td>...</td>\n",
              "      <td>NaN</td>\n",
              "      <td>NaN</td>\n",
              "      <td>NaN</td>\n",
              "      <td>NaN</td>\n",
              "      <td>NaN</td>\n",
              "      <td>NaN</td>\n",
              "      <td>NaN</td>\n",
              "      <td>NaN</td>\n",
              "      <td>0</td>\n",
              "      <td>67</td>\n",
              "    </tr>\n",
              "    <tr>\n",
              "      <th>1</th>\n",
              "      <td>Mad dog will surely put the liberals in mental...</td>\n",
              "      <td>0</td>\n",
              "      <td>0.605263</td>\n",
              "      <td>0.013158</td>\n",
              "      <td>0.065789</td>\n",
              "      <td>0.013158</td>\n",
              "      <td>0.092105</td>\n",
              "      <td>0.565789</td>\n",
              "      <td>0.065789</td>\n",
              "      <td>NaN</td>\n",
              "      <td>...</td>\n",
              "      <td>NaN</td>\n",
              "      <td>NaN</td>\n",
              "      <td>NaN</td>\n",
              "      <td>NaN</td>\n",
              "      <td>NaN</td>\n",
              "      <td>NaN</td>\n",
              "      <td>NaN</td>\n",
              "      <td>NaN</td>\n",
              "      <td>0</td>\n",
              "      <td>76</td>\n",
              "    </tr>\n",
              "    <tr>\n",
              "      <th>2</th>\n",
              "      <td>And Trump continues his lifelong cowardice by ...</td>\n",
              "      <td>7</td>\n",
              "      <td>0.666667</td>\n",
              "      <td>0.015873</td>\n",
              "      <td>0.031746</td>\n",
              "      <td>0.000000</td>\n",
              "      <td>0.047619</td>\n",
              "      <td>0.666667</td>\n",
              "      <td>0.000000</td>\n",
              "      <td>NaN</td>\n",
              "      <td>...</td>\n",
              "      <td>NaN</td>\n",
              "      <td>NaN</td>\n",
              "      <td>NaN</td>\n",
              "      <td>NaN</td>\n",
              "      <td>NaN</td>\n",
              "      <td>NaN</td>\n",
              "      <td>NaN</td>\n",
              "      <td>NaN</td>\n",
              "      <td>0</td>\n",
              "      <td>63</td>\n",
              "    </tr>\n",
              "    <tr>\n",
              "      <th>3</th>\n",
              "      <td>\"while arresting a man for resisting arrest\".\\...</td>\n",
              "      <td>0</td>\n",
              "      <td>0.815789</td>\n",
              "      <td>0.065789</td>\n",
              "      <td>0.552632</td>\n",
              "      <td>0.592105</td>\n",
              "      <td>0.000000</td>\n",
              "      <td>0.684211</td>\n",
              "      <td>0.105263</td>\n",
              "      <td>NaN</td>\n",
              "      <td>...</td>\n",
              "      <td>NaN</td>\n",
              "      <td>NaN</td>\n",
              "      <td>NaN</td>\n",
              "      <td>NaN</td>\n",
              "      <td>NaN</td>\n",
              "      <td>NaN</td>\n",
              "      <td>NaN</td>\n",
              "      <td>NaN</td>\n",
              "      <td>0</td>\n",
              "      <td>76</td>\n",
              "    </tr>\n",
              "    <tr>\n",
              "      <th>4</th>\n",
              "      <td>Tucker and Paul are both total bad ass mofo's.</td>\n",
              "      <td>0</td>\n",
              "      <td>0.550000</td>\n",
              "      <td>0.037500</td>\n",
              "      <td>0.337500</td>\n",
              "      <td>0.275000</td>\n",
              "      <td>0.037500</td>\n",
              "      <td>0.487500</td>\n",
              "      <td>0.000000</td>\n",
              "      <td>NaN</td>\n",
              "      <td>...</td>\n",
              "      <td>NaN</td>\n",
              "      <td>NaN</td>\n",
              "      <td>NaN</td>\n",
              "      <td>NaN</td>\n",
              "      <td>NaN</td>\n",
              "      <td>NaN</td>\n",
              "      <td>NaN</td>\n",
              "      <td>NaN</td>\n",
              "      <td>0</td>\n",
              "      <td>80</td>\n",
              "    </tr>\n",
              "  </tbody>\n",
              "</table>\n",
              "<p>5 rows × 35 columns</p>\n",
              "</div>\n",
              "      <button class=\"colab-df-convert\" onclick=\"convertToInteractive('df-527e3a1a-f49c-4ae5-8ee9-3580570c24a5')\"\n",
              "              title=\"Convert this dataframe to an interactive table.\"\n",
              "              style=\"display:none;\">\n",
              "        \n",
              "  <svg xmlns=\"http://www.w3.org/2000/svg\" height=\"24px\"viewBox=\"0 0 24 24\"\n",
              "       width=\"24px\">\n",
              "    <path d=\"M0 0h24v24H0V0z\" fill=\"none\"/>\n",
              "    <path d=\"M18.56 5.44l.94 2.06.94-2.06 2.06-.94-2.06-.94-.94-2.06-.94 2.06-2.06.94zm-11 1L8.5 8.5l.94-2.06 2.06-.94-2.06-.94L8.5 2.5l-.94 2.06-2.06.94zm10 10l.94 2.06.94-2.06 2.06-.94-2.06-.94-.94-2.06-.94 2.06-2.06.94z\"/><path d=\"M17.41 7.96l-1.37-1.37c-.4-.4-.92-.59-1.43-.59-.52 0-1.04.2-1.43.59L10.3 9.45l-7.72 7.72c-.78.78-.78 2.05 0 2.83L4 21.41c.39.39.9.59 1.41.59.51 0 1.02-.2 1.41-.59l7.78-7.78 2.81-2.81c.8-.78.8-2.07 0-2.86zM5.41 20L4 18.59l7.72-7.72 1.47 1.35L5.41 20z\"/>\n",
              "  </svg>\n",
              "      </button>\n",
              "      \n",
              "  <style>\n",
              "    .colab-df-container {\n",
              "      display:flex;\n",
              "      flex-wrap:wrap;\n",
              "      gap: 12px;\n",
              "    }\n",
              "\n",
              "    .colab-df-convert {\n",
              "      background-color: #E8F0FE;\n",
              "      border: none;\n",
              "      border-radius: 50%;\n",
              "      cursor: pointer;\n",
              "      display: none;\n",
              "      fill: #1967D2;\n",
              "      height: 32px;\n",
              "      padding: 0 0 0 0;\n",
              "      width: 32px;\n",
              "    }\n",
              "\n",
              "    .colab-df-convert:hover {\n",
              "      background-color: #E2EBFA;\n",
              "      box-shadow: 0px 1px 2px rgba(60, 64, 67, 0.3), 0px 1px 3px 1px rgba(60, 64, 67, 0.15);\n",
              "      fill: #174EA6;\n",
              "    }\n",
              "\n",
              "    [theme=dark] .colab-df-convert {\n",
              "      background-color: #3B4455;\n",
              "      fill: #D2E3FC;\n",
              "    }\n",
              "\n",
              "    [theme=dark] .colab-df-convert:hover {\n",
              "      background-color: #434B5C;\n",
              "      box-shadow: 0px 1px 3px 1px rgba(0, 0, 0, 0.15);\n",
              "      filter: drop-shadow(0px 1px 2px rgba(0, 0, 0, 0.3));\n",
              "      fill: #FFFFFF;\n",
              "    }\n",
              "  </style>\n",
              "\n",
              "      <script>\n",
              "        const buttonEl =\n",
              "          document.querySelector('#df-527e3a1a-f49c-4ae5-8ee9-3580570c24a5 button.colab-df-convert');\n",
              "        buttonEl.style.display =\n",
              "          google.colab.kernel.accessAllowed ? 'block' : 'none';\n",
              "\n",
              "        async function convertToInteractive(key) {\n",
              "          const element = document.querySelector('#df-527e3a1a-f49c-4ae5-8ee9-3580570c24a5');\n",
              "          const dataTable =\n",
              "            await google.colab.kernel.invokeFunction('convertToInteractive',\n",
              "                                                     [key], {});\n",
              "          if (!dataTable) return;\n",
              "\n",
              "          const docLinkHtml = 'Like what you see? Visit the ' +\n",
              "            '<a target=\"_blank\" href=https://colab.research.google.com/notebooks/data_table.ipynb>data table notebook</a>'\n",
              "            + ' to learn more about interactive tables.';\n",
              "          element.innerHTML = '';\n",
              "          dataTable['output_type'] = 'display_data';\n",
              "          await google.colab.output.renderOutput(dataTable, element);\n",
              "          const docLink = document.createElement('div');\n",
              "          docLink.innerHTML = docLinkHtml;\n",
              "          element.appendChild(docLink);\n",
              "        }\n",
              "      </script>\n",
              "    </div>\n",
              "  </div>\n",
              "  "
            ]
          },
          "metadata": {},
          "execution_count": 8
        }
      ],
      "source": [
        "all_data_df_cleansed = all_data_df_cleansed.drop(columns=['id', 'split', 'created_date', 'publication_id',\n",
        "       'parent_id', 'article_id', 'rating', 'funny', 'wow', 'sad', 'likes'])\n",
        "all_data_df_cleansed.head()"
      ]
    },
    {
      "cell_type": "code",
      "source": [
        "pd.options.display.max_colwidth = 600"
      ],
      "metadata": {
        "id": "xsXEb0mMzxBM"
      },
      "id": "xsXEb0mMzxBM",
      "execution_count": 9,
      "outputs": []
    },
    {
      "cell_type": "code",
      "source": [
        "all_data_df_cleansed.iloc[[715484-1]]"
      ],
      "metadata": {
        "colab": {
          "base_uri": "https://localhost:8080/",
          "height": 938
        },
        "id": "crJfZQldAh65",
        "outputId": "0321bc2f-8d8b-410f-d1b7-8a9140d5f244"
      },
      "id": "crJfZQldAh65",
      "execution_count": 10,
      "outputs": [
        {
          "output_type": "execute_result",
          "data": {
            "text/plain": [
              "                                                                                                                                                                                                                                                                                                                                                                                                                                                                                                                                                                                                                   comment_text  \\\n",
              "715484  So a Christian can pledge allegiance to their religion first, but if a Muslim does then it's automatically more suspect? I'm not suggesting you explicitly said that, but inciting Sharia law or beheadings at the mention of Islam invokes that kind of double standard. As if Islam itself is to blame, not a complex mix if politics, history, and culture that leads to the extremes we see.\\n\\nI'm trying to get at the core assumptions here, as to the kind of rhetoric I see as harmful and unfair in it's correlation. It's this general belief that peaceful devotion to Islam is fundamentally dangerous ...   \n",
              "\n",
              "        disagree  toxicity  severe_toxicity  obscene  sexual_explicit  \\\n",
              "715484         0       0.0              0.0      0.0              0.0   \n",
              "\n",
              "        identity_attack  insult  threat      male  ...  white     asian  \\\n",
              "715484              0.0     0.0     0.0  0.004457  ...    0.0  0.000557   \n",
              "\n",
              "        latino  other_race_or_ethnicity  physical_disability  \\\n",
              "715484     0.0                   0.0039             0.000557   \n",
              "\n",
              "        intellectual_or_learning_disability  psychiatric_or_mental_illness  \\\n",
              "715484                                  0.0                            0.0   \n",
              "\n",
              "        other_disability  identity_annotator_count  toxicity_annotator_count  \n",
              "715484               0.0                      1795                         4  \n",
              "\n",
              "[1 rows x 35 columns]"
            ],
            "text/html": [
              "\n",
              "  <div id=\"df-b8ab0c56-9437-4839-8ef4-b119ba27d0ac\">\n",
              "    <div class=\"colab-df-container\">\n",
              "      <div>\n",
              "<style scoped>\n",
              "    .dataframe tbody tr th:only-of-type {\n",
              "        vertical-align: middle;\n",
              "    }\n",
              "\n",
              "    .dataframe tbody tr th {\n",
              "        vertical-align: top;\n",
              "    }\n",
              "\n",
              "    .dataframe thead th {\n",
              "        text-align: right;\n",
              "    }\n",
              "</style>\n",
              "<table border=\"1\" class=\"dataframe\">\n",
              "  <thead>\n",
              "    <tr style=\"text-align: right;\">\n",
              "      <th></th>\n",
              "      <th>comment_text</th>\n",
              "      <th>disagree</th>\n",
              "      <th>toxicity</th>\n",
              "      <th>severe_toxicity</th>\n",
              "      <th>obscene</th>\n",
              "      <th>sexual_explicit</th>\n",
              "      <th>identity_attack</th>\n",
              "      <th>insult</th>\n",
              "      <th>threat</th>\n",
              "      <th>male</th>\n",
              "      <th>...</th>\n",
              "      <th>white</th>\n",
              "      <th>asian</th>\n",
              "      <th>latino</th>\n",
              "      <th>other_race_or_ethnicity</th>\n",
              "      <th>physical_disability</th>\n",
              "      <th>intellectual_or_learning_disability</th>\n",
              "      <th>psychiatric_or_mental_illness</th>\n",
              "      <th>other_disability</th>\n",
              "      <th>identity_annotator_count</th>\n",
              "      <th>toxicity_annotator_count</th>\n",
              "    </tr>\n",
              "  </thead>\n",
              "  <tbody>\n",
              "    <tr>\n",
              "      <th>715484</th>\n",
              "      <td>So a Christian can pledge allegiance to their religion first, but if a Muslim does then it's automatically more suspect? I'm not suggesting you explicitly said that, but inciting Sharia law or beheadings at the mention of Islam invokes that kind of double standard. As if Islam itself is to blame, not a complex mix if politics, history, and culture that leads to the extremes we see.\\n\\nI'm trying to get at the core assumptions here, as to the kind of rhetoric I see as harmful and unfair in it's correlation. It's this general belief that peaceful devotion to Islam is fundamentally dangerous ...</td>\n",
              "      <td>0</td>\n",
              "      <td>0.0</td>\n",
              "      <td>0.0</td>\n",
              "      <td>0.0</td>\n",
              "      <td>0.0</td>\n",
              "      <td>0.0</td>\n",
              "      <td>0.0</td>\n",
              "      <td>0.0</td>\n",
              "      <td>0.004457</td>\n",
              "      <td>...</td>\n",
              "      <td>0.0</td>\n",
              "      <td>0.000557</td>\n",
              "      <td>0.0</td>\n",
              "      <td>0.0039</td>\n",
              "      <td>0.000557</td>\n",
              "      <td>0.0</td>\n",
              "      <td>0.0</td>\n",
              "      <td>0.0</td>\n",
              "      <td>1795</td>\n",
              "      <td>4</td>\n",
              "    </tr>\n",
              "  </tbody>\n",
              "</table>\n",
              "<p>1 rows × 35 columns</p>\n",
              "</div>\n",
              "      <button class=\"colab-df-convert\" onclick=\"convertToInteractive('df-b8ab0c56-9437-4839-8ef4-b119ba27d0ac')\"\n",
              "              title=\"Convert this dataframe to an interactive table.\"\n",
              "              style=\"display:none;\">\n",
              "        \n",
              "  <svg xmlns=\"http://www.w3.org/2000/svg\" height=\"24px\"viewBox=\"0 0 24 24\"\n",
              "       width=\"24px\">\n",
              "    <path d=\"M0 0h24v24H0V0z\" fill=\"none\"/>\n",
              "    <path d=\"M18.56 5.44l.94 2.06.94-2.06 2.06-.94-2.06-.94-.94-2.06-.94 2.06-2.06.94zm-11 1L8.5 8.5l.94-2.06 2.06-.94-2.06-.94L8.5 2.5l-.94 2.06-2.06.94zm10 10l.94 2.06.94-2.06 2.06-.94-2.06-.94-.94-2.06-.94 2.06-2.06.94z\"/><path d=\"M17.41 7.96l-1.37-1.37c-.4-.4-.92-.59-1.43-.59-.52 0-1.04.2-1.43.59L10.3 9.45l-7.72 7.72c-.78.78-.78 2.05 0 2.83L4 21.41c.39.39.9.59 1.41.59.51 0 1.02-.2 1.41-.59l7.78-7.78 2.81-2.81c.8-.78.8-2.07 0-2.86zM5.41 20L4 18.59l7.72-7.72 1.47 1.35L5.41 20z\"/>\n",
              "  </svg>\n",
              "      </button>\n",
              "      \n",
              "  <style>\n",
              "    .colab-df-container {\n",
              "      display:flex;\n",
              "      flex-wrap:wrap;\n",
              "      gap: 12px;\n",
              "    }\n",
              "\n",
              "    .colab-df-convert {\n",
              "      background-color: #E8F0FE;\n",
              "      border: none;\n",
              "      border-radius: 50%;\n",
              "      cursor: pointer;\n",
              "      display: none;\n",
              "      fill: #1967D2;\n",
              "      height: 32px;\n",
              "      padding: 0 0 0 0;\n",
              "      width: 32px;\n",
              "    }\n",
              "\n",
              "    .colab-df-convert:hover {\n",
              "      background-color: #E2EBFA;\n",
              "      box-shadow: 0px 1px 2px rgba(60, 64, 67, 0.3), 0px 1px 3px 1px rgba(60, 64, 67, 0.15);\n",
              "      fill: #174EA6;\n",
              "    }\n",
              "\n",
              "    [theme=dark] .colab-df-convert {\n",
              "      background-color: #3B4455;\n",
              "      fill: #D2E3FC;\n",
              "    }\n",
              "\n",
              "    [theme=dark] .colab-df-convert:hover {\n",
              "      background-color: #434B5C;\n",
              "      box-shadow: 0px 1px 3px 1px rgba(0, 0, 0, 0.15);\n",
              "      filter: drop-shadow(0px 1px 2px rgba(0, 0, 0, 0.3));\n",
              "      fill: #FFFFFF;\n",
              "    }\n",
              "  </style>\n",
              "\n",
              "      <script>\n",
              "        const buttonEl =\n",
              "          document.querySelector('#df-b8ab0c56-9437-4839-8ef4-b119ba27d0ac button.colab-df-convert');\n",
              "        buttonEl.style.display =\n",
              "          google.colab.kernel.accessAllowed ? 'block' : 'none';\n",
              "\n",
              "        async function convertToInteractive(key) {\n",
              "          const element = document.querySelector('#df-b8ab0c56-9437-4839-8ef4-b119ba27d0ac');\n",
              "          const dataTable =\n",
              "            await google.colab.kernel.invokeFunction('convertToInteractive',\n",
              "                                                     [key], {});\n",
              "          if (!dataTable) return;\n",
              "\n",
              "          const docLinkHtml = 'Like what you see? Visit the ' +\n",
              "            '<a target=\"_blank\" href=https://colab.research.google.com/notebooks/data_table.ipynb>data table notebook</a>'\n",
              "            + ' to learn more about interactive tables.';\n",
              "          element.innerHTML = '';\n",
              "          dataTable['output_type'] = 'display_data';\n",
              "          await google.colab.output.renderOutput(dataTable, element);\n",
              "          const docLink = document.createElement('div');\n",
              "          docLink.innerHTML = docLinkHtml;\n",
              "          element.appendChild(docLink);\n",
              "        }\n",
              "      </script>\n",
              "    </div>\n",
              "  </div>\n",
              "  "
            ]
          },
          "metadata": {},
          "execution_count": 10
        }
      ]
    },
    {
      "cell_type": "markdown",
      "metadata": {
        "id": "ExG1HD_gyEVi"
      },
      "source": [
        "### Add `toxicity_non_disability` column\n",
        "Here we set the binary toxicity label for non-disability identity groups. For these groups, comments with toxicity >= 0.5 are considered toxict and will have a value of 1. Comments with toxicity < 0.5 will have a value of 0."
      ],
      "id": "ExG1HD_gyEVi"
    },
    {
      "cell_type": "markdown",
      "source": [],
      "metadata": {
        "id": "nC9CAZ4eyEVn"
      },
      "id": "nC9CAZ4eyEVn"
    },
    {
      "cell_type": "code",
      "execution_count": 11,
      "metadata": {
        "id": "rZOfTfWDyEVq"
      },
      "outputs": [],
      "source": [
        "all_data_df_cleansed['toxicity_non_disability'] = (all_data_df_cleansed['toxicity'] >= 0.25).astype(int)"
      ],
      "id": "rZOfTfWDyEVq"
    },
    {
      "cell_type": "code",
      "execution_count": 12,
      "metadata": {
        "outputId": "2d868e09-fc08-41e3-d603-0e45ec1e911f",
        "colab": {
          "base_uri": "https://localhost:8080/",
          "height": 424
        },
        "id": "gTUw412TyEVr"
      },
      "outputs": [
        {
          "output_type": "execute_result",
          "data": {
            "text/plain": [
              "         toxicity  toxicity_non_disability\n",
              "0        0.373134                        1\n",
              "1        0.605263                        1\n",
              "2        0.666667                        1\n",
              "3        0.815789                        1\n",
              "4        0.550000                        1\n",
              "...           ...                      ...\n",
              "1999511  0.400000                        1\n",
              "1999512  0.400000                        1\n",
              "1999513  0.400000                        1\n",
              "1999514  0.400000                        1\n",
              "1999515  0.400000                        1\n",
              "\n",
              "[1999515 rows x 2 columns]"
            ],
            "text/html": [
              "\n",
              "  <div id=\"df-d3392f78-3be7-4ea1-a4c1-e2057ebe16cf\">\n",
              "    <div class=\"colab-df-container\">\n",
              "      <div>\n",
              "<style scoped>\n",
              "    .dataframe tbody tr th:only-of-type {\n",
              "        vertical-align: middle;\n",
              "    }\n",
              "\n",
              "    .dataframe tbody tr th {\n",
              "        vertical-align: top;\n",
              "    }\n",
              "\n",
              "    .dataframe thead th {\n",
              "        text-align: right;\n",
              "    }\n",
              "</style>\n",
              "<table border=\"1\" class=\"dataframe\">\n",
              "  <thead>\n",
              "    <tr style=\"text-align: right;\">\n",
              "      <th></th>\n",
              "      <th>toxicity</th>\n",
              "      <th>toxicity_non_disability</th>\n",
              "    </tr>\n",
              "  </thead>\n",
              "  <tbody>\n",
              "    <tr>\n",
              "      <th>0</th>\n",
              "      <td>0.373134</td>\n",
              "      <td>1</td>\n",
              "    </tr>\n",
              "    <tr>\n",
              "      <th>1</th>\n",
              "      <td>0.605263</td>\n",
              "      <td>1</td>\n",
              "    </tr>\n",
              "    <tr>\n",
              "      <th>2</th>\n",
              "      <td>0.666667</td>\n",
              "      <td>1</td>\n",
              "    </tr>\n",
              "    <tr>\n",
              "      <th>3</th>\n",
              "      <td>0.815789</td>\n",
              "      <td>1</td>\n",
              "    </tr>\n",
              "    <tr>\n",
              "      <th>4</th>\n",
              "      <td>0.550000</td>\n",
              "      <td>1</td>\n",
              "    </tr>\n",
              "    <tr>\n",
              "      <th>...</th>\n",
              "      <td>...</td>\n",
              "      <td>...</td>\n",
              "    </tr>\n",
              "    <tr>\n",
              "      <th>1999511</th>\n",
              "      <td>0.400000</td>\n",
              "      <td>1</td>\n",
              "    </tr>\n",
              "    <tr>\n",
              "      <th>1999512</th>\n",
              "      <td>0.400000</td>\n",
              "      <td>1</td>\n",
              "    </tr>\n",
              "    <tr>\n",
              "      <th>1999513</th>\n",
              "      <td>0.400000</td>\n",
              "      <td>1</td>\n",
              "    </tr>\n",
              "    <tr>\n",
              "      <th>1999514</th>\n",
              "      <td>0.400000</td>\n",
              "      <td>1</td>\n",
              "    </tr>\n",
              "    <tr>\n",
              "      <th>1999515</th>\n",
              "      <td>0.400000</td>\n",
              "      <td>1</td>\n",
              "    </tr>\n",
              "  </tbody>\n",
              "</table>\n",
              "<p>1999515 rows × 2 columns</p>\n",
              "</div>\n",
              "      <button class=\"colab-df-convert\" onclick=\"convertToInteractive('df-d3392f78-3be7-4ea1-a4c1-e2057ebe16cf')\"\n",
              "              title=\"Convert this dataframe to an interactive table.\"\n",
              "              style=\"display:none;\">\n",
              "        \n",
              "  <svg xmlns=\"http://www.w3.org/2000/svg\" height=\"24px\"viewBox=\"0 0 24 24\"\n",
              "       width=\"24px\">\n",
              "    <path d=\"M0 0h24v24H0V0z\" fill=\"none\"/>\n",
              "    <path d=\"M18.56 5.44l.94 2.06.94-2.06 2.06-.94-2.06-.94-.94-2.06-.94 2.06-2.06.94zm-11 1L8.5 8.5l.94-2.06 2.06-.94-2.06-.94L8.5 2.5l-.94 2.06-2.06.94zm10 10l.94 2.06.94-2.06 2.06-.94-2.06-.94-.94-2.06-.94 2.06-2.06.94z\"/><path d=\"M17.41 7.96l-1.37-1.37c-.4-.4-.92-.59-1.43-.59-.52 0-1.04.2-1.43.59L10.3 9.45l-7.72 7.72c-.78.78-.78 2.05 0 2.83L4 21.41c.39.39.9.59 1.41.59.51 0 1.02-.2 1.41-.59l7.78-7.78 2.81-2.81c.8-.78.8-2.07 0-2.86zM5.41 20L4 18.59l7.72-7.72 1.47 1.35L5.41 20z\"/>\n",
              "  </svg>\n",
              "      </button>\n",
              "      \n",
              "  <style>\n",
              "    .colab-df-container {\n",
              "      display:flex;\n",
              "      flex-wrap:wrap;\n",
              "      gap: 12px;\n",
              "    }\n",
              "\n",
              "    .colab-df-convert {\n",
              "      background-color: #E8F0FE;\n",
              "      border: none;\n",
              "      border-radius: 50%;\n",
              "      cursor: pointer;\n",
              "      display: none;\n",
              "      fill: #1967D2;\n",
              "      height: 32px;\n",
              "      padding: 0 0 0 0;\n",
              "      width: 32px;\n",
              "    }\n",
              "\n",
              "    .colab-df-convert:hover {\n",
              "      background-color: #E2EBFA;\n",
              "      box-shadow: 0px 1px 2px rgba(60, 64, 67, 0.3), 0px 1px 3px 1px rgba(60, 64, 67, 0.15);\n",
              "      fill: #174EA6;\n",
              "    }\n",
              "\n",
              "    [theme=dark] .colab-df-convert {\n",
              "      background-color: #3B4455;\n",
              "      fill: #D2E3FC;\n",
              "    }\n",
              "\n",
              "    [theme=dark] .colab-df-convert:hover {\n",
              "      background-color: #434B5C;\n",
              "      box-shadow: 0px 1px 3px 1px rgba(0, 0, 0, 0.15);\n",
              "      filter: drop-shadow(0px 1px 2px rgba(0, 0, 0, 0.3));\n",
              "      fill: #FFFFFF;\n",
              "    }\n",
              "  </style>\n",
              "\n",
              "      <script>\n",
              "        const buttonEl =\n",
              "          document.querySelector('#df-d3392f78-3be7-4ea1-a4c1-e2057ebe16cf button.colab-df-convert');\n",
              "        buttonEl.style.display =\n",
              "          google.colab.kernel.accessAllowed ? 'block' : 'none';\n",
              "\n",
              "        async function convertToInteractive(key) {\n",
              "          const element = document.querySelector('#df-d3392f78-3be7-4ea1-a4c1-e2057ebe16cf');\n",
              "          const dataTable =\n",
              "            await google.colab.kernel.invokeFunction('convertToInteractive',\n",
              "                                                     [key], {});\n",
              "          if (!dataTable) return;\n",
              "\n",
              "          const docLinkHtml = 'Like what you see? Visit the ' +\n",
              "            '<a target=\"_blank\" href=https://colab.research.google.com/notebooks/data_table.ipynb>data table notebook</a>'\n",
              "            + ' to learn more about interactive tables.';\n",
              "          element.innerHTML = '';\n",
              "          dataTable['output_type'] = 'display_data';\n",
              "          await google.colab.output.renderOutput(dataTable, element);\n",
              "          const docLink = document.createElement('div');\n",
              "          docLink.innerHTML = docLinkHtml;\n",
              "          element.appendChild(docLink);\n",
              "        }\n",
              "      </script>\n",
              "    </div>\n",
              "  </div>\n",
              "  "
            ]
          },
          "metadata": {},
          "execution_count": 12
        }
      ],
      "source": [
        "all_data_df_cleansed[['toxicity','toxicity_non_disability']]"
      ],
      "id": "gTUw412TyEVr"
    },
    {
      "cell_type": "markdown",
      "metadata": {
        "id": "glSfkAJByEVu"
      },
      "source": [
        "Move the new `toxicity_non_disability` column towards the front of the dataframe:"
      ],
      "id": "glSfkAJByEVu"
    },
    {
      "cell_type": "code",
      "execution_count": 13,
      "metadata": {
        "outputId": "373b4dae-ad93-4f87-a1e6-3e0aff69a9a3",
        "colab": {
          "base_uri": "https://localhost:8080/",
          "height": 994
        },
        "id": "XQJQNR9iyEVv"
      },
      "outputs": [
        {
          "output_type": "execute_result",
          "data": {
            "text/plain": [
              "                                                                                                                                                                                   comment_text  \\\n",
              "0  He got his money... now he lies in wait till after the election in 2 yrs.... dirty politicians need to be afraid of Tar and feathers again... but they aren't and so the people get screwed.   \n",
              "1                                                                                                                              Mad dog will surely put the liberals in mental hospitals. Boorah   \n",
              "2                                                                        And Trump continues his lifelong cowardice by not making this announcement himself.\\n\\nWhat an awful human being .....   \n",
              "3                                                        \"while arresting a man for resisting arrest\".\\n\\nIf you cop-suckers can't see a problem with this, then go suck the barrel of a Glock.   \n",
              "4                                                                                                                                                Tucker and Paul are both total bad ass mofo's.   \n",
              "\n",
              "   disagree  toxicity_non_disability  toxicity  severe_toxicity   obscene  \\\n",
              "0         0                        1  0.373134         0.044776  0.089552   \n",
              "1         0                        1  0.605263         0.013158  0.065789   \n",
              "2         7                        1  0.666667         0.015873  0.031746   \n",
              "3         0                        1  0.815789         0.065789  0.552632   \n",
              "4         0                        1  0.550000         0.037500  0.337500   \n",
              "\n",
              "   sexual_explicit  identity_attack    insult    threat  ...  white  asian  \\\n",
              "0         0.014925         0.000000  0.343284  0.014925  ...    NaN    NaN   \n",
              "1         0.013158         0.092105  0.565789  0.065789  ...    NaN    NaN   \n",
              "2         0.000000         0.047619  0.666667  0.000000  ...    NaN    NaN   \n",
              "3         0.592105         0.000000  0.684211  0.105263  ...    NaN    NaN   \n",
              "4         0.275000         0.037500  0.487500  0.000000  ...    NaN    NaN   \n",
              "\n",
              "   latino  other_race_or_ethnicity  physical_disability  \\\n",
              "0     NaN                      NaN                  NaN   \n",
              "1     NaN                      NaN                  NaN   \n",
              "2     NaN                      NaN                  NaN   \n",
              "3     NaN                      NaN                  NaN   \n",
              "4     NaN                      NaN                  NaN   \n",
              "\n",
              "   intellectual_or_learning_disability  psychiatric_or_mental_illness  \\\n",
              "0                                  NaN                            NaN   \n",
              "1                                  NaN                            NaN   \n",
              "2                                  NaN                            NaN   \n",
              "3                                  NaN                            NaN   \n",
              "4                                  NaN                            NaN   \n",
              "\n",
              "   other_disability  identity_annotator_count  toxicity_annotator_count  \n",
              "0               NaN                         0                        67  \n",
              "1               NaN                         0                        76  \n",
              "2               NaN                         0                        63  \n",
              "3               NaN                         0                        76  \n",
              "4               NaN                         0                        80  \n",
              "\n",
              "[5 rows x 36 columns]"
            ],
            "text/html": [
              "\n",
              "  <div id=\"df-184261b7-c06c-4586-825e-902c3ac94335\">\n",
              "    <div class=\"colab-df-container\">\n",
              "      <div>\n",
              "<style scoped>\n",
              "    .dataframe tbody tr th:only-of-type {\n",
              "        vertical-align: middle;\n",
              "    }\n",
              "\n",
              "    .dataframe tbody tr th {\n",
              "        vertical-align: top;\n",
              "    }\n",
              "\n",
              "    .dataframe thead th {\n",
              "        text-align: right;\n",
              "    }\n",
              "</style>\n",
              "<table border=\"1\" class=\"dataframe\">\n",
              "  <thead>\n",
              "    <tr style=\"text-align: right;\">\n",
              "      <th></th>\n",
              "      <th>comment_text</th>\n",
              "      <th>disagree</th>\n",
              "      <th>toxicity_non_disability</th>\n",
              "      <th>toxicity</th>\n",
              "      <th>severe_toxicity</th>\n",
              "      <th>obscene</th>\n",
              "      <th>sexual_explicit</th>\n",
              "      <th>identity_attack</th>\n",
              "      <th>insult</th>\n",
              "      <th>threat</th>\n",
              "      <th>...</th>\n",
              "      <th>white</th>\n",
              "      <th>asian</th>\n",
              "      <th>latino</th>\n",
              "      <th>other_race_or_ethnicity</th>\n",
              "      <th>physical_disability</th>\n",
              "      <th>intellectual_or_learning_disability</th>\n",
              "      <th>psychiatric_or_mental_illness</th>\n",
              "      <th>other_disability</th>\n",
              "      <th>identity_annotator_count</th>\n",
              "      <th>toxicity_annotator_count</th>\n",
              "    </tr>\n",
              "  </thead>\n",
              "  <tbody>\n",
              "    <tr>\n",
              "      <th>0</th>\n",
              "      <td>He got his money... now he lies in wait till after the election in 2 yrs.... dirty politicians need to be afraid of Tar and feathers again... but they aren't and so the people get screwed.</td>\n",
              "      <td>0</td>\n",
              "      <td>1</td>\n",
              "      <td>0.373134</td>\n",
              "      <td>0.044776</td>\n",
              "      <td>0.089552</td>\n",
              "      <td>0.014925</td>\n",
              "      <td>0.000000</td>\n",
              "      <td>0.343284</td>\n",
              "      <td>0.014925</td>\n",
              "      <td>...</td>\n",
              "      <td>NaN</td>\n",
              "      <td>NaN</td>\n",
              "      <td>NaN</td>\n",
              "      <td>NaN</td>\n",
              "      <td>NaN</td>\n",
              "      <td>NaN</td>\n",
              "      <td>NaN</td>\n",
              "      <td>NaN</td>\n",
              "      <td>0</td>\n",
              "      <td>67</td>\n",
              "    </tr>\n",
              "    <tr>\n",
              "      <th>1</th>\n",
              "      <td>Mad dog will surely put the liberals in mental hospitals. Boorah</td>\n",
              "      <td>0</td>\n",
              "      <td>1</td>\n",
              "      <td>0.605263</td>\n",
              "      <td>0.013158</td>\n",
              "      <td>0.065789</td>\n",
              "      <td>0.013158</td>\n",
              "      <td>0.092105</td>\n",
              "      <td>0.565789</td>\n",
              "      <td>0.065789</td>\n",
              "      <td>...</td>\n",
              "      <td>NaN</td>\n",
              "      <td>NaN</td>\n",
              "      <td>NaN</td>\n",
              "      <td>NaN</td>\n",
              "      <td>NaN</td>\n",
              "      <td>NaN</td>\n",
              "      <td>NaN</td>\n",
              "      <td>NaN</td>\n",
              "      <td>0</td>\n",
              "      <td>76</td>\n",
              "    </tr>\n",
              "    <tr>\n",
              "      <th>2</th>\n",
              "      <td>And Trump continues his lifelong cowardice by not making this announcement himself.\\n\\nWhat an awful human being .....</td>\n",
              "      <td>7</td>\n",
              "      <td>1</td>\n",
              "      <td>0.666667</td>\n",
              "      <td>0.015873</td>\n",
              "      <td>0.031746</td>\n",
              "      <td>0.000000</td>\n",
              "      <td>0.047619</td>\n",
              "      <td>0.666667</td>\n",
              "      <td>0.000000</td>\n",
              "      <td>...</td>\n",
              "      <td>NaN</td>\n",
              "      <td>NaN</td>\n",
              "      <td>NaN</td>\n",
              "      <td>NaN</td>\n",
              "      <td>NaN</td>\n",
              "      <td>NaN</td>\n",
              "      <td>NaN</td>\n",
              "      <td>NaN</td>\n",
              "      <td>0</td>\n",
              "      <td>63</td>\n",
              "    </tr>\n",
              "    <tr>\n",
              "      <th>3</th>\n",
              "      <td>\"while arresting a man for resisting arrest\".\\n\\nIf you cop-suckers can't see a problem with this, then go suck the barrel of a Glock.</td>\n",
              "      <td>0</td>\n",
              "      <td>1</td>\n",
              "      <td>0.815789</td>\n",
              "      <td>0.065789</td>\n",
              "      <td>0.552632</td>\n",
              "      <td>0.592105</td>\n",
              "      <td>0.000000</td>\n",
              "      <td>0.684211</td>\n",
              "      <td>0.105263</td>\n",
              "      <td>...</td>\n",
              "      <td>NaN</td>\n",
              "      <td>NaN</td>\n",
              "      <td>NaN</td>\n",
              "      <td>NaN</td>\n",
              "      <td>NaN</td>\n",
              "      <td>NaN</td>\n",
              "      <td>NaN</td>\n",
              "      <td>NaN</td>\n",
              "      <td>0</td>\n",
              "      <td>76</td>\n",
              "    </tr>\n",
              "    <tr>\n",
              "      <th>4</th>\n",
              "      <td>Tucker and Paul are both total bad ass mofo's.</td>\n",
              "      <td>0</td>\n",
              "      <td>1</td>\n",
              "      <td>0.550000</td>\n",
              "      <td>0.037500</td>\n",
              "      <td>0.337500</td>\n",
              "      <td>0.275000</td>\n",
              "      <td>0.037500</td>\n",
              "      <td>0.487500</td>\n",
              "      <td>0.000000</td>\n",
              "      <td>...</td>\n",
              "      <td>NaN</td>\n",
              "      <td>NaN</td>\n",
              "      <td>NaN</td>\n",
              "      <td>NaN</td>\n",
              "      <td>NaN</td>\n",
              "      <td>NaN</td>\n",
              "      <td>NaN</td>\n",
              "      <td>NaN</td>\n",
              "      <td>0</td>\n",
              "      <td>80</td>\n",
              "    </tr>\n",
              "  </tbody>\n",
              "</table>\n",
              "<p>5 rows × 36 columns</p>\n",
              "</div>\n",
              "      <button class=\"colab-df-convert\" onclick=\"convertToInteractive('df-184261b7-c06c-4586-825e-902c3ac94335')\"\n",
              "              title=\"Convert this dataframe to an interactive table.\"\n",
              "              style=\"display:none;\">\n",
              "        \n",
              "  <svg xmlns=\"http://www.w3.org/2000/svg\" height=\"24px\"viewBox=\"0 0 24 24\"\n",
              "       width=\"24px\">\n",
              "    <path d=\"M0 0h24v24H0V0z\" fill=\"none\"/>\n",
              "    <path d=\"M18.56 5.44l.94 2.06.94-2.06 2.06-.94-2.06-.94-.94-2.06-.94 2.06-2.06.94zm-11 1L8.5 8.5l.94-2.06 2.06-.94-2.06-.94L8.5 2.5l-.94 2.06-2.06.94zm10 10l.94 2.06.94-2.06 2.06-.94-2.06-.94-.94-2.06-.94 2.06-2.06.94z\"/><path d=\"M17.41 7.96l-1.37-1.37c-.4-.4-.92-.59-1.43-.59-.52 0-1.04.2-1.43.59L10.3 9.45l-7.72 7.72c-.78.78-.78 2.05 0 2.83L4 21.41c.39.39.9.59 1.41.59.51 0 1.02-.2 1.41-.59l7.78-7.78 2.81-2.81c.8-.78.8-2.07 0-2.86zM5.41 20L4 18.59l7.72-7.72 1.47 1.35L5.41 20z\"/>\n",
              "  </svg>\n",
              "      </button>\n",
              "      \n",
              "  <style>\n",
              "    .colab-df-container {\n",
              "      display:flex;\n",
              "      flex-wrap:wrap;\n",
              "      gap: 12px;\n",
              "    }\n",
              "\n",
              "    .colab-df-convert {\n",
              "      background-color: #E8F0FE;\n",
              "      border: none;\n",
              "      border-radius: 50%;\n",
              "      cursor: pointer;\n",
              "      display: none;\n",
              "      fill: #1967D2;\n",
              "      height: 32px;\n",
              "      padding: 0 0 0 0;\n",
              "      width: 32px;\n",
              "    }\n",
              "\n",
              "    .colab-df-convert:hover {\n",
              "      background-color: #E2EBFA;\n",
              "      box-shadow: 0px 1px 2px rgba(60, 64, 67, 0.3), 0px 1px 3px 1px rgba(60, 64, 67, 0.15);\n",
              "      fill: #174EA6;\n",
              "    }\n",
              "\n",
              "    [theme=dark] .colab-df-convert {\n",
              "      background-color: #3B4455;\n",
              "      fill: #D2E3FC;\n",
              "    }\n",
              "\n",
              "    [theme=dark] .colab-df-convert:hover {\n",
              "      background-color: #434B5C;\n",
              "      box-shadow: 0px 1px 3px 1px rgba(0, 0, 0, 0.15);\n",
              "      filter: drop-shadow(0px 1px 2px rgba(0, 0, 0, 0.3));\n",
              "      fill: #FFFFFF;\n",
              "    }\n",
              "  </style>\n",
              "\n",
              "      <script>\n",
              "        const buttonEl =\n",
              "          document.querySelector('#df-184261b7-c06c-4586-825e-902c3ac94335 button.colab-df-convert');\n",
              "        buttonEl.style.display =\n",
              "          google.colab.kernel.accessAllowed ? 'block' : 'none';\n",
              "\n",
              "        async function convertToInteractive(key) {\n",
              "          const element = document.querySelector('#df-184261b7-c06c-4586-825e-902c3ac94335');\n",
              "          const dataTable =\n",
              "            await google.colab.kernel.invokeFunction('convertToInteractive',\n",
              "                                                     [key], {});\n",
              "          if (!dataTable) return;\n",
              "\n",
              "          const docLinkHtml = 'Like what you see? Visit the ' +\n",
              "            '<a target=\"_blank\" href=https://colab.research.google.com/notebooks/data_table.ipynb>data table notebook</a>'\n",
              "            + ' to learn more about interactive tables.';\n",
              "          element.innerHTML = '';\n",
              "          dataTable['output_type'] = 'display_data';\n",
              "          await google.colab.output.renderOutput(dataTable, element);\n",
              "          const docLink = document.createElement('div');\n",
              "          docLink.innerHTML = docLinkHtml;\n",
              "          element.appendChild(docLink);\n",
              "        }\n",
              "      </script>\n",
              "    </div>\n",
              "  </div>\n",
              "  "
            ]
          },
          "metadata": {},
          "execution_count": 13
        }
      ],
      "source": [
        "orig_cols = all_data_df_cleansed.columns.tolist()\n",
        "reordered_cols = orig_cols[:2] + orig_cols[-1:] + orig_cols[2:-1]\n",
        "all_data_df_cleansed = all_data_df_cleansed[reordered_cols]\n",
        "all_data_df_cleansed.head()"
      ],
      "id": "XQJQNR9iyEVv"
    },
    {
      "cell_type": "markdown",
      "id": "6fcbde89",
      "metadata": {
        "id": "6fcbde89"
      },
      "source": [
        "# Prepare Disability Subset"
      ]
    },
    {
      "cell_type": "markdown",
      "id": "e6697880",
      "metadata": {
        "id": "e6697880"
      },
      "source": [
        "## Create disability subset"
      ]
    },
    {
      "cell_type": "code",
      "execution_count": 14,
      "id": "793847d4",
      "metadata": {
        "id": "793847d4"
      },
      "outputs": [],
      "source": [
        "disability_df = all_data_df_cleansed[(all_data_df_cleansed[\"physical_disability\"] > 0) | \n",
        "           (all_data_df_cleansed[\"intellectual_or_learning_disability\"] > 0) | \n",
        "           (all_data_df_cleansed[\"psychiatric_or_mental_illness\"] > 0) | \n",
        "           (all_data_df_cleansed[\"other_disability\"] > 0)]"
      ]
    },
    {
      "cell_type": "code",
      "execution_count": null,
      "id": "57642faa",
      "metadata": {
        "scrolled": true,
        "id": "57642faa"
      },
      "outputs": [],
      "source": [
        "disability_df.shape"
      ]
    },
    {
      "cell_type": "markdown",
      "id": "02e3d264",
      "metadata": {
        "id": "02e3d264"
      },
      "source": [
        "## Basic feature engineering"
      ]
    },
    {
      "cell_type": "markdown",
      "id": "43e3cc7e",
      "metadata": {
        "id": "43e3cc7e"
      },
      "source": [
        "## Add disability subtype column\n",
        "We'll add a categorical feature that specifies which of the following disability subtypes each comment corresponds to:\n",
        "\n",
        "- `physical_disability`\n",
        "- `intellectual_or_learning_disability`\n",
        "- `psychiatric_or_mental_illness`\n",
        "- `other_disability`\n",
        "\n",
        "EDA revealed that some comments have nonzero values for more than one subtype above. Since the purpose of this comment is to facilitate stratified sampling, the disability subtype label for each comment will be the subtype corresponding to the largest value for that comment."
      ]
    },
    {
      "cell_type": "code",
      "execution_count": 16,
      "id": "42adc80b",
      "metadata": {
        "id": "42adc80b",
        "outputId": "4f5fe0b1-2ef7-4c87-851c-93f5595b6f1a",
        "colab": {
          "base_uri": "https://localhost:8080/",
          "height": 855
        }
      },
      "outputs": [
        {
          "output_type": "execute_result",
          "data": {
            "text/plain": [
              "                                                                                                                                                                                                                                   comment_text  \\\n",
              "7705                                                                                                                                                                                                    No sympathy for these two knuckleheads.   \n",
              "8073                                                                                                                                                  Wow!\\nYour progressive psychosis has become extreme!\\nPlease seek immediate medical help.   \n",
              "8115                                                                                                              Or.... maybe there IS chaos because the \"president\" is a mentally ill, in-over-his-head idiot who couldn't lead cats to tuna.   \n",
              "8125                                                                                                                                                                        I'll take someone who's physically ill over one who's mentally ill.   \n",
              "8263  Mental Illness at work again, again, again, again.............This women placed a clamp on the boys genitalia.   This woman SHOULD have a clamp placed on HER INNER and OUTER LIPS of her VAGINA...........and Never Removed.............   \n",
              "\n",
              "      disagree  toxicity_non_disability  toxicity  severe_toxicity   obscene  \\\n",
              "7705         0                        1  0.689655         0.000000  0.017241   \n",
              "8073         0                        1  0.800000         0.000000  0.000000   \n",
              "8115         1                        1  0.790323         0.032258  0.161290   \n",
              "8125         0                        1  0.352941         0.029412  0.014706   \n",
              "8263         0                        1  0.842857         0.114286  0.171429   \n",
              "\n",
              "      sexual_explicit  identity_attack    insult    threat  ...  latino  \\\n",
              "7705         0.000000         0.000000  0.689655  0.000000  ...     0.0   \n",
              "8073         0.000000         0.100000  0.700000  0.000000  ...     0.0   \n",
              "8115         0.016129         0.145161  0.774194  0.016129  ...     0.0   \n",
              "8125         0.014706         0.088235  0.264706  0.014706  ...     0.0   \n",
              "8263         0.814286         0.100000  0.371429  0.257143  ...     0.0   \n",
              "\n",
              "      other_race_or_ethnicity  physical_disability  \\\n",
              "7705                      0.0                 0.25   \n",
              "8073                      0.0                 0.00   \n",
              "8115                      0.0                 0.00   \n",
              "8125                      0.0                 0.75   \n",
              "8263                      0.0                 0.00   \n",
              "\n",
              "      intellectual_or_learning_disability  psychiatric_or_mental_illness  \\\n",
              "7705                                  0.0                            0.0   \n",
              "8073                                  0.0                            1.0   \n",
              "8115                                  0.0                            1.0   \n",
              "8125                                  0.0                            1.0   \n",
              "8263                                  0.0                            1.0   \n",
              "\n",
              "      other_disability  identity_annotator_count  toxicity_annotator_count  \\\n",
              "7705               0.0                         4                        58   \n",
              "8073               0.0                         4                        10   \n",
              "8115               0.0                         4                        62   \n",
              "8125               0.0                         4                        68   \n",
              "8263               0.0                         4                        70   \n",
              "\n",
              "      disability_subtypes_total             disability_subtype  \n",
              "7705                       0.25            physical_disability  \n",
              "8073                       1.00  psychiatric_or_mental_illness  \n",
              "8115                       1.00  psychiatric_or_mental_illness  \n",
              "8125                       1.75  psychiatric_or_mental_illness  \n",
              "8263                       1.00  psychiatric_or_mental_illness  \n",
              "\n",
              "[5 rows x 38 columns]"
            ],
            "text/html": [
              "\n",
              "  <div id=\"df-8ecfdb7a-3857-46a7-ac07-eb67845dc505\">\n",
              "    <div class=\"colab-df-container\">\n",
              "      <div>\n",
              "<style scoped>\n",
              "    .dataframe tbody tr th:only-of-type {\n",
              "        vertical-align: middle;\n",
              "    }\n",
              "\n",
              "    .dataframe tbody tr th {\n",
              "        vertical-align: top;\n",
              "    }\n",
              "\n",
              "    .dataframe thead th {\n",
              "        text-align: right;\n",
              "    }\n",
              "</style>\n",
              "<table border=\"1\" class=\"dataframe\">\n",
              "  <thead>\n",
              "    <tr style=\"text-align: right;\">\n",
              "      <th></th>\n",
              "      <th>comment_text</th>\n",
              "      <th>disagree</th>\n",
              "      <th>toxicity_non_disability</th>\n",
              "      <th>toxicity</th>\n",
              "      <th>severe_toxicity</th>\n",
              "      <th>obscene</th>\n",
              "      <th>sexual_explicit</th>\n",
              "      <th>identity_attack</th>\n",
              "      <th>insult</th>\n",
              "      <th>threat</th>\n",
              "      <th>...</th>\n",
              "      <th>latino</th>\n",
              "      <th>other_race_or_ethnicity</th>\n",
              "      <th>physical_disability</th>\n",
              "      <th>intellectual_or_learning_disability</th>\n",
              "      <th>psychiatric_or_mental_illness</th>\n",
              "      <th>other_disability</th>\n",
              "      <th>identity_annotator_count</th>\n",
              "      <th>toxicity_annotator_count</th>\n",
              "      <th>disability_subtypes_total</th>\n",
              "      <th>disability_subtype</th>\n",
              "    </tr>\n",
              "  </thead>\n",
              "  <tbody>\n",
              "    <tr>\n",
              "      <th>7705</th>\n",
              "      <td>No sympathy for these two knuckleheads.</td>\n",
              "      <td>0</td>\n",
              "      <td>1</td>\n",
              "      <td>0.689655</td>\n",
              "      <td>0.000000</td>\n",
              "      <td>0.017241</td>\n",
              "      <td>0.000000</td>\n",
              "      <td>0.000000</td>\n",
              "      <td>0.689655</td>\n",
              "      <td>0.000000</td>\n",
              "      <td>...</td>\n",
              "      <td>0.0</td>\n",
              "      <td>0.0</td>\n",
              "      <td>0.25</td>\n",
              "      <td>0.0</td>\n",
              "      <td>0.0</td>\n",
              "      <td>0.0</td>\n",
              "      <td>4</td>\n",
              "      <td>58</td>\n",
              "      <td>0.25</td>\n",
              "      <td>physical_disability</td>\n",
              "    </tr>\n",
              "    <tr>\n",
              "      <th>8073</th>\n",
              "      <td>Wow!\\nYour progressive psychosis has become extreme!\\nPlease seek immediate medical help.</td>\n",
              "      <td>0</td>\n",
              "      <td>1</td>\n",
              "      <td>0.800000</td>\n",
              "      <td>0.000000</td>\n",
              "      <td>0.000000</td>\n",
              "      <td>0.000000</td>\n",
              "      <td>0.100000</td>\n",
              "      <td>0.700000</td>\n",
              "      <td>0.000000</td>\n",
              "      <td>...</td>\n",
              "      <td>0.0</td>\n",
              "      <td>0.0</td>\n",
              "      <td>0.00</td>\n",
              "      <td>0.0</td>\n",
              "      <td>1.0</td>\n",
              "      <td>0.0</td>\n",
              "      <td>4</td>\n",
              "      <td>10</td>\n",
              "      <td>1.00</td>\n",
              "      <td>psychiatric_or_mental_illness</td>\n",
              "    </tr>\n",
              "    <tr>\n",
              "      <th>8115</th>\n",
              "      <td>Or.... maybe there IS chaos because the \"president\" is a mentally ill, in-over-his-head idiot who couldn't lead cats to tuna.</td>\n",
              "      <td>1</td>\n",
              "      <td>1</td>\n",
              "      <td>0.790323</td>\n",
              "      <td>0.032258</td>\n",
              "      <td>0.161290</td>\n",
              "      <td>0.016129</td>\n",
              "      <td>0.145161</td>\n",
              "      <td>0.774194</td>\n",
              "      <td>0.016129</td>\n",
              "      <td>...</td>\n",
              "      <td>0.0</td>\n",
              "      <td>0.0</td>\n",
              "      <td>0.00</td>\n",
              "      <td>0.0</td>\n",
              "      <td>1.0</td>\n",
              "      <td>0.0</td>\n",
              "      <td>4</td>\n",
              "      <td>62</td>\n",
              "      <td>1.00</td>\n",
              "      <td>psychiatric_or_mental_illness</td>\n",
              "    </tr>\n",
              "    <tr>\n",
              "      <th>8125</th>\n",
              "      <td>I'll take someone who's physically ill over one who's mentally ill.</td>\n",
              "      <td>0</td>\n",
              "      <td>1</td>\n",
              "      <td>0.352941</td>\n",
              "      <td>0.029412</td>\n",
              "      <td>0.014706</td>\n",
              "      <td>0.014706</td>\n",
              "      <td>0.088235</td>\n",
              "      <td>0.264706</td>\n",
              "      <td>0.014706</td>\n",
              "      <td>...</td>\n",
              "      <td>0.0</td>\n",
              "      <td>0.0</td>\n",
              "      <td>0.75</td>\n",
              "      <td>0.0</td>\n",
              "      <td>1.0</td>\n",
              "      <td>0.0</td>\n",
              "      <td>4</td>\n",
              "      <td>68</td>\n",
              "      <td>1.75</td>\n",
              "      <td>psychiatric_or_mental_illness</td>\n",
              "    </tr>\n",
              "    <tr>\n",
              "      <th>8263</th>\n",
              "      <td>Mental Illness at work again, again, again, again.............This women placed a clamp on the boys genitalia.   This woman SHOULD have a clamp placed on HER INNER and OUTER LIPS of her VAGINA...........and Never Removed.............</td>\n",
              "      <td>0</td>\n",
              "      <td>1</td>\n",
              "      <td>0.842857</td>\n",
              "      <td>0.114286</td>\n",
              "      <td>0.171429</td>\n",
              "      <td>0.814286</td>\n",
              "      <td>0.100000</td>\n",
              "      <td>0.371429</td>\n",
              "      <td>0.257143</td>\n",
              "      <td>...</td>\n",
              "      <td>0.0</td>\n",
              "      <td>0.0</td>\n",
              "      <td>0.00</td>\n",
              "      <td>0.0</td>\n",
              "      <td>1.0</td>\n",
              "      <td>0.0</td>\n",
              "      <td>4</td>\n",
              "      <td>70</td>\n",
              "      <td>1.00</td>\n",
              "      <td>psychiatric_or_mental_illness</td>\n",
              "    </tr>\n",
              "  </tbody>\n",
              "</table>\n",
              "<p>5 rows × 38 columns</p>\n",
              "</div>\n",
              "      <button class=\"colab-df-convert\" onclick=\"convertToInteractive('df-8ecfdb7a-3857-46a7-ac07-eb67845dc505')\"\n",
              "              title=\"Convert this dataframe to an interactive table.\"\n",
              "              style=\"display:none;\">\n",
              "        \n",
              "  <svg xmlns=\"http://www.w3.org/2000/svg\" height=\"24px\"viewBox=\"0 0 24 24\"\n",
              "       width=\"24px\">\n",
              "    <path d=\"M0 0h24v24H0V0z\" fill=\"none\"/>\n",
              "    <path d=\"M18.56 5.44l.94 2.06.94-2.06 2.06-.94-2.06-.94-.94-2.06-.94 2.06-2.06.94zm-11 1L8.5 8.5l.94-2.06 2.06-.94-2.06-.94L8.5 2.5l-.94 2.06-2.06.94zm10 10l.94 2.06.94-2.06 2.06-.94-2.06-.94-.94-2.06-.94 2.06-2.06.94z\"/><path d=\"M17.41 7.96l-1.37-1.37c-.4-.4-.92-.59-1.43-.59-.52 0-1.04.2-1.43.59L10.3 9.45l-7.72 7.72c-.78.78-.78 2.05 0 2.83L4 21.41c.39.39.9.59 1.41.59.51 0 1.02-.2 1.41-.59l7.78-7.78 2.81-2.81c.8-.78.8-2.07 0-2.86zM5.41 20L4 18.59l7.72-7.72 1.47 1.35L5.41 20z\"/>\n",
              "  </svg>\n",
              "      </button>\n",
              "      \n",
              "  <style>\n",
              "    .colab-df-container {\n",
              "      display:flex;\n",
              "      flex-wrap:wrap;\n",
              "      gap: 12px;\n",
              "    }\n",
              "\n",
              "    .colab-df-convert {\n",
              "      background-color: #E8F0FE;\n",
              "      border: none;\n",
              "      border-radius: 50%;\n",
              "      cursor: pointer;\n",
              "      display: none;\n",
              "      fill: #1967D2;\n",
              "      height: 32px;\n",
              "      padding: 0 0 0 0;\n",
              "      width: 32px;\n",
              "    }\n",
              "\n",
              "    .colab-df-convert:hover {\n",
              "      background-color: #E2EBFA;\n",
              "      box-shadow: 0px 1px 2px rgba(60, 64, 67, 0.3), 0px 1px 3px 1px rgba(60, 64, 67, 0.15);\n",
              "      fill: #174EA6;\n",
              "    }\n",
              "\n",
              "    [theme=dark] .colab-df-convert {\n",
              "      background-color: #3B4455;\n",
              "      fill: #D2E3FC;\n",
              "    }\n",
              "\n",
              "    [theme=dark] .colab-df-convert:hover {\n",
              "      background-color: #434B5C;\n",
              "      box-shadow: 0px 1px 3px 1px rgba(0, 0, 0, 0.15);\n",
              "      filter: drop-shadow(0px 1px 2px rgba(0, 0, 0, 0.3));\n",
              "      fill: #FFFFFF;\n",
              "    }\n",
              "  </style>\n",
              "\n",
              "      <script>\n",
              "        const buttonEl =\n",
              "          document.querySelector('#df-8ecfdb7a-3857-46a7-ac07-eb67845dc505 button.colab-df-convert');\n",
              "        buttonEl.style.display =\n",
              "          google.colab.kernel.accessAllowed ? 'block' : 'none';\n",
              "\n",
              "        async function convertToInteractive(key) {\n",
              "          const element = document.querySelector('#df-8ecfdb7a-3857-46a7-ac07-eb67845dc505');\n",
              "          const dataTable =\n",
              "            await google.colab.kernel.invokeFunction('convertToInteractive',\n",
              "                                                     [key], {});\n",
              "          if (!dataTable) return;\n",
              "\n",
              "          const docLinkHtml = 'Like what you see? Visit the ' +\n",
              "            '<a target=\"_blank\" href=https://colab.research.google.com/notebooks/data_table.ipynb>data table notebook</a>'\n",
              "            + ' to learn more about interactive tables.';\n",
              "          element.innerHTML = '';\n",
              "          dataTable['output_type'] = 'display_data';\n",
              "          await google.colab.output.renderOutput(dataTable, element);\n",
              "          const docLink = document.createElement('div');\n",
              "          docLink.innerHTML = docLinkHtml;\n",
              "          element.appendChild(docLink);\n",
              "        }\n",
              "      </script>\n",
              "    </div>\n",
              "  </div>\n",
              "  "
            ]
          },
          "metadata": {},
          "execution_count": 16
        }
      ],
      "source": [
        "disability_subtypes_df = disability_df[['physical_disability','intellectual_or_learning_disability','psychiatric_or_mental_illness','other_disability']]\n",
        "disability_df = disability_df.assign(disability_subtype=disability_subtypes_df.idxmax(axis=1))\n",
        "disability_df.head()"
      ]
    },
    {
      "cell_type": "markdown",
      "source": [
        "### Add `'disability_subtypes_total` column\n",
        "This column will indicate how likely a comment is to mention disability."
      ],
      "metadata": {
        "id": "WaCf2o6ALH3R"
      },
      "id": "WaCf2o6ALH3R"
    },
    {
      "cell_type": "code",
      "source": [
        "disability_df['disability_subtypes_total'] = disability_df['physical_disability']+disability_df['intellectual_or_learning_disability']+disability_df['psychiatric_or_mental_illness']+disability_df['other_disability']\n",
        "disability_df['disability_subtypes_total']"
      ],
      "metadata": {
        "colab": {
          "base_uri": "https://localhost:8080/"
        },
        "id": "b6hcqsG7LRFM",
        "outputId": "f01e18ae-c44e-4d1d-ed42-64272fe9fcaa"
      },
      "id": "b6hcqsG7LRFM",
      "execution_count": 17,
      "outputs": [
        {
          "output_type": "execute_result",
          "data": {
            "text/plain": [
              "7705       0.250000\n",
              "8073       1.000000\n",
              "8115       1.000000\n",
              "8125       1.750000\n",
              "8263       1.000000\n",
              "             ...   \n",
              "1999482    0.600000\n",
              "1999507    0.700000\n",
              "1999508    0.500000\n",
              "1999514    0.003717\n",
              "1999515    0.000640\n",
              "Name: disability_subtypes_total, Length: 18665, dtype: float64"
            ]
          },
          "metadata": {},
          "execution_count": 17
        }
      ]
    },
    {
      "cell_type": "markdown",
      "source": [
        "# Operationalize comments **mentioning disability** and toxic **ableist** comments\n",
        "\n",
        "Need to operaztionalize the following:\n",
        "\n",
        "1. What is considered *disability-related*?\n",
        "1. What is considered *ableist* or *toxic towards people with disabilities*?"
      ],
      "metadata": {
        "id": "JPAZkHT9EGXl"
      },
      "id": "JPAZkHT9EGXl"
    },
    {
      "cell_type": "markdown",
      "source": [
        "#### Comments where the disability score for each subtypes <= 0.1 mostly seems like they're not related to disability at all prob because there's not enough consensus on disability-relatedness scores. There are a few that have *slight mention* of disability, but most of them don't mention disability at all. In the interest of time, we'll drop rows where disability_subtype total <= 0.1."
      ],
      "metadata": {
        "id": "RmifV4Z-7uzp"
      },
      "id": "RmifV4Z-7uzp"
    },
    {
      "cell_type": "code",
      "source": [
        "test_filter_condition = disability_df['disability_subtypes_total']<=0.1\n",
        "display(disability_df.loc[test_filter_condition,\n",
        "                    ['comment_text','toxicity','insult', 'threat','physical_disability','intellectual_or_learning_disability','psychiatric_or_mental_illness','other_disability','disability_subtypes_total','identity_annotator_count']])"
      ],
      "metadata": {
        "colab": {
          "base_uri": "https://localhost:8080/",
          "height": 832
        },
        "id": "OpPEhItu1h6U",
        "outputId": "4195efdb-b44a-44ce-df07-0a1a18efbd47"
      },
      "id": "OpPEhItu1h6U",
      "execution_count": 18,
      "outputs": [
        {
          "output_type": "display_data",
          "data": {
            "text/plain": [
              "                                                                                                                                                                                                                                                                                                                                                                                                                                                                                                                                                                                                                    comment_text  \\\n",
              "9884                                                                                                                                                                                                                                                                                                                                                                      China is the worst possible \"global partner\" anyone could have, it is the biggest dysfunctional and theft-based society with \"entitlement\" attitude - and clearly the wealthy that immigrated here made Chinese-only \"organizations\". What a disgrace.   \n",
              "9902                                                           Trump is already selling his logo to Hindu contractors.  In addition, he has to pay interest to the Russian mafia, who will accept access to projects as payment. Trump is selling his brand in Argentina in exchange for dollars. You Trump people are completely brain-dead. This will blow up in America's face very quickly. You and those like you are complete fools. Trump probably is immune. Let's see if the shameful idiotic Republican Congress has the balls to impeach this cheesy crotch-grabbing pervert lying bustard snake oil salesman. As if!   \n",
              "9904                                                                                                                                                                                                                                                                                                                                                                                                                                                                                                                                                            LW2: Your daughter is a nut. Amy's right, she needs to get help.   \n",
              "9907                                                                                                                 What a piece of GARBAGE! Obviously written by a left wing nut that resents the knowledge, experience and power that comes with getting older. It seems that she (and many other clueless people) think that 'aging', working your way up and being a useful part of society in your 'golden years' is something to be ashamed of.\\n\\nBeing 'old' and part of society is not a dirty word, it's something to be proud of. Remember lady one day you will be an 'old white woman' how you going to feel then?   \n",
              "9944                                                                                                                                                                                                                                                                                                                                                                                                                                                                                                                             great, this guy was a phony, just like trump.  and like trump he is a racist, bigot and stupid.   \n",
              "...                                                                                                                                                                                                                                                                                                                                                                                                                                                                                                                                                                                                                          ...   \n",
              "1999269  Pedophiles are rarely interested in a child's sexual orientation; they are interested in satisfying their cravings in an illegal and socially unacceptable manner.\\nSince there are ever so many more heterosexuals in the world than there are homosexuals, most child molestation is perpetrated by heterosexuals; also most is perpetrated by men.  So, you are suggesting that heterosexual men are trying to change the sexual orientation of children?\\nAnother deep breath might be in order.\\nIt would be most worthwhile to read the following article by a research psychologist at the University of Cali...   \n",
              "1999375                                                              I'm glad you brought this up, Mike AA. And there's more. As someone who has lost my husband to cancer and have been through the indescribable anguish and unbearable pain of sitting at the bedside of your terminally ill loved one you're about to have to let go, what I found particularly outrageous among the many new lows Trump has stooped to in the last few days: His call to terminally ill people to stick around long enough so they can vote for him on November 8. This man is devoid of even the smallest spark of compassion and decency.   \n",
              "1999377  Paul:  I mention Jim Jones as the extreme example of the power of charismatic demogoguery.  We already saw Trump invite his supporters to physically attack protesters at his rallies.....and they did so.  I don't think he'll be passing out KoolAid, but I do fear if he's defeated he may very well refer to that \"fixed\" election which could easily encourage violent behavior from the most zealous of his followers.  \\n\\nRe: the crying baby.  If, indeed, he was \"goofin\", it was in extremely poor taste.  Embarassing someone for a \"laugh\" is not funny.  The woman had come to his rally.  She was a T...   \n",
              "1999514                                                                                                                                                                                                                                                                                                                                                                                                                                                                  I just don't find her a very good representation of the transexual community. She just seems so self-absorbed & concerned with such superficial issues.   \n",
              "1999515                                                                                                                                                                                                                                                                                                                                                                                                                                                                                                                     You know the Trump fanatics are trolling the G&M ........ when you see Trudeau being called a Muslim   \n",
              "\n",
              "         toxicity    insult    threat  physical_disability  \\\n",
              "9884     0.434211  0.381579  0.000000             0.000000   \n",
              "9902     0.750000  0.750000  0.000000             0.000000   \n",
              "9904     0.714286  0.714286  0.014286             0.000000   \n",
              "9907     0.728571  0.657143  0.000000             0.000000   \n",
              "9944     0.866667  0.866667  0.000000             0.000000   \n",
              "...           ...       ...       ...                  ...   \n",
              "1999269  0.400000  0.000000  0.000000             0.000000   \n",
              "1999375  0.400000  0.400000  0.000000             0.100000   \n",
              "1999377  0.400000  0.400000  0.000000             0.000000   \n",
              "1999514  0.400000  0.100000  0.000000             0.003717   \n",
              "1999515  0.400000  0.300000  0.200000             0.000000   \n",
              "\n",
              "         intellectual_or_learning_disability  psychiatric_or_mental_illness  \\\n",
              "9884                                     0.0                            0.1   \n",
              "9902                                     0.0                            0.1   \n",
              "9904                                     0.0                            0.1   \n",
              "9907                                     0.0                            0.1   \n",
              "9944                                     0.1                            0.0   \n",
              "...                                      ...                            ...   \n",
              "1999269                                  0.0                            0.1   \n",
              "1999375                                  0.0                            0.0   \n",
              "1999377                                  0.1                            0.0   \n",
              "1999514                                  0.0                            0.0   \n",
              "1999515                                  0.0                            0.0   \n",
              "\n",
              "         other_disability  disability_subtypes_total  identity_annotator_count  \n",
              "9884              0.00000                   0.100000                        10  \n",
              "9902              0.00000                   0.100000                        10  \n",
              "9904              0.00000                   0.100000                        10  \n",
              "9907              0.00000                   0.100000                        10  \n",
              "9944              0.00000                   0.100000                        10  \n",
              "...                   ...                        ...                       ...  \n",
              "1999269           0.00000                   0.100000                        10  \n",
              "1999375           0.00000                   0.100000                        10  \n",
              "1999377           0.00000                   0.100000                        10  \n",
              "1999514           0.00000                   0.003717                       269  \n",
              "1999515           0.00064                   0.000640                      1562  \n",
              "\n",
              "[3507 rows x 10 columns]"
            ],
            "text/html": [
              "\n",
              "  <div id=\"df-0bf9337c-be30-47a8-978f-29bb4c3a7e60\">\n",
              "    <div class=\"colab-df-container\">\n",
              "      <div>\n",
              "<style scoped>\n",
              "    .dataframe tbody tr th:only-of-type {\n",
              "        vertical-align: middle;\n",
              "    }\n",
              "\n",
              "    .dataframe tbody tr th {\n",
              "        vertical-align: top;\n",
              "    }\n",
              "\n",
              "    .dataframe thead th {\n",
              "        text-align: right;\n",
              "    }\n",
              "</style>\n",
              "<table border=\"1\" class=\"dataframe\">\n",
              "  <thead>\n",
              "    <tr style=\"text-align: right;\">\n",
              "      <th></th>\n",
              "      <th>comment_text</th>\n",
              "      <th>toxicity</th>\n",
              "      <th>insult</th>\n",
              "      <th>threat</th>\n",
              "      <th>physical_disability</th>\n",
              "      <th>intellectual_or_learning_disability</th>\n",
              "      <th>psychiatric_or_mental_illness</th>\n",
              "      <th>other_disability</th>\n",
              "      <th>disability_subtypes_total</th>\n",
              "      <th>identity_annotator_count</th>\n",
              "    </tr>\n",
              "  </thead>\n",
              "  <tbody>\n",
              "    <tr>\n",
              "      <th>9884</th>\n",
              "      <td>China is the worst possible \"global partner\" anyone could have, it is the biggest dysfunctional and theft-based society with \"entitlement\" attitude - and clearly the wealthy that immigrated here made Chinese-only \"organizations\". What a disgrace.</td>\n",
              "      <td>0.434211</td>\n",
              "      <td>0.381579</td>\n",
              "      <td>0.000000</td>\n",
              "      <td>0.000000</td>\n",
              "      <td>0.0</td>\n",
              "      <td>0.1</td>\n",
              "      <td>0.00000</td>\n",
              "      <td>0.100000</td>\n",
              "      <td>10</td>\n",
              "    </tr>\n",
              "    <tr>\n",
              "      <th>9902</th>\n",
              "      <td>Trump is already selling his logo to Hindu contractors.  In addition, he has to pay interest to the Russian mafia, who will accept access to projects as payment. Trump is selling his brand in Argentina in exchange for dollars. You Trump people are completely brain-dead. This will blow up in America's face very quickly. You and those like you are complete fools. Trump probably is immune. Let's see if the shameful idiotic Republican Congress has the balls to impeach this cheesy crotch-grabbing pervert lying bustard snake oil salesman. As if!</td>\n",
              "      <td>0.750000</td>\n",
              "      <td>0.750000</td>\n",
              "      <td>0.000000</td>\n",
              "      <td>0.000000</td>\n",
              "      <td>0.0</td>\n",
              "      <td>0.1</td>\n",
              "      <td>0.00000</td>\n",
              "      <td>0.100000</td>\n",
              "      <td>10</td>\n",
              "    </tr>\n",
              "    <tr>\n",
              "      <th>9904</th>\n",
              "      <td>LW2: Your daughter is a nut. Amy's right, she needs to get help.</td>\n",
              "      <td>0.714286</td>\n",
              "      <td>0.714286</td>\n",
              "      <td>0.014286</td>\n",
              "      <td>0.000000</td>\n",
              "      <td>0.0</td>\n",
              "      <td>0.1</td>\n",
              "      <td>0.00000</td>\n",
              "      <td>0.100000</td>\n",
              "      <td>10</td>\n",
              "    </tr>\n",
              "    <tr>\n",
              "      <th>9907</th>\n",
              "      <td>What a piece of GARBAGE! Obviously written by a left wing nut that resents the knowledge, experience and power that comes with getting older. It seems that she (and many other clueless people) think that 'aging', working your way up and being a useful part of society in your 'golden years' is something to be ashamed of.\\n\\nBeing 'old' and part of society is not a dirty word, it's something to be proud of. Remember lady one day you will be an 'old white woman' how you going to feel then?</td>\n",
              "      <td>0.728571</td>\n",
              "      <td>0.657143</td>\n",
              "      <td>0.000000</td>\n",
              "      <td>0.000000</td>\n",
              "      <td>0.0</td>\n",
              "      <td>0.1</td>\n",
              "      <td>0.00000</td>\n",
              "      <td>0.100000</td>\n",
              "      <td>10</td>\n",
              "    </tr>\n",
              "    <tr>\n",
              "      <th>9944</th>\n",
              "      <td>great, this guy was a phony, just like trump.  and like trump he is a racist, bigot and stupid.</td>\n",
              "      <td>0.866667</td>\n",
              "      <td>0.866667</td>\n",
              "      <td>0.000000</td>\n",
              "      <td>0.000000</td>\n",
              "      <td>0.1</td>\n",
              "      <td>0.0</td>\n",
              "      <td>0.00000</td>\n",
              "      <td>0.100000</td>\n",
              "      <td>10</td>\n",
              "    </tr>\n",
              "    <tr>\n",
              "      <th>...</th>\n",
              "      <td>...</td>\n",
              "      <td>...</td>\n",
              "      <td>...</td>\n",
              "      <td>...</td>\n",
              "      <td>...</td>\n",
              "      <td>...</td>\n",
              "      <td>...</td>\n",
              "      <td>...</td>\n",
              "      <td>...</td>\n",
              "      <td>...</td>\n",
              "    </tr>\n",
              "    <tr>\n",
              "      <th>1999269</th>\n",
              "      <td>Pedophiles are rarely interested in a child's sexual orientation; they are interested in satisfying their cravings in an illegal and socially unacceptable manner.\\nSince there are ever so many more heterosexuals in the world than there are homosexuals, most child molestation is perpetrated by heterosexuals; also most is perpetrated by men.  So, you are suggesting that heterosexual men are trying to change the sexual orientation of children?\\nAnother deep breath might be in order.\\nIt would be most worthwhile to read the following article by a research psychologist at the University of Cali...</td>\n",
              "      <td>0.400000</td>\n",
              "      <td>0.000000</td>\n",
              "      <td>0.000000</td>\n",
              "      <td>0.000000</td>\n",
              "      <td>0.0</td>\n",
              "      <td>0.1</td>\n",
              "      <td>0.00000</td>\n",
              "      <td>0.100000</td>\n",
              "      <td>10</td>\n",
              "    </tr>\n",
              "    <tr>\n",
              "      <th>1999375</th>\n",
              "      <td>I'm glad you brought this up, Mike AA. And there's more. As someone who has lost my husband to cancer and have been through the indescribable anguish and unbearable pain of sitting at the bedside of your terminally ill loved one you're about to have to let go, what I found particularly outrageous among the many new lows Trump has stooped to in the last few days: His call to terminally ill people to stick around long enough so they can vote for him on November 8. This man is devoid of even the smallest spark of compassion and decency.</td>\n",
              "      <td>0.400000</td>\n",
              "      <td>0.400000</td>\n",
              "      <td>0.000000</td>\n",
              "      <td>0.100000</td>\n",
              "      <td>0.0</td>\n",
              "      <td>0.0</td>\n",
              "      <td>0.00000</td>\n",
              "      <td>0.100000</td>\n",
              "      <td>10</td>\n",
              "    </tr>\n",
              "    <tr>\n",
              "      <th>1999377</th>\n",
              "      <td>Paul:  I mention Jim Jones as the extreme example of the power of charismatic demogoguery.  We already saw Trump invite his supporters to physically attack protesters at his rallies.....and they did so.  I don't think he'll be passing out KoolAid, but I do fear if he's defeated he may very well refer to that \"fixed\" election which could easily encourage violent behavior from the most zealous of his followers.  \\n\\nRe: the crying baby.  If, indeed, he was \"goofin\", it was in extremely poor taste.  Embarassing someone for a \"laugh\" is not funny.  The woman had come to his rally.  She was a T...</td>\n",
              "      <td>0.400000</td>\n",
              "      <td>0.400000</td>\n",
              "      <td>0.000000</td>\n",
              "      <td>0.000000</td>\n",
              "      <td>0.1</td>\n",
              "      <td>0.0</td>\n",
              "      <td>0.00000</td>\n",
              "      <td>0.100000</td>\n",
              "      <td>10</td>\n",
              "    </tr>\n",
              "    <tr>\n",
              "      <th>1999514</th>\n",
              "      <td>I just don't find her a very good representation of the transexual community. She just seems so self-absorbed &amp; concerned with such superficial issues.</td>\n",
              "      <td>0.400000</td>\n",
              "      <td>0.100000</td>\n",
              "      <td>0.000000</td>\n",
              "      <td>0.003717</td>\n",
              "      <td>0.0</td>\n",
              "      <td>0.0</td>\n",
              "      <td>0.00000</td>\n",
              "      <td>0.003717</td>\n",
              "      <td>269</td>\n",
              "    </tr>\n",
              "    <tr>\n",
              "      <th>1999515</th>\n",
              "      <td>You know the Trump fanatics are trolling the G&amp;M ........ when you see Trudeau being called a Muslim</td>\n",
              "      <td>0.400000</td>\n",
              "      <td>0.300000</td>\n",
              "      <td>0.200000</td>\n",
              "      <td>0.000000</td>\n",
              "      <td>0.0</td>\n",
              "      <td>0.0</td>\n",
              "      <td>0.00064</td>\n",
              "      <td>0.000640</td>\n",
              "      <td>1562</td>\n",
              "    </tr>\n",
              "  </tbody>\n",
              "</table>\n",
              "<p>3507 rows × 10 columns</p>\n",
              "</div>\n",
              "      <button class=\"colab-df-convert\" onclick=\"convertToInteractive('df-0bf9337c-be30-47a8-978f-29bb4c3a7e60')\"\n",
              "              title=\"Convert this dataframe to an interactive table.\"\n",
              "              style=\"display:none;\">\n",
              "        \n",
              "  <svg xmlns=\"http://www.w3.org/2000/svg\" height=\"24px\"viewBox=\"0 0 24 24\"\n",
              "       width=\"24px\">\n",
              "    <path d=\"M0 0h24v24H0V0z\" fill=\"none\"/>\n",
              "    <path d=\"M18.56 5.44l.94 2.06.94-2.06 2.06-.94-2.06-.94-.94-2.06-.94 2.06-2.06.94zm-11 1L8.5 8.5l.94-2.06 2.06-.94-2.06-.94L8.5 2.5l-.94 2.06-2.06.94zm10 10l.94 2.06.94-2.06 2.06-.94-2.06-.94-.94-2.06-.94 2.06-2.06.94z\"/><path d=\"M17.41 7.96l-1.37-1.37c-.4-.4-.92-.59-1.43-.59-.52 0-1.04.2-1.43.59L10.3 9.45l-7.72 7.72c-.78.78-.78 2.05 0 2.83L4 21.41c.39.39.9.59 1.41.59.51 0 1.02-.2 1.41-.59l7.78-7.78 2.81-2.81c.8-.78.8-2.07 0-2.86zM5.41 20L4 18.59l7.72-7.72 1.47 1.35L5.41 20z\"/>\n",
              "  </svg>\n",
              "      </button>\n",
              "      \n",
              "  <style>\n",
              "    .colab-df-container {\n",
              "      display:flex;\n",
              "      flex-wrap:wrap;\n",
              "      gap: 12px;\n",
              "    }\n",
              "\n",
              "    .colab-df-convert {\n",
              "      background-color: #E8F0FE;\n",
              "      border: none;\n",
              "      border-radius: 50%;\n",
              "      cursor: pointer;\n",
              "      display: none;\n",
              "      fill: #1967D2;\n",
              "      height: 32px;\n",
              "      padding: 0 0 0 0;\n",
              "      width: 32px;\n",
              "    }\n",
              "\n",
              "    .colab-df-convert:hover {\n",
              "      background-color: #E2EBFA;\n",
              "      box-shadow: 0px 1px 2px rgba(60, 64, 67, 0.3), 0px 1px 3px 1px rgba(60, 64, 67, 0.15);\n",
              "      fill: #174EA6;\n",
              "    }\n",
              "\n",
              "    [theme=dark] .colab-df-convert {\n",
              "      background-color: #3B4455;\n",
              "      fill: #D2E3FC;\n",
              "    }\n",
              "\n",
              "    [theme=dark] .colab-df-convert:hover {\n",
              "      background-color: #434B5C;\n",
              "      box-shadow: 0px 1px 3px 1px rgba(0, 0, 0, 0.15);\n",
              "      filter: drop-shadow(0px 1px 2px rgba(0, 0, 0, 0.3));\n",
              "      fill: #FFFFFF;\n",
              "    }\n",
              "  </style>\n",
              "\n",
              "      <script>\n",
              "        const buttonEl =\n",
              "          document.querySelector('#df-0bf9337c-be30-47a8-978f-29bb4c3a7e60 button.colab-df-convert');\n",
              "        buttonEl.style.display =\n",
              "          google.colab.kernel.accessAllowed ? 'block' : 'none';\n",
              "\n",
              "        async function convertToInteractive(key) {\n",
              "          const element = document.querySelector('#df-0bf9337c-be30-47a8-978f-29bb4c3a7e60');\n",
              "          const dataTable =\n",
              "            await google.colab.kernel.invokeFunction('convertToInteractive',\n",
              "                                                     [key], {});\n",
              "          if (!dataTable) return;\n",
              "\n",
              "          const docLinkHtml = 'Like what you see? Visit the ' +\n",
              "            '<a target=\"_blank\" href=https://colab.research.google.com/notebooks/data_table.ipynb>data table notebook</a>'\n",
              "            + ' to learn more about interactive tables.';\n",
              "          element.innerHTML = '';\n",
              "          dataTable['output_type'] = 'display_data';\n",
              "          await google.colab.output.renderOutput(dataTable, element);\n",
              "          const docLink = document.createElement('div');\n",
              "          docLink.innerHTML = docLinkHtml;\n",
              "          element.appendChild(docLink);\n",
              "        }\n",
              "      </script>\n",
              "    </div>\n",
              "  </div>\n",
              "  "
            ]
          },
          "metadata": {}
        }
      ]
    },
    {
      "cell_type": "markdown",
      "source": [
        "For example, this comment is not disability-related at all:"
      ],
      "metadata": {
        "id": "zIWTidVSJbuM"
      },
      "id": "zIWTidVSJbuM"
    },
    {
      "cell_type": "code",
      "source": [
        "list(disability_df.loc[[1307202]]['comment_text'])[0]"
      ],
      "metadata": {
        "colab": {
          "base_uri": "https://localhost:8080/",
          "height": 35
        },
        "id": "suN8HwjaB69p",
        "outputId": "7a42e78f-e123-49af-d7c7-9c7a16c9fe97"
      },
      "id": "suN8HwjaB69p",
      "execution_count": 19,
      "outputs": [
        {
          "output_type": "execute_result",
          "data": {
            "text/plain": [
              "'Real men eat oil for breakfast!'"
            ],
            "application/vnd.google.colaboratory.intrinsic+json": {
              "type": "string"
            }
          },
          "metadata": {},
          "execution_count": 19
        }
      ]
    },
    {
      "cell_type": "markdown",
      "source": [
        "This comment is longer, but it still is not disability-related:"
      ],
      "metadata": {
        "id": "0eUJHRMJJxfa"
      },
      "id": "0eUJHRMJJxfa"
    },
    {
      "cell_type": "code",
      "source": [
        "list(disability_df.loc[[1627111]]['comment_text'])[0]"
      ],
      "metadata": {
        "colab": {
          "base_uri": "https://localhost:8080/",
          "height": 53
        },
        "id": "Hk5-2ocTJfyn",
        "outputId": "20e4d6dd-c5f4-46b6-fa0d-8e7503db7fc6"
      },
      "id": "Hk5-2ocTJfyn",
      "execution_count": 20,
      "outputs": [
        {
          "output_type": "execute_result",
          "data": {
            "text/plain": [
              "\"I wouldn't say that at all.  High school students have traditionally been held responsible, and often expelled, for their conduct out of school.  Black students have a right not to feel threatened by fellow students, just as black co-workers have.  You make a mistake in saying the right is restricted to commercial interest - in both cases.\""
            ],
            "application/vnd.google.colaboratory.intrinsic+json": {
              "type": "string"
            }
          },
          "metadata": {},
          "execution_count": 20
        }
      ]
    },
    {
      "cell_type": "markdown",
      "source": [
        "### Drop the rows that are unrelated to disability"
      ],
      "metadata": {
        "id": "G-HzHQGmOA8p"
      },
      "id": "G-HzHQGmOA8p"
    },
    {
      "cell_type": "code",
      "source": [
        "disability_cleaned_df = disability_df.loc[disability_df['disability_subtypes_total']>0.1]\n",
        "print('# disability rows before: ', len(disability_df))\n",
        "print('# disability rows after: ', len(disability_cleaned_df))"
      ],
      "metadata": {
        "colab": {
          "base_uri": "https://localhost:8080/"
        },
        "id": "OMQUvsuBOEmK",
        "outputId": "633a0325-c9cb-4285-df51-e30d20b87748"
      },
      "id": "OMQUvsuBOEmK",
      "execution_count": 21,
      "outputs": [
        {
          "output_type": "stream",
          "name": "stdout",
          "text": [
            "# disability rows before:  18665\n",
            "# disability rows after:  15158\n"
          ]
        }
      ]
    },
    {
      "cell_type": "markdown",
      "source": [
        "#### After exploring thresholds, positive labels for `toxicity_binary` **should be `toxicity >=  0.25`**, not `toxicity >= 0.5`."
      ],
      "metadata": {
        "id": "eSIasc_JEu-V"
      },
      "id": "eSIasc_JEu-V"
    },
    {
      "cell_type": "code",
      "source": [
        "# test_filter_condition = disability_cleaned_df['toxicity_binary']==1\n",
        "# test_filter_condition = disability_cleaned_df['toxicity_binary']==0\n",
        "# test_filter_condition = disability_cleaned_df['toxicity']==0)\n",
        "# test_filter_condition = (disability_cleaned_df['toxicity']>0) & (disability_cleaned_df['toxicity']<0.5)\n",
        "# test_filter_condition = disability_cleaned_df['toxicity']>0\n",
        "# test_filter_condition = (disability_cleaned_df['toxicity']>0) & (disability_cleaned_df['toxicity']<0.3) # these should all be negative\n",
        "# test_filter_condition = (disability_cleaned_df['toxicity']>0.3) & (disability_cleaned_df['toxicity']<0.35) # should be positive\n",
        "# test_filter_condition = (disability_cleaned_df['toxicity']>0.2) & (disability_cleaned_df['toxicity']<0.25) # GREY AREA\n",
        "# test_filter_condition = disability_cleaned_df['toxicity']>0.22) & (disability_cleaned_df['toxicity']<0.25) # some should be negative, some positive\n",
        "# test_filter_condition = disability_cleaned_df['toxicity']==0 # 8379 rows - CLEARLY NEGATIVE\n",
        "# test_filter_condition = disability_cleaned_df['toxicity']<0.25 # 12007 rows - NEGATIVE\n",
        "test_filter_condition = disability_cleaned_df['toxicity']<0.05\n",
        "# test_filter_condition = (disability_cleaned_df['toxicity']>=0.25) # 6491 rows - POSITIVE\n",
        "# test_filter_condition = disability_condition # <-- FOR BOTH NEGATIVE AND POSITIVE\n",
        "\n",
        "disability_cleaned_df.loc[test_filter_condition,\n",
        "                    ['comment_text','toxicity','identity_attack','insult', 'threat','physical_disability', 'intellectual_or_learning_disability', 'psychiatric_or_mental_illness', 'other_disability','identity_annotator_count','toxicity_annotator_count']]"
      ],
      "metadata": {
        "colab": {
          "base_uri": "https://localhost:8080/",
          "height": 989
        },
        "id": "ObDZmIrs77rd",
        "outputId": "42827cb8-edd7-4b66-f4b3-63fe58124c91"
      },
      "id": "ObDZmIrs77rd",
      "execution_count": 22,
      "outputs": [
        {
          "output_type": "execute_result",
          "data": {
            "text/plain": [
              "                                                                                                                                                                                                                                                                                                                                                                                                                                                                                                                                                                                                                    comment_text  \\\n",
              "141881        SNAP solves a very real and very immediate problem -- that of feeding people who cannot buy food with their own resources.  These are real people, from infants to very old, working people, disabled people, those disadvantaged by societal expectations they can't meet, et., etc., etc.  I spent the first month of food bank (SNAP and local charity funded) volunteer service in shock, meeting clients and helping them obtain VERY LITTLE food that needed to last them a month.  \\n\\nFamiliarity along with empathy really do help achieve genuine \"charity\" -- the virtue you preach about interminably.   \n",
              "207222                                                                                                                                                                                                                                                                                                                                                                                                                                         Finally a politician who cares what constituents want!  No one thinks people with a history of mental illness should have guns. No one needs an automatic weapon. Thanks , Manka!   \n",
              "272394                                                                                                                                                                                                    I can't help but feel that if life is so bad that people have to get high to bear it, then something is dreadfully wrong with our society as a whole. I more than understand that life can have it's times of depression for a myriad of reasons, but to give one's soul and Spirit to some form of drug, just seems like an act of desperation. Why is there so much of it, especially among the younger generations?   \n",
              "536064                                                                                                                                                                                                                       Here's other ideas: proper housing, clean water, roads on reserves, actual schools with tenured teachers, lower food prices in northern stores, mental health counsellors, doctors, nurses, hospitals, long term care facilities, community centres ...\\n\\nMs. Stronach, please put your considerable means and influence towards these improvements first before you start on your laptop program.   \n",
              "715508                                                                                                                                                                                                                                                                                                                                                                                                                      You're right Greeleaf. I hadn't thought that he/she may be on medication or have a mental health problem. I did not intend to demean him/her ... just trying to help.\\nMy apologies.\\n\\nBest,\\n\\nRTD   \n",
              "...                                                                                                                                                                                                                                                                                                                                                                                                                                                                                                                                                                                                                          ...   \n",
              "1883916  Recent experience and on topic discussions have shown Alaska's fiscal crisis as a real threat to the quality of all our lives. This particular tragedy is one , I wish could be debated  as , times are tough , and dollars to help people looking for it, or deemed in need of help , are not there. \\nThat is not the case when talking  Mental Health , because there has not been dollars for the Mentally Ill for quite some time. The State when allocating dollars signing up with the  new federal program, allocated  0 dollars for Mental Health,  Let's repeat that amount for it truly does tell the sto...   \n",
              "1883957                                                                                                                                                        Wait, do I understand this right?  This kid was on anti-psychotics when he committed the crime.  He's now being held involuntarily in a mental hospital which wants to treat him by putting him back on anti-psychotics.  And the hospital has to rely on the courts to give them the right to put this patient back on the medication he was getting before he was arrested?\\n\\nI'm all for mental patients' civil rights, but this does seem pretty ridiculous.   \n",
              "1883959  There is so much more to why people are in prison and commit crimes. Many of the prisoners are people with mental illness that the courts deem too dangerous to let out. Thus they are given extreme sentences and left to rot inside. Most are damaged psychically and emotionally and often due to negligence or abuse as children. Understanding that these people are committing crimes in our society we need to deal with that, but we need to change the way we look at crime therapy and getting people back to being members of our communities. Remember that all of these people were once your neighbors...   \n",
              "1883976  What is the theological misconception? What is the scientific reality? We know that people are born with disabilities both physical and mental, that is the reality. The reality also is that someone with an perfectly normal male body is of the male sex and not female. The same goes for a woman with a perfectly normal female body is of the female sex and not male.\\nA middle-aged married man with children who suddenly decides he is in the wrong body obviously has a mental problem.  To humour him and encourage him to pretend that he is a woman is cruel. Medical science can give him the cosmeti...   \n",
              "1883977                                                                                                                                                                                                                                                                                                                                                                                                                                                                                                                                Yes, strange beds and jet lag.  Good ways to distract from his dementia.  Veeeery clever!   \n",
              "\n",
              "         toxicity  identity_attack    insult    threat  physical_disability  \\\n",
              "141881   0.008666         0.004333  0.004333  0.000867                  0.1   \n",
              "207222   0.029412         0.000000  0.029412  0.000000                  0.0   \n",
              "272394   0.023288         0.002740  0.016438  0.000685                  0.0   \n",
              "536064   0.009332         0.000718  0.008615  0.000718                  0.0   \n",
              "715508   0.000000         0.000000  0.000000  0.000000                  0.0   \n",
              "...           ...              ...       ...       ...                  ...   \n",
              "1883916  0.000000         0.000000  0.000000  0.000000                  0.0   \n",
              "1883957  0.000000         0.000000  0.000000  0.000000                  0.0   \n",
              "1883959  0.000000         0.000000  0.000000  0.000000                  0.0   \n",
              "1883976  0.000000         0.000000  0.000000  0.000000                  0.6   \n",
              "1883977  0.000000         0.000000  0.000000  0.000000                  0.0   \n",
              "\n",
              "         intellectual_or_learning_disability  psychiatric_or_mental_illness  \\\n",
              "141881                                   0.0                       0.000000   \n",
              "207222                                   0.0                       0.500000   \n",
              "272394                                   0.0                       0.000000   \n",
              "536064                                   0.0                       0.700000   \n",
              "715508                                   0.0                       1.000000   \n",
              "...                                      ...                            ...   \n",
              "1883916                                  0.0                       0.800000   \n",
              "1883957                                  0.0                       0.700000   \n",
              "1883959                                  0.0                       0.600000   \n",
              "1883976                                  0.0                       0.700000   \n",
              "1883977                                  0.0                       0.363636   \n",
              "\n",
              "         other_disability  identity_annotator_count  toxicity_annotator_count  \n",
              "141881           0.100000                        10                      1154  \n",
              "207222           0.000000                        10                        34  \n",
              "272394           0.166667                         6                      1460  \n",
              "536064           0.000000                        10                      1393  \n",
              "715508           0.000000                         4                         4  \n",
              "...                   ...                       ...                       ...  \n",
              "1883916          0.000000                        10                         4  \n",
              "1883957          0.000000                        10                         4  \n",
              "1883959          0.000000                        10                         4  \n",
              "1883976          0.000000                        10                         4  \n",
              "1883977          0.000000                        11                         4  \n",
              "\n",
              "[6938 rows x 11 columns]"
            ],
            "text/html": [
              "\n",
              "  <div id=\"df-caa73a9d-9351-41ff-a263-f715dedf4e05\">\n",
              "    <div class=\"colab-df-container\">\n",
              "      <div>\n",
              "<style scoped>\n",
              "    .dataframe tbody tr th:only-of-type {\n",
              "        vertical-align: middle;\n",
              "    }\n",
              "\n",
              "    .dataframe tbody tr th {\n",
              "        vertical-align: top;\n",
              "    }\n",
              "\n",
              "    .dataframe thead th {\n",
              "        text-align: right;\n",
              "    }\n",
              "</style>\n",
              "<table border=\"1\" class=\"dataframe\">\n",
              "  <thead>\n",
              "    <tr style=\"text-align: right;\">\n",
              "      <th></th>\n",
              "      <th>comment_text</th>\n",
              "      <th>toxicity</th>\n",
              "      <th>identity_attack</th>\n",
              "      <th>insult</th>\n",
              "      <th>threat</th>\n",
              "      <th>physical_disability</th>\n",
              "      <th>intellectual_or_learning_disability</th>\n",
              "      <th>psychiatric_or_mental_illness</th>\n",
              "      <th>other_disability</th>\n",
              "      <th>identity_annotator_count</th>\n",
              "      <th>toxicity_annotator_count</th>\n",
              "    </tr>\n",
              "  </thead>\n",
              "  <tbody>\n",
              "    <tr>\n",
              "      <th>141881</th>\n",
              "      <td>SNAP solves a very real and very immediate problem -- that of feeding people who cannot buy food with their own resources.  These are real people, from infants to very old, working people, disabled people, those disadvantaged by societal expectations they can't meet, et., etc., etc.  I spent the first month of food bank (SNAP and local charity funded) volunteer service in shock, meeting clients and helping them obtain VERY LITTLE food that needed to last them a month.  \\n\\nFamiliarity along with empathy really do help achieve genuine \"charity\" -- the virtue you preach about interminably.</td>\n",
              "      <td>0.008666</td>\n",
              "      <td>0.004333</td>\n",
              "      <td>0.004333</td>\n",
              "      <td>0.000867</td>\n",
              "      <td>0.1</td>\n",
              "      <td>0.0</td>\n",
              "      <td>0.000000</td>\n",
              "      <td>0.100000</td>\n",
              "      <td>10</td>\n",
              "      <td>1154</td>\n",
              "    </tr>\n",
              "    <tr>\n",
              "      <th>207222</th>\n",
              "      <td>Finally a politician who cares what constituents want!  No one thinks people with a history of mental illness should have guns. No one needs an automatic weapon. Thanks , Manka!</td>\n",
              "      <td>0.029412</td>\n",
              "      <td>0.000000</td>\n",
              "      <td>0.029412</td>\n",
              "      <td>0.000000</td>\n",
              "      <td>0.0</td>\n",
              "      <td>0.0</td>\n",
              "      <td>0.500000</td>\n",
              "      <td>0.000000</td>\n",
              "      <td>10</td>\n",
              "      <td>34</td>\n",
              "    </tr>\n",
              "    <tr>\n",
              "      <th>272394</th>\n",
              "      <td>I can't help but feel that if life is so bad that people have to get high to bear it, then something is dreadfully wrong with our society as a whole. I more than understand that life can have it's times of depression for a myriad of reasons, but to give one's soul and Spirit to some form of drug, just seems like an act of desperation. Why is there so much of it, especially among the younger generations?</td>\n",
              "      <td>0.023288</td>\n",
              "      <td>0.002740</td>\n",
              "      <td>0.016438</td>\n",
              "      <td>0.000685</td>\n",
              "      <td>0.0</td>\n",
              "      <td>0.0</td>\n",
              "      <td>0.000000</td>\n",
              "      <td>0.166667</td>\n",
              "      <td>6</td>\n",
              "      <td>1460</td>\n",
              "    </tr>\n",
              "    <tr>\n",
              "      <th>536064</th>\n",
              "      <td>Here's other ideas: proper housing, clean water, roads on reserves, actual schools with tenured teachers, lower food prices in northern stores, mental health counsellors, doctors, nurses, hospitals, long term care facilities, community centres ...\\n\\nMs. Stronach, please put your considerable means and influence towards these improvements first before you start on your laptop program.</td>\n",
              "      <td>0.009332</td>\n",
              "      <td>0.000718</td>\n",
              "      <td>0.008615</td>\n",
              "      <td>0.000718</td>\n",
              "      <td>0.0</td>\n",
              "      <td>0.0</td>\n",
              "      <td>0.700000</td>\n",
              "      <td>0.000000</td>\n",
              "      <td>10</td>\n",
              "      <td>1393</td>\n",
              "    </tr>\n",
              "    <tr>\n",
              "      <th>715508</th>\n",
              "      <td>You're right Greeleaf. I hadn't thought that he/she may be on medication or have a mental health problem. I did not intend to demean him/her ... just trying to help.\\nMy apologies.\\n\\nBest,\\n\\nRTD</td>\n",
              "      <td>0.000000</td>\n",
              "      <td>0.000000</td>\n",
              "      <td>0.000000</td>\n",
              "      <td>0.000000</td>\n",
              "      <td>0.0</td>\n",
              "      <td>0.0</td>\n",
              "      <td>1.000000</td>\n",
              "      <td>0.000000</td>\n",
              "      <td>4</td>\n",
              "      <td>4</td>\n",
              "    </tr>\n",
              "    <tr>\n",
              "      <th>...</th>\n",
              "      <td>...</td>\n",
              "      <td>...</td>\n",
              "      <td>...</td>\n",
              "      <td>...</td>\n",
              "      <td>...</td>\n",
              "      <td>...</td>\n",
              "      <td>...</td>\n",
              "      <td>...</td>\n",
              "      <td>...</td>\n",
              "      <td>...</td>\n",
              "      <td>...</td>\n",
              "    </tr>\n",
              "    <tr>\n",
              "      <th>1883916</th>\n",
              "      <td>Recent experience and on topic discussions have shown Alaska's fiscal crisis as a real threat to the quality of all our lives. This particular tragedy is one , I wish could be debated  as , times are tough , and dollars to help people looking for it, or deemed in need of help , are not there. \\nThat is not the case when talking  Mental Health , because there has not been dollars for the Mentally Ill for quite some time. The State when allocating dollars signing up with the  new federal program, allocated  0 dollars for Mental Health,  Let's repeat that amount for it truly does tell the sto...</td>\n",
              "      <td>0.000000</td>\n",
              "      <td>0.000000</td>\n",
              "      <td>0.000000</td>\n",
              "      <td>0.000000</td>\n",
              "      <td>0.0</td>\n",
              "      <td>0.0</td>\n",
              "      <td>0.800000</td>\n",
              "      <td>0.000000</td>\n",
              "      <td>10</td>\n",
              "      <td>4</td>\n",
              "    </tr>\n",
              "    <tr>\n",
              "      <th>1883957</th>\n",
              "      <td>Wait, do I understand this right?  This kid was on anti-psychotics when he committed the crime.  He's now being held involuntarily in a mental hospital which wants to treat him by putting him back on anti-psychotics.  And the hospital has to rely on the courts to give them the right to put this patient back on the medication he was getting before he was arrested?\\n\\nI'm all for mental patients' civil rights, but this does seem pretty ridiculous.</td>\n",
              "      <td>0.000000</td>\n",
              "      <td>0.000000</td>\n",
              "      <td>0.000000</td>\n",
              "      <td>0.000000</td>\n",
              "      <td>0.0</td>\n",
              "      <td>0.0</td>\n",
              "      <td>0.700000</td>\n",
              "      <td>0.000000</td>\n",
              "      <td>10</td>\n",
              "      <td>4</td>\n",
              "    </tr>\n",
              "    <tr>\n",
              "      <th>1883959</th>\n",
              "      <td>There is so much more to why people are in prison and commit crimes. Many of the prisoners are people with mental illness that the courts deem too dangerous to let out. Thus they are given extreme sentences and left to rot inside. Most are damaged psychically and emotionally and often due to negligence or abuse as children. Understanding that these people are committing crimes in our society we need to deal with that, but we need to change the way we look at crime therapy and getting people back to being members of our communities. Remember that all of these people were once your neighbors...</td>\n",
              "      <td>0.000000</td>\n",
              "      <td>0.000000</td>\n",
              "      <td>0.000000</td>\n",
              "      <td>0.000000</td>\n",
              "      <td>0.0</td>\n",
              "      <td>0.0</td>\n",
              "      <td>0.600000</td>\n",
              "      <td>0.000000</td>\n",
              "      <td>10</td>\n",
              "      <td>4</td>\n",
              "    </tr>\n",
              "    <tr>\n",
              "      <th>1883976</th>\n",
              "      <td>What is the theological misconception? What is the scientific reality? We know that people are born with disabilities both physical and mental, that is the reality. The reality also is that someone with an perfectly normal male body is of the male sex and not female. The same goes for a woman with a perfectly normal female body is of the female sex and not male.\\nA middle-aged married man with children who suddenly decides he is in the wrong body obviously has a mental problem.  To humour him and encourage him to pretend that he is a woman is cruel. Medical science can give him the cosmeti...</td>\n",
              "      <td>0.000000</td>\n",
              "      <td>0.000000</td>\n",
              "      <td>0.000000</td>\n",
              "      <td>0.000000</td>\n",
              "      <td>0.6</td>\n",
              "      <td>0.0</td>\n",
              "      <td>0.700000</td>\n",
              "      <td>0.000000</td>\n",
              "      <td>10</td>\n",
              "      <td>4</td>\n",
              "    </tr>\n",
              "    <tr>\n",
              "      <th>1883977</th>\n",
              "      <td>Yes, strange beds and jet lag.  Good ways to distract from his dementia.  Veeeery clever!</td>\n",
              "      <td>0.000000</td>\n",
              "      <td>0.000000</td>\n",
              "      <td>0.000000</td>\n",
              "      <td>0.000000</td>\n",
              "      <td>0.0</td>\n",
              "      <td>0.0</td>\n",
              "      <td>0.363636</td>\n",
              "      <td>0.000000</td>\n",
              "      <td>11</td>\n",
              "      <td>4</td>\n",
              "    </tr>\n",
              "  </tbody>\n",
              "</table>\n",
              "<p>6938 rows × 11 columns</p>\n",
              "</div>\n",
              "      <button class=\"colab-df-convert\" onclick=\"convertToInteractive('df-caa73a9d-9351-41ff-a263-f715dedf4e05')\"\n",
              "              title=\"Convert this dataframe to an interactive table.\"\n",
              "              style=\"display:none;\">\n",
              "        \n",
              "  <svg xmlns=\"http://www.w3.org/2000/svg\" height=\"24px\"viewBox=\"0 0 24 24\"\n",
              "       width=\"24px\">\n",
              "    <path d=\"M0 0h24v24H0V0z\" fill=\"none\"/>\n",
              "    <path d=\"M18.56 5.44l.94 2.06.94-2.06 2.06-.94-2.06-.94-.94-2.06-.94 2.06-2.06.94zm-11 1L8.5 8.5l.94-2.06 2.06-.94-2.06-.94L8.5 2.5l-.94 2.06-2.06.94zm10 10l.94 2.06.94-2.06 2.06-.94-2.06-.94-.94-2.06-.94 2.06-2.06.94z\"/><path d=\"M17.41 7.96l-1.37-1.37c-.4-.4-.92-.59-1.43-.59-.52 0-1.04.2-1.43.59L10.3 9.45l-7.72 7.72c-.78.78-.78 2.05 0 2.83L4 21.41c.39.39.9.59 1.41.59.51 0 1.02-.2 1.41-.59l7.78-7.78 2.81-2.81c.8-.78.8-2.07 0-2.86zM5.41 20L4 18.59l7.72-7.72 1.47 1.35L5.41 20z\"/>\n",
              "  </svg>\n",
              "      </button>\n",
              "      \n",
              "  <style>\n",
              "    .colab-df-container {\n",
              "      display:flex;\n",
              "      flex-wrap:wrap;\n",
              "      gap: 12px;\n",
              "    }\n",
              "\n",
              "    .colab-df-convert {\n",
              "      background-color: #E8F0FE;\n",
              "      border: none;\n",
              "      border-radius: 50%;\n",
              "      cursor: pointer;\n",
              "      display: none;\n",
              "      fill: #1967D2;\n",
              "      height: 32px;\n",
              "      padding: 0 0 0 0;\n",
              "      width: 32px;\n",
              "    }\n",
              "\n",
              "    .colab-df-convert:hover {\n",
              "      background-color: #E2EBFA;\n",
              "      box-shadow: 0px 1px 2px rgba(60, 64, 67, 0.3), 0px 1px 3px 1px rgba(60, 64, 67, 0.15);\n",
              "      fill: #174EA6;\n",
              "    }\n",
              "\n",
              "    [theme=dark] .colab-df-convert {\n",
              "      background-color: #3B4455;\n",
              "      fill: #D2E3FC;\n",
              "    }\n",
              "\n",
              "    [theme=dark] .colab-df-convert:hover {\n",
              "      background-color: #434B5C;\n",
              "      box-shadow: 0px 1px 3px 1px rgba(0, 0, 0, 0.15);\n",
              "      filter: drop-shadow(0px 1px 2px rgba(0, 0, 0, 0.3));\n",
              "      fill: #FFFFFF;\n",
              "    }\n",
              "  </style>\n",
              "\n",
              "      <script>\n",
              "        const buttonEl =\n",
              "          document.querySelector('#df-caa73a9d-9351-41ff-a263-f715dedf4e05 button.colab-df-convert');\n",
              "        buttonEl.style.display =\n",
              "          google.colab.kernel.accessAllowed ? 'block' : 'none';\n",
              "\n",
              "        async function convertToInteractive(key) {\n",
              "          const element = document.querySelector('#df-caa73a9d-9351-41ff-a263-f715dedf4e05');\n",
              "          const dataTable =\n",
              "            await google.colab.kernel.invokeFunction('convertToInteractive',\n",
              "                                                     [key], {});\n",
              "          if (!dataTable) return;\n",
              "\n",
              "          const docLinkHtml = 'Like what you see? Visit the ' +\n",
              "            '<a target=\"_blank\" href=https://colab.research.google.com/notebooks/data_table.ipynb>data table notebook</a>'\n",
              "            + ' to learn more about interactive tables.';\n",
              "          element.innerHTML = '';\n",
              "          dataTable['output_type'] = 'display_data';\n",
              "          await google.colab.output.renderOutput(dataTable, element);\n",
              "          const docLink = document.createElement('div');\n",
              "          docLink.innerHTML = docLinkHtml;\n",
              "          element.appendChild(docLink);\n",
              "        }\n",
              "      </script>\n",
              "    </div>\n",
              "  </div>\n",
              "  "
            ]
          },
          "metadata": {},
          "execution_count": 22
        }
      ]
    },
    {
      "cell_type": "markdown",
      "id": "4287fb39",
      "metadata": {
        "id": "4287fb39"
      },
      "source": [
        "### Add `toxicity_disability` column\n",
        "Here we set the binary toxicity label for comments where disability is mentioned as determined by human annotators.\n",
        "\n",
        "- Initially, we were going to set the toxicity label according to the dataset designers' recommendation where comments with toxicity >= 0.5 are considered toxict. However, EDA revealed that many comments with toxicity < 0.5 are toxic towards people with disabilites. Therefore, 0.5 is not the appropriate threshold here.\n",
        "- After careful inspection of the comments where disability is mentioned, determining whether a comment is toxic is less obvious/in a grey area at toxicity=0.25.\n",
        "- Therefore, we create a toxicity_disability column that maps comments where toxicity < 0.25 to 0 (negative/non-toxic) and comments with toxicity >= 0.25 to 1 (positive/toxic). This column will serve as our labels to train and evaluate on."
      ]
    },
    {
      "cell_type": "markdown",
      "source": [],
      "metadata": {
        "id": "ngEvtE6JDNPn"
      },
      "id": "ngEvtE6JDNPn"
    },
    {
      "cell_type": "code",
      "execution_count": 23,
      "id": "5d2a7926",
      "metadata": {
        "id": "5d2a7926",
        "colab": {
          "base_uri": "https://localhost:8080/"
        },
        "outputId": "a11a0c49-7055-43de-9e5d-7168e998b6d7"
      },
      "outputs": [
        {
          "output_type": "stream",
          "name": "stderr",
          "text": [
            "<ipython-input-23-73d8c919dd96>:1: SettingWithCopyWarning: \n",
            "A value is trying to be set on a copy of a slice from a DataFrame.\n",
            "Try using .loc[row_indexer,col_indexer] = value instead\n",
            "\n",
            "See the caveats in the documentation: https://pandas.pydata.org/pandas-docs/stable/user_guide/indexing.html#returning-a-view-versus-a-copy\n",
            "  disability_cleaned_df['toxicity_disability'] = (all_data_df_cleansed['toxicity'] >= 0.25).astype(int)\n"
          ]
        }
      ],
      "source": [
        "disability_cleaned_df['toxicity_disability'] = (all_data_df_cleansed['toxicity'] >= 0.25).astype(int)"
      ]
    },
    {
      "cell_type": "code",
      "execution_count": 24,
      "id": "3f9a069b",
      "metadata": {
        "id": "3f9a069b",
        "outputId": "6ae2521e-e28a-4435-b962-dcdd5ad39705",
        "colab": {
          "base_uri": "https://localhost:8080/",
          "height": 424
        }
      },
      "outputs": [
        {
          "output_type": "execute_result",
          "data": {
            "text/plain": [
              "         toxicity  toxicity_disability\n",
              "7705     0.689655                    1\n",
              "8073     0.800000                    1\n",
              "8115     0.790323                    1\n",
              "8125     0.352941                    1\n",
              "8263     0.842857                    1\n",
              "...           ...                  ...\n",
              "1999476  0.400000                    1\n",
              "1999478  0.400000                    1\n",
              "1999482  0.400000                    1\n",
              "1999507  0.400000                    1\n",
              "1999508  0.400000                    1\n",
              "\n",
              "[15158 rows x 2 columns]"
            ],
            "text/html": [
              "\n",
              "  <div id=\"df-8ba2c755-2ef4-42a0-84c9-181a88124e22\">\n",
              "    <div class=\"colab-df-container\">\n",
              "      <div>\n",
              "<style scoped>\n",
              "    .dataframe tbody tr th:only-of-type {\n",
              "        vertical-align: middle;\n",
              "    }\n",
              "\n",
              "    .dataframe tbody tr th {\n",
              "        vertical-align: top;\n",
              "    }\n",
              "\n",
              "    .dataframe thead th {\n",
              "        text-align: right;\n",
              "    }\n",
              "</style>\n",
              "<table border=\"1\" class=\"dataframe\">\n",
              "  <thead>\n",
              "    <tr style=\"text-align: right;\">\n",
              "      <th></th>\n",
              "      <th>toxicity</th>\n",
              "      <th>toxicity_disability</th>\n",
              "    </tr>\n",
              "  </thead>\n",
              "  <tbody>\n",
              "    <tr>\n",
              "      <th>7705</th>\n",
              "      <td>0.689655</td>\n",
              "      <td>1</td>\n",
              "    </tr>\n",
              "    <tr>\n",
              "      <th>8073</th>\n",
              "      <td>0.800000</td>\n",
              "      <td>1</td>\n",
              "    </tr>\n",
              "    <tr>\n",
              "      <th>8115</th>\n",
              "      <td>0.790323</td>\n",
              "      <td>1</td>\n",
              "    </tr>\n",
              "    <tr>\n",
              "      <th>8125</th>\n",
              "      <td>0.352941</td>\n",
              "      <td>1</td>\n",
              "    </tr>\n",
              "    <tr>\n",
              "      <th>8263</th>\n",
              "      <td>0.842857</td>\n",
              "      <td>1</td>\n",
              "    </tr>\n",
              "    <tr>\n",
              "      <th>...</th>\n",
              "      <td>...</td>\n",
              "      <td>...</td>\n",
              "    </tr>\n",
              "    <tr>\n",
              "      <th>1999476</th>\n",
              "      <td>0.400000</td>\n",
              "      <td>1</td>\n",
              "    </tr>\n",
              "    <tr>\n",
              "      <th>1999478</th>\n",
              "      <td>0.400000</td>\n",
              "      <td>1</td>\n",
              "    </tr>\n",
              "    <tr>\n",
              "      <th>1999482</th>\n",
              "      <td>0.400000</td>\n",
              "      <td>1</td>\n",
              "    </tr>\n",
              "    <tr>\n",
              "      <th>1999507</th>\n",
              "      <td>0.400000</td>\n",
              "      <td>1</td>\n",
              "    </tr>\n",
              "    <tr>\n",
              "      <th>1999508</th>\n",
              "      <td>0.400000</td>\n",
              "      <td>1</td>\n",
              "    </tr>\n",
              "  </tbody>\n",
              "</table>\n",
              "<p>15158 rows × 2 columns</p>\n",
              "</div>\n",
              "      <button class=\"colab-df-convert\" onclick=\"convertToInteractive('df-8ba2c755-2ef4-42a0-84c9-181a88124e22')\"\n",
              "              title=\"Convert this dataframe to an interactive table.\"\n",
              "              style=\"display:none;\">\n",
              "        \n",
              "  <svg xmlns=\"http://www.w3.org/2000/svg\" height=\"24px\"viewBox=\"0 0 24 24\"\n",
              "       width=\"24px\">\n",
              "    <path d=\"M0 0h24v24H0V0z\" fill=\"none\"/>\n",
              "    <path d=\"M18.56 5.44l.94 2.06.94-2.06 2.06-.94-2.06-.94-.94-2.06-.94 2.06-2.06.94zm-11 1L8.5 8.5l.94-2.06 2.06-.94-2.06-.94L8.5 2.5l-.94 2.06-2.06.94zm10 10l.94 2.06.94-2.06 2.06-.94-2.06-.94-.94-2.06-.94 2.06-2.06.94z\"/><path d=\"M17.41 7.96l-1.37-1.37c-.4-.4-.92-.59-1.43-.59-.52 0-1.04.2-1.43.59L10.3 9.45l-7.72 7.72c-.78.78-.78 2.05 0 2.83L4 21.41c.39.39.9.59 1.41.59.51 0 1.02-.2 1.41-.59l7.78-7.78 2.81-2.81c.8-.78.8-2.07 0-2.86zM5.41 20L4 18.59l7.72-7.72 1.47 1.35L5.41 20z\"/>\n",
              "  </svg>\n",
              "      </button>\n",
              "      \n",
              "  <style>\n",
              "    .colab-df-container {\n",
              "      display:flex;\n",
              "      flex-wrap:wrap;\n",
              "      gap: 12px;\n",
              "    }\n",
              "\n",
              "    .colab-df-convert {\n",
              "      background-color: #E8F0FE;\n",
              "      border: none;\n",
              "      border-radius: 50%;\n",
              "      cursor: pointer;\n",
              "      display: none;\n",
              "      fill: #1967D2;\n",
              "      height: 32px;\n",
              "      padding: 0 0 0 0;\n",
              "      width: 32px;\n",
              "    }\n",
              "\n",
              "    .colab-df-convert:hover {\n",
              "      background-color: #E2EBFA;\n",
              "      box-shadow: 0px 1px 2px rgba(60, 64, 67, 0.3), 0px 1px 3px 1px rgba(60, 64, 67, 0.15);\n",
              "      fill: #174EA6;\n",
              "    }\n",
              "\n",
              "    [theme=dark] .colab-df-convert {\n",
              "      background-color: #3B4455;\n",
              "      fill: #D2E3FC;\n",
              "    }\n",
              "\n",
              "    [theme=dark] .colab-df-convert:hover {\n",
              "      background-color: #434B5C;\n",
              "      box-shadow: 0px 1px 3px 1px rgba(0, 0, 0, 0.15);\n",
              "      filter: drop-shadow(0px 1px 2px rgba(0, 0, 0, 0.3));\n",
              "      fill: #FFFFFF;\n",
              "    }\n",
              "  </style>\n",
              "\n",
              "      <script>\n",
              "        const buttonEl =\n",
              "          document.querySelector('#df-8ba2c755-2ef4-42a0-84c9-181a88124e22 button.colab-df-convert');\n",
              "        buttonEl.style.display =\n",
              "          google.colab.kernel.accessAllowed ? 'block' : 'none';\n",
              "\n",
              "        async function convertToInteractive(key) {\n",
              "          const element = document.querySelector('#df-8ba2c755-2ef4-42a0-84c9-181a88124e22');\n",
              "          const dataTable =\n",
              "            await google.colab.kernel.invokeFunction('convertToInteractive',\n",
              "                                                     [key], {});\n",
              "          if (!dataTable) return;\n",
              "\n",
              "          const docLinkHtml = 'Like what you see? Visit the ' +\n",
              "            '<a target=\"_blank\" href=https://colab.research.google.com/notebooks/data_table.ipynb>data table notebook</a>'\n",
              "            + ' to learn more about interactive tables.';\n",
              "          element.innerHTML = '';\n",
              "          dataTable['output_type'] = 'display_data';\n",
              "          await google.colab.output.renderOutput(dataTable, element);\n",
              "          const docLink = document.createElement('div');\n",
              "          docLink.innerHTML = docLinkHtml;\n",
              "          element.appendChild(docLink);\n",
              "        }\n",
              "      </script>\n",
              "    </div>\n",
              "  </div>\n",
              "  "
            ]
          },
          "metadata": {},
          "execution_count": 24
        }
      ],
      "source": [
        "disability_cleaned_df[['toxicity','toxicity_disability']]"
      ]
    },
    {
      "cell_type": "markdown",
      "id": "6cc32ac5",
      "metadata": {
        "id": "6cc32ac5"
      },
      "source": [
        "Move the new `toxicity_disability` column towards the front of the dataframe:"
      ]
    },
    {
      "cell_type": "code",
      "execution_count": 25,
      "id": "7dff6f57",
      "metadata": {
        "id": "7dff6f57",
        "outputId": "890825b9-e67f-430b-d9cb-6b2da5b2af83",
        "colab": {
          "base_uri": "https://localhost:8080/",
          "height": 855
        }
      },
      "outputs": [
        {
          "output_type": "execute_result",
          "data": {
            "text/plain": [
              "                                                                                                                                                                                                                                   comment_text  \\\n",
              "7705                                                                                                                                                                                                    No sympathy for these two knuckleheads.   \n",
              "8073                                                                                                                                                  Wow!\\nYour progressive psychosis has become extreme!\\nPlease seek immediate medical help.   \n",
              "8115                                                                                                              Or.... maybe there IS chaos because the \"president\" is a mentally ill, in-over-his-head idiot who couldn't lead cats to tuna.   \n",
              "8125                                                                                                                                                                        I'll take someone who's physically ill over one who's mentally ill.   \n",
              "8263  Mental Illness at work again, again, again, again.............This women placed a clamp on the boys genitalia.   This woman SHOULD have a clamp placed on HER INNER and OUTER LIPS of her VAGINA...........and Never Removed.............   \n",
              "\n",
              "      disagree  toxicity_disability  toxicity_non_disability  toxicity  \\\n",
              "7705         0                    1                        1  0.689655   \n",
              "8073         0                    1                        1  0.800000   \n",
              "8115         1                    1                        1  0.790323   \n",
              "8125         0                    1                        1  0.352941   \n",
              "8263         0                    1                        1  0.842857   \n",
              "\n",
              "      severe_toxicity   obscene  sexual_explicit  identity_attack    insult  \\\n",
              "7705         0.000000  0.017241         0.000000         0.000000  0.689655   \n",
              "8073         0.000000  0.000000         0.000000         0.100000  0.700000   \n",
              "8115         0.032258  0.161290         0.016129         0.145161  0.774194   \n",
              "8125         0.029412  0.014706         0.014706         0.088235  0.264706   \n",
              "8263         0.114286  0.171429         0.814286         0.100000  0.371429   \n",
              "\n",
              "      ...  latino  other_race_or_ethnicity  physical_disability  \\\n",
              "7705  ...     0.0                      0.0                 0.25   \n",
              "8073  ...     0.0                      0.0                 0.00   \n",
              "8115  ...     0.0                      0.0                 0.00   \n",
              "8125  ...     0.0                      0.0                 0.75   \n",
              "8263  ...     0.0                      0.0                 0.00   \n",
              "\n",
              "      intellectual_or_learning_disability  psychiatric_or_mental_illness  \\\n",
              "7705                                  0.0                            0.0   \n",
              "8073                                  0.0                            1.0   \n",
              "8115                                  0.0                            1.0   \n",
              "8125                                  0.0                            1.0   \n",
              "8263                                  0.0                            1.0   \n",
              "\n",
              "      other_disability  identity_annotator_count  toxicity_annotator_count  \\\n",
              "7705               0.0                         4                        58   \n",
              "8073               0.0                         4                        10   \n",
              "8115               0.0                         4                        62   \n",
              "8125               0.0                         4                        68   \n",
              "8263               0.0                         4                        70   \n",
              "\n",
              "      disability_subtypes_total             disability_subtype  \n",
              "7705                       0.25            physical_disability  \n",
              "8073                       1.00  psychiatric_or_mental_illness  \n",
              "8115                       1.00  psychiatric_or_mental_illness  \n",
              "8125                       1.75  psychiatric_or_mental_illness  \n",
              "8263                       1.00  psychiatric_or_mental_illness  \n",
              "\n",
              "[5 rows x 39 columns]"
            ],
            "text/html": [
              "\n",
              "  <div id=\"df-0fedfc6b-0e1f-4a82-9e95-09abf3b96a65\">\n",
              "    <div class=\"colab-df-container\">\n",
              "      <div>\n",
              "<style scoped>\n",
              "    .dataframe tbody tr th:only-of-type {\n",
              "        vertical-align: middle;\n",
              "    }\n",
              "\n",
              "    .dataframe tbody tr th {\n",
              "        vertical-align: top;\n",
              "    }\n",
              "\n",
              "    .dataframe thead th {\n",
              "        text-align: right;\n",
              "    }\n",
              "</style>\n",
              "<table border=\"1\" class=\"dataframe\">\n",
              "  <thead>\n",
              "    <tr style=\"text-align: right;\">\n",
              "      <th></th>\n",
              "      <th>comment_text</th>\n",
              "      <th>disagree</th>\n",
              "      <th>toxicity_disability</th>\n",
              "      <th>toxicity_non_disability</th>\n",
              "      <th>toxicity</th>\n",
              "      <th>severe_toxicity</th>\n",
              "      <th>obscene</th>\n",
              "      <th>sexual_explicit</th>\n",
              "      <th>identity_attack</th>\n",
              "      <th>insult</th>\n",
              "      <th>...</th>\n",
              "      <th>latino</th>\n",
              "      <th>other_race_or_ethnicity</th>\n",
              "      <th>physical_disability</th>\n",
              "      <th>intellectual_or_learning_disability</th>\n",
              "      <th>psychiatric_or_mental_illness</th>\n",
              "      <th>other_disability</th>\n",
              "      <th>identity_annotator_count</th>\n",
              "      <th>toxicity_annotator_count</th>\n",
              "      <th>disability_subtypes_total</th>\n",
              "      <th>disability_subtype</th>\n",
              "    </tr>\n",
              "  </thead>\n",
              "  <tbody>\n",
              "    <tr>\n",
              "      <th>7705</th>\n",
              "      <td>No sympathy for these two knuckleheads.</td>\n",
              "      <td>0</td>\n",
              "      <td>1</td>\n",
              "      <td>1</td>\n",
              "      <td>0.689655</td>\n",
              "      <td>0.000000</td>\n",
              "      <td>0.017241</td>\n",
              "      <td>0.000000</td>\n",
              "      <td>0.000000</td>\n",
              "      <td>0.689655</td>\n",
              "      <td>...</td>\n",
              "      <td>0.0</td>\n",
              "      <td>0.0</td>\n",
              "      <td>0.25</td>\n",
              "      <td>0.0</td>\n",
              "      <td>0.0</td>\n",
              "      <td>0.0</td>\n",
              "      <td>4</td>\n",
              "      <td>58</td>\n",
              "      <td>0.25</td>\n",
              "      <td>physical_disability</td>\n",
              "    </tr>\n",
              "    <tr>\n",
              "      <th>8073</th>\n",
              "      <td>Wow!\\nYour progressive psychosis has become extreme!\\nPlease seek immediate medical help.</td>\n",
              "      <td>0</td>\n",
              "      <td>1</td>\n",
              "      <td>1</td>\n",
              "      <td>0.800000</td>\n",
              "      <td>0.000000</td>\n",
              "      <td>0.000000</td>\n",
              "      <td>0.000000</td>\n",
              "      <td>0.100000</td>\n",
              "      <td>0.700000</td>\n",
              "      <td>...</td>\n",
              "      <td>0.0</td>\n",
              "      <td>0.0</td>\n",
              "      <td>0.00</td>\n",
              "      <td>0.0</td>\n",
              "      <td>1.0</td>\n",
              "      <td>0.0</td>\n",
              "      <td>4</td>\n",
              "      <td>10</td>\n",
              "      <td>1.00</td>\n",
              "      <td>psychiatric_or_mental_illness</td>\n",
              "    </tr>\n",
              "    <tr>\n",
              "      <th>8115</th>\n",
              "      <td>Or.... maybe there IS chaos because the \"president\" is a mentally ill, in-over-his-head idiot who couldn't lead cats to tuna.</td>\n",
              "      <td>1</td>\n",
              "      <td>1</td>\n",
              "      <td>1</td>\n",
              "      <td>0.790323</td>\n",
              "      <td>0.032258</td>\n",
              "      <td>0.161290</td>\n",
              "      <td>0.016129</td>\n",
              "      <td>0.145161</td>\n",
              "      <td>0.774194</td>\n",
              "      <td>...</td>\n",
              "      <td>0.0</td>\n",
              "      <td>0.0</td>\n",
              "      <td>0.00</td>\n",
              "      <td>0.0</td>\n",
              "      <td>1.0</td>\n",
              "      <td>0.0</td>\n",
              "      <td>4</td>\n",
              "      <td>62</td>\n",
              "      <td>1.00</td>\n",
              "      <td>psychiatric_or_mental_illness</td>\n",
              "    </tr>\n",
              "    <tr>\n",
              "      <th>8125</th>\n",
              "      <td>I'll take someone who's physically ill over one who's mentally ill.</td>\n",
              "      <td>0</td>\n",
              "      <td>1</td>\n",
              "      <td>1</td>\n",
              "      <td>0.352941</td>\n",
              "      <td>0.029412</td>\n",
              "      <td>0.014706</td>\n",
              "      <td>0.014706</td>\n",
              "      <td>0.088235</td>\n",
              "      <td>0.264706</td>\n",
              "      <td>...</td>\n",
              "      <td>0.0</td>\n",
              "      <td>0.0</td>\n",
              "      <td>0.75</td>\n",
              "      <td>0.0</td>\n",
              "      <td>1.0</td>\n",
              "      <td>0.0</td>\n",
              "      <td>4</td>\n",
              "      <td>68</td>\n",
              "      <td>1.75</td>\n",
              "      <td>psychiatric_or_mental_illness</td>\n",
              "    </tr>\n",
              "    <tr>\n",
              "      <th>8263</th>\n",
              "      <td>Mental Illness at work again, again, again, again.............This women placed a clamp on the boys genitalia.   This woman SHOULD have a clamp placed on HER INNER and OUTER LIPS of her VAGINA...........and Never Removed.............</td>\n",
              "      <td>0</td>\n",
              "      <td>1</td>\n",
              "      <td>1</td>\n",
              "      <td>0.842857</td>\n",
              "      <td>0.114286</td>\n",
              "      <td>0.171429</td>\n",
              "      <td>0.814286</td>\n",
              "      <td>0.100000</td>\n",
              "      <td>0.371429</td>\n",
              "      <td>...</td>\n",
              "      <td>0.0</td>\n",
              "      <td>0.0</td>\n",
              "      <td>0.00</td>\n",
              "      <td>0.0</td>\n",
              "      <td>1.0</td>\n",
              "      <td>0.0</td>\n",
              "      <td>4</td>\n",
              "      <td>70</td>\n",
              "      <td>1.00</td>\n",
              "      <td>psychiatric_or_mental_illness</td>\n",
              "    </tr>\n",
              "  </tbody>\n",
              "</table>\n",
              "<p>5 rows × 39 columns</p>\n",
              "</div>\n",
              "      <button class=\"colab-df-convert\" onclick=\"convertToInteractive('df-0fedfc6b-0e1f-4a82-9e95-09abf3b96a65')\"\n",
              "              title=\"Convert this dataframe to an interactive table.\"\n",
              "              style=\"display:none;\">\n",
              "        \n",
              "  <svg xmlns=\"http://www.w3.org/2000/svg\" height=\"24px\"viewBox=\"0 0 24 24\"\n",
              "       width=\"24px\">\n",
              "    <path d=\"M0 0h24v24H0V0z\" fill=\"none\"/>\n",
              "    <path d=\"M18.56 5.44l.94 2.06.94-2.06 2.06-.94-2.06-.94-.94-2.06-.94 2.06-2.06.94zm-11 1L8.5 8.5l.94-2.06 2.06-.94-2.06-.94L8.5 2.5l-.94 2.06-2.06.94zm10 10l.94 2.06.94-2.06 2.06-.94-2.06-.94-.94-2.06-.94 2.06-2.06.94z\"/><path d=\"M17.41 7.96l-1.37-1.37c-.4-.4-.92-.59-1.43-.59-.52 0-1.04.2-1.43.59L10.3 9.45l-7.72 7.72c-.78.78-.78 2.05 0 2.83L4 21.41c.39.39.9.59 1.41.59.51 0 1.02-.2 1.41-.59l7.78-7.78 2.81-2.81c.8-.78.8-2.07 0-2.86zM5.41 20L4 18.59l7.72-7.72 1.47 1.35L5.41 20z\"/>\n",
              "  </svg>\n",
              "      </button>\n",
              "      \n",
              "  <style>\n",
              "    .colab-df-container {\n",
              "      display:flex;\n",
              "      flex-wrap:wrap;\n",
              "      gap: 12px;\n",
              "    }\n",
              "\n",
              "    .colab-df-convert {\n",
              "      background-color: #E8F0FE;\n",
              "      border: none;\n",
              "      border-radius: 50%;\n",
              "      cursor: pointer;\n",
              "      display: none;\n",
              "      fill: #1967D2;\n",
              "      height: 32px;\n",
              "      padding: 0 0 0 0;\n",
              "      width: 32px;\n",
              "    }\n",
              "\n",
              "    .colab-df-convert:hover {\n",
              "      background-color: #E2EBFA;\n",
              "      box-shadow: 0px 1px 2px rgba(60, 64, 67, 0.3), 0px 1px 3px 1px rgba(60, 64, 67, 0.15);\n",
              "      fill: #174EA6;\n",
              "    }\n",
              "\n",
              "    [theme=dark] .colab-df-convert {\n",
              "      background-color: #3B4455;\n",
              "      fill: #D2E3FC;\n",
              "    }\n",
              "\n",
              "    [theme=dark] .colab-df-convert:hover {\n",
              "      background-color: #434B5C;\n",
              "      box-shadow: 0px 1px 3px 1px rgba(0, 0, 0, 0.15);\n",
              "      filter: drop-shadow(0px 1px 2px rgba(0, 0, 0, 0.3));\n",
              "      fill: #FFFFFF;\n",
              "    }\n",
              "  </style>\n",
              "\n",
              "      <script>\n",
              "        const buttonEl =\n",
              "          document.querySelector('#df-0fedfc6b-0e1f-4a82-9e95-09abf3b96a65 button.colab-df-convert');\n",
              "        buttonEl.style.display =\n",
              "          google.colab.kernel.accessAllowed ? 'block' : 'none';\n",
              "\n",
              "        async function convertToInteractive(key) {\n",
              "          const element = document.querySelector('#df-0fedfc6b-0e1f-4a82-9e95-09abf3b96a65');\n",
              "          const dataTable =\n",
              "            await google.colab.kernel.invokeFunction('convertToInteractive',\n",
              "                                                     [key], {});\n",
              "          if (!dataTable) return;\n",
              "\n",
              "          const docLinkHtml = 'Like what you see? Visit the ' +\n",
              "            '<a target=\"_blank\" href=https://colab.research.google.com/notebooks/data_table.ipynb>data table notebook</a>'\n",
              "            + ' to learn more about interactive tables.';\n",
              "          element.innerHTML = '';\n",
              "          dataTable['output_type'] = 'display_data';\n",
              "          await google.colab.output.renderOutput(dataTable, element);\n",
              "          const docLink = document.createElement('div');\n",
              "          docLink.innerHTML = docLinkHtml;\n",
              "          element.appendChild(docLink);\n",
              "        }\n",
              "      </script>\n",
              "    </div>\n",
              "  </div>\n",
              "  "
            ]
          },
          "metadata": {},
          "execution_count": 25
        }
      ],
      "source": [
        "orig_cols = disability_cleaned_df.columns.tolist()\n",
        "reordered_cols = orig_cols[:2] + orig_cols[-1:] + orig_cols[2:-1]\n",
        "disability_cleaned_df = disability_cleaned_df[reordered_cols]\n",
        "disability_cleaned_df.head()"
      ]
    },
    {
      "cell_type": "markdown",
      "id": "00734fce",
      "metadata": {
        "id": "00734fce"
      },
      "source": [
        "## Prepare data splits for disability\n",
        "**Overview:** We'll split the disability subset into 70% train, 10% validation, and 20% test sets. Comments may have subtle differences due to disability subtypes (e.g. comments about physical disability may be different than comments about intellectual/learning disability). Therefore we'll need to do stratified sampling on the disability subtypes such that for each dataset split, the ratio for each disability subtype will be around the same.\n",
        "\n",
        "**Splitting Method**\n",
        "\n",
        "We'll use the train_test_split() method and since it only creates two splits, we'll take the following steps to create the three train/val/test splits:\n",
        "\n",
        "1. Split into group1: 80% for train and validation, and group2: 20% for test.\n",
        "1. No need to further split the test set, so leave it alone.\n",
        "1. Take the set from step 1 that combines train and validation and divide it into train and val sets. Since we want the overall ratio to be 70% train and 10% validation, the ratio for train here should be (1-1/7) and for validation it should be 1/7."
      ]
    },
    {
      "cell_type": "markdown",
      "id": "6d27ec4a",
      "metadata": {
        "id": "6d27ec4a"
      },
      "source": [
        "Split the data:"
      ]
    },
    {
      "cell_type": "code",
      "execution_count": 26,
      "id": "c1d50b42",
      "metadata": {
        "id": "c1d50b42"
      },
      "outputs": [],
      "source": [
        "# Split into 80% combined for train and val, and 20% test\n",
        "disability_combined_df, disability_test_df = train_test_split(disability_cleaned_df,\n",
        "                                       test_size=0.2,\n",
        "                                       random_state=266, stratify=disability_cleaned_df['disability_subtype'])\n",
        "\n",
        "# Split into 70% for train and 10% val\n",
        "disability_train_df, disability_val_df = train_test_split(disability_combined_df,\n",
        "                                       test_size=1/7,\n",
        "                                       random_state=266, stratify=disability_combined_df['disability_subtype'])"
      ]
    },
    {
      "cell_type": "markdown",
      "id": "68571569",
      "metadata": {
        "id": "68571569"
      },
      "source": [
        "How big is each split?"
      ]
    },
    {
      "cell_type": "code",
      "execution_count": 27,
      "id": "08e7a0f6",
      "metadata": {
        "id": "08e7a0f6",
        "outputId": "94e1f25b-df68-4298-b62a-16de9cdd38fe",
        "colab": {
          "base_uri": "https://localhost:8080/"
        }
      },
      "outputs": [
        {
          "output_type": "stream",
          "name": "stdout",
          "text": [
            "disability_train size:  10393\n",
            "disability_val size:  1733\n",
            "disability_test size:  3032\n",
            "disability total:  15158\n",
            "disability train ratio:  0.6856445441351102\n",
            "disability val ratio:  0.11432906715925584\n",
            "disability test ratio:  0.200026388705634\n"
          ]
        }
      ],
      "source": [
        "disability_train_len = len(disability_train_df)\n",
        "disability_val_len = len(disability_val_df)\n",
        "disability_test_len = len(disability_test_df)\n",
        "disability_total = disability_train_len+disability_val_len+disability_test_len\n",
        "print('disability_train size: ', disability_train_len)\n",
        "print('disability_val size: ', disability_val_len)\n",
        "print('disability_test size: ', disability_test_len)\n",
        "print('disability total: ', disability_total)\n",
        "print('disability train ratio: ', disability_train_len/disability_total)\n",
        "print('disability val ratio: ', disability_val_len/disability_total)\n",
        "print('disability test ratio: ', disability_test_len/disability_total)"
      ]
    },
    {
      "cell_type": "markdown",
      "source": [
        "How balanced is each split in terms of negative and positive labels?"
      ],
      "metadata": {
        "id": "XN9q-KAANTiZ"
      },
      "id": "XN9q-KAANTiZ"
    },
    {
      "cell_type": "code",
      "source": [
        "neg, pos = np.bincount(disability_train_df['toxicity_disability'])\n",
        "total = neg + pos\n",
        "print('Train Disability Examples:\\n    Total: {}\\n    Positive: {} ({:.2f}% of total)\\n'.format(\n",
        "    total, pos, 100 * pos / total))\n",
        "neg, pos = np.bincount(disability_val_df['toxicity_disability'])\n",
        "total = neg + pos\n",
        "print('Val Disability Examples:\\n    Total: {}\\n    Positive: {} ({:.2f}% of total)\\n'.format(\n",
        "    total, pos, 100 * pos / total))\n",
        "neg, pos = np.bincount(disability_test_df['toxicity_disability'])\n",
        "total = neg + pos\n",
        "print('Test Disability Examples:\\n    Total: {}\\n    Positive: {} ({:.2f}% of total)\\n'.format(\n",
        "    total, pos, 100 * pos / total))"
      ],
      "metadata": {
        "colab": {
          "base_uri": "https://localhost:8080/"
        },
        "id": "kWCOFXXXNSqs",
        "outputId": "3054a201-8dfc-4336-fe81-8e73dd39ba36"
      },
      "id": "kWCOFXXXNSqs",
      "execution_count": 28,
      "outputs": [
        {
          "output_type": "stream",
          "name": "stdout",
          "text": [
            "Train Disability Examples:\n",
            "    Total: 10393\n",
            "    Positive: 3551 (34.17% of total)\n",
            "\n",
            "Val Disability Examples:\n",
            "    Total: 1733\n",
            "    Positive: 622 (35.89% of total)\n",
            "\n",
            "Test Disability Examples:\n",
            "    Total: 3032\n",
            "    Positive: 1093 (36.05% of total)\n",
            "\n"
          ]
        }
      ]
    },
    {
      "cell_type": "code",
      "execution_count": 29,
      "id": "e0663082",
      "metadata": {
        "id": "e0663082",
        "outputId": "e69343c3-c3ae-45c9-9aab-39c7145b987d",
        "colab": {
          "base_uri": "https://localhost:8080/"
        }
      },
      "outputs": [
        {
          "output_type": "stream",
          "name": "stdout",
          "text": [
            "\n",
            "Stratified Sampling Sanity Check for Disability\n",
            "\n",
            "Disability Train\n",
            "=====================\n",
            "phys:\t 0.13816992206292697\n",
            "intel:\t 0.09833541806985471\n",
            "psych:\t 0.6535167901472144\n",
            "other_disability:\t 0.10997786972000385\n",
            "\n",
            "Disability Val\n",
            "=====================\n",
            "phys:\t 0.13791113675706868\n",
            "intel:\t 0.09867282169648009\n",
            "psych:\t 0.6532025389497981\n",
            "other_disability:\t 0.1102135025966532\n",
            "\n",
            "Disability Test\n",
            "=====================\n",
            "phys:\t 0.13819261213720316\n",
            "intel:\t 0.09828496042216359\n",
            "psych:\t 0.6533641160949868\n",
            "other_disability:\t 0.11015831134564644\n"
          ]
        }
      ],
      "source": [
        "print('\\nStratified Sampling Sanity Check for Disability')\n",
        "disability_train_phys = (disability_train_df['disability_subtype']=='physical_disability').astype(int).sum()\n",
        "disability_train_intel = (disability_train_df['disability_subtype']=='intellectual_or_learning_disability').astype(int).sum()\n",
        "disability_train_psych = (disability_train_df['disability_subtype']=='psychiatric_or_mental_illness').astype(int).sum()\n",
        "disability_train_other = (disability_train_df['disability_subtype']=='other_disability').astype(int).sum()\n",
        "disability_train_total = len(disability_train_df['disability_subtype'])\n",
        "print('\\nDisability Train')\n",
        "print('=====================')\n",
        "print('phys:\\t', disability_train_phys/disability_train_total)\n",
        "print('intel:\\t', disability_train_intel/disability_train_total)\n",
        "print('psych:\\t', disability_train_psych/disability_train_total)\n",
        "print('other_disability:\\t', disability_train_other/disability_train_total)\n",
        "\n",
        "disability_val_phys = (disability_val_df['disability_subtype']=='physical_disability').astype(int).sum()\n",
        "disability_val_intel = (disability_val_df['disability_subtype']=='intellectual_or_learning_disability').astype(int).sum()\n",
        "disability_val_psych = (disability_val_df['disability_subtype']=='psychiatric_or_mental_illness').astype(int).sum()\n",
        "disability_val_other = (disability_val_df['disability_subtype']=='other_disability').astype(int).sum()\n",
        "disability_val_total = len(disability_val_df['disability_subtype'])\n",
        "print('\\nDisability Val')\n",
        "print('=====================')\n",
        "print('phys:\\t', disability_val_phys/disability_val_total)\n",
        "print('intel:\\t', disability_val_intel/disability_val_total)\n",
        "print('psych:\\t', disability_val_psych/disability_val_total)\n",
        "print('other_disability:\\t', disability_val_other/disability_val_total)\n",
        "\n",
        "disability_test_phys = (disability_test_df['disability_subtype']=='physical_disability').astype(int).sum()\n",
        "disability_test_intel = (disability_test_df['disability_subtype']=='intellectual_or_learning_disability').astype(int).sum()\n",
        "disability_test_psych = (disability_test_df['disability_subtype']=='psychiatric_or_mental_illness').astype(int).sum()\n",
        "disability_test_other = (disability_test_df['disability_subtype']=='other_disability').astype(int).sum()\n",
        "disability_test_total = len(disability_test_df['disability_subtype'])\n",
        "print('\\nDisability Test')\n",
        "print('=====================')\n",
        "print('phys:\\t', disability_test_phys/disability_test_total)\n",
        "print('intel:\\t', disability_test_intel/disability_test_total)\n",
        "print('psych:\\t', disability_test_psych/disability_test_total)\n",
        "print('other_disability:\\t', disability_test_other/disability_test_total)"
      ]
    },
    {
      "cell_type": "markdown",
      "id": "a261c7ac",
      "metadata": {
        "id": "a261c7ac"
      },
      "source": [
        "### Export disability split datasets into csv"
      ]
    },
    {
      "cell_type": "code",
      "execution_count": 30,
      "id": "7386d01f",
      "metadata": {
        "id": "7386d01f"
      },
      "outputs": [],
      "source": [
        "# disability_df.to_csv('drive/MyDrive/data/disability-dataset-full.csv')\n",
        "disability_train_df.to_csv('drive/MyDrive/data/disability-dataset-train.csv')\n",
        "disability_val_df.to_csv('drive/MyDrive/data/disability-dataset-val.csv')\n",
        "disability_test_df.to_csv('drive/MyDrive/data/disability-dataset-test.csv')"
      ]
    },
    {
      "cell_type": "markdown",
      "id": "e80f528c",
      "metadata": {
        "id": "e80f528c"
      },
      "source": [
        "### Address Data Imbalance Between Disability and Non-Disability Subsets\n",
        "All of the non-disability identities have many more records than the disability subset. For the interweaving technique, we'll want the disability and non-disability subset to be balanced in terms of dataset size. That is, we don't want whatever is learned from the disability subset to be overpowered by the non-disability subset due training on more non-disability examples. Therefore, we'll divide of each non-disability subsets into chunks that are the same size as the disability subset.\n",
        "\n",
        "#### Capture number of disability samples in disability train, val, and test set to be used in the undersampling for non-disability identities:"
      ]
    },
    {
      "cell_type": "code",
      "execution_count": 31,
      "id": "98b32578",
      "metadata": {
        "id": "98b32578"
      },
      "outputs": [],
      "source": [
        "num_disability_train_samples = len(disability_train_df)\n",
        "num_disability_val_samples = len(disability_val_df)\n",
        "num_disability_test_samples = len(disability_test_df)"
      ]
    },
    {
      "cell_type": "markdown",
      "id": "57e432b8",
      "metadata": {
        "id": "57e432b8"
      },
      "source": [
        "# Prepare non-disability subsets"
      ]
    },
    {
      "cell_type": "markdown",
      "id": "26342da2",
      "metadata": {
        "id": "26342da2"
      },
      "source": [
        "**Overview**\n",
        "- We want each non-disability subset to have the following ratio: 70% train, 10% val, and 20% test.\n",
        "- Each split will be stratified on each identity's subtype.\n",
        "- Disability has 18k comments. Since there are more examples for non-disability, we'll undersample the non-disability comments to reduce it to 18k. That way the models don't favor the identity group with more examples for that identity.\n",
        "\n",
        "**Splitting Method**\n",
        "\n",
        "We'll use the train_test_split() method and since it only creates two splits, we'll take the following steps to create the three train/val/test splits:\n",
        "\n",
        "1. Split into group1: 80% for train and validation, and group2: 20% for test.\n",
        "1. No need to further split the test set, so leave it alone.\n",
        "1. Take the set from step 1 that combines train and validation and divide it into train and val sets. Since we want the overall ratio to be 70% train and 10% validation, the ratio for train here should be (1-1/7) and for validation it should be 1/7."
      ]
    },
    {
      "cell_type": "markdown",
      "id": "8d09f1aa",
      "metadata": {
        "id": "8d09f1aa"
      },
      "source": [
        "## Gender subset"
      ]
    },
    {
      "cell_type": "markdown",
      "id": "25c3b1ed",
      "metadata": {
        "id": "25c3b1ed"
      },
      "source": [
        "Create gender subset:"
      ]
    },
    {
      "cell_type": "code",
      "execution_count": 32,
      "id": "3e653523",
      "metadata": {
        "id": "3e653523",
        "outputId": "834345a3-9cf9-4cdb-be78-e0f2227a39ed",
        "colab": {
          "base_uri": "https://localhost:8080/"
        }
      },
      "outputs": [
        {
          "output_type": "execute_result",
          "data": {
            "text/plain": [
              "(137722, 36)"
            ]
          },
          "metadata": {},
          "execution_count": 32
        }
      ],
      "source": [
        "gender_df = all_data_df_cleansed[(all_data_df_cleansed['male'] > 0) | \n",
        "           (all_data_df_cleansed['female'] > 0) | \n",
        "           (all_data_df_cleansed['transgender'] > 0) | \n",
        "           (all_data_df_cleansed['other_gender'] > 0)]\n",
        "gender_df.shape"
      ]
    },
    {
      "cell_type": "markdown",
      "source": [
        "Divide gender data into chunks whose size is the same as the disability subset:"
      ],
      "metadata": {
        "id": "TGgELMXVqkjf"
      },
      "id": "TGgELMXVqkjf"
    },
    {
      "cell_type": "code",
      "source": [
        "# get number of disability rows, which will be the size of each chunk\n",
        "chunk_size = len(disability_cleaned_df)\n",
        "# shuffle gender data rows before dividing the data\n",
        "shuffled_gender_df = gender_df.sample(frac = 1)\n",
        "# reset the index numbers since we'll be using the index for chunking\n",
        "shuffled_gender_df = shuffled_gender_df.reset_index()\n",
        "\n",
        "gender_chunk1_df = shuffled_gender_df.iloc[0:chunk_size]\n",
        "gender_chunk2_df = shuffled_gender_df.iloc[chunk_size:chunk_size*2]\n",
        "gender_chunk3_df = shuffled_gender_df.iloc[chunk_size*2:chunk_size*3]\n",
        "gender_chunk4_df = shuffled_gender_df.iloc[chunk_size*3:chunk_size*4]\n",
        "gender_chunk5_df = shuffled_gender_df.iloc[chunk_size*4:chunk_size*5]\n",
        "gender_chunk6_df = shuffled_gender_df.iloc[chunk_size*5:chunk_size*6]\n",
        "gender_chunk7_df = shuffled_gender_df.iloc[chunk_size*6:chunk_size*7]\n",
        "gender_chunk8_df = shuffled_gender_df.iloc[chunk_size*7:chunk_size*8]\n",
        "gender_chunk9_df = shuffled_gender_df.iloc[chunk_size*8:]\n",
        "\n",
        "print('disability size: ', len(disability_cleaned_df))\n",
        "print('gender_chunk1_df size: ', len(gender_chunk1_df))\n",
        "print('gender_chunk2_df size: ', len(gender_chunk2_df))\n",
        "print('gender_chunk3_df size: ', len(gender_chunk3_df))\n",
        "print('gender_chunk4_df size: ', len(gender_chunk4_df))\n",
        "print('gender_chunk5_df size: ', len(gender_chunk5_df))\n",
        "print('gender_chunk6_df size: ', len(gender_chunk6_df))\n",
        "print('gender_chunk7_df size: ', len(gender_chunk7_df))\n",
        "print('gender_chunk8_df size: ', len(gender_chunk8_df))\n",
        "print('gender_chunk9_df size: ', len(gender_chunk9_df))"
      ],
      "metadata": {
        "colab": {
          "base_uri": "https://localhost:8080/"
        },
        "id": "e2c6C9gRqrH0",
        "outputId": "7a1c0ad7-05b1-46b1-d353-c00201165ef9"
      },
      "id": "e2c6C9gRqrH0",
      "execution_count": 33,
      "outputs": [
        {
          "output_type": "stream",
          "name": "stdout",
          "text": [
            "disability size:  15158\n",
            "gender_chunk1_df size:  15158\n",
            "gender_chunk2_df size:  15158\n",
            "gender_chunk3_df size:  15158\n",
            "gender_chunk4_df size:  15158\n",
            "gender_chunk5_df size:  15158\n",
            "gender_chunk6_df size:  15158\n",
            "gender_chunk7_df size:  15158\n",
            "gender_chunk8_df size:  15158\n",
            "gender_chunk9_df size:  16458\n"
          ]
        }
      ]
    },
    {
      "cell_type": "markdown",
      "id": "97f5852b",
      "metadata": {
        "id": "97f5852b"
      },
      "source": [
        "Split the data for each chunk:"
      ]
    },
    {
      "cell_type": "code",
      "source": [
        "# Gender Chunk 1\n",
        "# Split into 80% combined for train and val, and 20% test\n",
        "gender_combined_chunk1_df, gender_test_chunk1_df = train_test_split(gender_chunk1_df, test_size=0.2, random_state=266)\n",
        "# Split into 70% for train and 10% val\n",
        "gender_train_chunk1_df, gender_val_chunk1_df = train_test_split(gender_combined_chunk1_df, test_size=1/7, random_state=266)\n",
        "\n",
        "# Gender Chunk 2\n",
        "gender_combined_chunk2_df, gender_test_chunk2_df = train_test_split(gender_chunk2_df, test_size=0.2, random_state=266)\n",
        "gender_train_chunk2_df, gender_val_chunk2_df = train_test_split(gender_combined_chunk2_df, test_size=1/7, random_state=266)\n",
        "\n",
        "# Gender Chunk 3\n",
        "gender_combined_chunk3_df, gender_test_chunk3_df = train_test_split(gender_chunk3_df, test_size=0.2, random_state=266)\n",
        "gender_train_chunk3_df, gender_val_chunk3_df = train_test_split(gender_combined_chunk3_df, test_size=1/7, random_state=266)\n",
        "\n",
        "# Gender Chunk 4\n",
        "gender_combined_chunk4_df, gender_test_chunk4_df = train_test_split(gender_chunk4_df, test_size=0.2, random_state=266)\n",
        "gender_train_chunk4_df, gender_val_chunk4_df = train_test_split(gender_combined_chunk4_df, test_size=1/7, random_state=266)\n",
        "\n",
        "# Gender Chunk 5\n",
        "gender_combined_chunk5_df, gender_test_chunk5_df = train_test_split(gender_chunk5_df, test_size=0.2, random_state=266)\n",
        "gender_train_chunk5_df, gender_val_chunk5_df = train_test_split(gender_combined_chunk5_df, test_size=1/7, random_state=266)\n",
        "\n",
        "# Gender Chunk 6\n",
        "gender_combined_chunk6_df, gender_test_chunk6_df = train_test_split(gender_chunk6_df, test_size=0.2, random_state=266)\n",
        "gender_train_chunk6_df, gender_val_chunk6_df = train_test_split(gender_combined_chunk6_df, test_size=1/7, random_state=266)\n",
        "\n",
        "# Gender Chunk 7\n",
        "gender_combined_chunk7_df, gender_test_chunk7_df = train_test_split(gender_chunk7_df, test_size=0.2, random_state=266)\n",
        "gender_train_chunk7_df, gender_val_chunk7_df = train_test_split(gender_combined_chunk7_df, test_size=1/7, random_state=266)\n",
        "\n",
        "# Gender Chunk 8\n",
        "gender_combined_chunk8_df, gender_test_chunk8_df = train_test_split(gender_chunk8_df, test_size=0.2, random_state=266)\n",
        "gender_train_chunk8_df, gender_val_chunk8_df = train_test_split(gender_combined_chunk8_df, test_size=1/7, random_state=266)\n",
        "\n",
        "# Gender Chunk 9\n",
        "gender_combined_chunk9_df, gender_test_chunk9_df = train_test_split(gender_chunk9_df, test_size=0.2, random_state=266)\n",
        "gender_train_chunk9_df, gender_val_chunk9_df = train_test_split(gender_combined_chunk9_df, test_size=1/7, random_state=266)"
      ],
      "metadata": {
        "id": "XGHubUyQwiLR"
      },
      "id": "XGHubUyQwiLR",
      "execution_count": 34,
      "outputs": []
    },
    {
      "cell_type": "markdown",
      "id": "b312765b",
      "metadata": {
        "id": "b312765b"
      },
      "source": [
        "Sanity check: how big is each split for gender_chunk1?"
      ]
    },
    {
      "cell_type": "code",
      "execution_count": 35,
      "id": "448b107e",
      "metadata": {
        "id": "448b107e",
        "outputId": "785509bf-9c41-4027-feb4-931dc0068238",
        "colab": {
          "base_uri": "https://localhost:8080/"
        }
      },
      "outputs": [
        {
          "output_type": "stream",
          "name": "stdout",
          "text": [
            "gender_train_chunk1 size:  10393\n",
            "gender_val_chunk1 size:  1733\n",
            "gender_test_chunk1 size:  3032\n",
            "gender total_chunk1:  15158\n",
            "\n",
            "gender train chunk 1 ratio:  0.6856445441351102\n",
            "gender val chunk 1 ratio:  0.11432906715925584\n",
            "gender test chunk 1 ratio:  0.200026388705634\n"
          ]
        }
      ],
      "source": [
        "gender_train_chunk1_len = len(gender_train_chunk1_df)\n",
        "gender_val_chunk1_len = len(gender_val_chunk1_df)\n",
        "gender_test_chunk1_len = len(gender_test_chunk1_df)\n",
        "gender_chunk1_total = gender_train_chunk1_len+gender_val_chunk1_len+gender_test_chunk1_len\n",
        "print('gender_train_chunk1 size: ', gender_train_chunk1_len)\n",
        "print('gender_val_chunk1 size: ', gender_val_chunk1_len)\n",
        "print('gender_test_chunk1 size: ', gender_test_chunk1_len)\n",
        "print('gender total_chunk1: ', gender_chunk1_total)\n",
        "print('\\ngender train chunk 1 ratio: ', gender_train_chunk1_len/gender_chunk1_total)\n",
        "print('gender val chunk 1 ratio: ', gender_val_chunk1_len/gender_chunk1_total)\n",
        "print('gender test chunk 1 ratio: ', gender_test_chunk1_len/gender_chunk1_total)"
      ]
    },
    {
      "cell_type": "markdown",
      "id": "ce870e1c",
      "metadata": {
        "id": "ce870e1c"
      },
      "source": [
        "Check positive/negative labels balance:"
      ]
    },
    {
      "cell_type": "code",
      "execution_count": 36,
      "id": "bc4be446",
      "metadata": {
        "id": "bc4be446",
        "outputId": "99b4e0d9-c10c-4fdb-8d27-f0088b9e2f78",
        "colab": {
          "base_uri": "https://localhost:8080/"
        }
      },
      "outputs": [
        {
          "output_type": "stream",
          "name": "stdout",
          "text": [
            "Gender ALL Examples:\n",
            "    Total: 137722\n",
            "    Positive: 37815 (27.46% of total)\n",
            "\n"
          ]
        }
      ],
      "source": [
        "neg, pos = np.bincount(gender_df['toxicity_non_disability'])\n",
        "total = neg + pos\n",
        "print('Gender ALL Examples:\\n    Total: {}\\n    Positive: {} ({:.2f}% of total)\\n'.format(\n",
        "    total, pos, 100 * pos / total))"
      ]
    },
    {
      "cell_type": "code",
      "execution_count": 37,
      "id": "32e8c92c",
      "metadata": {
        "id": "32e8c92c",
        "outputId": "d7f5667a-b4c4-405d-8079-dec5c31b5e30",
        "colab": {
          "base_uri": "https://localhost:8080/"
        }
      },
      "outputs": [
        {
          "output_type": "stream",
          "name": "stdout",
          "text": [
            "Gender Train Chunk 1 Examples:\n",
            "    Total: 10393\n",
            "    Positive: 2878 (27.69% of total)\n",
            "\n"
          ]
        }
      ],
      "source": [
        "neg, pos = np.bincount(gender_train_chunk1_df['toxicity_non_disability'])\n",
        "total = neg + pos\n",
        "print('Gender Train Chunk 1 Examples:\\n    Total: {}\\n    Positive: {} ({:.2f}% of total)\\n'.format(\n",
        "    total, pos, 100 * pos / total))"
      ]
    },
    {
      "cell_type": "markdown",
      "id": "e35f09e7",
      "metadata": {
        "id": "e35f09e7"
      },
      "source": [
        "### Export gender split chunk datasets into csv"
      ]
    },
    {
      "cell_type": "code",
      "execution_count": 38,
      "id": "96226409",
      "metadata": {
        "id": "96226409"
      },
      "outputs": [],
      "source": [
        "gender_train_chunk1_df.to_csv('drive/MyDrive/data/gender-dataset-train-chunk1.csv')\n",
        "gender_val_chunk1_df.to_csv('drive/MyDrive/data/gender-dataset-val-chunk1.csv')\n",
        "gender_test_chunk1_df.to_csv('drive/MyDrive/data/gender-dataset-test-chunk1.csv')\n",
        "\n",
        "gender_train_chunk2_df.to_csv('drive/MyDrive/data/gender-dataset-train-chunk2.csv')\n",
        "gender_val_chunk2_df.to_csv('drive/MyDrive/data/gender-dataset-val-chunk2.csv')\n",
        "gender_test_chunk2_df.to_csv('drive/MyDrive/data/gender-dataset-test-chunk2.csv')\n",
        "\n",
        "gender_train_chunk3_df.to_csv('drive/MyDrive/data/gender-dataset-train-chunk3.csv')\n",
        "gender_val_chunk3_df.to_csv('drive/MyDrive/data/gender-dataset-val-chunk3.csv')\n",
        "gender_test_chunk3_df.to_csv('drive/MyDrive/data/gender-dataset-test-chunk3.csv')\n",
        "\n",
        "gender_train_chunk3_df.to_csv('drive/MyDrive/data/gender-dataset-train-chunk3.csv')\n",
        "gender_val_chunk3_df.to_csv('drive/MyDrive/data/gender-dataset-val-chunk3.csv')\n",
        "gender_test_chunk3_df.to_csv('drive/MyDrive/data/gender-dataset-test-chunk3.csv')\n",
        "\n",
        "gender_train_chunk4_df.to_csv('drive/MyDrive/data/gender-dataset-train-chunk4.csv')\n",
        "gender_val_chunk4_df.to_csv('drive/MyDrive/data/gender-dataset-val-chunk4.csv')\n",
        "gender_test_chunk4_df.to_csv('drive/MyDrive/data/gender-dataset-test-chunk4.csv')\n",
        "\n",
        "gender_train_chunk5_df.to_csv('drive/MyDrive/data/gender-dataset-train-chunk5.csv')\n",
        "gender_val_chunk5_df.to_csv('drive/MyDrive/data/gender-dataset-val-chunk5.csv')\n",
        "gender_test_chunk5_df.to_csv('drive/MyDrive/data/gender-dataset-test-chunk5.csv')\n",
        "\n",
        "gender_train_chunk6_df.to_csv('drive/MyDrive/data/gender-dataset-train-chunk6.csv')\n",
        "gender_val_chunk6_df.to_csv('drive/MyDrive/data/gender-dataset-val-chunk6.csv')\n",
        "gender_test_chunk6_df.to_csv('drive/MyDrive/data/gender-dataset-test-chunk6.csv')\n",
        "\n",
        "gender_train_chunk7_df.to_csv('drive/MyDrive/data/gender-dataset-train-chunk7.csv')\n",
        "gender_val_chunk7_df.to_csv('drive/MyDrive/data/gender-dataset-val-chunk7.csv')\n",
        "gender_test_chunk7_df.to_csv('drive/MyDrive/data/gender-dataset-test-chunk7.csv')\n",
        "\n",
        "gender_train_chunk8_df.to_csv('drive/MyDrive/data/gender-dataset-train-chunk8.csv')\n",
        "gender_val_chunk8_df.to_csv('drive/MyDrive/data/gender-dataset-val-chunk8.csv')\n",
        "gender_test_chunk8_df.to_csv('drive/MyDrive/data/gender-dataset-test-chunk8.csv')\n",
        "\n",
        "gender_train_chunk9_df.to_csv('drive/MyDrive/data/gender-dataset-train-chunk9.csv')\n",
        "gender_val_chunk9_df.to_csv('drive/MyDrive/data/gender-dataset-val-chunk9.csv')\n",
        "gender_test_chunk9_df.to_csv('drive/MyDrive/data/gender-dataset-test-chunk9.csv')"
      ]
    },
    {
      "cell_type": "markdown",
      "id": "ba40fe1e",
      "metadata": {
        "id": "ba40fe1e"
      },
      "source": [
        "## Sexual orientation subset"
      ]
    },
    {
      "cell_type": "markdown",
      "id": "ce741348",
      "metadata": {
        "id": "ce741348"
      },
      "source": [
        "Create sexual orientation subset:"
      ]
    },
    {
      "cell_type": "code",
      "execution_count": 39,
      "id": "6911615e",
      "metadata": {
        "id": "6911615e",
        "outputId": "007a3fd8-784e-4c0b-fae7-ea3667eab0a0",
        "colab": {
          "base_uri": "https://localhost:8080/"
        }
      },
      "outputs": [
        {
          "output_type": "execute_result",
          "data": {
            "text/plain": [
              "(22649, 36)"
            ]
          },
          "metadata": {},
          "execution_count": 39
        }
      ],
      "source": [
        "sexual_orientation_df = all_data_df_cleansed[(all_data_df_cleansed['heterosexual'] > 0) | \n",
        "           (all_data_df_cleansed['homosexual_gay_or_lesbian'] > 0) | \n",
        "           (all_data_df_cleansed['bisexual'] > 0) | \n",
        "           (all_data_df_cleansed['other_sexual_orientation'] > 0)]\n",
        "sexual_orientation_df.shape"
      ]
    },
    {
      "cell_type": "markdown",
      "source": [
        "Divide sexual orientation data into chunks whose size is the same as the disability subset:"
      ],
      "metadata": {
        "id": "I9j5ubVszrxF"
      },
      "id": "I9j5ubVszrxF"
    },
    {
      "cell_type": "code",
      "source": [
        "# get number of disability rows, which will be the size of each chunk\n",
        "chunk_size = len(disability_cleaned_df)\n",
        "# shuffle gender data rows before dividing the data\n",
        "shuffled_sexual_orientation_df = sexual_orientation_df.sample(frac = 1)\n",
        "# reset the index numbers since we'll be using the index for chunking\n",
        "shuffled_sexual_orientation_df = shuffled_sexual_orientation_df.reset_index()\n",
        "\n",
        "# chunk 1\n",
        "sexual_orientation_chunk1_df = shuffled_sexual_orientation_df.iloc[0:chunk_size]\n",
        "\n",
        "# chunk 2\n",
        "sexual_orientation_chunk2_df = shuffled_sexual_orientation_df.iloc[chunk_size:]\n",
        "# sample from chunk1 to fill the remaining space\n",
        "so_chunk1_sample = sexual_orientation_chunk1_df.sample(frac=1-len(sexual_orientation_chunk2_df)/chunk_size)\n",
        "sexual_orientation_chunk2_df = pd.concat([sexual_orientation_chunk2_df, so_chunk1_sample], axis=0)\n",
        "\n",
        "print('disability size: ', len(disability_cleaned_df))\n",
        "print('sexual_orientation_chunk1_df size: ', len(sexual_orientation_chunk1_df))\n",
        "print('sexual_orientation_chunk2_df size: ', len(sexual_orientation_chunk2_df))"
      ],
      "metadata": {
        "colab": {
          "base_uri": "https://localhost:8080/"
        },
        "outputId": "33f88256-69b7-4030-9c41-3770aa017843",
        "id": "Sipjl-iSzrxH"
      },
      "execution_count": 40,
      "outputs": [
        {
          "output_type": "stream",
          "name": "stdout",
          "text": [
            "disability size:  15158\n",
            "sexual_orientation_chunk1_df size:  15158\n",
            "sexual_orientation_chunk2_df size:  15158\n"
          ]
        }
      ],
      "id": "Sipjl-iSzrxH"
    },
    {
      "cell_type": "markdown",
      "metadata": {
        "id": "vBnDeNm7zrxK"
      },
      "source": [
        "Split the data for each chunk:"
      ],
      "id": "vBnDeNm7zrxK"
    },
    {
      "cell_type": "code",
      "source": [
        "# Sexual Orientation Chunk 1\n",
        "# Split into 80% combined for train and val, and 20% test\n",
        "sexual_orientation_combined_chunk1_df, sexual_orientation_test_chunk1_df = train_test_split(sexual_orientation_chunk1_df, test_size=0.2, random_state=266)\n",
        "# Split into 70% for train and 10% val\n",
        "sexual_orientation_train_chunk1_df, sexual_orientation_val_chunk1_df = train_test_split(sexual_orientation_combined_chunk1_df, test_size=1/7, random_state=266)\n",
        "\n",
        "# Sexual Orientation Chunk 2\n",
        "sexual_orientation_combined_chunk2_df, sexual_orientation_test_chunk2_df = train_test_split(sexual_orientation_chunk2_df, test_size=0.2, random_state=266)\n",
        "sexual_orientation_train_chunk2_df, sexual_orientation_val_chunk2_df = train_test_split(sexual_orientation_combined_chunk2_df, test_size=1/7, random_state=266)"
      ],
      "metadata": {
        "id": "rpLQ3VfCzrxK"
      },
      "execution_count": 41,
      "outputs": [],
      "id": "rpLQ3VfCzrxK"
    },
    {
      "cell_type": "markdown",
      "metadata": {
        "id": "25jSMUMOzrxM"
      },
      "source": [
        "Sanity check: how big is each split for sexual_orientation_chunk1?"
      ],
      "id": "25jSMUMOzrxM"
    },
    {
      "cell_type": "code",
      "execution_count": 42,
      "metadata": {
        "outputId": "9464f000-44d8-449f-8279-ca9b9754e4e6",
        "colab": {
          "base_uri": "https://localhost:8080/"
        },
        "id": "2hrYT3wazrxN"
      },
      "outputs": [
        {
          "output_type": "stream",
          "name": "stdout",
          "text": [
            "sexual_orientation_train_chunk1 size:  10393\n",
            "sexual_orientation_val_chunk1 size:  1733\n",
            "sexual_orientation_test_chunk1 size:  3032\n",
            "sexual_orientation total_chunk1:  15158\n",
            "\n",
            "sexual_orientation train chunk 1 ratio:  0.6856445441351102\n",
            "sexual_orientation val chunk 1 ratio:  0.11432906715925584\n",
            "sexual_orientation test chunk 1 ratio:  0.200026388705634\n"
          ]
        }
      ],
      "source": [
        "sexual_orientation_train_chunk1_len = len(sexual_orientation_train_chunk1_df)\n",
        "sexual_orientation_val_chunk1_len = len(sexual_orientation_val_chunk1_df)\n",
        "sexual_orientation_test_chunk1_len = len(sexual_orientation_test_chunk1_df)\n",
        "sexual_orientation_chunk1_total = sexual_orientation_train_chunk1_len+sexual_orientation_val_chunk1_len+sexual_orientation_test_chunk1_len\n",
        "print('sexual_orientation_train_chunk1 size: ', sexual_orientation_train_chunk1_len)\n",
        "print('sexual_orientation_val_chunk1 size: ', sexual_orientation_val_chunk1_len)\n",
        "print('sexual_orientation_test_chunk1 size: ', sexual_orientation_test_chunk1_len)\n",
        "print('sexual_orientation total_chunk1: ', sexual_orientation_chunk1_total)\n",
        "print('\\nsexual_orientation train chunk 1 ratio: ', sexual_orientation_train_chunk1_len/sexual_orientation_chunk1_total)\n",
        "print('sexual_orientation val chunk 1 ratio: ', sexual_orientation_val_chunk1_len/sexual_orientation_chunk1_total)\n",
        "print('sexual_orientation test chunk 1 ratio: ', sexual_orientation_test_chunk1_len/sexual_orientation_chunk1_total)"
      ],
      "id": "2hrYT3wazrxN"
    },
    {
      "cell_type": "markdown",
      "metadata": {
        "id": "pWvWOJBRzrxO"
      },
      "source": [
        "Check positive/negative labels balance:"
      ],
      "id": "pWvWOJBRzrxO"
    },
    {
      "cell_type": "code",
      "execution_count": 43,
      "metadata": {
        "outputId": "1e197a28-d884-4055-c79e-f0ec90a2b626",
        "colab": {
          "base_uri": "https://localhost:8080/"
        },
        "id": "r2LrvYplzrxP"
      },
      "outputs": [
        {
          "output_type": "stream",
          "name": "stdout",
          "text": [
            "Sexual Orientation ALL Examples:\n",
            "    Total: 22649\n",
            "    Positive: 9688 (42.77% of total)\n",
            "\n"
          ]
        }
      ],
      "source": [
        "neg, pos = np.bincount(sexual_orientation_df['toxicity_non_disability'])\n",
        "total = neg + pos\n",
        "print('Sexual Orientation ALL Examples:\\n    Total: {}\\n    Positive: {} ({:.2f}% of total)\\n'.format(\n",
        "    total, pos, 100 * pos / total))"
      ],
      "id": "r2LrvYplzrxP"
    },
    {
      "cell_type": "code",
      "execution_count": 44,
      "metadata": {
        "outputId": "dc2b34e5-007d-40b7-8e92-e5dbd3284be3",
        "colab": {
          "base_uri": "https://localhost:8080/"
        },
        "id": "7kPBs4XxzrxQ"
      },
      "outputs": [
        {
          "output_type": "stream",
          "name": "stdout",
          "text": [
            "Sexual Orientation Train Chunk 1 Examples:\n",
            "    Total: 10393\n",
            "    Positive: 4428 (42.61% of total)\n",
            "\n"
          ]
        }
      ],
      "source": [
        "neg, pos = np.bincount(sexual_orientation_train_chunk1_df['toxicity_non_disability'])\n",
        "total = neg + pos\n",
        "print('Sexual Orientation Train Chunk 1 Examples:\\n    Total: {}\\n    Positive: {} ({:.2f}% of total)\\n'.format(\n",
        "    total, pos, 100 * pos / total))"
      ],
      "id": "7kPBs4XxzrxQ"
    },
    {
      "cell_type": "markdown",
      "metadata": {
        "id": "vcI58dLszrxR"
      },
      "source": [
        "### Export gender split chunk datasets into csv"
      ],
      "id": "vcI58dLszrxR"
    },
    {
      "cell_type": "code",
      "execution_count": 45,
      "metadata": {
        "id": "t7plKdS-zrxS"
      },
      "outputs": [],
      "source": [
        "sexual_orientation_train_chunk1_df.to_csv('drive/MyDrive/data/sexual_orientation-dataset-train-chunk1.csv')\n",
        "sexual_orientation_val_chunk1_df.to_csv('drive/MyDrive/data/sexual_orientation-dataset-val-chunk1.csv')\n",
        "sexual_orientation_test_chunk1_df.to_csv('drive/MyDrive/data/sexual_orientation-dataset-test-chunk1.csv')\n",
        "\n",
        "sexual_orientation_train_chunk2_df.to_csv('drive/MyDrive/data/sexual_orientation-dataset-train-chunk2.csv')\n",
        "sexual_orientation_val_chunk2_df.to_csv('drive/MyDrive/data/sexual_orientation-dataset-val-chunk2.csv')\n",
        "sexual_orientation_test_chunk2_df.to_csv('drive/MyDrive/data/sexual_orientation-dataset-test-chunk2.csv')"
      ],
      "id": "t7plKdS-zrxS"
    },
    {
      "cell_type": "markdown",
      "id": "81e635cc",
      "metadata": {
        "id": "81e635cc"
      },
      "source": [
        "## Religion subset"
      ]
    },
    {
      "cell_type": "markdown",
      "id": "6513c5f6",
      "metadata": {
        "id": "6513c5f6"
      },
      "source": [
        "Create religion subset:"
      ]
    },
    {
      "cell_type": "code",
      "execution_count": 46,
      "id": "67b2cc77",
      "metadata": {
        "id": "67b2cc77",
        "outputId": "bab5b313-5b03-4729-81bb-5a90a4f64c5c",
        "colab": {
          "base_uri": "https://localhost:8080/"
        }
      },
      "outputs": [
        {
          "output_type": "execute_result",
          "data": {
            "text/plain": [
              "(137722, 36)"
            ]
          },
          "metadata": {},
          "execution_count": 46
        }
      ],
      "source": [
        "religion_df = all_data_df_cleansed[(all_data_df_cleansed['christian'] > 0) | \n",
        "           (all_data_df_cleansed['jewish'] > 0) | \n",
        "           (all_data_df_cleansed['muslim'] > 0) | \n",
        "           (all_data_df_cleansed['hindu'] > 0) | \n",
        "           (all_data_df_cleansed['buddhist'] > 0) | \n",
        "           (all_data_df_cleansed['atheist'] > 0) | \n",
        "           (all_data_df_cleansed['other_religion'] > 0)]\n",
        "gender_df.shape"
      ]
    },
    {
      "cell_type": "markdown",
      "source": [
        "Divide gender data into chunks whose size is the same as the disability subset:"
      ],
      "metadata": {
        "id": "nnYUWjvM6asp"
      },
      "id": "nnYUWjvM6asp"
    },
    {
      "cell_type": "code",
      "source": [
        "# get number of disability rows, which will be the size of each chunk\n",
        "chunk_size = len(disability_cleaned_df)\n",
        "# shuffle religion data rows before dividing the data\n",
        "shuffled_religion_df = religion_df.sample(frac = 1)\n",
        "# reset the index numbers since we'll be using the index for chunking\n",
        "shuffled_religion_df = shuffled_religion_df.reset_index()\n",
        "\n",
        "religion_chunk1_df = shuffled_religion_df.iloc[0:chunk_size]\n",
        "religion_chunk2_df = shuffled_religion_df.iloc[chunk_size:chunk_size*2]\n",
        "religion_chunk3_df = shuffled_religion_df.iloc[chunk_size*2:chunk_size*3]\n",
        "religion_chunk4_df = shuffled_religion_df.iloc[chunk_size*3:chunk_size*4]\n",
        "religion_chunk5_df = shuffled_religion_df.iloc[chunk_size*4:chunk_size*5]\n",
        "religion_chunk6_df = shuffled_religion_df.iloc[chunk_size*5:chunk_size*6]\n",
        "religion_chunk7_df = shuffled_religion_df.iloc[chunk_size*6:chunk_size*7]\n",
        "\n",
        "print('disability size: ', len(disability_cleaned_df))\n",
        "print('religion_chunk1_df size: ', len(religion_chunk1_df))\n",
        "print('religion_chunk2_df size: ', len(religion_chunk2_df))\n",
        "print('religion_chunk3_df size: ', len(religion_chunk3_df))\n",
        "print('religion_chunk4_df size: ', len(religion_chunk4_df))\n",
        "print('religion_chunk5_df size: ', len(religion_chunk5_df))\n",
        "print('religion_chunk6_df size: ', len(religion_chunk6_df))\n",
        "print('religion_chunk7_df size: ', len(religion_chunk7_df))"
      ],
      "metadata": {
        "colab": {
          "base_uri": "https://localhost:8080/"
        },
        "outputId": "66e14a22-6c9e-400b-e07a-011092b3c875",
        "id": "1QwsGQ2i6asp"
      },
      "execution_count": 58,
      "outputs": [
        {
          "output_type": "stream",
          "name": "stdout",
          "text": [
            "disability size:  15158\n",
            "religion_chunk1_df size:  15158\n",
            "religion_chunk2_df size:  15158\n",
            "religion_chunk3_df size:  15158\n",
            "religion_chunk4_df size:  15158\n",
            "religion_chunk5_df size:  15158\n",
            "religion_chunk6_df size:  15158\n",
            "religion_chunk7_df size:  10462\n"
          ]
        }
      ],
      "id": "1QwsGQ2i6asp"
    },
    {
      "cell_type": "markdown",
      "metadata": {
        "id": "E9vIuGfC6asq"
      },
      "source": [
        "Split the data for each chunk:"
      ],
      "id": "E9vIuGfC6asq"
    },
    {
      "cell_type": "code",
      "source": [
        "# Religion Chunk 1\n",
        "# Split into 80% combined for train and val, and 20% test\n",
        "religion_combined_chunk1_df, religion_test_chunk1_df = train_test_split(religion_chunk1_df, test_size=0.2, random_state=266)\n",
        "# Split into 70% for train and 10% val\n",
        "religion_train_chunk1_df, religion_val_chunk1_df = train_test_split(religion_combined_chunk1_df, test_size=1/7, random_state=266)\n",
        "\n",
        "# Religion Chunk 2\n",
        "religion_combined_chunk2_df, religion_test_chunk2_df = train_test_split(religion_chunk2_df, test_size=0.2, random_state=266)\n",
        "religion_train_chunk2_df, religion_val_chunk2_df = train_test_split(religion_combined_chunk2_df, test_size=1/7, random_state=266)\n",
        "\n",
        "# Religion Chunk 3\n",
        "religion_combined_chunk3_df, religion_test_chunk3_df = train_test_split(religion_chunk3_df, test_size=0.2, random_state=266)\n",
        "religion_train_chunk3_df, religion_val_chunk3_df = train_test_split(religion_combined_chunk3_df, test_size=1/7, random_state=266)\n",
        "\n",
        "# Religion Chunk 4\n",
        "religion_combined_chunk4_df, religion_test_chunk4_df = train_test_split(religion_chunk4_df, test_size=0.2, random_state=266)\n",
        "religion_train_chunk4_df, religion_val_chunk4_df = train_test_split(religion_combined_chunk4_df, test_size=1/7, random_state=266)\n",
        "\n",
        "# Religion Chunk 5\n",
        "religion_combined_chunk5_df, religion_test_chunk5_df = train_test_split(religion_chunk5_df, test_size=0.2, random_state=266)\n",
        "religion_train_chunk5_df, religion_val_chunk5_df = train_test_split(religion_combined_chunk5_df, test_size=1/7, random_state=266)\n",
        "\n",
        "# Religion Chunk 6\n",
        "religion_combined_chunk6_df, religion_test_chunk6_df = train_test_split(religion_chunk6_df, test_size=0.2, random_state=266)\n",
        "religion_train_chunk6_df, religion_val_chunk6_df = train_test_split(religion_combined_chunk6_df, test_size=1/7, random_state=266)\n",
        "\n",
        "# Religion Chunk 7\n",
        "religion_combined_chunk7_df, religion_test_chunk7_df = train_test_split(religion_chunk7_df, test_size=0.2, random_state=266)\n",
        "religion_train_chunk7_df, religion_val_chunk7_df = train_test_split(religion_combined_chunk7_df, test_size=1/7, random_state=266)"
      ],
      "metadata": {
        "id": "ZdMAlcBn6asr"
      },
      "execution_count": 59,
      "outputs": [],
      "id": "ZdMAlcBn6asr"
    },
    {
      "cell_type": "markdown",
      "metadata": {
        "id": "wp1FYAd66ast"
      },
      "source": [
        "Sanity check: how big is each split for gender_chunk1?"
      ],
      "id": "wp1FYAd66ast"
    },
    {
      "cell_type": "code",
      "execution_count": null,
      "metadata": {
        "outputId": "785509bf-9c41-4027-feb4-931dc0068238",
        "colab": {
          "base_uri": "https://localhost:8080/"
        },
        "id": "Lh1vsT_j6ast"
      },
      "outputs": [
        {
          "output_type": "stream",
          "name": "stdout",
          "text": [
            "gender_train_chunk1 size:  10393\n",
            "gender_val_chunk1 size:  1733\n",
            "gender_test_chunk1 size:  3032\n",
            "gender total_chunk1:  15158\n",
            "\n",
            "gender train chunk 1 ratio:  0.6856445441351102\n",
            "gender val chunk 1 ratio:  0.11432906715925584\n",
            "gender test chunk 1 ratio:  0.200026388705634\n"
          ]
        }
      ],
      "source": [
        "religion_train_chunk1_len = len(religion_train_chunk1_df)\n",
        "religion_val_chunk1_len = len(religion_val_chunk1_df)\n",
        "religion_test_chunk1_len = len(religion_test_chunk1_df)\n",
        "religion_chunk1_total = religion_train_chunk1_len+religion_val_chunk1_len+religion_test_chunk1_len\n",
        "print('religion_train_chunk1 size: ', religion_train_chunk1_len)\n",
        "print('religion_val_chunk1 size: ', religion_val_chunk1_len)\n",
        "print('religion_test_chunk1 size: ', religion_test_chunk1_len)\n",
        "print('religion total_chunk1: ', religion_chunk1_total)\n",
        "print('\\nreligion train chunk 1 ratio: ', religion_train_chunk1_len/religion_chunk1_total)\n",
        "print('religion val chunk 1 ratio: ', religion_val_chunk1_len/religion_chunk1_total)\n",
        "print('religion test chunk 1 ratio: ', religion_test_chunk1_len/religion_chunk1_total)"
      ],
      "id": "Lh1vsT_j6ast"
    },
    {
      "cell_type": "markdown",
      "metadata": {
        "id": "U08EYMj96ast"
      },
      "source": [
        "Check positive/negative labels balance:"
      ],
      "id": "U08EYMj96ast"
    },
    {
      "cell_type": "code",
      "execution_count": 60,
      "metadata": {
        "outputId": "51e3504c-c7e6-451e-9519-76bc59f71cbd",
        "colab": {
          "base_uri": "https://localhost:8080/"
        },
        "id": "WZEtG9F86asu"
      },
      "outputs": [
        {
          "output_type": "stream",
          "name": "stdout",
          "text": [
            "Religion ALL Examples:\n",
            "    Total: 101410\n",
            "    Positive: 26187 (25.82% of total)\n",
            "\n"
          ]
        }
      ],
      "source": [
        "neg, pos = np.bincount(religion_df['toxicity_non_disability'])\n",
        "total = neg + pos\n",
        "print('Religion ALL Examples:\\n    Total: {}\\n    Positive: {} ({:.2f}% of total)\\n'.format(\n",
        "    total, pos, 100 * pos / total))"
      ],
      "id": "WZEtG9F86asu"
    },
    {
      "cell_type": "code",
      "execution_count": 61,
      "metadata": {
        "outputId": "fa7308aa-84f1-4ddf-e175-d26be737564e",
        "colab": {
          "base_uri": "https://localhost:8080/"
        },
        "id": "k3veJ3Jd6asu"
      },
      "outputs": [
        {
          "output_type": "stream",
          "name": "stdout",
          "text": [
            "Religion Train Chunk 1 Examples:\n",
            "    Total: 10393\n",
            "    Positive: 2747 (26.43% of total)\n",
            "\n"
          ]
        }
      ],
      "source": [
        "neg, pos = np.bincount(religion_train_chunk1_df['toxicity_non_disability'])\n",
        "total = neg + pos\n",
        "print('Religion Train Chunk 1 Examples:\\n    Total: {}\\n    Positive: {} ({:.2f}% of total)\\n'.format(\n",
        "    total, pos, 100 * pos / total))"
      ],
      "id": "k3veJ3Jd6asu"
    },
    {
      "cell_type": "markdown",
      "metadata": {
        "id": "4ogV6BNo6asv"
      },
      "source": [
        "### Export religion split chunk datasets into csv"
      ],
      "id": "4ogV6BNo6asv"
    },
    {
      "cell_type": "code",
      "execution_count": 63,
      "metadata": {
        "id": "LZmS9GQa6asv"
      },
      "outputs": [],
      "source": [
        "religion_train_chunk1_df.to_csv('drive/MyDrive/data/religion-dataset-train-chunk1.csv')\n",
        "religion_val_chunk1_df.to_csv('drive/MyDrive/data/religion-dataset-val-chunk1.csv')\n",
        "religion_test_chunk1_df.to_csv('drive/MyDrive/data/religion-dataset-test-chunk1.csv')\n",
        "\n",
        "religion_train_chunk2_df.to_csv('drive/MyDrive/data/religion-dataset-train-chunk2.csv')\n",
        "religion_val_chunk2_df.to_csv('drive/MyDrive/data/religion-dataset-val-chunk2.csv')\n",
        "religion_test_chunk2_df.to_csv('drive/MyDrive/data/religion-dataset-test-chunk2.csv')\n",
        "\n",
        "religion_train_chunk3_df.to_csv('drive/MyDrive/data/religion-dataset-train-chunk3.csv')\n",
        "religion_val_chunk3_df.to_csv('drive/MyDrive/data/religion-dataset-val-chunk3.csv')\n",
        "religion_test_chunk3_df.to_csv('drive/MyDrive/data/religion-dataset-test-chunk3.csv')\n",
        "\n",
        "religion_train_chunk3_df.to_csv('drive/MyDrive/data/religion-dataset-train-chunk3.csv')\n",
        "religion_val_chunk3_df.to_csv('drive/MyDrive/data/religion-dataset-val-chunk3.csv')\n",
        "religion_test_chunk3_df.to_csv('drive/MyDrive/data/religion-dataset-test-chunk3.csv')\n",
        "\n",
        "religion_train_chunk4_df.to_csv('drive/MyDrive/data/religion-dataset-train-chunk4.csv')\n",
        "religion_val_chunk4_df.to_csv('drive/MyDrive/data/religion-dataset-val-chunk4.csv')\n",
        "religion_test_chunk4_df.to_csv('drive/MyDrive/data/religion-dataset-test-chunk4.csv')\n",
        "\n",
        "religion_train_chunk5_df.to_csv('drive/MyDrive/data/religion-dataset-train-chunk5.csv')\n",
        "religion_val_chunk5_df.to_csv('drive/MyDrive/data/religion-dataset-val-chunk5.csv')\n",
        "religion_test_chunk5_df.to_csv('drive/MyDrive/data/religion-dataset-test-chunk5.csv')\n",
        "\n",
        "religion_train_chunk6_df.to_csv('drive/MyDrive/data/religion-dataset-train-chunk6.csv')\n",
        "religion_val_chunk6_df.to_csv('drive/MyDrive/data/religion-dataset-val-chunk6.csv')\n",
        "religion_test_chunk6_df.to_csv('drive/MyDrive/data/religion-dataset-test-chunk6.csv')\n",
        "\n",
        "religion_train_chunk7_df.to_csv('drive/MyDrive/data/religion-dataset-train-chunk7.csv')\n",
        "religion_val_chunk7_df.to_csv('drive/MyDrive/data/religion-dataset-val-chunk7.csv')\n",
        "religion_test_chunk7_df.to_csv('drive/MyDrive/data/religion-dataset-test-chunk7.csv')"
      ],
      "id": "LZmS9GQa6asv"
    },
    {
      "cell_type": "markdown",
      "id": "62d2dfc6",
      "metadata": {
        "id": "62d2dfc6"
      },
      "source": [
        "## Race subset"
      ]
    },
    {
      "cell_type": "markdown",
      "id": "aa7e917b",
      "metadata": {
        "id": "aa7e917b"
      },
      "source": [
        "Create race subset:"
      ]
    },
    {
      "cell_type": "code",
      "execution_count": 64,
      "id": "c4d46ee3",
      "metadata": {
        "id": "c4d46ee3",
        "outputId": "b07b8363-bae4-4b95-aa67-65164b8b6b3a",
        "colab": {
          "base_uri": "https://localhost:8080/"
        }
      },
      "outputs": [
        {
          "output_type": "execute_result",
          "data": {
            "text/plain": [
              "(71648, 36)"
            ]
          },
          "metadata": {},
          "execution_count": 64
        }
      ],
      "source": [
        "race_df = all_data_df_cleansed[(all_data_df_cleansed['black'] > 0) | \n",
        "           (all_data_df_cleansed['white'] > 0) | \n",
        "           (all_data_df_cleansed['asian'] > 0) | \n",
        "           (all_data_df_cleansed['latino'] > 0) | \n",
        "           (all_data_df_cleansed['other_race_or_ethnicity'] > 0)]\n",
        "race_df.shape"
      ]
    },
    {
      "cell_type": "markdown",
      "source": [
        "Divide race data into chunks whose size is the same as the disability subset:"
      ],
      "metadata": {
        "id": "vsrtPYxR28vs"
      },
      "id": "vsrtPYxR28vs"
    },
    {
      "cell_type": "code",
      "source": [
        "# get number of disability rows, which will be the size of each chunk\n",
        "chunk_size = len(disability_cleaned_df)\n",
        "# shuffle race data rows before dividing the data\n",
        "shuffled_race_df = race_df.sample(frac = 1)\n",
        "# reset the index numbers since we'll be using the index for chunking\n",
        "shuffled_race_df = shuffled_race_df.reset_index()\n",
        "\n",
        "race_chunk1_df = shuffled_race_df.iloc[0:chunk_size]\n",
        "race_chunk2_df = shuffled_race_df.iloc[chunk_size:chunk_size*2]\n",
        "race_chunk3_df = shuffled_race_df.iloc[chunk_size*2:chunk_size*3]\n",
        "race_chunk4_df = shuffled_race_df.iloc[chunk_size*3:chunk_size*4]\n",
        "race_chunk5_df = shuffled_race_df.iloc[chunk_size*4:]\n",
        "\n",
        "print('disability size: ', len(disability_cleaned_df))\n",
        "print('race_chunk1_df size: ', len(race_chunk1_df))\n",
        "print('race_chunk2_df size: ', len(race_chunk2_df))\n",
        "print('race_chunk3_df size: ', len(race_chunk3_df))\n",
        "print('race_chunk4_df size: ', len(race_chunk4_df))\n",
        "print('race_chunk5_df size: ', len(race_chunk5_df))"
      ],
      "metadata": {
        "colab": {
          "base_uri": "https://localhost:8080/"
        },
        "outputId": "301f7e6b-662d-43a0-a6b0-31c695cc046e",
        "id": "Jn7N3Tl128vv"
      },
      "execution_count": 65,
      "outputs": [
        {
          "output_type": "stream",
          "name": "stdout",
          "text": [
            "disability size:  15158\n",
            "race_chunk1_df size:  15158\n",
            "race_chunk2_df size:  15158\n",
            "race_chunk3_df size:  15158\n",
            "race_chunk4_df size:  15158\n",
            "race_chunk5_df size:  11016\n"
          ]
        }
      ],
      "id": "Jn7N3Tl128vv"
    },
    {
      "cell_type": "markdown",
      "metadata": {
        "id": "A16EO5hm28vx"
      },
      "source": [
        "Split the data for each chunk:"
      ],
      "id": "A16EO5hm28vx"
    },
    {
      "cell_type": "code",
      "source": [
        "# Race Chunk 1\n",
        "# Split into 80% combined for train and val, and 20% test\n",
        "race_combined_chunk1_df, race_test_chunk1_df = train_test_split(race_chunk1_df, test_size=0.2, random_state=266)\n",
        "# Split into 70% for train and 10% val\n",
        "race_train_chunk1_df, race_val_chunk1_df = train_test_split(race_combined_chunk1_df, test_size=1/7, random_state=266)\n",
        "\n",
        "# Race Chunk 2\n",
        "race_combined_chunk2_df, race_test_chunk2_df = train_test_split(race_chunk2_df, test_size=0.2, random_state=266)\n",
        "race_train_chunk2_df, race_val_chunk2_df = train_test_split(race_combined_chunk2_df, test_size=1/7, random_state=266)\n",
        "\n",
        "# Race Chunk 3\n",
        "race_combined_chunk3_df, race_test_chunk3_df = train_test_split(race_chunk3_df, test_size=0.2, random_state=266)\n",
        "race_train_chunk3_df, race_val_chunk3_df = train_test_split(race_combined_chunk3_df, test_size=1/7, random_state=266)\n",
        "\n",
        "# Race Chunk 4\n",
        "race_combined_chunk4_df, race_test_chunk4_df = train_test_split(race_chunk4_df, test_size=0.2, random_state=266)\n",
        "race_train_chunk4_df, race_val_chunk4_df = train_test_split(race_combined_chunk4_df, test_size=1/7, random_state=266)\n",
        "\n",
        "# Race Chunk 5\n",
        "race_combined_chunk5_df, race_test_chunk5_df = train_test_split(race_chunk5_df, test_size=0.2, random_state=266)\n",
        "race_train_chunk5_df, race_val_chunk5_df = train_test_split(race_combined_chunk5_df, test_size=1/7, random_state=266)"
      ],
      "metadata": {
        "id": "BmzB8GNY28vz"
      },
      "execution_count": 66,
      "outputs": [],
      "id": "BmzB8GNY28vz"
    },
    {
      "cell_type": "markdown",
      "metadata": {
        "id": "kN3SGQ9l28v1"
      },
      "source": [
        "Sanity check: how big is each split for race_chunk1?"
      ],
      "id": "kN3SGQ9l28v1"
    },
    {
      "cell_type": "code",
      "execution_count": 67,
      "metadata": {
        "outputId": "5a9d0fbf-07aa-4665-9817-26f9e1d3e695",
        "colab": {
          "base_uri": "https://localhost:8080/"
        },
        "id": "sI-ef1p028v2"
      },
      "outputs": [
        {
          "output_type": "stream",
          "name": "stdout",
          "text": [
            "race_train_chunk1 size:  10393\n",
            "race_val_chunk1 size:  1733\n",
            "race_test_chunk1 size:  3032\n",
            "race total_chunk1:  15158\n",
            "\n",
            "race train chunk 1 ratio:  0.6856445441351102\n",
            "race val chunk 1 ratio:  0.11432906715925584\n",
            "race test chunk 1 ratio:  0.200026388705634\n"
          ]
        }
      ],
      "source": [
        "race_train_chunk1_len = len(race_train_chunk1_df)\n",
        "race_val_chunk1_len = len(race_val_chunk1_df)\n",
        "race_test_chunk1_len = len(race_test_chunk1_df)\n",
        "race_chunk1_total = race_train_chunk1_len+race_val_chunk1_len+race_test_chunk1_len\n",
        "print('race_train_chunk1 size: ', race_train_chunk1_len)\n",
        "print('race_val_chunk1 size: ', race_val_chunk1_len)\n",
        "print('race_test_chunk1 size: ', race_test_chunk1_len)\n",
        "print('race total_chunk1: ', race_chunk1_total)\n",
        "print('\\nrace train chunk 1 ratio: ', race_train_chunk1_len/race_chunk1_total)\n",
        "print('race val chunk 1 ratio: ', race_val_chunk1_len/race_chunk1_total)\n",
        "print('race test chunk 1 ratio: ', race_test_chunk1_len/race_chunk1_total)"
      ],
      "id": "sI-ef1p028v2"
    },
    {
      "cell_type": "markdown",
      "metadata": {
        "id": "aVPyvoS228v3"
      },
      "source": [
        "Check positive/negative labels balance:"
      ],
      "id": "aVPyvoS228v3"
    },
    {
      "cell_type": "code",
      "execution_count": 68,
      "metadata": {
        "outputId": "0e783287-ec9e-4482-84b8-871e9eefff5f",
        "colab": {
          "base_uri": "https://localhost:8080/"
        },
        "id": "5mYCVc1928v4"
      },
      "outputs": [
        {
          "output_type": "stream",
          "name": "stdout",
          "text": [
            "Race ALL Examples:\n",
            "    Total: 71648\n",
            "    Positive: 27642 (38.58% of total)\n",
            "\n"
          ]
        }
      ],
      "source": [
        "neg, pos = np.bincount(race_df['toxicity_non_disability'])\n",
        "total = neg + pos\n",
        "print('Race ALL Examples:\\n    Total: {}\\n    Positive: {} ({:.2f}% of total)\\n'.format(\n",
        "    total, pos, 100 * pos / total))"
      ],
      "id": "5mYCVc1928v4"
    },
    {
      "cell_type": "code",
      "execution_count": 69,
      "metadata": {
        "outputId": "e9f5dd56-7d99-4c3e-e8ca-30c311fc6ad3",
        "colab": {
          "base_uri": "https://localhost:8080/"
        },
        "id": "SJlXxjpt28v5"
      },
      "outputs": [
        {
          "output_type": "stream",
          "name": "stdout",
          "text": [
            "Race Train Chunk 1 Examples:\n",
            "    Total: 10393\n",
            "    Positive: 4084 (39.30% of total)\n",
            "\n"
          ]
        }
      ],
      "source": [
        "neg, pos = np.bincount(race_train_chunk1_df['toxicity_non_disability'])\n",
        "total = neg + pos\n",
        "print('Race Train Chunk 1 Examples:\\n    Total: {}\\n    Positive: {} ({:.2f}% of total)\\n'.format(\n",
        "    total, pos, 100 * pos / total))"
      ],
      "id": "SJlXxjpt28v5"
    },
    {
      "cell_type": "markdown",
      "metadata": {
        "id": "vbKmPvwq3rko"
      },
      "source": [
        "### Export race split chunk datasets into csv"
      ],
      "id": "vbKmPvwq3rko"
    },
    {
      "cell_type": "code",
      "execution_count": 70,
      "metadata": {
        "id": "qg6Z3fH33rkq"
      },
      "outputs": [],
      "source": [
        "race_train_chunk1_df.to_csv('drive/MyDrive/data/race-dataset-train-chunk1.csv')\n",
        "race_val_chunk1_df.to_csv('drive/MyDrive/data/race-dataset-val-chunk1.csv')\n",
        "race_test_chunk1_df.to_csv('drive/MyDrive/data/race-dataset-test-chunk1.csv')\n",
        "\n",
        "race_train_chunk2_df.to_csv('drive/MyDrive/data/race-dataset-train-chunk2.csv')\n",
        "race_val_chunk2_df.to_csv('drive/MyDrive/data/race-dataset-val-chunk2.csv')\n",
        "race_test_chunk2_df.to_csv('drive/MyDrive/data/race-dataset-test-chunk2.csv')\n",
        "\n",
        "race_train_chunk3_df.to_csv('drive/MyDrive/data/race-dataset-train-chunk3.csv')\n",
        "race_val_chunk3_df.to_csv('drive/MyDrive/data/race-dataset-val-chunk3.csv')\n",
        "race_test_chunk3_df.to_csv('drive/MyDrive/data/race-dataset-test-chunk3.csv')\n",
        "\n",
        "race_train_chunk3_df.to_csv('drive/MyDrive/data/race-dataset-train-chunk3.csv')\n",
        "race_val_chunk3_df.to_csv('drive/MyDrive/data/race-dataset-val-chunk3.csv')\n",
        "race_test_chunk3_df.to_csv('drive/MyDrive/data/race-dataset-test-chunk3.csv')\n",
        "\n",
        "race_train_chunk4_df.to_csv('drive/MyDrive/data/race-dataset-train-chunk4.csv')\n",
        "race_val_chunk4_df.to_csv('drive/MyDrive/data/race-dataset-val-chunk4.csv')\n",
        "race_test_chunk4_df.to_csv('drive/MyDrive/data/race-dataset-test-chunk4.csv')\n",
        "\n",
        "race_train_chunk5_df.to_csv('drive/MyDrive/data/race-dataset-train-chunk5.csv')\n",
        "race_val_chunk5_df.to_csv('drive/MyDrive/data/race-dataset-val-chunk5.csv')\n",
        "race_test_chunk5_df.to_csv('drive/MyDrive/data/race-dataset-test-chunk5.csv')"
      ],
      "id": "qg6Z3fH33rkq"
    },
    {
      "cell_type": "markdown",
      "id": "bf97be94",
      "metadata": {
        "id": "bf97be94"
      },
      "source": [
        "# Reference code: How to load split data for use in our models"
      ]
    },
    {
      "cell_type": "markdown",
      "id": "14cfa5c1",
      "metadata": {
        "id": "14cfa5c1"
      },
      "source": [
        "Load the csv files for each data split with the following code:"
      ]
    },
    {
      "cell_type": "code",
      "execution_count": null,
      "id": "b45239be",
      "metadata": {
        "id": "b45239be"
      },
      "outputs": [],
      "source": [
        "# disability_df_train = pd.read_csv('data/disability-dataset-train.csv')\n",
        "# disability_df_val = pd.read_csv('data/disability-dataset-val.csv')\n",
        "# disability_df_test = pd.read_csv('data/disability-dataset-test.csv')"
      ]
    },
    {
      "cell_type": "markdown",
      "id": "effdefcb",
      "metadata": {
        "id": "effdefcb"
      },
      "source": [
        "Now that we loaded our data, we'll need their labels and text examples in the form of tensors. Use the code below to accomplish this:"
      ]
    },
    {
      "cell_type": "code",
      "execution_count": null,
      "id": "d99c6ca5",
      "metadata": {
        "id": "d99c6ca5"
      },
      "outputs": [],
      "source": [
        "# # Form tensors of labels and features.\n",
        "# disability_train_labels = tf.convert_to_tensor(disability_df_train['toxicity_binary'])\n",
        "# disability_val_labels = tf.convert_to_tensor(disability_df_val['toxicity_binary'])\n",
        "# disability_test_labels = tf.convert_to_tensor(disability_df_test['toxicity_binary'])\n",
        "\n",
        "# disability_train_examples = tf.convert_to_tensor(disability_df_train['comment_text'])\n",
        "# disability_val_examples = tf.convert_to_tensor(disability_df_val['comment_text'])\n",
        "# disability_test_examples = tf.convert_to_tensor(disability_df_test['comment_text'])"
      ]
    }
  ],
  "metadata": {
    "kernelspec": {
      "display_name": "Python 3.10 (tensorflow)",
      "language": "python",
      "name": "w266tensorflow"
    },
    "language_info": {
      "codemirror_mode": {
        "name": "ipython",
        "version": 3
      },
      "file_extension": ".py",
      "mimetype": "text/x-python",
      "name": "python",
      "nbconvert_exporter": "python",
      "pygments_lexer": "ipython3",
      "version": "3.10.10"
    },
    "colab": {
      "provenance": [],
      "collapsed_sections": [
        "ba40fe1e"
      ]
    },
    "gpuClass": "standard"
  },
  "nbformat": 4,
  "nbformat_minor": 5
}